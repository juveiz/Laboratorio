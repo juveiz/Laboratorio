{
 "cells": [
  {
   "cell_type": "code",
   "execution_count": 11,
   "metadata": {},
   "outputs": [
    {
     "name": "stdout",
     "output_type": "stream",
     "text": [
      "\n"
     ]
    }
   ],
   "source": [
    "#Teoria de numeros\n",
    "#Ejercicio 1\n",
    "def nth_prime (n):\n",
    "    L=list()\n",
    "    for i in xsrange(1,n):\n",
    "        flag=0\n",
    "        j=1\n",
    "        while flag==0:\n",
    "            print i,j\n",
    "            if (((i^j)%n)==1):\n",
    "                flag=1\n",
    "                L.append(j)\n",
    "            j=j+1\n",
    "    return L"
   ]
  },
  {
   "cell_type": "code",
   "execution_count": 19,
   "metadata": {},
   "outputs": [],
   "source": [
    "def mcm(n):\n",
    "    j=1\n",
    "    flag=0\n",
    "    while flag==0:\n",
    "        flag=1\n",
    "        for i in xsrange(1,n):\n",
    "            if (((i^j)%n)!=1):\n",
    "                flag=0\n",
    "                break\n",
    "        j=j+1\n",
    "    return j-1   "
   ]
  },
  {
   "cell_type": "code",
   "execution_count": 27,
   "metadata": {},
   "outputs": [],
   "source": [
    "#Ejercicio 2\n",
    "def fibonrec(m):\n",
    "    if m in [0,1]:\n",
    "        return m\n",
    "    else:\n",
    "        return fibonrec(m-1)+fibonrec(m-2)"
   ]
  },
  {
   "cell_type": "code",
   "execution_count": 29,
   "metadata": {},
   "outputs": [],
   "source": [
    "def fibon(m):\n",
    "    a,b=1,0\n",
    "    for j in xrange(m):\n",
    "        a,b=b,a+b\n",
    "    return b"
   ]
  },
  {
   "cell_type": "code",
   "execution_count": 32,
   "metadata": {
    "collapsed": true
   },
   "outputs": [],
   "source": [
    "def binet(m):\n",
    "    aureo=(1+sqrt(5))/2\n",
    "    res=(aureo^m-(1-aureo)^m)/sqrt(5)\n",
    "    return res.expand()"
   ]
  },
  {
   "cell_type": "code",
   "execution_count": null,
   "metadata": {},
   "outputs": [],
   "source": [
    "for i in xsrange(10000,10020):\n",
    "    print binet(i)"
   ]
  },
  {
   "cell_type": "code",
   "execution_count": 43,
   "metadata": {},
   "outputs": [
    {
     "data": {
      "text/plain": [
       "True"
      ]
     },
     "execution_count": 43,
     "metadata": {},
     "output_type": "execute_result"
    }
   ],
   "source": [
    "#Ejercicio 3\n",
    "def apartado1(m):\n",
    "    cont=0\n",
    "    for i in xsrange(m+1):\n",
    "        cont=fibon(i)+cont\n",
    "    if cont == (fibon(m+2)-1):\n",
    "        return True\n",
    "    return False"
   ]
  },
  {
   "cell_type": "code",
   "execution_count": 46,
   "metadata": {},
   "outputs": [
    {
     "data": {
      "text/plain": [
       "True"
      ]
     },
     "execution_count": 46,
     "metadata": {},
     "output_type": "execute_result"
    }
   ],
   "source": [
    "def apartado2(m):\n",
    "    cont=0\n",
    "    for i in xsrange(2*m):\n",
    "        if i%2 == 1:\n",
    "            cont=fibon(i)+cont\n",
    "    if cont == fibon(2*m):\n",
    "        return True\n",
    "    return False"
   ]
  },
  {
   "cell_type": "code",
   "execution_count": 48,
   "metadata": {},
   "outputs": [],
   "source": [
    "#Ejercicio 4\n",
    "def divfibon(m,n):\n",
    "    L=list()\n",
    "    for i in xsrange(m+1):\n",
    "        res=fibon(i)\n",
    "        if res%n==0:\n",
    "            L.append(res)\n",
    "    return L"
   ]
  },
  {
   "cell_type": "code",
   "execution_count": 51,
   "metadata": {
    "collapsed": true
   },
   "outputs": [],
   "source": [
    "def primefibon(m):\n",
    "    L=list()\n",
    "    for i in xsrange(m+1):\n",
    "        res=fibon(i)\n",
    "        if is_prime(res):\n",
    "            L.append((res,i))\n",
    "    return L"
   ]
  },
  {
   "cell_type": "code",
   "execution_count": null,
   "metadata": {},
   "outputs": [],
   "source": []
  },
  {
   "cell_type": "code",
   "execution_count": null,
   "metadata": {
    "collapsed": true
   },
   "outputs": [],
   "source": []
  }
 ],
 "metadata": {
  "kernelspec": {
   "display_name": "SageMath 8.0",
   "language": "",
   "name": "sagemath"
  },
  "language_info": {
   "codemirror_mode": {
    "name": "ipython",
    "version": 2
   },
   "file_extension": ".py",
   "mimetype": "text/x-python",
   "name": "python",
   "nbconvert_exporter": "python",
   "pygments_lexer": "ipython2",
   "version": "2.7.13"
  }
 },
 "nbformat": 4,
 "nbformat_minor": 2
}
