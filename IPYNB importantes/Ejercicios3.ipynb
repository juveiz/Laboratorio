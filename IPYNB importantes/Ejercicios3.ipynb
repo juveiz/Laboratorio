{
 "cells": [
  {
   "cell_type": "code",
   "execution_count": 14,
   "metadata": {},
   "outputs": [
    {
     "name": "stdout",
     "output_type": "stream",
     "text": [
      "249\n",
      "Yes in:\n",
      "2182 2183 2184\n",
      "Yes in:\n",
      "2442 2443 2444\n",
      "5 [1, 2, 2, 2, 2, 2, 0]\n"
     ]
    }
   ],
   "source": [
    "#Ejercicio 3\n",
    "    #Apartado a\n",
    "L=factorial(1000).digits()\n",
    "cont=0\n",
    "for i in srange (0,len(L)):\n",
    "    if L[i]==0:\n",
    "        cont=cont+1\n",
    "    if L[i]!=0:\n",
    "        break\n",
    "print cont\n",
    "    #Apartado b\n",
    "for i in srange (0,len(L)):\n",
    "    if L[i]==6:\n",
    "        if L[i+1]==6:\n",
    "            if L[i+2]==6:\n",
    "                print \"Yes in:\"\n",
    "                print i,i+1,i+2\n",
    "\n",
    "    #Apartado c\n",
    "contf=0\n",
    "indice=-1\n",
    "for i in srange (0,len(L)):\n",
    "    if L[i]==2:\n",
    "        cont=0\n",
    "        for j in srange (i,len(L)):\n",
    "            if L[j]==2:\n",
    "                cont=cont+1\n",
    "            if L[j]!=2:\n",
    "                if cont>contf:\n",
    "                    contf=cont\n",
    "                    indice=i\n",
    "                break\n",
    "print contf,L[indice-1:indice+contf+1]\n",
    "    "
   ]
  },
  {
   "cell_type": "code",
   "execution_count": 16,
   "metadata": {},
   "outputs": [
    {
     "name": "stdout",
     "output_type": "stream",
     "text": [
      "10539\n",
      "10539\n"
     ]
    }
   ],
   "source": [
    "#Ejercicio 4\n",
    "print sum(factorial(1000).digits())\n",
    "suma=0\n",
    "for i in srange (0,len(L)):\n",
    "    suma=suma+L[i]\n",
    "print suma"
   ]
  },
  {
   "cell_type": "code",
   "execution_count": 31,
   "metadata": {},
   "outputs": [
    {
     "name": "stdout",
     "output_type": "stream",
     "text": [
      "set([1, 2, 4, 5, 100, 10, 50, 20, 25])\n",
      "set([1, 2, 35, 5, 70, 7, 10, 14, 175, 50, 25, 350])\n",
      "set([1, 2, 5, 10, 50, 25])\n",
      "50\n"
     ]
    }
   ],
   "source": [
    "#Ejercicio 6\n",
    "def divisores(a):\n",
    "    A=set()\n",
    "    for i in srange (1,a+1):\n",
    "        if (a%i==0):\n",
    "            A.add(i)\n",
    "    return A\n",
    "def divisores_comunes(A,B):\n",
    "    return A&B\n",
    "def maximo_conj(C):\n",
    "    J=list(C)\n",
    "    res=1\n",
    "    for i in srange (0,len(J)):\n",
    "        if J[i]>res:\n",
    "            res=J[i]\n",
    "    return res\n",
    "A=divisores(100)\n",
    "B=divisores(350)\n",
    "C=divisores_comunes(A,B)\n",
    "\n",
    "print A\n",
    "print B\n",
    "print C\n",
    "print maximo_conj(C)"
   ]
  },
  {
   "cell_type": "code",
   "execution_count": 43,
   "metadata": {},
   "outputs": [
    {
     "name": "stdout",
     "output_type": "stream",
     "text": [
      "4\n",
      "[3, 5, 6, 9, 10, 12]\n",
      "[3, 9, 6, 5, 10, 12]\n",
      "[12, 10, 8, 6, 5, 3]\n",
      "[3, 5, 6, 8, 10, 12, 12, 10, 8, 6, 5, 3]\n"
     ]
    }
   ],
   "source": [
    "#Ejercicio 1\n",
    "    #Apartado a\n",
    "L=[3,5,6,8,10,12]\n",
    "print L.index(8)+1\n",
    "    #Apartado b\n",
    "L1=list(L)\n",
    "L1[3]=9\n",
    "print L1\n",
    "    #Apartado c\n",
    "L2=list(L1)\n",
    "a=L2[3]\n",
    "L2[3]=L2[1]\n",
    "L2[1]=a\n",
    "print L2\n",
    "    #Apartado d\n",
    "L3=list(L)\n",
    "n=len(L3)\n",
    "for i in srange (0,n/2):\n",
    "    a=L3[i]\n",
    "    L3[i]=L3[n-i-1]\n",
    "    L3[n-i-1]=a\n",
    "print L3\n",
    "    #Apartado e\n",
    "print L+L3"
   ]
  },
  {
   "cell_type": "code",
   "execution_count": 7,
   "metadata": {},
   "outputs": [
    {
     "name": "stdout",
     "output_type": "stream",
     "text": [
      "509\n",
      "42\n",
      "90\n",
      "[331, 337, 347, 349, 353, 359, 367, 373, 379, 383, 389, 397, 401, 409, 419, 421, 431, 433, 439, 443, 449, 457, 461, 463, 467, 479, 487, 491, 499, 503, 509, 521, 523, 541, 547, 557, 563, 569, 571, 577, 587, 593, 599, 601, 607, 613, 617, 619, 631]\n",
      "[101, 109, 113, 137, 139, 157, 163, 179, 181, 197, 199, 227, 229, 241, 251, 269, 271, 283, 293, 313, 317, 347, 349, 367, 373, 389, 397, 419, 421, 439, 443, 461, 463, 487, 491, 509, 521, 547, 557, 571, 577, 599, 601, 617, 619, 643, 647, 661, 673, 691, 701, 727, 733, 751, 757, 773, 787, 811, 821, 829, 839, 859, 863, 883, 887, 919, 929, 947, 953, 977, 983]\n",
      "[101, 103, 109, 113, 131, 137, 149, 151, 163, 167, 179, 181, 193, 197, 211, 223, 229, 233, 241, 251, 263, 269, 277, 281, 293, 307, 313, 317, 337, 347, 353, 359, 373, 379, 389, 397, 409, 419, 431, 433, 443, 449, 461, 463, 479, 487, 499, 503, 521, 523, 547, 557, 569, 571, 587, 593, 601, 607, 617, 619, 641, 643, 653, 659, 673, 677, 691, 701, 719, 727, 739, 743, 757, 761, 773, 787, 809, 811, 823, 827, 839, 853, 859, 863, 881, 883, 907, 911, 929, 937, 947, 953, 971, 977, 991, 997]\n"
     ]
    }
   ],
   "source": [
    "#Ejercicio 2\n",
    "    #Apartado a\n",
    "primos=prime_range(100,1001)\n",
    "i=floor(len(primos)/2)\n",
    "print primos[i]\n",
    "    #Apartado b\n",
    "print primos.index(331)+1\n",
    "print primos.index(631)+1\n",
    "    #Apartado c\n",
    "print primos[primos.index(331):primos.index(631)+1]\n",
    "    #Apartado d\n",
    "primos2=list()\n",
    "for i in srange (0,len(primos)):\n",
    "    if i%4==0:\n",
    "        primos2.append(primos[i])\n",
    "    if i%4==3:\n",
    "        primos2.append(primos[i])\n",
    "print primos2\n",
    "    #Apartado e\n",
    "primos3=list()\n",
    "for i in srange (0,len(primos)):\n",
    "    if i%3==2:\n",
    "        continue\n",
    "    primos3.append(primos[i])\n",
    "print primos3\n"
   ]
  },
  {
   "cell_type": "code",
   "execution_count": null,
   "metadata": {
    "collapsed": true
   },
   "outputs": [],
   "source": []
  },
  {
   "cell_type": "code",
   "execution_count": null,
   "metadata": {
    "collapsed": true
   },
   "outputs": [],
   "source": []
  }
 ],
 "metadata": {
  "kernelspec": {
   "display_name": "SageMath 8.0",
   "language": "",
   "name": "sagemath"
  },
  "language_info": {
   "codemirror_mode": {
    "name": "ipython",
    "version": 2
   },
   "file_extension": ".py",
   "mimetype": "text/x-python",
   "name": "python",
   "nbconvert_exporter": "python",
   "pygments_lexer": "ipython2",
   "version": "2.7.13"
  }
 },
 "nbformat": 4,
 "nbformat_minor": 2
}
