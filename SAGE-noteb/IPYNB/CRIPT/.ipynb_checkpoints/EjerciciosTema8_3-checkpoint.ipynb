{
 "cells": [
  {
   "cell_type": "markdown",
   "metadata": {
    "deletable": true,
    "editable": true
   },
   "source": [
    "### 8.5 Clave pública MH"
   ]
  },
  {
   "cell_type": "code",
   "execution_count": 2,
   "metadata": {
    "collapsed": false,
    "deletable": true,
    "editable": true
   },
   "outputs": [
    {
     "name": "stdout",
     "output_type": "stream",
     "text": [
      "True\n",
      "False\n"
     ]
    }
   ],
   "source": [
    "def supercreciente(lista):\n",
    "    if len(lista) < 2:\n",
    "        return True\n",
    "\n",
    "    for i in range(0, len(lista)):\n",
    "        if(lista[i] < sum(lista[:i])):\n",
    "            return False\n",
    "    return True\n",
    "\n",
    "print supercreciente([1,2,4,8])\n",
    "print supercreciente([1,2,3,4])"
   ]
  },
  {
   "cell_type": "code",
   "execution_count": 3,
   "metadata": {
    "collapsed": false,
    "deletable": true,
    "editable": true
   },
   "outputs": [
    {
     "name": "stdout",
     "output_type": "stream",
     "text": [
      "[2, 12, 23, 39, 83, 167, 330, 665, 1326, 2655]\n"
     ]
    },
    {
     "data": {
      "text/plain": [
       "True"
      ]
     },
     "execution_count": 3,
     "metadata": {},
     "output_type": "execute_result"
    }
   ],
   "source": [
    "def generaSupercreciente(n, N):\n",
    "    L = []\n",
    "    a = randint(1, N)\n",
    "    L.append(a)\n",
    "    for i in range(1, n):\n",
    "        suma = sum(L)\n",
    "        a = randint(suma+1, suma+N)\n",
    "        L.append(a)\n",
    "        \n",
    "    return L\n",
    "\n",
    "L = generaSupercreciente(10, 10)\n",
    "print L\n",
    "supercreciente(L)"
   ]
  },
  {
   "cell_type": "code",
   "execution_count": 6,
   "metadata": {
    "collapsed": false,
    "deletable": true,
    "editable": true
   },
   "outputs": [
    {
     "data": {
      "text/plain": [
       "[0, 0, 0, 0, 0, 0, 0, 0, 0, 1]"
      ]
     },
     "execution_count": 6,
     "metadata": {},
     "output_type": "execute_result"
    }
   ],
   "source": [
    "def listas(K):\n",
    "    L = []\n",
    "    for k in srange(2^K):\n",
    "        L.append(k.digits(base=2, padto=K))\n",
    "    return L\n",
    "\n",
    "def buscaFuerzaA(sc, A):\n",
    "    L = listas(len(sc))\n",
    "    for l in L:\n",
    "        A2 = 0\n",
    "        for i in srange(0, len(sc)):\n",
    "            A2 += sc[i]*l[i]\n",
    "        #print A2\n",
    "        if A2 == A:\n",
    "            return l\n",
    "    return False\n",
    "\n",
    "buscaFuerzaA(L, 2655)"
   ]
  },
  {
   "cell_type": "markdown",
   "metadata": {
    "collapsed": true,
    "deletable": true,
    "editable": true
   },
   "source": [
    "Para resolverlo de forma más eficiente.\n",
    "Si $A\\geq a_n$ entonces $x_n$ deve ser uno, pues sabemos que por ser supercreciente, la suma de los anteriores será menor que $A$."
   ]
  },
  {
   "cell_type": "code",
   "execution_count": 9,
   "metadata": {
    "collapsed": false
   },
   "outputs": [
    {
     "data": {
      "text/plain": [
       "[0, 0, 0, 0, 0, 0, 0, 0, 0, 1]"
      ]
     },
     "execution_count": 9,
     "metadata": {},
     "output_type": "execute_result"
    }
   ],
   "source": [
    "def buscaA(sc, A):\n",
    "    if len(sc)<1:\n",
    "        return []\n",
    "    \n",
    "    xn = 0\n",
    "    if A >= sc[-1]:\n",
    "        xn = 1\n",
    "        \n",
    "    R = buscaA(sc[:-1], A-xn*sc[-1])\n",
    "    R.append(xn)\n",
    "    return R\n",
    "\n",
    "buscaA(L, 2655)\n",
    "    "
   ]
  },
  {
   "cell_type": "markdown",
   "metadata": {},
   "source": [
    "Creamos una función que genere la clave privada para un usuario dado N"
   ]
  },
  {
   "cell_type": "code",
   "execution_count": 17,
   "metadata": {
    "collapsed": false
   },
   "outputs": [
    {
     "name": "stdout",
     "output_type": "stream",
     "text": [
      "([2, 3, 10, 16, 39, 78, 154, 311, 621, 1245], 77992, 39019)\n"
     ]
    }
   ],
   "source": [
    "def generaClave(N):\n",
    "    #Generamos una supercreciente con N términos y\n",
    "    #tomando N de la supercreciente como un número aleatorio\n",
    "    #entre N/2 y 2*N, por dar un rango\n",
    "    L = generaSupercreciente(N, randint(N//2, 2*N))\n",
    "    m = randint(2*L[-1], (L[-1])^2)\n",
    "    #Tomamos un número primo mayor que la mitad m,\n",
    "    #de forma que nos aseguramos de que sean coprimos\n",
    "    w = next_prime(ceil(m/2)+1)\n",
    "    return(L, m, w)\n",
    "\n",
    "C = generaClave(10)\n",
    "print C"
   ]
  },
  {
   "cell_type": "code",
   "execution_count": 21,
   "metadata": {
    "collapsed": false
   },
   "outputs": [
    {
     "data": {
      "text/plain": [
       "[46, 39065, 230, 368, 39893, 1794, 3542, 46149, 53279, 67631]"
      ]
     },
     "execution_count": 21,
     "metadata": {},
     "output_type": "execute_result"
    }
   ],
   "source": [
    "def clavePublica(PrKey):\n",
    "    L = []\n",
    "    for a in PrKey[0]:\n",
    "        L.append((PrKey[2]*a)%PrKey[1])\n",
    "        \n",
    "    return L\n",
    "\n",
    "clavePublica(C)"
   ]
  },
  {
   "cell_type": "markdown",
   "metadata": {},
   "source": [
    "# CAMBIAR POR LAS MIAS"
   ]
  },
  {
   "cell_type": "code",
   "execution_count": 26,
   "metadata": {
    "collapsed": false
   },
   "outputs": [
    {
     "data": {
      "text/plain": [
       "'000100000000001'"
      ]
     },
     "execution_count": 26,
     "metadata": {},
     "output_type": "execute_result"
    }
   ],
   "source": [
    "from string import *\n",
    "\n",
    "alfb =\"ABCDEFGHIJKLMNOPQRSTUVWXYZ\"\n",
    "\n",
    "def chr2(n):\n",
    "    return alfb[n]\n",
    "\n",
    "def ord2(c):\n",
    "    return alfb.index(c)\n",
    "\n",
    "def limpiar(texto,alfb):\n",
    "    L = map(ord,[x.capitalize() for x in list(texto)])\n",
    "    L1 = [item for item in L if item in map(ord,[x for x in alfb])]\n",
    "    C1 = join(map(chr,L1),sep = \"\")\n",
    "    return C1\n",
    "\n",
    "def codificarMensaje(texto):\n",
    "    texto = limpiar(texto, alfb)\n",
    "    numList = list(map(ord2, texto))\n",
    "    result = ''\n",
    "    for n in numList:\n",
    "        L = ZZ(n).digits(base=2, padto=5)\n",
    "        L = list(reversed(L))\n",
    "        L = map(str, L)\n",
    "        \n",
    "        result += ''.join(L)\n",
    "    return result\n",
    "\n",
    "codificarMensaje('CAB')  "
   ]
  },
  {
   "cell_type": "code",
   "execution_count": 27,
   "metadata": {
    "collapsed": true
   },
   "outputs": [],
   "source": [
    "def encriptar(texto, N, K):\n",
    "    L = []\n",
    "    texto = codificar(texto)\n",
    "    for i in range(0, len(texto//N)):\n",
    "        text = texto[i*N:min((i+1)*N, len(texto))]\n",
    "        c = 0\n",
    "        for i in range(0, len(text)):\n",
    "            c += K[i]*int(text[i])\n",
    "        L.append(c)\n",
    "        \n",
    "def desencriptar(texto, PrKey):\n",
    "    v = 0\n",
    "    for i in range(len(texto)):\n",
    "        v += (PrKey[0]*texto[i])%PrKey[1]\n",
    "    return v"
   ]
  },
  {
   "cell_type": "code",
   "execution_count": null,
   "metadata": {
    "collapsed": true
   },
   "outputs": [],
   "source": []
  }
 ],
 "metadata": {
  "kernelspec": {
   "display_name": "SageMath 8.0",
   "language": "",
   "name": "sagemath"
  }
 },
 "nbformat": 4,
 "nbformat_minor": 2
}
