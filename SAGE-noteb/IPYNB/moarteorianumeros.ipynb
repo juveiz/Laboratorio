{
 "cells": [
  {
   "cell_type": "code",
   "execution_count": null,
   "metadata": {
    "collapsed": true
   },
   "outputs": [],
   "source": [
    "#miller_rabin"
   ]
  },
  {
   "cell_type": "code",
   "execution_count": null,
   "metadata": {
    "collapsed": true
   },
   "outputs": [],
   "source": [
    "def syd(n):\n",
    "    num = n - 1\n",
    "    s = 0\n",
    "    while(num)%2 == 0:\n",
    "        num = num/2\n",
    "        s = s + 1\n",
    "    return s,(num/(2^s))\n",
    "\n",
    "def miler_rabin(n,p):\n",
    "    probabilidad = 1\n",
    "    while(probabilidad > p):\n",
    "        s,d = syd(n)\n",
    "        a = randint()"
   ]
  }
 ],
 "metadata": {
  "kernelspec": {
   "display_name": "SageMath 8.0",
   "language": "",
   "name": "sagemath"
  },
  "language_info": {
   "codemirror_mode": {
    "name": "ipython",
    "version": 2
   },
   "file_extension": ".py",
   "mimetype": "text/x-python",
   "name": "python",
   "nbconvert_exporter": "python",
   "pygments_lexer": "ipython2",
   "version": "2.7.13"
  }
 },
 "nbformat": 4,
 "nbformat_minor": 2
}
