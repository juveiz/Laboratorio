{
 "cells": [
  {
   "cell_type": "code",
   "execution_count": 8,
   "metadata": {
    "collapsed": false,
    "deletable": true,
    "editable": true
   },
   "outputs": [
    {
     "data": {
      "text/plain": [
       "0.5000312191907624"
      ]
     },
     "execution_count": 8,
     "metadata": {},
     "output_type": "execute_result"
    }
   ],
   "source": [
    "import random as r\n",
    "L = [r.random()for i in xrange(10^7)]\n",
    "sum(L)/len(L)"
   ]
  },
  {
   "cell_type": "markdown",
   "metadata": {
    "collapsed": true,
    "deletable": true,
    "editable": true
   },
   "source": [
    "### Ejercicio 1"
   ]
  },
  {
   "cell_type": "code",
   "execution_count": 26,
   "metadata": {
    "collapsed": false,
    "deletable": true,
    "editable": true
   },
   "outputs": [
    {
     "name": "stdout",
     "output_type": "stream",
     "text": [
      "CPU times: user 5.98 s, sys: 44 ms, total: 6.03 s\n",
      "Wall time: 5.91 s\n"
     ]
    },
    {
     "data": {
      "text/plain": [
       "0.540000000000000"
      ]
     },
     "execution_count": 26,
     "metadata": {},
     "output_type": "execute_result"
    }
   ],
   "source": [
    "#Cara = 1, Cruz = 0\n",
    "def lanzarMoneda(k):\n",
    "    if r.random() < (k/10).n():\n",
    "        return 1\n",
    "    else:\n",
    "        return 0\n",
    "\n",
    "def contarCaras(k):\n",
    "    # Hacemos mil lanzamientos y contamos \n",
    "    # que haya menos de 100 caras\n",
    "    L = [lanzarMoneda(k) for i in xrange(0, 10^3)]\n",
    "    return L.count(1)\n",
    "        \n",
    "    \n",
    "def contarProbabilidad(k, n):\n",
    "    # Repetimos n veces los 1000 lanzamientos,\n",
    "    # contando solo aquellos en los que no hay \n",
    "    # mas de 100 caras\n",
    "    prob = 0\n",
    "    \n",
    "    for i in xrange(0, n):\n",
    "        if contarCaras(k) <= 100:\n",
    "            prob += 1\n",
    "            \n",
    "    return prob/n\n",
    "\n",
    "%time contarProbabilidad(1, 100).n()"
   ]
  },
  {
   "cell_type": "code",
   "execution_count": 27,
   "metadata": {
    "collapsed": false
   },
   "outputs": [
    {
     "name": "stdout",
     "output_type": "stream",
     "text": [
      "(1, 0.480000000000000)\n",
      "(2, 0.000000000000000)\n",
      "(3, 0.000000000000000)\n",
      "(4, 0.000000000000000)\n",
      "(5, 0.000000000000000)\n",
      "(6, 0.000000000000000)\n",
      "(7, 0.000000000000000)\n",
      "(8, 0.000000000000000)\n",
      "(9, 0.000000000000000)\n"
     ]
    }
   ],
   "source": [
    "for k in range(1, 10):\n",
    "    print(k, contarProbabilidad(k, 100).n())"
   ]
  },
  {
   "cell_type": "markdown",
   "metadata": {},
   "source": [
    "##### Apartado 3\n",
    "\n",
    "En el caso a, la ruina es segura porque la probabilidad de que gane cada uno es la misma, pero el casino no tiene limite."
   ]
  },
  {
   "cell_type": "code",
   "execution_count": null,
   "metadata": {
    "collapsed": true
   },
   "outputs": [],
   "source": [
    "def moneda():\n",
    "    if r.random() <= 0.5:\n",
    "        return -1\n",
    "    else:\n",
    "        return 1"
   ]
  },
  {
   "cell_type": "markdown",
   "metadata": {},
   "source": [
    "##### Montecarlo para aproximar pi\n",
    "\n",
    "No es útil usarlo para calcular pi, pero se puede usar por ejemplo, para calcular el área de una integral cualquiera, arbitraria, metiendo la integral en un rectangulo, aunque es más efectivo calcular las sumas de rieman, o usando otros métodos.\n",
    "\n",
    "Sin embrago, es muy efectivo para calcular integrales multidimensionales, con n=100 o 200."
   ]
  },
  {
   "cell_type": "code",
   "execution_count": 39,
   "metadata": {
    "collapsed": false
   },
   "outputs": [
    {
     "name": "stdout",
     "output_type": "stream",
     "text": [
      "3.14155360000000\n"
     ]
    }
   ],
   "source": [
    "dentro = 0\n",
    "for i in range(0, 10^7):\n",
    "    x, y = r.random(),  r.random()\n",
    "    if sqrt(x^2+y^2) < 1:\n",
    "        dentro += 1\n",
    "        \n",
    "print (dentro/10^7).n()*4"
   ]
  },
  {
   "cell_type": "code",
   "execution_count": null,
   "metadata": {
    "collapsed": true
   },
   "outputs": [],
   "source": []
  }
 ],
 "metadata": {
  "kernelspec": {
   "display_name": "SageMath 8.0",
   "language": "",
   "name": "sagemath"
  },
  "language_info": {
   "codemirror_mode": {
    "name": "ipython",
    "version": 2
   },
   "file_extension": ".py",
   "mimetype": "text/x-python",
   "name": "python",
   "nbconvert_exporter": "python",
   "pygments_lexer": "ipython2",
   "version": "2.7.13"
  }
 },
 "nbformat": 4,
 "nbformat_minor": 2
}
