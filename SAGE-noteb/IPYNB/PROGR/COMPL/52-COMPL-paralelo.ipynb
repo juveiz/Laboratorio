{
 "nbformat": 4, 
 "cells": [
  {
   "execution_count": 1, 
   "cell_type": "code", 
   "source": [
    "def elevar2_m(m):\n", 
    "\tL = [randint(0,1000) for i in srange(m*m)]\n", 
    "\tM = matrix(ZZ,m,m,L)\n", 
    "\treturn M*M\n", 
    "\n", 
    "time LL = map(elevar2_m,srange(1,200))"
   ], 
   "outputs": [
    {
     "output_type": "execute_result", 
     "data": {
      "text/plain": [
       "Time: CPU 22.98 s, Wall: 23.27 s"
      ]
     }, 
     "execution_count": 1, 
     "metadata": {}
    }
   ], 
   "metadata": {
    "collapsed": false
   }
  }, 
  {
   "execution_count": 2, 
   "cell_type": "code", 
   "source": [
    "@parallel(4)\n", 
    "def cuadrado(L):\n", 
    "\tmap(elevar2_m,L)\n", 
    "time LL = list(cuadrado([srange(1,50),srange(50,100),srange(100,150),srange(150,200)]))"
   ], 
   "outputs": [
    {
     "output_type": "execute_result", 
     "data": {
      "text/plain": [
       "Time: CPU 0.13 s, Wall: 14.79 s"
      ]
     }, 
     "execution_count": 2, 
     "metadata": {}
    }
   ], 
   "metadata": {
    "collapsed": false
   }
  }, 
  {
   "execution_count": 3, 
   "cell_type": "code", 
   "source": [
    "@parallel(4)\n", 
    "def cuadrado(L):\n", 
    "\tmap(elevar2_m,L)\n", 
    "L1 = [m for m in xrange(1,200) if m%4 == 0]\n", 
    "L2 = [m for m in xrange(1,200) if m%4 == 1]\n", 
    "L3 = [m for m in xrange(1,200) if m%4 == 2]\n", 
    "L4 = [m for m in xrange(1,200) if m%4 == 3]\n", 
    "time LL = list(cuadrado([L1,L2,L3,L4]))"
   ], 
   "outputs": [
    {
     "output_type": "execute_result", 
     "data": {
      "text/plain": [
       "Time: CPU 0.02 s, Wall: 5.82 s"
      ]
     }, 
     "execution_count": 3, 
     "metadata": {}
    }
   ], 
   "metadata": {
    "collapsed": false
   }
  }
 ], 
 "metadata": {
  "kernelspec": {
   "display_name": "Sage 6.6", 
   "name": "sage_6_6", 
   "language": "python"
  }
 }, 
 "nbformat_minor": 0
}