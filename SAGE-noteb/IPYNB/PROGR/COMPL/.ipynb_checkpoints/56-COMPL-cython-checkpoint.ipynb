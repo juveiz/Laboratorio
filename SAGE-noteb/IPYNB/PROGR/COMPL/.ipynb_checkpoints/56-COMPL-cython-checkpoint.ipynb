{
 "cells": [
  {
   "cell_type": "markdown",
   "metadata": {
    "deletable": true,
    "editable": true
   },
   "source": [
    "<h3>Sin Cython</h3>\n",
    "<p>Este programa genera $N$ enteros aleatorios entre $1$ y $M$, y una vez obtenidos los&nbsp; eleva al cuadrado y devuelve la suma de los cuadrados. Por tanto, calcula el cuadrado de la longitud&nbsp; de un vector aleatorio con coordenadas enteros en el intervalo $[1,M]$.</p>"
   ]
  },
  {
   "cell_type": "code",
   "execution_count": 1,
   "metadata": {
    "collapsed": true,
    "deletable": true,
    "editable": true
   },
   "outputs": [],
   "source": [
    "def cuadrados(N,M):\n",
    "    res = 0\n",
    "    for muda in xrange(N):\n",
    "        x = randint(1,M)\n",
    "        res += x*x\n",
    "    return res"
   ]
  },
  {
   "cell_type": "code",
   "execution_count": 2,
   "metadata": {
    "collapsed": false,
    "deletable": true,
    "editable": true
   },
   "outputs": [
    {
     "name": "stdout",
     "output_type": "stream",
     "text": [
      "CPU times: user 12 ms, sys: 4 ms, total: 16 ms\n",
      "Wall time: 11.7 ms\n",
      "CPU times: user 56 ms, sys: 36 ms, total: 92 ms\n",
      "Wall time: 70.5 ms\n",
      "CPU times: user 644 ms, sys: 76 ms, total: 720 ms\n",
      "Wall time: 539 ms\n",
      "CPU times: user 3.58 s, sys: 212 ms, total: 3.79 s\n",
      "Wall time: 3.54 s\n",
      "CPU times: user 33.1 s, sys: 392 ms, total: 33.5 s\n",
      "Wall time: 33.1 s\n"
     ]
    }
   ],
   "source": [
    "for n in srange(3,8):\n",
    "    %time A = cuadrados(10^n,10^6)"
   ]
  },
  {
   "cell_type": "markdown",
   "metadata": {
    "deletable": true,
    "editable": true
   },
   "source": [
    "<h3>Con Cython</h3>\n",
    "<p>Esta sección debe usar el núcleo de Python2. Efectuamos el mismo cálculo:</p>"
   ]
  },
  {
   "cell_type": "code",
   "execution_count": 3,
   "metadata": {
    "collapsed": true,
    "deletable": true,
    "editable": true
   },
   "outputs": [],
   "source": [
    "%load_ext cython"
   ]
  },
  {
   "cell_type": "code",
   "execution_count": 2,
   "metadata": {
    "collapsed": false,
    "deletable": true,
    "editable": true
   },
   "outputs": [],
   "source": [
    "%%cython -a\n",
    "\n",
    "import math\n",
    "import random\n",
    "def cuadrados_cy(long long N, long long M):\n",
    "    cdef long long res = 0\n",
    "    cdef long long muda\n",
    "    cdef long long x\n",
    "    for muda in xrange(N):\n",
    "        x = random.randint(1,M)\n",
    "        res += math.pow(x,2)\n",
    "    return res"
   ]
  },
  {
   "cell_type": "code",
   "execution_count": 3,
   "metadata": {
    "collapsed": false,
    "deletable": true,
    "editable": true
   },
   "outputs": [
    {
     "name": "stdout",
     "output_type": "stream",
     "text": [
      "CPU times: user 4 ms, sys: 0 ns, total: 4 ms\n",
      "Wall time: 3.58 ms\n",
      "CPU times: user 28 ms, sys: 0 ns, total: 28 ms\n",
      "Wall time: 26.5 ms\n",
      "CPU times: user 144 ms, sys: 4 ms, total: 148 ms\n",
      "Wall time: 119 ms\n",
      "CPU times: user 1.3 s, sys: 112 ms, total: 1.42 s\n",
      "Wall time: 1.19 s\n",
      "CPU times: user 11.5 s, sys: 200 ms, total: 11.7 s\n",
      "Wall time: 11.2 s\n"
     ]
    }
   ],
   "source": [
    "for n in range(3,8):\n",
    "    %time A = cuadrados_cy(10^n,10^6)"
   ]
  },
  {
   "cell_type": "markdown",
   "metadata": {
    "deletable": true,
    "editable": true
   },
   "source": [
    "<h3>Optimizando el c&aacute;lculo de n&uacute;meros aleatorios:</h3>"
   ]
  },
  {
   "cell_type": "markdown",
   "metadata": {
    "deletable": true,
    "editable": true
   },
   "source": [
    "\n",
    "Esta sección debe utilizar el núcleo de Sage. No funciona la opción *-a* al llamar a cython y no vemos la dependencia de Python del código. \n",
    "\n",
    "La primera parte de la celda, hasta *def main():*,  genera enteros aleatorios entre $1$ y $10^6$ usando librerías externas compilables en C. Este trozo se puede reutilizar.\n"
   ]
  },
  {
   "cell_type": "code",
   "execution_count": 1,
   "metadata": {
    "collapsed": true,
    "deletable": true,
    "editable": true
   },
   "outputs": [],
   "source": [
    "%%cython\n",
    "\n",
    "cdef extern from \"gsl/gsl_rng.h\":\n",
    "   ctypedef struct gsl_rng_type:\n",
    "      pass\n",
    "   ctypedef struct gsl_rng:\n",
    "       pass\n",
    "   gsl_rng_type *gsl_rng_mt19937\n",
    "   gsl_rng *gsl_rng_alloc(gsl_rng_type * T)\n",
    "  \n",
    "cdef gsl_rng * r = gsl_rng_alloc(gsl_rng_mt19937)\n",
    "\n",
    "cdef extern from \"gsl/gsl_randist.h\":\n",
    "     long int uniform \"gsl_rng_uniform_int\"(gsl_rng * r, unsigned long int n)\n",
    "\n",
    "def main():\n",
    "    cdef int n\n",
    "    n = uniform(r,1000000)\n",
    "    return n\n",
    "\n",
    "cdef long f(long x):\n",
    "    return x**2\n",
    "       \n",
    "import random\n",
    "def cuadrados_cy2(int N):\n",
    "    cdef long res = 0\n",
    "    cdef int muda\n",
    "    for muda in range(N):\n",
    "        res += f(main())\n",
    "    return res"
   ]
  },
  {
   "cell_type": "code",
   "execution_count": 2,
   "metadata": {
    "collapsed": false,
    "deletable": true,
    "editable": true
   },
   "outputs": [
    {
     "name": "stdout",
     "output_type": "stream",
     "text": [
      "CPU times: user 0 ns, sys: 0 ns, total: 0 ns\n",
      "Wall time: 175 µs\n",
      "CPU times: user 0 ns, sys: 0 ns, total: 0 ns\n",
      "Wall time: 1.2 ms\n",
      "CPU times: user 12 ms, sys: 0 ns, total: 12 ms\n",
      "Wall time: 10.5 ms\n",
      "CPU times: user 80 ms, sys: 0 ns, total: 80 ms\n",
      "Wall time: 80 ms\n",
      "CPU times: user 540 ms, sys: 0 ns, total: 540 ms\n",
      "Wall time: 540 ms\n"
     ]
    }
   ],
   "source": [
    "for n in srange(3,8):\n",
    "    %time A = cuadrados_cy2(10^n)"
   ]
  },
  {
   "cell_type": "markdown",
   "metadata": {
    "deletable": true,
    "editable": true
   },
   "source": [
    "<h3>Problema similar sin n&uacute;meros aleatorios:</h3>"
   ]
  },
  {
   "cell_type": "code",
   "execution_count": 3,
   "metadata": {
    "collapsed": true,
    "deletable": true,
    "editable": true
   },
   "outputs": [],
   "source": [
    "%%cython\n",
    "def cuadrados_cy3(long long int N):\n",
    "    cdef long long int res = 0\n",
    "    cdef long long int k\n",
    "    for k in range(N):\n",
    "        res += k**2\n",
    "    return res"
   ]
  },
  {
   "cell_type": "code",
   "execution_count": 4,
   "metadata": {
    "collapsed": false,
    "deletable": true,
    "editable": true
   },
   "outputs": [
    {
     "name": "stdout",
     "output_type": "stream",
     "text": [
      "CPU times: user 0 ns, sys: 0 ns, total: 0 ns\n",
      "Wall time: 39.1 µs\n",
      "CPU times: user 0 ns, sys: 0 ns, total: 0 ns\n",
      "Wall time: 37.9 µs\n",
      "CPU times: user 0 ns, sys: 0 ns, total: 0 ns\n",
      "Wall time: 175 µs\n",
      "CPU times: user 4 ms, sys: 0 ns, total: 4 ms\n",
      "Wall time: 1.45 ms\n",
      "CPU times: user 16 ms, sys: 0 ns, total: 16 ms\n",
      "Wall time: 13.9 ms\n"
     ]
    }
   ],
   "source": [
    "for n in srange(3,8):\n",
    "    %time A = cuadrados_cy3(10^n)"
   ]
  },
  {
   "cell_type": "code",
   "execution_count": 5,
   "metadata": {
    "collapsed": true,
    "deletable": true,
    "editable": true
   },
   "outputs": [],
   "source": [
    "def cuadrados5(N):\n",
    "    res = 0\n",
    "    for k in range(N):\n",
    "        res += k**2\n",
    "    return res"
   ]
  },
  {
   "cell_type": "code",
   "execution_count": 6,
   "metadata": {
    "collapsed": false,
    "deletable": true,
    "editable": true
   },
   "outputs": [
    {
     "name": "stdout",
     "output_type": "stream",
     "text": [
      "CPU times: user 0 ns, sys: 0 ns, total: 0 ns\n",
      "Wall time: 932 µs\n",
      "CPU times: user 8 ms, sys: 0 ns, total: 8 ms\n",
      "Wall time: 6.77 ms\n",
      "CPU times: user 56 ms, sys: 0 ns, total: 56 ms\n",
      "Wall time: 55.3 ms\n",
      "CPU times: user 364 ms, sys: 24 ms, total: 388 ms\n",
      "Wall time: 385 ms\n",
      "CPU times: user 3.12 s, sys: 136 ms, total: 3.26 s\n",
      "Wall time: 3.26 s\n"
     ]
    }
   ],
   "source": [
    "for n in srange(3,8):\n",
    "    %time A = cuadrados5(10^n)"
   ]
  },
  {
   "cell_type": "markdown",
   "metadata": {
    "deletable": true,
    "editable": true
   },
   "source": [
    "<p>Hemos comprobado, de dos maneras, que es en la generaci&oacute;n&nbsp; de los n&uacute;meros&nbsp; aleatorios donde Python pasa la mayor parte del tiempo en este c&aacute;lculo. Si optimizamos esa parte, usando una librer&iacute;a en C, o simplemente la suprimimos, el c&aacute;lculo es mucho m&aacute;s r&aacute;pido.&nbsp; Cython pierde much&iacute;sima eficiencia cuando debe ejecutar funciones de Python que son mucho m&aacute;s lentas que las correspondientes funciones en C.</p>"
   ]
  }
 ],
 "metadata": {
  "kernelspec": {
   "display_name": "SageMath 8.0",
   "language": "",
   "name": "sagemath"
  },
  "language_info": {
   "codemirror_mode": {
    "name": "ipython",
    "version": 2
   },
   "file_extension": ".py",
   "mimetype": "text/x-python",
   "name": "python",
   "nbconvert_exporter": "python",
   "pygments_lexer": "ipython2",
   "version": "2.7.13"
  }
 },
 "nbformat": 4,
 "nbformat_minor": 1
}
