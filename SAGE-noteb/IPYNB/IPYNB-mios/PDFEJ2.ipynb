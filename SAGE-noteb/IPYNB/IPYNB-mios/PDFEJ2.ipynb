{
 "cells": [
  {
   "cell_type": "markdown",
   "metadata": {},
   "source": [
    "EJERCICIO 2 DE NUEVO\n",
    "Intentamos ver que factores tienen en común los números de n unos\n",
    "\n",
    "[1]*n nos crea un entero de n 1os"
   ]
  },
  {
   "cell_type": "code",
   "execution_count": 44,
   "metadata": {},
   "outputs": [
    {
     "name": "stdout",
     "output_type": "stream",
     "text": [
      "(9, 9)\n",
      "(9, 18)\n",
      "(9, 27)\n",
      "(9, 36)\n",
      "(9, 45)\n",
      "(9, 54)\n",
      "(9, 63)\n",
      "(9, 72)\n",
      "(9, 81)\n",
      "(9, 90)\n",
      "(9, 99)\n"
     ]
    }
   ],
   "source": [
    "def unos(n, N):\n",
    "    for i in range(1, N):\n",
    "        L = [1]*i\n",
    "        num = ZZ(L, base=10)\n",
    "        if num%n == 0:\n",
    "            print(n, len(L))\n",
    "            \n",
    "unos(9, 100)"
   ]
  },
  {
   "cell_type": "markdown",
   "metadata": {},
   "source": [
    "Estos números se pueden expresar como la suma de potencias de 10:\n",
    "1+10+100+1000+10⁵+...\n",
    "Tenemos que hacer modulo n pequeña cada uno de los sumandos, que es lo mismo que hacer num modulo n"
   ]
  },
  {
   "cell_type": "code",
   "execution_count": 43,
   "metadata": {},
   "outputs": [
    {
     "name": "stdout",
     "output_type": "stream",
     "text": [
      "1\n",
      "1\n",
      "1\n",
      "1\n",
      "1\n",
      "1\n",
      "1\n",
      "1\n",
      "1\n",
      "1\n",
      "1\n",
      "1\n",
      "1\n"
     ]
    }
   ],
   "source": [
    "def unos2(n, N):\n",
    "    for i in range(1, N):\n",
    "        num = 10^i\n",
    "        print(num%n)\n",
    "        \n",
    "unos2(9, 14)"
   ]
  },
  {
   "cell_type": "markdown",
   "metadata": {},
   "source": [
    "Estamos hallando las órbitas de las funcion potencia en modulo n, y como es un conjunto finito, las órbitas se repiten.\n",
    "Si probamos con el 7 por ejemplo, vemos que la longitud de su órbita es 6, igual que la diferencia del numero de unos que nos daba la funcion anterior.\n",
    "Cada vez que la órbita está entera, en el caso de 7 por ejmplo:3,2,6,4,5,1 la suma de estos números son multiplo de 7\n",
    "\n",
    "El 2 y el 5, por ejemplo, que no lo cumplen, no son coprimos con 10, y pasa con todos los que tienen en su factorizacion a estos números\n",
    "\n",
    "La conjetura puede ser:\n",
    "mcd(n, 10)=1 si y solo si hay múltiplos de n que se escriban con unos"
   ]
  },
  {
   "cell_type": "markdown",
   "metadata": {},
   "source": [
    "EJERCICIO 3\n",
    "Siendo d la cifra dominante, existen k y m tal que:\n",
    "d*10^k <= 2^n <= (d+1)*10^k\n",
    "d*10^m <= 10^n <= (d+1)*10^m\n"
   ]
  },
  {
   "cell_type": "code",
   "execution_count": null,
   "metadata": {
    "collapsed": true
   },
   "outputs": [],
   "source": []
  }
 ],
 "metadata": {
  "kernelspec": {
   "display_name": "SageMath 8.0",
   "language": "",
   "name": "sagemath"
  },
  "language_info": {
   "codemirror_mode": {
    "name": "ipython",
    "version": 2
   },
   "file_extension": ".py",
   "mimetype": "text/x-python",
   "name": "python",
   "nbconvert_exporter": "python",
   "pygments_lexer": "ipython2",
   "version": "2.7.13"
  }
 },
 "nbformat": 4,
 "nbformat_minor": 2
}
