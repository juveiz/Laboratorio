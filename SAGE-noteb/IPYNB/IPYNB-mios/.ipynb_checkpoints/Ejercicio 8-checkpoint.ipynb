{
 "cells": [
  {
   "cell_type": "code",
   "execution_count": 2,
   "metadata": {
    "collapsed": false
   },
   "outputs": [
    {
     "data": {
      "text/plain": [
       "{0: [0], 1: [1], 2: [4], 3: [2], 4: [2], 5: [4], 6: [1]}"
      ]
     },
     "execution_count": 2,
     "metadata": {},
     "output_type": "execute_result"
    }
   ],
   "source": [
    "def cuadrados_mod (n,m):\n",
    "    return (n*n)%m\n",
    "def diccionario(m):\n",
    "    dicc={}\n",
    "    for i in srange (0,m):\n",
    "        int2=cuadrados_mod(i,m)\n",
    "        dicc[i]=[int2]\n",
    "    return dicc\n",
    "diccionario (7)"
   ]
  },
  {
   "cell_type": "code",
   "execution_count": 69,
   "metadata": {
    "collapsed": false
   },
   "outputs": [
    {
     "name": "stdout",
     "output_type": "stream",
     "text": [
      "[[0], [1], [4, 5, 3, 9], [9, 4, 5, 3], [5, 3, 9, 4], [3, 9, 4, 5]]\n"
     ]
    }
   ],
   "source": [
    "def ciclos(d):\n",
    "    D=list()\n",
    "    for i in srange (0,d):\n",
    "        num=i\n",
    "        L=list()\n",
    "        while 1:\n",
    "            num=cuadrados_mod(num,d)\n",
    "            if L.count(num)==1:\n",
    "                index=L.index(num)\n",
    "                for j in srange (0,index-1):\n",
    "                    L.remove(L[j])\n",
    "                if D.count(L)==1:\n",
    "                    break\n",
    "                D.append(L)\n",
    "                break\n",
    "            L.append(num)\n",
    "    return D\n",
    "            \n",
    "\n",
    "print ciclos(11)"
   ]
  },
  {
   "cell_type": "code",
   "execution_count": null,
   "metadata": {
    "collapsed": true
   },
   "outputs": [],
   "source": []
  },
  {
   "cell_type": "code",
   "execution_count": null,
   "metadata": {
    "collapsed": true
   },
   "outputs": [],
   "source": []
  },
  {
   "cell_type": "code",
   "execution_count": null,
   "metadata": {
    "collapsed": true
   },
   "outputs": [],
   "source": []
  }
 ],
 "metadata": {
  "kernelspec": {
   "display_name": "SageMath 8.0",
   "language": "",
   "name": "sagemath"
  },
  "language_info": {
   "codemirror_mode": {
    "name": "ipython",
    "version": 2
   },
   "file_extension": ".py",
   "mimetype": "text/x-python",
   "name": "python",
   "nbconvert_exporter": "python",
   "pygments_lexer": "ipython2",
   "version": "2.7.13"
  }
 },
 "nbformat": 4,
 "nbformat_minor": 2
}
