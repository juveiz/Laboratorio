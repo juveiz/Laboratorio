{
 "cells": [
  {
   "cell_type": "code",
   "execution_count": 22,
   "metadata": {
    "collapsed": false
   },
   "outputs": [],
   "source": [
    "def suma_hasta(L,n):\n",
    "    res = 0\n",
    "    if n < 0:\n",
    "        return 0\n",
    "    for i in xsrange(n):\n",
    "        res = res + L[i]\n",
    "    return res\n",
    "def comprobar_superfinito(L):\n",
    "    for i in xsrange (len(L)):\n",
    "        if suma_hasta(L,i-1) > L[i]:\n",
    "            return False\n",
    "    return True"
   ]
  },
  {
   "cell_type": "code",
   "execution_count": 23,
   "metadata": {
    "collapsed": true
   },
   "outputs": [],
   "source": [
    "def crear_supercreciente(n,N):\n",
    "    L = list()\n",
    "    for i in xsrange(n):\n",
    "        a = suma_hasta(L,i)\n",
    "        b = a + N\n",
    "        L.append(randint(a,b))\n",
    "    return L"
   ]
  },
  {
   "cell_type": "code",
   "execution_count": 25,
   "metadata": {
    "collapsed": false
   },
   "outputs": [
    {
     "name": "stdout",
     "output_type": "stream",
     "text": [
      "True\n"
     ]
    }
   ],
   "source": [
    "L = crear_supercreciente(10,10)\n",
    "print comprobar_superfinito(L)"
   ]
  },
  {
   "cell_type": "code",
   "execution_count": 28,
   "metadata": {
    "collapsed": true
   },
   "outputs": [],
   "source": [
    "def listas(K):\n",
    "    L = []\n",
    "    for k in srange(2^K):\n",
    "        L.append(k.digits(base=2,padto=K))\n",
    "    return L"
   ]
  },
  {
   "cell_type": "code",
   "execution_count": 39,
   "metadata": {
    "collapsed": true
   },
   "outputs": [],
   "source": [
    "def fuerza_bruta(L,A):\n",
    "    R = listas(len(L))\n",
    "    for item in R:\n",
    "        res = 0\n",
    "        for i in xsrange(len(L)):\n",
    "            res = item[i]*L[i]\n",
    "        if res == A:\n",
    "            return True\n",
    "    return False"
   ]
  },
  {
   "cell_type": "code",
   "execution_count": 44,
   "metadata": {
    "collapsed": false
   },
   "outputs": [
    {
     "name": "stdout",
     "output_type": "stream",
     "text": [
      "(1024, False)\n"
     ]
    }
   ],
   "source": [
    "L = crear_supercreciente(10,10)\n",
    "print fuerza_bruta(L,150)"
   ]
  },
  {
   "cell_type": "code",
   "execution_count": 46,
   "metadata": {
    "collapsed": false
   },
   "outputs": [],
   "source": [
    "def eficiente(L,A):\n",
    "    xi = len(L) - 1\n",
    "    a = A\n",
    "    while(xi >= 0):\n",
    "        if a == 0:\n",
    "            return True\n",
    "        if a >= L[xi]:\n",
    "            a = a - L[xi]\n",
    "        xi = xi - 1\n",
    "    if a == 0:\n",
    "        return True\n",
    "    return False"
   ]
  },
  {
   "cell_type": "code",
   "execution_count": 94,
   "metadata": {
    "collapsed": false
   },
   "outputs": [
    {
     "name": "stdout",
     "output_type": "stream",
     "text": [
      "False\n"
     ]
    }
   ],
   "source": [
    "L = crear_supercreciente(10,10)\n",
    "print eficiente(L,150)"
   ]
  },
  {
   "cell_type": "code",
   "execution_count": 143,
   "metadata": {
    "collapsed": true
   },
   "outputs": [],
   "source": [
    "alfb = \"ABCDEFGHIJKLMNOPQRSTUVWXYZ\"\n",
    "c = \"DANIESTONTO\""
   ]
  },
  {
   "cell_type": "code",
   "execution_count": 133,
   "metadata": {
    "collapsed": false
   },
   "outputs": [
    {
     "name": "stdout",
     "output_type": "stream",
     "text": [
      "['A', 'B', 'C', 'D', 'E', 'F', 'G', 'H', 'I', 'J', 'K', 'L', 'M', 'N', 'O', 'P', 'Q', 'R', 'S', 'T', 'U', 'V', 'W', 'X', 'Y', 'Z']\n"
     ]
    }
   ],
   "source": [
    "L_alfb = list(alfb);print L_alfb"
   ]
  },
  {
   "cell_type": "code",
   "execution_count": 134,
   "metadata": {
    "collapsed": false
   },
   "outputs": [],
   "source": [
    "def ord2(c):\n",
    "    return L_alfb.index(c)\n",
    "def chr2(n):\n",
    "    return L_alfb[n]"
   ]
  },
  {
   "cell_type": "code",
   "execution_count": 135,
   "metadata": {
    "collapsed": false
   },
   "outputs": [
    {
     "data": {
      "text/plain": [
       "[3, 0, 13, 8, 4, 18, 19, 14, 13, 19, 14]"
      ]
     },
     "execution_count": 135,
     "metadata": {},
     "output_type": "execute_result"
    }
   ],
   "source": [
    "COD = [ord2(c) for c in C];COD"
   ]
  },
  {
   "cell_type": "code",
   "execution_count": 136,
   "metadata": {
    "collapsed": false
   },
   "outputs": [],
   "source": [
    "def cadena(L):\n",
    "    C = ''\n",
    "    for item in L:\n",
    "        C += str(item)\n",
    "    return C\n",
    "def codificar(texto):\n",
    "    cod = ''\n",
    "    L = map(ord2,list(texto))\n",
    "    for item in L:\n",
    "        L1 = ZZ(item).digits(base=2,padto=5)\n",
    "        L1.reverse()\n",
    "        cod = cod + cadena(L1)\n",
    "    return cod"
   ]
  },
  {
   "cell_type": "code",
   "execution_count": 148,
   "metadata": {
    "collapsed": false
   },
   "outputs": [
    {
     "name": "stdout",
     "output_type": "stream",
     "text": [
      "01110\n"
     ]
    }
   ],
   "source": [
    "cod = codificar(c)\n",
    "print cod"
   ]
  },
  {
   "cell_type": "code",
   "execution_count": 146,
   "metadata": {
    "collapsed": true
   },
   "outputs": [],
   "source": [
    "def descodificar(texto_e):\n",
    "    texto_d = ''\n",
    "    if len(texto_e) == 0:\n",
    "        return texto_d\n",
    "    texto_dp = descodificar(texto_e[5:])\n",
    "    return chr2(ZZ(texto_e[:5],base=2))+texto_dp"
   ]
  },
  {
   "cell_type": "code",
   "execution_count": 147,
   "metadata": {
    "collapsed": false
   },
   "outputs": [
    {
     "data": {
      "text/plain": [
       "'DANIESTONTO'"
      ]
     },
     "execution_count": 147,
     "metadata": {},
     "output_type": "execute_result"
    }
   ],
   "source": [
    "descodificar(codificar(C))"
   ]
  },
  {
   "cell_type": "code",
   "execution_count": 149,
   "metadata": {
    "collapsed": false
   },
   "outputs": [
    {
     "name": "stdout",
     "output_type": "stream",
     "text": [
      "2147563528960932 2147563528960991\n",
      "7323139827280883 7323139827280897\n"
     ]
    }
   ],
   "source": [
    "sucesion1 = crear_supercreciente(5,100)\n",
    "sucesion2 = crear_supercreciente(5,10)\n",
    "m1 = randint(2*sucesion1[len(sucesion1) - 1], 10^16)\n",
    "m2 = randint(2*sucesion2[len(sucesion2) - 1], 10^16)\n",
    "w1 = next_prime(m1)\n",
    "w2 = next_prime(m2)\n",
    "print m1, w1\n",
    "print m2, w2"
   ]
  },
  {
   "cell_type": "code",
   "execution_count": 150,
   "metadata": {
    "collapsed": true
   },
   "outputs": [],
   "source": [
    "def clave_publica(L,m,w):\n",
    "    R = []\n",
    "    for i in xsrange (len(L)):\n",
    "        R.append((w*L[i])%m)\n",
    "    return R"
   ]
  },
  {
   "cell_type": "code",
   "execution_count": 152,
   "metadata": {
    "collapsed": false
   },
   "outputs": [],
   "source": [
    "clave_publica = clave_publica(sucesion1,m1,w1)"
   ]
  },
  {
   "cell_type": "code",
   "execution_count": 157,
   "metadata": {
    "collapsed": true
   },
   "outputs": [],
   "source": [
    "def encriptar(cp,cod):\n",
    "    res = 0\n",
    "    cod_list = list(cod)\n",
    "    for i in xsrange(len(cp)):\n",
    "        res = res + cp[i]*ZZ(cod_list[i])\n",
    "    return res"
   ]
  },
  {
   "cell_type": "code",
   "execution_count": 158,
   "metadata": {
    "collapsed": false
   },
   "outputs": [
    {
     "data": {
      "text/plain": [
       "40592"
      ]
     },
     "execution_count": 158,
     "metadata": {},
     "output_type": "execute_result"
    }
   ],
   "source": [
    "encriptar(clave_publica,cod)"
   ]
  },
  {
   "cell_type": "code",
   "execution_count": null,
   "metadata": {
    "collapsed": true
   },
   "outputs": [],
   "source": [
    "def desencriptar(cpriv,cod):\n",
    "    \n",
    "    "
   ]
  }
 ],
 "metadata": {
  "kernelspec": {
   "display_name": "SageMath 8.0",
   "language": "",
   "name": "sagemath"
  },
  "language_info": {
   "codemirror_mode": {
    "name": "ipython",
    "version": 2
   },
   "file_extension": ".py",
   "mimetype": "text/x-python",
   "name": "python",
   "nbconvert_exporter": "python",
   "pygments_lexer": "ipython2",
   "version": "2.7.13"
  }
 },
 "nbformat": 4,
 "nbformat_minor": 2
}
