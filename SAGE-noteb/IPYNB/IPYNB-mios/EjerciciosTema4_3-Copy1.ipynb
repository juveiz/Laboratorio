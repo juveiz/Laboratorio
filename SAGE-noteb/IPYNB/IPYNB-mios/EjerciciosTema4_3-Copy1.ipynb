{
 "cells": [
  {
   "cell_type": "markdown",
   "metadata": {},
   "source": [
    "## Ejercicio 6\n",
    "Dado un entero, que escribimos en la forma N = 10 · x+ y con y la cifra de las unidades, definimos F(N) := x − 2 · y.\n",
    "\n",
    "    a) Demuestra que N es múltiplo de 7 si y sólo si F(N) lo es.\n",
    "\n",
    "    b) Estudia las órbitas de F en el conjunto de los enteros positivos, tratando de enunciar un criterio de divisibilidad de N entre 7 en términos de la órbita de N mediante F.\n",
    "\n",
    "Usando la siguiente función, podemos ver que se cumplen simultaneamente, y además podemos intentar buscar un número para el que no se cumpla."
   ]
  },
  {
   "cell_type": "code",
   "execution_count": 38,
   "metadata": {},
   "outputs": [
    {
     "name": "stdout",
     "output_type": "stream",
     "text": [
      "(True, True)\n",
      "(True, True)\n",
      "(True, True)\n",
      "(True, True)\n",
      "(True, True)\n",
      "(True, True)\n",
      "(True, True)\n",
      "(True, True)\n",
      "(True, True)\n",
      "(True, True)\n",
      "(True, True)\n",
      "(True, True)\n",
      "(True, True)\n",
      "(True, True)\n",
      "(True, True)\n",
      "\n",
      "Buscamos un número para el que no se cumpla\n",
      "\n",
      "No se ha encontrado el número\n"
     ]
    }
   ],
   "source": [
    "var('y')\n",
    "#0<=y<10\n",
    "F(x, y) = x - 2*y\n",
    "N(x, y) = 10*x + y\n",
    "\n",
    "for x in range(0, 10):\n",
    "    for y in range(0,10):\n",
    "        if(N(x, y).n()%7==0 or F(x, y).n()%7==0):\n",
    "            print(N(x, y).n()%7==0, F(x, y).n()%7==0)\n",
    "            \n",
    "print(\"\\nBuscamos un número para el que no se cumpla\\n\")\n",
    "encontrado = 0\n",
    "for x in range(0, 10^4):\n",
    "    for y in range(0,10):\n",
    "        Nn = N(x, y).n()\n",
    "        Fn = F(x, y).n()\n",
    "        if (Nn%7==0 and Fn%7!=0) or (Nn%7!=0 and Fn%7==0):\n",
    "            print(\"Falla para el número %d\", Nn)\n",
    "            encontrado = 1\n",
    "            break\n",
    "            \n",
    "if encontrado == 0:\n",
    "    print(\"No se ha encontrado el número\")"
   ]
  },
  {
   "cell_type": "markdown",
   "metadata": {},
   "source": [
    "Vamos a examinar las órbitas de F respecto a los naturales divisibles por 7."
   ]
  },
  {
   "cell_type": "code",
   "execution_count": 71,
   "metadata": {},
   "outputs": [
    {
     "name": "stdout",
     "output_type": "stream",
     "text": [
      "(7, [7, -14, -9, 18, -15, -11, -3, 6, -12, -5, 10, 1, -2, 4, -8, 16, -11])\n",
      "(14, [14, -7, 14])\n",
      "(21, [21, 0, 0])\n",
      "(28, [28, -14, -9, 18, -15, -11, -3, 6, -12, -5, 10, 1, -2, 4, -8, 16, -11])\n",
      "(35, [35, -7, 14, -7])\n",
      "(42, [42, 0, 0])\n",
      "(49, [49, -14, -9, 18, -15, -11, -3, 6, -12, -5, 10, 1, -2, 4, -8, 16, -11])\n",
      "(56, [56, -7, 14, -7])\n",
      "(63, [63, 0, 0])\n",
      "(70, [70, 7, -14, -9, 18, -15, -11, -3, 6, -12, -5, 10, 1, -2, 4, -8, 16, -11])\n",
      "(77, [77, -7, 14, -7])\n",
      "(84, [84, 0, 0])\n",
      "(91, [91, 7, -14, -9, 18, -15, -11, -3, 6, -12, -5, 10, 1, -2, 4, -8, 16, -11])\n",
      "(98, [98, -7, 14, -7])\n"
     ]
    }
   ],
   "source": [
    "def orbita(num):\n",
    "    sNum = str(num)\n",
    "    L = []\n",
    "    while num not in L:\n",
    "        L.append(num)\n",
    "        if len(sNum) == 1 or  (len(sNum) == 2 and sNum[0] == \"-\"):\n",
    "            #Evitamos el caso en el que el número es -9, por ejemplo,\n",
    "            #Pues cogería - como x, y da error al no ser un número\n",
    "             result = F(0, int(sNum))\n",
    "        else:\n",
    "            x = sNum[:-1]\n",
    "            result = F(int(x), int(sNum[-1]))\n",
    "            \n",
    "        num = result\n",
    "        sNum = str(num)\n",
    "        \n",
    "    L.append(num)\n",
    "    return L\n",
    "\n",
    "for i in srange(1, 100):\n",
    "    if i%7 == 0:\n",
    "        print(i, orbita(i))"
   ]
  },
  {
   "cell_type": "markdown",
   "metadata": {},
   "source": [
    "Así, podemos ver que en todos los mútiplos de 7, las órbitas de F son o bien 0 directamente, o $\\pm 7, \\pm 14$ o bien la lista $[-14, -9, 18, -15, -11, -3, 6, -12, -5, 10, 1, -2, 4, -8, 16, -11]$\n",
    "\n",
    "##### Queda buscar un criterio apropiado para determinar cuándo el número es divisible por 7, sin embargo, no tengo muy claro como estas órbitas fijas pueden deterinar esto, pues no hay ninguna relación aparente con el número 7"
   ]
  },
  {
   "cell_type": "markdown",
   "metadata": {},
   "source": [
    "## Ejercicio 7\n",
    "Consideramos la función F : N∗ → N∗ que a cada entero positivo le asocia la suma de los cuadrados de sus dígitos.\n",
    "\n",
    "    a) Estudia las órbitas de F, tratando de determinar el comportamiento a largo plazo de las iteraciones de F.\n",
    "\n",
    "    b) Después de obtener tus conclusiones acerca de las órbitas, demuéstralas formalmente. Para eso es importante entender cómo decrece un entero N, al aplicarle F, dependiendo de su número de dígitos.\n",
    "\n",
    "En primer lugar, vamos a ver los ciclos de distintos números."
   ]
  },
  {
   "cell_type": "code",
   "execution_count": 26,
   "metadata": {},
   "outputs": [
    {
     "name": "stdout",
     "output_type": "stream",
     "text": [
      "(0, [0, 0])\n",
      "(7, [7, 49, 97, 130, 10, 1, 1])\n",
      "(14, [14, 17, 50, 25, 29, 85, 89, 145, 42, 20, 4, 16, 37, 58, 89])\n",
      "(21, [21, 5, 25, 29, 85, 89, 145, 42, 20, 4, 16, 37, 58, 89])\n",
      "(28, [28, 68, 100, 1, 1])\n"
     ]
    }
   ],
   "source": [
    "def cuadrados_dig(n):\n",
    "    result = 0\n",
    "    for i in n.digits():\n",
    "        result += ((int)(i))^2\n",
    "    return result\n",
    "\n",
    "def orbita(num):\n",
    "    L = []\n",
    "    while num not in L:\n",
    "        L.append(num)\n",
    "        result = cuadrados_dig(num)\n",
    "        num = result\n",
    "        \n",
    "    L.append(num)\n",
    "    return L\n",
    "\n",
    "for i in srange(0, 17):\n",
    "    print(i, orbita(i))\n"
   ]
  },
  {
   "cell_type": "markdown",
   "metadata": {},
   "source": [
    "Así podemos ver como la función f va oscilando entre valores mayores y menores que el dado.\n",
    "\n",
    "Parece que los valores de los ciclos se repiten bastante, así que vamos a hacer una función que nos de el ciclo únicamente, sin el resto de valores, y vamos a intentar ver todos los valores que se repiten."
   ]
  },
  {
   "cell_type": "code",
   "execution_count": 55,
   "metadata": {},
   "outputs": [
    {
     "name": "stdout",
     "output_type": "stream",
     "text": [
      "(0, [0, 0])\n",
      "(1, [1, 1])\n",
      "(2, [4, 16, 37, 58, 89, 145, 42, 20, 4])\n",
      "(3, [37, 58, 89, 145, 42, 20, 4, 16, 37])\n",
      "(4, [4, 16, 37, 58, 89, 145, 42, 20, 4])\n",
      "(5, [89, 145, 42, 20, 4, 16, 37, 58, 89])\n",
      "(6, [89, 145, 42, 20, 4, 16, 37, 58, 89])\n",
      "(7, [1, 1])\n",
      "\n",
      "\n",
      "Valores repetidos:\n",
      "set([0, 1, 4, 37, 42, 16, 145, 20, 89, 58])\n"
     ]
    }
   ],
   "source": [
    "def ciclo(n):\n",
    "    orb = orbita(n)\n",
    "    return orb[orb.index(orb[-1])::]\n",
    "\n",
    "for i in srange(0, 8):\n",
    "    print(i, ciclo(i))\n",
    "\n",
    "val = set()\n",
    "print(\"\\n\\nValores repetidos:\")\n",
    "for i in srange(0, 78):\n",
    "    val.add(ciclo(i)[-1])\n",
    "    \n",
    "print(val)"
   ]
  },
  {
   "cell_type": "markdown",
   "metadata": {},
   "source": [
    "Así, podemos ver que parece que a partir del número 80, los ciclos de las órbitas de f solo acaban en estos números\n",
    "\n",
    "Y no solo eso, sino que podemos ver que los números de los ciclos son los del conjunto val. Esto es, casi todos los ciclos (exceptuando las del 0 y el 1), contienen los mismos elementos pero en distinto orden. Sin embargo, para el 10 y el 13 por ejemplo, no se cumplen.\n",
    "\n",
    "El caso del 10 es fácil de explicar: todos los números que tengan únicamente un 1 seguido de ceros, van a tener esa órbita.\n",
    "\n",
    "Vamos a intentar ver para qué otros números el ciclo es sólo 1"
   ]
  },
  {
   "cell_type": "code",
   "execution_count": 63,
   "metadata": {},
   "outputs": [
    {
     "name": "stdout",
     "output_type": "stream",
     "text": [
      "1\n",
      "7\n",
      "10\n",
      "13\n",
      "19\n",
      "23\n",
      "28\n",
      "31\n",
      "32\n",
      "44\n",
      "49\n",
      "68\n",
      "70\n",
      "79\n",
      "82\n",
      "86\n",
      "91\n",
      "94\n",
      "97\n",
      "100\n",
      "103\n",
      "109\n",
      "129\n",
      "130\n",
      "133\n",
      "139\n",
      "167\n",
      "176\n",
      "188\n",
      "190\n",
      "192\n",
      "193\n",
      "203\n",
      "208\n",
      "219\n",
      "226\n",
      "230\n",
      "236\n",
      "239\n",
      "262\n",
      "263\n",
      "280\n",
      "291\n",
      "293\n",
      "301\n",
      "302\n",
      "310\n",
      "313\n",
      "319\n",
      "320\n",
      "326\n",
      "329\n",
      "331\n",
      "338\n",
      "356\n",
      "362\n",
      "365\n",
      "367\n",
      "368\n",
      "376\n",
      "379\n",
      "383\n",
      "386\n",
      "391\n",
      "392\n",
      "397\n",
      "404\n",
      "409\n",
      "440\n",
      "446\n",
      "464\n",
      "469\n",
      "478\n",
      "487\n",
      "490\n",
      "496\n",
      "536\n",
      "556\n",
      "563\n",
      "565\n",
      "566\n",
      "608\n",
      "617\n",
      "622\n",
      "623\n",
      "632\n",
      "635\n",
      "637\n",
      "638\n",
      "644\n",
      "649\n",
      "653\n",
      "655\n",
      "656\n",
      "665\n",
      "671\n",
      "673\n",
      "680\n",
      "683\n",
      "694\n",
      "700\n",
      "709\n",
      "716\n",
      "736\n",
      "739\n",
      "748\n",
      "761\n",
      "763\n",
      "784\n",
      "790\n",
      "793\n",
      "802\n",
      "806\n",
      "818\n",
      "820\n",
      "833\n",
      "836\n",
      "847\n",
      "860\n",
      "863\n",
      "874\n",
      "881\n",
      "888\n",
      "899\n",
      "901\n",
      "904\n",
      "907\n",
      "910\n",
      "912\n",
      "913\n",
      "921\n",
      "923\n",
      "931\n",
      "932\n",
      "937\n",
      "940\n",
      "946\n",
      "964\n",
      "970\n",
      "973\n",
      "989\n",
      "998\n"
     ]
    }
   ],
   "source": [
    "for i in srange(0, 1000):\n",
    "    c = ciclo(i)\n",
    "    if (len(c) == 2) and (c[0]==1) and (c[1]==1):\n",
    "        print(i)"
   ]
  },
  {
   "cell_type": "markdown",
   "metadata": {
    "collapsed": true
   },
   "source": [
    "##### He estado intentando buscar una relación entre estos números, sin embargo no he sido capaz de obtener ninguna conjetura.\n",
    "\n",
    "Dado un número de $k$ dígitos, la suma de los cuadrados de sus dígitos es $\\leq k*9^2 = 81k$\n",
    "A partir de un $k$, el número será mayor que $81k$, por lo que la función irá decreciendo."
   ]
  },
  {
   "cell_type": "code",
   "execution_count": null,
   "metadata": {
    "collapsed": true
   },
   "outputs": [],
   "source": []
  }
 ],
 "metadata": {
  "kernelspec": {
   "display_name": "SageMath 8.0",
   "language": "",
   "name": "sagemath"
  },
  "language_info": {
   "codemirror_mode": {
    "name": "ipython",
    "version": 2
   },
   "file_extension": ".py",
   "mimetype": "text/x-python",
   "name": "python",
   "nbconvert_exporter": "python",
   "pygments_lexer": "ipython2",
   "version": "2.7.13"
  }
 },
 "nbformat": 4,
 "nbformat_minor": 1
}
