{
 "cells": [
  {
   "cell_type": "markdown",
   "metadata": {
    "deletable": true,
    "editable": true
   },
   "source": [
    "1) Antes que nada, lee cuidadosamente estas instrucciones y las que aparecen en la hoja con la contraseña. \n",
    "\n",
    "2) Cambia el nombre de este archivo sustituyendo \"nombre.apellido\" por los tuyos, tal como aparecen en tu dirección de correo electrónico de la UAM.\n",
    "\n",
    "3) Este archivo debe quedar en la carpeta \"ENTREGA...\" que está en el escritorio de tu cuenta de examen. Lo mejor es que esté en esa carpeta desde el comienzo del examen. \n",
    "\n",
    "4) <FONT color=\"red\">El examen resuelto debe quedar en este único archivo. No se puede usar un archivo para cada pregunta.</FONT>\n",
    "\n",
    "5) Recuerda que hay que deshabilitar el salvapantallas al comenzar el examen, tal como está indicado en la hoja con la contraseña. \n",
    "\n",
    "\n",
    "CALIFICACIÓN:\n"
   ]
  },
  {
   "cell_type": "code",
   "execution_count": 1,
   "metadata": {
    "collapsed": false,
    "deletable": true,
    "editable": true
   },
   "outputs": [
    {
     "data": {
      "text/plain": [
       "9"
      ]
     },
     "execution_count": 1,
     "metadata": {},
     "output_type": "execute_result"
    }
   ],
   "source": [
    "3+3+3"
   ]
  },
  {
   "cell_type": "markdown",
   "metadata": {
    "deletable": true,
    "editable": true
   },
   "source": [
    "COMENTARIOS:\n",
    "\n",
    "1)"
   ]
  },
  {
   "cell_type": "markdown",
   "metadata": {
    "deletable": true,
    "editable": true
   },
   "source": [
    "### Nota por parte del alumno:\n",
    "No he estado en la clase contigo y por tanto, ciertas dudas que he tenido de interpretacion respecto a los enunciados las he preguntado a los profesores de guardia. He intentado hacer el examen cogiendo la mayoria de posibilidades que presenta el enunciado"
   ]
  },
  {
   "cell_type": "markdown",
   "metadata": {
    "deletable": true,
    "editable": true
   },
   "source": [
    "### Ejercicio 1\n",
    "\n",
    "(3 puntos) Una urna contiene tres bolas blancas y tres negras. Juegas al siguiente juego: extraes tres bolas, al azar (es decir, mediante una  *mano inocente*),  de la urna y si las tres son del mismo color ganas. En caso contrario devuelves a la urna las dos bolas del mismo color, desechas la otra, y vuelves a extraer tres bolas. Como antes, ganas si las tres bolas son del mismo color. El juego termina, y pierdes, cuando la urna contiene  únicamente dos bolas y, por tanto, es imposible extraer tres de ella.\n",
    "\n",
    "Calcula, mediante una simulación, la probabilidad de ganar. "
   ]
  },
  {
   "cell_type": "markdown",
   "metadata": {
    "deletable": true,
    "editable": true
   },
   "source": [
    "Como podemos ver en la resolucion hemos decidido llamar 0 a las bolas blancas y 1 a las bolas negras. Realizamos las extracciones teniendo en cuenta que con cada bola quedan menos bolas de ese color en la caja. Despues comprobamos el color y si no son las tres iguales procedemos a realizar lo que se nos idica en el enunciado, añadiendo dos bolas del mismo color a la caja.\n",
    "\n",
    "En el bucle vamos comprobando que el numero de bolas no sea menor que dos una vez añadidas las dos nuevas.\n",
    "\n",
    "Como vemos al final, la probabilidad es de aprox 0.73, lo cual parece razonable ya que es relativamente sencillo ganar el juego al ir introduciendo al errar bolas de un mismo color y quitando una del otro"
   ]
  },
  {
   "cell_type": "code",
   "execution_count": 356,
   "metadata": {
    "collapsed": false,
    "deletable": true,
    "editable": true
   },
   "outputs": [],
   "source": [
    "#Dado que no se indica y que es mas intuitivo, he supuesto que se hace la extraccion bola a bola\n",
    "def sacar_bola(bn,bb):\n",
    "    bola = randint(1,bn+bb)\n",
    "    if bola <= bn:\n",
    "        return 1\n",
    "    return 0\n",
    "def jugar():\n",
    "    bn = 3\n",
    "    bb = 3\n",
    "    #Suponemos que las blancas son 0 y las negras son 1\n",
    "    while bn + bb > 2:\n",
    "        #Sacamos las 3 bolas. Cuando sacamos una vemos de que color es y actualizamos el numero de bolas en la urna\n",
    "        bola1 = sacar_bola(bn,bb)\n",
    "        if bola1 == 0:\n",
    "            bb = bb - 1\n",
    "        else:\n",
    "            bn = bn - 1\n",
    "        bola2 = sacar_bola(bn,bb)\n",
    "        if bola2 == 0:\n",
    "            bb = bb - 1\n",
    "        else:\n",
    "            bn = bn - 1\n",
    "        bola3 = sacar_bola(bn,bb)\n",
    "        if bola3 == 0:\n",
    "            bb = bb - 1\n",
    "        else:\n",
    "            bn = bn - 1\n",
    "        #Si son iguales devolvemos True\n",
    "        if bola1 == bola2 and bola2 == bola3 and bola1 == bola3:\n",
    "            return True\n",
    "        #Si no, vemos como son. Si suman 1 (0 + 0 + 1) añadimos las dos blancas\n",
    "        if bola1 + bola2 + bola3 == 1:\n",
    "            bb = bb + 2\n",
    "        #Si suman 2 (1 + 1 + 0) añadimos las dos negras y repetimos el proceso\n",
    "        elif bola1 + bola2 + bola3 == 2:\n",
    "            bn = bn + 2\n",
    "    #Si salimos del bucle es que nos hemos quedado sin bolas en la caja y devolvemos Falso\n",
    "    return False"
   ]
  },
  {
   "cell_type": "code",
   "execution_count": 351,
   "metadata": {
    "collapsed": false,
    "deletable": true,
    "editable": true
   },
   "outputs": [],
   "source": [
    "def probabilidad1(N):\n",
    "    res = 0\n",
    "    for int in xsrange(N):\n",
    "        if jugar():\n",
    "            res = res + 1\n",
    "    return res,res/N.n()"
   ]
  },
  {
   "cell_type": "code",
   "execution_count": 358,
   "metadata": {
    "collapsed": false,
    "deletable": true,
    "editable": true
   },
   "outputs": [
    {
     "data": {
      "text/plain": [
       "(72853, 0.728530000000000)"
      ]
     },
     "execution_count": 358,
     "metadata": {},
     "output_type": "execute_result"
    }
   ],
   "source": [
    "probabilidad1(10^5)"
   ]
  },
  {
   "cell_type": "markdown",
   "metadata": {
    "deletable": true,
    "editable": true
   },
   "source": [
    "###  Ejercicio 2\n",
    "\n",
    "En la sección 11.5.4 de las notas del curso se discute el llamado \"truco de Monty Hall\",  que produce un resultado que es bastante  contrario a la intuición. En este ejercicio debes simular la siguiente variante y comparar el resultado obtenido con el de las notas: el concursante elige una puerta, el presentador le dice que no sabe en qué puerta está el premio y va a elegir, al azar,  una de las dos puertas restantes y abrirla. Detrás de la puerta que abre no está el premio y entonces ofrece al concursante cambiar de puerta. (2 puntos) Calcula, mediante simulación, la probabilidad que tiene el concursante de ganar el premio si cambia de puerta. \n",
    "\n",
    "(1 punto) ¿Cuál es la explicación del resultado, diferente al de las notas, que se ha obtenido?"
   ]
  },
  {
   "cell_type": "code",
   "execution_count": 279,
   "metadata": {
    "collapsed": false,
    "deletable": true,
    "editable": true
   },
   "outputs": [
    {
     "data": {
      "text/plain": [
       "66226"
      ]
     },
     "execution_count": 279,
     "metadata": {},
     "output_type": "execute_result"
    }
   ],
   "source": [
    "## Se incluye el código de la versión estándar del truco\n",
    "\n",
    "def jugada_mh(eleccion):\n",
    "    me_cambio = 1 \n",
    "    puertas = [0]*3\n",
    "    puertas[randint(0,2)] = 1 \n",
    "    quedan = puertas \n",
    "    del quedan[eleccion] \n",
    "    la_otra = (1 in quedan)\n",
    "    if me_cambio == 1:\n",
    "        return la_otra\n",
    "    else:\n",
    "        return puertas[eleccion] \n",
    "\n",
    "sum([jugada_mh(0) for int in xrange(100000)])"
   ]
  },
  {
   "cell_type": "markdown",
   "metadata": {
    "deletable": true,
    "editable": true
   },
   "source": [
    "### Apartado 1\n",
    "Nota: para calcular la probabilidad hemos tenido en cuenta lo siguiente:\n",
    "\n",
    "    1- Al elegir al azar y el presentador no saber donde está el premio puede elegir la puerta con el premio. Si lo \n",
    "       hace devolvemos -1 \n",
    "\n",
    "    2- Una vez se elige una aleatoria se cogera la otra"
   ]
  },
  {
   "cell_type": "code",
   "execution_count": 416,
   "metadata": {
    "collapsed": false,
    "deletable": true,
    "editable": true
   },
   "outputs": [],
   "source": [
    "def jugada_mh2(eleccion):\n",
    "    me_cambio = 1 \n",
    "    puertas = [0]*3\n",
    "    puertas[randint(0,2)] = 1 \n",
    "    quedan = puertas\n",
    "    del quedan[eleccion]\n",
    "    nueva = randint(0,1)\n",
    "    if quedan[nueva] == 1:\n",
    "        return -1\n",
    "    if me_cambio == 1:\n",
    "        if nueva == 0:\n",
    "            nueva = 1\n",
    "        else:\n",
    "            nueva = 0\n",
    "        return quedan[nueva]\n",
    "    else:\n",
    "        return puertas[eleccion]"
   ]
  },
  {
   "cell_type": "markdown",
   "metadata": {
    "deletable": true,
    "editable": true
   },
   "source": [
    "\n",
    "Finalmente he decidido hacer tres pruebas. En la primera representaremos el numero de veces que al cambiar elige la puerta buena frente al numero TOTAL de veces que se hace (es decir, se incluye las que el presentador ha elegido la puerta correcta aleatoriamente)"
   ]
  },
  {
   "cell_type": "code",
   "execution_count": 417,
   "metadata": {
    "collapsed": false,
    "deletable": true,
    "editable": true
   },
   "outputs": [
    {
     "name": "stdout",
     "output_type": "stream",
     "text": [
      "0.333410000000000 33341 100000\n"
     ]
    }
   ],
   "source": [
    "res = 0\n",
    "tot = 0\n",
    "for int in xsrange(100000):\n",
    "    p = jugada_mh2(0)\n",
    "    tot = tot + 1\n",
    "    if p == 1:\n",
    "        res = res + 1\n",
    "print res/tot.n(),res,tot"
   ]
  },
  {
   "cell_type": "markdown",
   "metadata": {
    "deletable": true,
    "editable": true
   },
   "source": [
    "En la segunda vamos a suponer que el que elige tiene dos dedos de frente y si le enseñan el premio, cambia a la del premio"
   ]
  },
  {
   "cell_type": "code",
   "execution_count": 420,
   "metadata": {
    "collapsed": false,
    "deletable": true,
    "editable": true
   },
   "outputs": [
    {
     "name": "stdout",
     "output_type": "stream",
     "text": [
      "0.664640000000000 66464 100000\n"
     ]
    }
   ],
   "source": [
    "res = 0\n",
    "tot = 0\n",
    "for int in xsrange(100000):\n",
    "    p = jugada_mh2(0)\n",
    "    tot = tot + 1\n",
    "    if p == 1 or p == -1:\n",
    "        res = res + 1\n",
    "print res/tot.n(),res,tot"
   ]
  },
  {
   "cell_type": "markdown",
   "metadata": {
    "deletable": true,
    "editable": true
   },
   "source": [
    "En la tercera (y la que a mi parecer es la que pregunta el enunciado) solo cogemos aquellas veces que el presentador escoge la puerta que no tiene el premio y al cambiar de puerta elegimos la que tiene el premio"
   ]
  },
  {
   "cell_type": "code",
   "execution_count": 419,
   "metadata": {
    "collapsed": false,
    "deletable": true,
    "editable": true
   },
   "outputs": [
    {
     "name": "stdout",
     "output_type": "stream",
     "text": [
      "0.500120087663995 33317 66618\n"
     ]
    }
   ],
   "source": [
    "res = 0\n",
    "tot = 0\n",
    "for int in xsrange(100000):\n",
    "    p = jugada_mh2(0)\n",
    "    if p == -1:\n",
    "        continue\n",
    "    tot = tot + 1\n",
    "    if p == 1:\n",
    "        res = res + 1\n",
    "print res/tot.n(),res,tot"
   ]
  },
  {
   "cell_type": "markdown",
   "metadata": {
    "deletable": true,
    "editable": true
   },
   "source": [
    "### Apartado 2\n",
    "Como podemos ver en la tercera prueba (que es a mi parcer la que hay que analizar) lo que podemos ver es que al cambiar si nos han enseñado una aleatoria que no tiene premio, baja a la mitad las probabilidades de que cambiando de puerta, obtengamos el premio. Esto es porque, como solo estamos contando las que no se han elegido la puerta correcta al hacer el presentador la eleccion, es mas probable que haya sido la eleccion con dos puertas que no tienen nada (y por tanto, la elegida inicialmente es la que tiene el premio).\n",
    "\n",
    "En la segunda podemos ver que es igual que el original, debido a que si se hiciera con el original, se habria elegido la otra puerta y se hubiera cambiado a la que contiene el premio (que es la que el presentador a enseñado)"
   ]
  },
  {
   "cell_type": "markdown",
   "metadata": {
    "deletable": true,
    "editable": true
   },
   "source": [
    "### Ejercicio 3\n",
    "\n",
    "(4 puntos) Supongamos unas elecciones con sólo dos candidatos $A$ y $B$. El candidato $A$ gana las elecciones con $a$ votos frente a los $b$ votos al candidato $B$. El recuento de los votos se hace de uno en uno y con elección aleatoria de los votos que se escrutan. Nos interesa calcular la probabilidad de que a lo largo de todo el recuento $A$ siempre vaya por delante de $B$. \n",
    "\n",
    "1. (3 puntos) Escribe una función $probabilidad(a,b,N)$, con $N$ el número de vueltas del bucle usado en la simulación, y que devuelva la probabilidad de que el candidato $A$ vaya por delante del $B$ durante todo el recuento. Recomiendo usar un par de funciones auxiliares: una para generar el resultado de un recuento (al azar) con $a$ votos para $A$ y $b$ votos para $B$, y la segunda para comprobar si $A$ ha ido durante el recuento siempre por delante de $B$. \n",
    "\n",
    "2. (1 punto) Usando la función anterior, con $a=60$ y un valor adecuado de $N$ para que se ejecute en un tiempo del orden, como máximo,  de $2$ minutos, calcula $probabilidad(60,b,N)$ para $b$ entre $0$ y $60$, y construye un modelo, usando $find\\_fit$,  para la dependencia de la probabilidad como función de $b$. Compara en un gráfico los puntos $(b,probabilidad(60,b,N))$ con la gráfica de la función propuesta como modelo.  \n"
   ]
  },
  {
   "cell_type": "markdown",
   "metadata": {
    "deletable": true,
    "editable": true
   },
   "source": [
    "### Apartado 1\n",
    "\n",
    "He creado dos funciones auxiliares para la resolucion de este ejercicio. La primera genera una lista con el orden de los votos. Tenemos en cuenta que hay mas votos de a que de b por tanto es mas posible coger un voto de a que de b. Por ello (y al igual que en el ejercicio 1) he creado un numero aleatorio entre 1 y el numero total de votos. Si este numero es menor que el numero de votos restantes de b, añado un voto de b a la lista. Si no, añado un voto de a a la lista. Cuando los votos llegan a 0 es imposible que se le pueda añadir a la lista (ya que el numero va de 1 hasta la suma de los votos)\n",
    "\n",
    "La segunda funcion hace el recuento de votos y en el momento que el numero de votos de b sea mayor que el de a devuelve falso. Si no, devuelve verdadero"
   ]
  },
  {
   "cell_type": "code",
   "execution_count": 359,
   "metadata": {
    "collapsed": true,
    "deletable": true,
    "editable": true
   },
   "outputs": [],
   "source": [
    "#Funciones auxiliares\n",
    "def votos(a,b):\n",
    "    L = []\n",
    "    numa = a\n",
    "    numb = b\n",
    "    for int in xsrange(a+b):\n",
    "        num = randint(1,numa + numb)\n",
    "        if num <= numb:\n",
    "            L.append('b')\n",
    "            numb = numb - 1\n",
    "        else:\n",
    "            L.append('a')\n",
    "            numa = numa - 1\n",
    "    return L\n",
    "def recuento(L):\n",
    "    numa = 0\n",
    "    numb = 0\n",
    "    for item in L:\n",
    "        if item == 'a':\n",
    "            numa = numa + 1\n",
    "        else:\n",
    "            numb = numb + 1\n",
    "        if numb > numa:\n",
    "            return False\n",
    "    return True"
   ]
  },
  {
   "cell_type": "markdown",
   "metadata": {
    "deletable": true,
    "editable": true
   },
   "source": [
    "La funcion probabilidad simplemente calcula el numero de veces que recuento devuelve true y calcula el porcentaje final"
   ]
  },
  {
   "cell_type": "code",
   "execution_count": 360,
   "metadata": {
    "collapsed": false,
    "deletable": true,
    "editable": true
   },
   "outputs": [],
   "source": [
    "def probabilidad(a,b,N):\n",
    "    res = 0\n",
    "    for int in xsrange(N):\n",
    "        L = votos(a,b)\n",
    "        if recuento(L):\n",
    "            res = res + 1\n",
    "    return res/N.n()"
   ]
  },
  {
   "cell_type": "code",
   "execution_count": 408,
   "metadata": {
    "collapsed": false,
    "deletable": true,
    "editable": true
   },
   "outputs": [
    {
     "data": {
      "text/plain": [
       "0.510000000000000"
      ]
     },
     "execution_count": 408,
     "metadata": {},
     "output_type": "execute_result"
    }
   ],
   "source": [
    "probabilidad(60,30,1000)"
   ]
  },
  {
   "cell_type": "markdown",
   "metadata": {
    "deletable": true,
    "editable": true
   },
   "source": [
    "### Apartado 2"
   ]
  },
  {
   "cell_type": "code",
   "execution_count": null,
   "metadata": {
    "collapsed": false,
    "deletable": true,
    "editable": true
   },
   "outputs": [],
   "source": [
    "L1 = []\n",
    "for i in xsrange(61):\n",
    "    L1.append((i,probabilidad(60,i,10^4)))"
   ]
  },
  {
   "cell_type": "code",
   "execution_count": 398,
   "metadata": {
    "collapsed": false,
    "deletable": true,
    "editable": true
   },
   "outputs": [
    {
     "data": {
      "image/png": "[encoded data removed]",
      "text/plain": [
       "Graphics object consisting of 1 graphics primitive"
      ]
     },
     "execution_count": 398,
     "metadata": {},
     "output_type": "execute_result"
    }
   ],
   "source": [
    "points(L1)"
   ]
  },
  {
   "cell_type": "code",
   "execution_count": 404,
   "metadata": {
    "collapsed": true,
    "deletable": true,
    "editable": true
   },
   "outputs": [],
   "source": [
    "var('A B C'); model(x)=A*x^(B) + C"
   ]
  },
  {
   "cell_type": "code",
   "execution_count": 405,
   "metadata": {
    "collapsed": false,
    "deletable": true,
    "editable": true
   },
   "outputs": [
    {
     "name": "stdout",
     "output_type": "stream",
     "text": [
      "{C: 0.9993040995626669, B: 0.9992041336498032, A: -0.01641407352106489}\n"
     ]
    }
   ],
   "source": [
    "diccionario = find_fit(L1,model,solution_dict=True); print diccionario"
   ]
  },
  {
   "cell_type": "code",
   "execution_count": 406,
   "metadata": {
    "collapsed": false,
    "deletable": true,
    "editable": true
   },
   "outputs": [
    {
     "data": {
      "image/png": "[encoded data removed]",
      "text/plain": [
       "Graphics object consisting of 2 graphics primitives"
      ]
     },
     "execution_count": 406,
     "metadata": {},
     "output_type": "execute_result"
    }
   ],
   "source": [
    "points(L1)+plot(diccionario[A]*x^(diccionario[B]) + diccionario[C],x,0,60)"
   ]
  },
  {
   "cell_type": "markdown",
   "metadata": {
    "deletable": true,
    "editable": true
   },
   "source": [
    "Como podemos ver en la gráfica, nos encontramos que la probabilidad disminuye linealmente conforme el numero de puntos de b sube. He decidido hacer el modelo con ax^b + c aunque podria directamente sustituirse la b por 1 debido a que hemos visto en los puntos anteriormente que descendia de forma lineal.\n",
    "\n",
    "Por otro lado he cogido como n 10^4 ya que al hacer diversas pruebas tarda aproximadamente un par de minutos"
   ]
  }
 ],
 "metadata": {
  "kernelspec": {
   "display_name": "SageMath 8.0",
   "language": "",
   "name": "sagemath"
  },
  "language_info": {
   "codemirror_mode": {
    "name": "ipython",
    "version": 2
   },
   "file_extension": ".py",
   "mimetype": "text/x-python",
   "name": "python",
   "nbconvert_exporter": "python",
   "pygments_lexer": "ipython2",
   "version": "2.7.13"
  }
 },
 "nbformat": 4,
 "nbformat_minor": 0
}
