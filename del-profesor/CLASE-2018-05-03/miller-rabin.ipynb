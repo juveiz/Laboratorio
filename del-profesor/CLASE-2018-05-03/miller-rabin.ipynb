{
 "nbformat": 4, 
 "cells": [
  {
   "execution_count": 1, 
   "cell_type": "code", 
   "source": [
    "def miller_rabin0(n):\n", 
    "    n2 = n-1\n", 
    "    s = 0\n", 
    "    while n2%2 == 0:\n", 
    "        n2 = n2//2\n", 
    "        s += 1\n", 
    "        #print s\n", 
    "    return s,(n-1)//(2^s)"
   ], 
   "outputs": [], 
   "metadata": {
    "collapsed": false
   }
  }, 
  {
   "execution_count": 2, 
   "cell_type": "code", 
   "source": [
    "miller_rabin0(25)"
   ], 
   "outputs": [
    {
     "output_type": "execute_result", 
     "data": {
      "text/plain": [
       "(3, 3)"
      ]
     }, 
     "execution_count": 2, 
     "metadata": {}
    }
   ], 
   "metadata": {
    "collapsed": false
   }
  }, 
  {
   "execution_count": 3, 
   "cell_type": "code", 
   "source": [
    "def miller_rabin1(n,t):\n", 
    "    L = []\n", 
    "    while len(L) <= t:\n", 
    "        a = randint(2,n-1)\n", 
    "        if gcd(a,n) == 1:\n", 
    "            L.append(a)\n", 
    "        else:\n", 
    "            return False\n", 
    "    return L"
   ], 
   "outputs": [], 
   "metadata": {
    "collapsed": false
   }
  }, 
  {
   "execution_count": 4, 
   "cell_type": "code", 
   "source": [
    "def miller_rabin2a(n,a,d):\n", 
    "    if power_mod(a,d,n) == 1:\n", 
    "        return True\n", 
    "    else: \n", 
    "        return False ###########a puede ser un testigo, debe devolver False tambien miller_rabin2b"
   ], 
   "outputs": [], 
   "metadata": {
    "collapsed": false
   }
  }, 
  {
   "execution_count": 5, 
   "cell_type": "code", 
   "source": [
    "def miller_rabin2b(n,a,s,d):\n", 
    "    L = [1 for r in srange(s) if (power_mod(a,(2^r)*d,n)+1)%n == 0]\n", 
    "    if len(L) > 0:\n", 
    "        return True \n", 
    "    else: \n", 
    "        return False ############# a puede ser un testigo, debe devolver False tambien miller_rabin2a"
   ], 
   "outputs": [], 
   "metadata": {
    "collapsed": false
   }
  }, 
  {
   "execution_count": 6, 
   "cell_type": "code", 
   "source": [
    "def miller_rabin(n,t):\n", 
    "    s,d = miller_rabin0(n)\n", 
    "    L = miller_rabin1(n,t)\n", 
    "    if L == False:\n", 
    "        return False\n", 
    "    else:\n", 
    "        for a in L:\n", 
    "            if not miller_rabin2a(n,a,d) and not miller_rabin2b(n,a,s,d):\n", 
    "                return False    ##El entero n es compuesto con seguridad y a es un testigo\n", 
    "        return True             ### El entero n es \"casi primo\""
   ], 
   "outputs": [], 
   "metadata": {
    "collapsed": false
   }
  }, 
  {
   "execution_count": 7, 
   "cell_type": "code", 
   "source": [
    "miller_rabin(nth_prime(178)*nth_prime(246),15)"
   ], 
   "outputs": [
    {
     "output_type": "execute_result", 
     "data": {
      "text/plain": [
       "False"
      ]
     }, 
     "execution_count": 7, 
     "metadata": {}
    }
   ], 
   "metadata": {
    "collapsed": false
   }
  }, 
  {
   "execution_count": 8, 
   "cell_type": "code", 
   "source": [
    "miller_rabin(nth_prime(1456888),20)"
   ], 
   "outputs": [
    {
     "output_type": "execute_result", 
     "data": {
      "text/plain": [
       "True"
      ]
     }, 
     "execution_count": 8, 
     "metadata": {}
    }
   ], 
   "metadata": {
    "collapsed": false
   }
  }, 
  {
   "source": [
    "<h3>Teorema 1</h3>"
   ], 
   "cell_type": "markdown", 
   "metadata": {}
  }, 
  {
   "execution_count": 9, 
   "cell_type": "code", 
   "source": [
    "def teorema1(p,a):\n", 
    "    s,d = miller_rabin0(p)\n", 
    "    if power_mod(a,d,p) == 1:\n", 
    "        print \"Se cumple la primera condicion.\"\n", 
    "    else:\n", 
    "        for r in srange(s):\n", 
    "            if (power_mod(a,(2^r)*d,p)+1)%p == 0:\n", 
    "                print \"Se cumple la segunda condicion.\"\n", 
    "                break"
   ], 
   "outputs": [], 
   "metadata": {
    "collapsed": false
   }
  }, 
  {
   "execution_count": 10, 
   "cell_type": "code", 
   "source": [
    "teorema1(nth_prime(1456),5249)"
   ], 
   "outputs": [
    {
     "output_type": "execute_result", 
     "data": {
      "text/plain": [
       "Se cumple la segunda condicion."
      ]
     }, 
     "execution_count": 10, 
     "metadata": {}
    }
   ], 
   "metadata": {
    "collapsed": false
   }
  }, 
  {
   "execution_count": 11, 
   "cell_type": "code", 
   "source": [
    "for p in prime_range(1000,2000):\n", 
    "    a = randint(1,p-1)\n", 
    "    print p,a\n", 
    "    if gcd(a,p) == 1:\n", 
    "        teorema1(p,a)\n", 
    "        print \"=======================================================================\""
   ], 
   "outputs": [
    {
     "output_type": "execute_result", 
     "data": {
      "text/plain": [
       "WARNING: Output truncated!"
      ]
     }, 
     "execution_count": 11, 
     "metadata": {}
    }, 
    {
     "output_type": "execute_result", 
     "data": {
      "text/plain": [
       "1009 620\n", 
       "Se cumple la segunda condicion.\n", 
       "=======================================================================\n", 
       "1013 708\n", 
       "Se cumple la primera condicion.\n", 
       "=======================================================================\n", 
       "1019 853\n", 
       "Se cumple la segunda condicion.\n", 
       "=======================================================================\n", 
       "1021 705\n", 
       "Se cumple la segunda condicion.\n", 
       "=======================================================================\n", 
       "1031 901\n", 
       "Se cumple la segunda condicion.\n", 
       "=======================================================================\n", 
       "1033 915\n", 
       "Se cumple la segunda condicion.\n", 
       "=======================================================================\n", 
       "1039 737\n", 
       "Se cumple la segunda condicion.\n", 
       "=======================================================================\n", 
       "1049 784\n", 
       "Se cumple la segunda condicion.\n", 
       "=======================================================================\n", 
       "1051 312\n", 
       "Se cumple la segunda condicion.\n", 
       "=======================================================================\n", 
       "1061 786\n", 
       "Se cumple la primera condicion.\n", 
       "=======================================================================\n", 
       "1063 123\n", 
       "Se cumple la primera condicion.\n", 
       "=======================================================================\n", 
       "1069 28\n", 
       "Se cumple la segunda condicion.\n", 
       "=======================================================================\n", 
       "1087 98\n", 
       "Se cumple la primera condicion.\n", 
       "=======================================================================\n", 
       "1091 743\n", 
       "Se cumple la primera condicion.\n", 
       "=======================================================================\n", 
       "1093 233\n", 
       "Se cumple la primera condicion.\n", 
       "=======================================================================\n", 
       "1097 41\n", 
       "Se cumple la segunda condicion.\n", 
       "=======================================================================\n", 
       "1103 1054\n", 
       "Se cumple la segunda condicion.\n", 
       "=======================================================================\n", 
       "1109 277\n", 
       "Se cumple la primera condicion.\n", 
       "=======================================================================\n", 
       "1117 1041\n", 
       "Se cumple la segunda condicion.\n", 
       "=======================================================================\n", 
       "1123 907\n", 
       "Se cumple la segunda condicion.\n", 
       "\n", 
       "...\n", 
       "\n", 
       "1861 1791\n", 
       "Se cumple la primera condicion.\n", 
       "=======================================================================\n", 
       "1867 880\n", 
       "Se cumple la segunda condicion.\n", 
       "=======================================================================\n", 
       "1871 1807\n", 
       "Se cumple la segunda condicion.\n", 
       "=======================================================================\n", 
       "1873 1687\n", 
       "Se cumple la segunda condicion.\n", 
       "=======================================================================\n", 
       "1877 1519\n", 
       "Se cumple la segunda condicion.\n", 
       "=======================================================================\n", 
       "1879 1755\n", 
       "Se cumple la primera condicion.\n", 
       "=======================================================================\n", 
       "1889 479\n", 
       "Se cumple la segunda condicion.\n", 
       "=======================================================================\n", 
       "1901 1479\n", 
       "Se cumple la primera condicion.\n", 
       "=======================================================================\n", 
       "1907 240\n", 
       "Se cumple la segunda condicion.\n", 
       "=======================================================================\n", 
       "1913 711\n", 
       "Se cumple la segunda condicion.\n", 
       "=======================================================================\n", 
       "1931 871\n", 
       "Se cumple la primera condicion.\n", 
       "=======================================================================\n", 
       "1933 826\n", 
       "Se cumple la segunda condicion.\n", 
       "=======================================================================\n", 
       "1949 965\n", 
       "Se cumple la segunda condicion.\n", 
       "=======================================================================\n", 
       "1951 755\n", 
       "Se cumple la segunda condicion.\n", 
       "=======================================================================\n", 
       "1973 1089\n", 
       "Se cumple la segunda condicion.\n", 
       "=======================================================================\n", 
       "1979 167\n", 
       "Se cumple la primera condicion.\n", 
       "=======================================================================\n", 
       "1987 43\n", 
       "Se cumple la segunda condicion.\n", 
       "=======================================================================\n", 
       "1993 1523\n", 
       "Se cumple la segunda condicion.\n", 
       "=======================================================================\n", 
       "1997 1663\n", 
       "Se cumple la segunda condicion.\n", 
       "=======================================================================\n", 
       "1999 389\n", 
       "Se cumple la primera condicion.\n", 
       "======================================================================="
      ]
     }, 
     "execution_count": 11, 
     "metadata": {}
    }
   ], 
   "metadata": {
    "collapsed": false
   }
  }, 
  {
   "source": [
    "<h3>Teorema 2</h3>"
   ], 
   "cell_type": "markdown", 
   "metadata": {}
  }, 
  {
   "execution_count": 12, 
   "cell_type": "code", 
   "source": [
    "def teorema2(n):\n", 
    "    testigos = 0\n", 
    "    s,d = miller_rabin0(n)\n", 
    "    #print s,d\n", 
    "    for a in srange(2,n):\n", 
    "        if gcd(a,n) == 1:\n", 
    "            if ((not miller_rabin2a(n,a,d)) and (not miller_rabin2b(n,a,s,d))):\n", 
    "                testigos += 1\n", 
    "        else:\n", 
    "            testigos += 1\n", 
    "    if  testigos < n-((n-1)/4).ceil():\n", 
    "        return testigos,n-((n-1)/4).ceil()"
   ], 
   "outputs": [], 
   "metadata": {
    "collapsed": false
   }
  }, 
  {
   "execution_count": 13, 
   "cell_type": "code", 
   "source": [
    "teorema2(10005)"
   ], 
   "outputs": [], 
   "metadata": {
    "collapsed": false
   }
  }, 
  {
   "execution_count": 14, 
   "cell_type": "code", 
   "source": [
    "for int in srange(10000,10100):\n", 
    "    if ((not is_prime(int)) and (int%2 == 1)):\n", 
    "        print \"=\",\n", 
    "        teorema2(int)"
   ], 
   "outputs": [
    {
     "output_type": "execute_result", 
     "data": {
      "text/plain": [
       "= = = = = = = = = = = = = = = = = = = = = = = = = = = = = = = = = = = = = = ="
      ]
     }, 
     "execution_count": 14, 
     "metadata": {}
    }
   ], 
   "metadata": {
    "collapsed": false
   }
  }, 
  {
   "source": [
    "<h3>Comprobamos</h3>"
   ], 
   "cell_type": "markdown", 
   "metadata": {}
  }, 
  {
   "execution_count": 15, 
   "cell_type": "code", 
   "source": [
    "all([not miller_rabin(p*nth_prime(1150),10) for p in prime_range(100000,110000)])"
   ], 
   "outputs": [
    {
     "output_type": "execute_result", 
     "data": {
      "text/plain": [
       "True"
      ]
     }, 
     "execution_count": 15, 
     "metadata": {}
    }
   ], 
   "metadata": {
    "collapsed": false
   }
  }, 
  {
   "execution_count": 16, 
   "cell_type": "code", 
   "source": [
    "all([miller_rabin(p,10) for p in prime_range(100000,110000)])"
   ], 
   "outputs": [
    {
     "output_type": "execute_result", 
     "data": {
      "text/plain": [
       "True"
      ]
     }, 
     "execution_count": 16, 
     "metadata": {}
    }
   ], 
   "metadata": {
    "collapsed": false
   }
  }, 
  {
   "source": [
    "<h3>B&uacute;squeda de un entero que pase Miller-Rabin, con probabilidad te&oacute;rica menor que $1\\%$ de aceptar un no primo como primo, pero sea compuesto:</h3>"
   ], 
   "cell_type": "markdown", 
   "metadata": {}
  }, 
  {
   "execution_count": 17, 
   "cell_type": "code", 
   "source": [
    "(log(0.01)/log(0.25)).n()"
   ], 
   "outputs": [
    {
     "output_type": "execute_result", 
     "data": {
      "text/plain": [
       "3.32192809488736"
      ]
     }, 
     "execution_count": 17, 
     "metadata": {}
    }
   ], 
   "metadata": {
    "collapsed": false
   }
  }, 
  {
   "execution_count": 18, 
   "cell_type": "code", 
   "source": [
    "[n for n in srange(2^100,2^100+1000) if is_prime(n) != miller_rabin(n,4)]"
   ], 
   "outputs": [
    {
     "output_type": "execute_result", 
     "data": {
      "text/plain": [
       "[]"
      ]
     }, 
     "execution_count": 18, 
     "metadata": {}
    }
   ], 
   "metadata": {
    "collapsed": false
   }
  }, 
  {
   "execution_count": 19, 
   "cell_type": "code", 
   "source": [
    "[n for n in srange(2^100,2^100+10000) if is_prime(n) != miller_rabin(n,4)]"
   ], 
   "outputs": [
    {
     "output_type": "execute_result", 
     "data": {
      "text/plain": [
       "[]"
      ]
     }, 
     "execution_count": 19, 
     "metadata": {}
    }
   ], 
   "metadata": {
    "collapsed": false
   }
  }, 
  {
   "execution_count": 20, 
   "cell_type": "code", 
   "source": [
    "[n for n in srange(2^400,2^400+100000) if is_prime(n) != miller_rabin(n,4)]"
   ], 
   "outputs": [
    {
     "output_type": "execute_result", 
     "data": {
      "text/plain": [
       "[]"
      ]
     }, 
     "execution_count": 20, 
     "metadata": {}
    }
   ], 
   "metadata": {
    "collapsed": false
   }
  }, 
  {
   "execution_count": 21, 
   "cell_type": "code", 
   "source": [
    "[n for n in srange(10,10^7) if ((not is_prime(n)) and (miller_rabin(n,4) == True))]"
   ], 
   "outputs": [
    {
     "output_type": "execute_result", 
     "data": {
      "text/plain": [
       "[]"
      ]
     }, 
     "execution_count": 21, 
     "metadata": {}
    }
   ], 
   "metadata": {
    "collapsed": false
   }
  }, 
  {
   "source": [
    "<h3>Miller-Rabin determinista suponiendo cierta la Hip&oacute;tesis de Riemann generalizada:</h3>\n\n<p>Si se admite la Hip&oacute;tesis de Riemann generalizada&nbsp; (no se ha demostrado la Hip&oacute;tesis de Riemann y mucho menos la generalizada) se puede demostrar que necesariamente hay un testigo menor que $log(log(n))$. El m&eacute;todo es ahora totalmente determinista, es decir, ya no demuestra que un n&uacute;mero es primo con probabilidad mayor que, por ejemplo,&nbsp; $0.999$ sino que decide, si la Hip&oacute;tesis es correcta,&nbsp; si es primo o no con certeza.</p>\n<p>Mientras no se demuestre la&nbsp; Hip&oacute;tesis de Riemann generalizada, podemos decir que el hecho de que Miller-Rabin determinista no d&eacute; resultados falsos soporta el convencimiento de que la Hip&oacute;tesis es correcta.</p>"
   ], 
   "cell_type": "markdown", 
   "metadata": {}
  }, 
  {
   "execution_count": 22, 
   "cell_type": "code", 
   "source": [
    "def miller_rabin_det(n):\n", 
    "    s,d = miller_rabin0(n)\n", 
    "    B = log(log(n)).n().ceil()\n", 
    "    for a in srange(2,B):\n", 
    "        if not miller_rabin2a(n,a,d) and not miller_rabin2b(n,a,s,d):\n", 
    "                return False    ##El entero n es compuesto con seguridad y a es un testigo\n", 
    "    return True"
   ], 
   "outputs": [], 
   "metadata": {
    "collapsed": false
   }
  }, 
  {
   "execution_count": 23, 
   "cell_type": "code", 
   "source": [
    "all([miller_rabin_det(p) for p in prime_range(100000,110000)])"
   ], 
   "outputs": [
    {
     "output_type": "execute_result", 
     "data": {
      "text/plain": [
       "True"
      ]
     }, 
     "execution_count": 23, 
     "metadata": {}
    }
   ], 
   "metadata": {
    "collapsed": false
   }
  }, 
  {
   "execution_count": 24, 
   "cell_type": "code", 
   "source": [
    "all([not miller_rabin_det(p*q) for p in prime_range(100000,110000) for q in prime_range(100000,101000)])"
   ], 
   "outputs": [
    {
     "output_type": "execute_result", 
     "data": {
      "text/plain": [
       "True"
      ]
     }, 
     "execution_count": 24, 
     "metadata": {}
    }
   ], 
   "metadata": {
    "collapsed": false
   }
  }, 
  {
   "execution_count": 25, 
   "cell_type": "code", 
   "source": [
    "0.25^4"
   ], 
   "outputs": [
    {
     "output_type": "execute_result", 
     "data": {
      "text/plain": [
       "0.00390625000000000"
      ]
     }, 
     "execution_count": 25, 
     "metadata": {}
    }
   ], 
   "metadata": {
    "collapsed": false
   }
  }, 
  {
   "execution_count": 26, 
   "cell_type": "code", 
   "source": [
    "len((2^400).digits(10))"
   ], 
   "outputs": [
    {
     "output_type": "execute_result", 
     "data": {
      "text/plain": [
       "121"
      ]
     }, 
     "execution_count": 26, 
     "metadata": {}
    }
   ], 
   "metadata": {
    "collapsed": false
   }
  }, 
  {
   "execution_count": 27, 
   "cell_type": "code", 
   "source": [
    "[k for k in srange(1000) if is_prime(2^701+k)]"
   ], 
   "outputs": [
    {
     "output_type": "execute_result", 
     "data": {
      "text/plain": [
       "[321, 627, 701]"
      ]
     }, 
     "execution_count": 27, 
     "metadata": {}
    }
   ], 
   "metadata": {
    "collapsed": false
   }
  }, 
  {
   "execution_count": 28, 
   "cell_type": "code", 
   "source": [
    "[k for k in srange(10000) if is_prime(2^901+k)]"
   ], 
   "outputs": [
    {
     "output_type": "execute_result", 
     "data": {
      "text/plain": [
       "[1149, 1655, 1877, 2439, 2811, 2885, 4971, 5657, 7799, 9207, 9351, 9615]"
      ]
     }, 
     "execution_count": 28, 
     "metadata": {}
    }
   ], 
   "metadata": {
    "collapsed": false
   }
  }, 
  {
   "execution_count": 29, 
   "cell_type": "code", 
   "source": [
    "N = (2^701+627)*(2^901+9207)"
   ], 
   "outputs": [], 
   "metadata": {
    "collapsed": false
   }
  }, 
  {
   "execution_count": 30, 
   "cell_type": "code", 
   "source": [
    "log(N,base=10).n()"
   ], 
   "outputs": [
    {
     "output_type": "execute_result", 
     "data": {
      "text/plain": [
       "482.250053053698"
      ]
     }, 
     "execution_count": 30, 
     "metadata": {}
    }
   ], 
   "metadata": {
    "collapsed": false
   }
  }, 
  {
   "execution_count": 31, 
   "cell_type": "code", 
   "source": [
    "log(N,base=2).n()"
   ], 
   "outputs": [
    {
     "output_type": "execute_result", 
     "data": {
      "text/plain": [
       "1602.00000000000"
      ]
     }, 
     "execution_count": 31, 
     "metadata": {}
    }
   ], 
   "metadata": {
    "collapsed": false
   }
  }, 
  {
   "execution_count": 32, 
   "cell_type": "code", 
   "source": [
    "factor(N)"
   ], 
   "outputs": [
    {
     "output_type": "execute_result", 
     "data": {
      "text/plain": [
       "^C"
      ]
     }, 
     "execution_count": 32, 
     "metadata": {}
    }, 
    {
     "output_type": "stream", 
     "name": "stderr", 
     "text": [
      "Traceback (most recent call last):\n", 
      "  File \"<stdin>\", line 1, in <module>\n", 
      "  File \"_sage_input_33.py\", line 10, in <module>\n", 
      "    exec compile(u'open(\"___code___.py\",\"w\").write(\"# -*- coding: utf-8 -*-\\\\n\" +\n", 
      "_support_.preparse_worksheet_cell(base64.b64decode(\"ZmFjdG9yKE4p\"),globals())+\"\\\\n\");\n", 
      "execfile(os.path.abspath(\"___code___.py\"))' + '\\n', '', 'single')\n", 
      "  File \"\", line 1, in <module>\n", 
      "\n", 
      "  File \"/tmp/tmpAFe6MA/___code___.py\", line 2, in <module>\n", 
      "    exec compile(u'factor(N)' + '\\n', '', 'single')\n", 
      "  File \"\", line 1, in <module>\n", 
      "\n", 
      "  File \"/usr/lib/sagemath/local/lib/python2.7/site-packages/sage/rings/arith.py\", line\n", 
      "2468, in factor\n", 
      "    int_ = int_, verbose=verbose)\n", 
      "  File \"integer.pyx\", line 3482, in sage.rings.integer.Integer.factor\n", 
      "(sage/rings/integer.c:21745)\n", 
      "  File \"factorint.pyx\", line 258, in sage.rings.factorint.factor_using_pari\n", 
      "(sage/rings/factorint.c:6832)\n", 
      "  File \"factorint.pyx\", line 299, in sage.rings.factorint.factor_using_pari\n", 
      "(sage/rings/factorint.c:6388)\n", 
      "  File \"gen.pyx\", line 8696, in sage.libs.pari.gen.gen.factor (sage/libs/pari/gen.c:44628)\n", 
      "  File \"c_lib.pyx\", line 73, in sage.ext.c_lib.sig_raise_exception (sage/ext/c_lib.c:835)\n", 
      "KeyboardInterrupt\n", 
      "__SAGE__"
     ]
    }
   ], 
   "metadata": {
    "collapsed": false
   }
  }, 
  {
   "execution_count": 33, 
   "cell_type": "code", 
   "source": [
    "is_prime(N)"
   ], 
   "outputs": [
    {
     "output_type": "execute_result", 
     "data": {
      "text/plain": [
       "False"
      ]
     }, 
     "execution_count": 33, 
     "metadata": {}
    }
   ], 
   "metadata": {
    "collapsed": false
   }
  }, 
  {
   "execution_count": 34, 
   "cell_type": "code", 
   "source": [
    "miller_rabin(N,1)"
   ], 
   "outputs": [
    {
     "output_type": "execute_result", 
     "data": {
      "text/plain": [
       "False"
      ]
     }, 
     "execution_count": 34, 
     "metadata": {}
    }
   ], 
   "metadata": {
    "collapsed": false
   }
  }, 
  {
   "execution_count": 35, 
   "cell_type": "code", 
   "source": [
    "all([not miller_rabin(N,1) for muda in srange(1000)])"
   ], 
   "outputs": [
    {
     "output_type": "execute_result", 
     "data": {
      "text/plain": [
       "^C"
      ]
     }, 
     "execution_count": 35, 
     "metadata": {}
    }, 
    {
     "output_type": "stream", 
     "name": "stderr", 
     "text": [
      "Traceback (most recent call last):\n", 
      "  File \"<stdin>\", line 1, in <module>\n", 
      "  File \"_sage_input_36.py\", line 10, in <module>\n", 
      "    exec compile(u'open(\"___code___.py\",\"w\").write(\"# -*- coding: utf-8 -*-\\\\n\" + _support\n", 
      "_.preparse_worksheet_cell(base64.b64decode(\"YWxsKFtub3QgbWlsbGVyX3JhYmluKE4sMSkgZm9yIG11ZG\n", 
      "EgaW4gc3JhbmdlKDEwMDApXSk=\"),globals())+\"\\\\n\");\n", 
      "execfile(os.path.abspath(\"___code___.py\"))' + '\\n', '', 'single')\n", 
      "  File \"\", line 1, in <module>\n", 
      "\n", 
      "  File \"/tmp/tmpVr0GnX/___code___.py\", line 3, in <module>\n", 
      "    exec compile(u'all([not miller_rabin(N,_sage_const_1 ) for muda in\n", 
      "srange(_sage_const_1000 )])' + '\\n', '', 'single')\n", 
      "  File \"\", line 1, in <module>\n", 
      "\n", 
      "  File \"/tmp/tmpikiCrn/___code___.py\", line 9, in miller_rabin\n", 
      "    if not miller_rabin2a(n,a,d) and not miller_rabin2b(n,a,s,d):\n", 
      "  File \"/tmp/tmpewyU6h/___code___.py\", line 4, in miller_rabin2b\n", 
      "    L = [_sage_const_1  for r in srange(s) if (power_mod(a,(_sage_const_2\n", 
      "**r)*d,n)+_sage_const_1 )%n == _sage_const_0 ]\n", 
      "  File \"/usr/lib/sagemath/local/lib/python2.7/site-packages/sage/rings/arith.py\", line\n", 
      "2076, in power_mod\n", 
      "    if n&1 != 0:\n", 
      "  File \"c_lib.pyx\", line 176, in sage.ext.c_lib.sage_python_check_interrupt\n", 
      "(sage/ext/c_lib.c:1634)\n", 
      "  File \"c_lib.pyx\", line 73, in sage.ext.c_lib.sig_raise_exception (sage/ext/c_lib.c:835)\n", 
      "KeyboardInterrupt\n", 
      "__SAGE__"
     ]
    }
   ], 
   "metadata": {
    "collapsed": false
   }
  }
 ], 
 "metadata": {
  "kernelspec": {
   "display_name": "Sage 6.6", 
   "name": "sage_6_6", 
   "language": "python"
  }
 }, 
 "nbformat_minor": 0
}