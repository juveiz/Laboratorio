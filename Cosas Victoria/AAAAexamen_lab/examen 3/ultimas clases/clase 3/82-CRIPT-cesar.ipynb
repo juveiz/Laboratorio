{
 "cells": [
  {
   "cell_type": "code",
   "execution_count": 1,
   "metadata": {
    "collapsed": false
   },
   "outputs": [],
   "source": [
    "alfb = \"ABCDEFGHIJKLMNOPQRSTUVWXYZ\""
   ]
  },
  {
   "cell_type": "code",
   "execution_count": 2,
   "metadata": {
    "collapsed": false
   },
   "outputs": [],
   "source": [
    "texto = \"Through the use of abstraction and logical reasoning, mathematics developed from counting, calculation, measurement, and the systematic study of the shapes and motions of physical objects. Practical mathematics has been a human activity for as far back as written records exist. Rigorous arguments first appeared in Greek mathematics, most notably in Euclid's Elements. Mathematics developed at a relatively slow pace until the Renaissance, when mathematical innovations interacting with new scientific discoveries led to a rapid increase in the rate of mathematical discovery that continues to the present day.\""
   ]
  },
  {
   "cell_type": "code",
   "execution_count": 4,
   "metadata": {
    "collapsed": false
   },
   "outputs": [
    {
     "name": "stdout",
     "output_type": "stream",
     "text": [
      "[65, 66, 67, 68, 69, 70, 71, 72, 73, 74, 75, 76, 77, 78, 79, 80, 81, 82, 83, 84, 85, 86, 87, 88, 89, 90]\n"
     ]
    }
   ],
   "source": [
    "print map(ord,[x for x in alfb])  #map aplica la función ord a cada una de las x"
   ]
  },
  {
   "cell_type": "code",
   "execution_count": 5,
   "metadata": {
    "collapsed": false
   },
   "outputs": [
    {
     "name": "stdout",
     "output_type": "stream",
     "text": [
      "['A', 'B', 'C', 'D', 'E', 'F', 'G', 'H', 'I', 'J', 'K', 'L', 'M', 'N', 'O', 'P', 'Q', 'R', 'S', 'T', 'U', 'V', 'W', 'X', 'Y', 'Z']\n"
     ]
    }
   ],
   "source": [
    "print map(chr,map(ord,[x for x in alfb]))"
   ]
  },
  {
   "cell_type": "code",
   "execution_count": 6,
   "metadata": {
    "collapsed": false
   },
   "outputs": [],
   "source": [
    "from string import *\n",
    "def limpiar(texto,alfb):\n",
    "    L = map(ord,[x.capitalize() for x in list(texto)])\n",
    "    L1 = [item for item in L if item in map(ord,[x for x in alfb])]\n",
    "    C1 = join(map(chr,L1),sep = \"\")\n",
    "    return C1"
   ]
  },
  {
   "cell_type": "code",
   "execution_count": 7,
   "metadata": {
    "collapsed": false
   },
   "outputs": [
    {
     "data": {
      "text/plain": [
       "'THROUGHTHEUSEOFABSTRACTIONANDLOGICALREASONINGMATHEMATICSDEVELOPEDFROMCOUNTINGCALCULATIONMEASUREMENTANDTHESYSTEMATICSTUDYOFTHESHAPESANDMOTIONSOFPHYSICALOBJECTSPRACTICALMATHEMATICSHASBEENAHUMANACTIVITYFORASFARBACKASWRITTENRECORDSEXISTRIGOROUSARGUMENTSFIRSTAPPEAREDINGREEKMATHEMATICSMOSTNOTABLYINEUCLIDSELEMENTSMATHEMATICSDEVELOPEDATARELATIVELYSLOWPACEUNTILTHERENAISSANCEWHENMATHEMATICALINNOVATIONSINTERACTINGWITHNEWSCIENTIFICDISCOVERIESLEDTOARAPIDINCREASEINTHERATEOFMATHEMATICALDISCOVERYTHATCONTINUESTOTHEPRESENTDAY'"
      ]
     },
     "execution_count": 7,
     "metadata": {},
     "output_type": "execute_result"
    }
   ],
   "source": [
    "limpiar(texto,alfb)"
   ]
  },
  {
   "cell_type": "markdown",
   "metadata": {},
   "source": [
    "<h3>Cifra de C&eacute;sar</h3>"
   ]
  },
  {
   "cell_type": "code",
   "execution_count": 37,
   "metadata": {
    "collapsed": false
   },
   "outputs": [],
   "source": [
    "def encriptar_cesar(C,k):\n",
    "    L = list(C)\n",
    "    L1 = map(ord,L)\n",
    "    L2 = [(item+k)%256 for item in L1]\n",
    "    C1 = join(map(chr,L2),sep = \"\")\n",
    "    return C1"
   ]
  },
  {
   "cell_type": "code",
   "execution_count": 38,
   "metadata": {
    "collapsed": false
   },
   "outputs": [],
   "source": [
    "L = list(texto); #show(L)"
   ]
  },
  {
   "cell_type": "code",
   "execution_count": 39,
   "metadata": {
    "collapsed": false
   },
   "outputs": [],
   "source": [
    "L1 = map(ord,L); #show(L1)"
   ]
  },
  {
   "cell_type": "code",
   "execution_count": 40,
   "metadata": {
    "collapsed": false
   },
   "outputs": [],
   "source": [
    "L2 = [(item+5)%256 for item in L1]; #show(L2)"
   ]
  },
  {
   "cell_type": "code",
   "execution_count": 41,
   "metadata": {
    "collapsed": false
   },
   "outputs": [
    {
     "data": {
      "text/plain": [
       "'Ymwtzlm%ymj%zxj%tk%fgxywfhynts%fsi%qtlnhfq%wjfxtsnsl1%rfymjrfynhx%ij{jqtuji%kwtr%htzsynsl1%hfqhzqfynts1%rjfxzwjrjsy1%fsi%ymj%x~xyjrfynh%xyzi~%tk%ymj%xmfujx%fsi%rtyntsx%tk%um~xnhfq%tgojhyx3%Uwfhynhfq%rfymjrfynhx%mfx%gjjs%f%mzrfs%fhyn{ny~%ktw%fx%kfw%gfhp%fx%|wnyyjs%wjhtwix%j}nxy3%Wnltwtzx%fwlzrjsyx%knwxy%fuujfwji%ns%Lwjjp%rfymjrfynhx1%rtxy%styfgq~%ns%Jzhqni,x%Jqjrjsyx3%Rfymjrfynhx%ij{jqtuji%fy%f%wjqfyn{jq~%xqt|%ufhj%zsynq%ymj%Wjsfnxxfshj1%|mjs%rfymjrfynhfq%nsst{fyntsx%nsyjwfhynsl%|nym%sj|%xhnjsynknh%inxht{jwnjx%qji%yt%f%wfuni%nshwjfxj%ns%ymj%wfyj%tk%rfymjrfynhfq%inxht{jw~%ymfy%htsynszjx%yt%ymj%uwjxjsy%if~3'"
      ]
     },
     "execution_count": 41,
     "metadata": {},
     "output_type": "execute_result"
    }
   ],
   "source": [
    "join(map(chr,L2),sep = \"\")"
   ]
  },
  {
   "cell_type": "code",
   "execution_count": 42,
   "metadata": {
    "collapsed": false
   },
   "outputs": [
    {
     "data": {
      "text/plain": [
       "'Ymwtzlm%ymj%zxj%tk%fgxywfhynts%fsi%qtlnhfq%wjfxtsnsl1%rfymjrfynhx%ij{jqtuji%kwtr%htzsynsl1%hfqhzqfynts1%rjfxzwjrjsy1%fsi%ymj%x~xyjrfynh%xyzi~%tk%ymj%xmfujx%fsi%rtyntsx%tk%um~xnhfq%tgojhyx3%Uwfhynhfq%rfymjrfynhx%mfx%gjjs%f%mzrfs%fhyn{ny~%ktw%fx%kfw%gfhp%fx%|wnyyjs%wjhtwix%j}nxy3%Wnltwtzx%fwlzrjsyx%knwxy%fuujfwji%ns%Lwjjp%rfymjrfynhx1%rtxy%styfgq~%ns%Jzhqni,x%Jqjrjsyx3%Rfymjrfynhx%ij{jqtuji%fy%f%wjqfyn{jq~%xqt|%ufhj%zsynq%ymj%Wjsfnxxfshj1%|mjs%rfymjrfynhfq%nsst{fyntsx%nsyjwfhynsl%|nym%sj|%xhnjsynknh%inxht{jwnjx%qji%yt%f%wfuni%nshwjfxj%ns%ymj%wfyj%tk%rfymjrfynhfq%inxht{jw~%ymfy%htsynszjx%yt%ymj%uwjxjsy%if~3'"
      ]
     },
     "execution_count": 42,
     "metadata": {},
     "output_type": "execute_result"
    }
   ],
   "source": [
    "encriptar_cesar(texto,5)"
   ]
  },
  {
   "cell_type": "code",
   "execution_count": 43,
   "metadata": {
    "collapsed": false
   },
   "outputs": [
    {
     "data": {
      "text/plain": [
       "\"Through the use of abstraction and logical reasoning, mathematics developed from counting, calculation, measurement, and the systematic study of the shapes and motions of physical objects. Practical mathematics has been a human activity for as far back as written records exist. Rigorous arguments first appeared in Greek mathematics, most notably in Euclid's Elements. Mathematics developed at a relatively slow pace until the Renaissance, when mathematical innovations interacting with new scientific discoveries led to a rapid increase in the rate of mathematical discovery that continues to the present day.\""
      ]
     },
     "execution_count": 43,
     "metadata": {},
     "output_type": "execute_result"
    }
   ],
   "source": [
    "encriptar_cesar(encriptar_cesar(texto,5),251)"
   ]
  },
  {
   "cell_type": "code",
   "execution_count": 44,
   "metadata": {
    "collapsed": false
   },
   "outputs": [
    {
     "data": {
      "text/plain": [
       "'YMWTZLMYMJZXJTKFGXYWFHYNTSFSIQTLNHFQWJFXTSNSLRFYMJRFYNHXIJ[JQTUJIKWTRHTZSYNSLHFQHZQFYNTSRJFXZWJRJSYFSIYMJX^XYJRFYNHXYZI^TKYMJXMFUJXFSIRTYNTSXTKUM^XNHFQTGOJHYXUWFHYNHFQRFYMJRFYNHXMFXGJJSFMZRFSFHYN[NY^KTWFXKFWGFHPFX\\\\WNYYJSWJHTWIXJ]NXYWNLTWTZXFWLZRJSYXKNWXYFUUJFWJINSLWJJPRFYMJRFYNHXRTXYSTYFGQ^NSJZHQNIXJQJRJSYXRFYMJRFYNHXIJ[JQTUJIFYFWJQFYN[JQ^XQT\\\\UFHJZSYNQYMJWJSFNXXFSHJ\\\\MJSRFYMJRFYNHFQNSST[FYNTSXNSYJWFHYNSL\\\\NYMSJ\\\\XHNJSYNKNHINXHT[JWNJXQJIYTFWFUNINSHWJFXJNSYMJWFYJTKRFYMJRFYNHFQINXHT[JW^YMFYHTSYNSZJXYTYMJUWJXJSYIF^'"
      ]
     },
     "execution_count": 44,
     "metadata": {},
     "output_type": "execute_result"
    }
   ],
   "source": [
    "encriptar_cesar(limpiar(texto,alfb),5)"
   ]
  },
  {
   "cell_type": "code",
   "execution_count": 45,
   "metadata": {
    "collapsed": false
   },
   "outputs": [
    {
     "data": {
      "text/plain": [
       "'THROUGHTHEUSEOFABSTRACTIONANDLOGICALREASONINGMATHEMATICSDEVELOPEDFROMCOUNTINGCALCULATIONMEASUREMENTANDTHESYSTEMATICSTUDYOFTHESHAPESANDMOTIONSOFPHYSICALOBJECTSPRACTICALMATHEMATICSHASBEENAHUMANACTIVITYFORASFARBACKASWRITTENRECORDSEXISTRIGOROUSARGUMENTSFIRSTAPPEAREDINGREEKMATHEMATICSMOSTNOTABLYINEUCLIDSELEMENTSMATHEMATICSDEVELOPEDATARELATIVELYSLOWPACEUNTILTHERENAISSANCEWHENMATHEMATICALINNOVATIONSINTERACTINGWITHNEWSCIENTIFICDISCOVERIESLEDTOARAPIDINCREASEINTHERATEOFMATHEMATICALDISCOVERYTHATCONTINUESTOTHEPRESENTDAY'"
      ]
     },
     "execution_count": 45,
     "metadata": {},
     "output_type": "execute_result"
    }
   ],
   "source": [
    "limpiar(texto,alfb)"
   ]
  },
  {
   "cell_type": "code",
   "execution_count": 46,
   "metadata": {
    "collapsed": false
   },
   "outputs": [
    {
     "data": {
      "text/plain": [
       "'THROUGHTHEUSEOFABSTRACTIONANDLOGICALREASONINGMATHEMATICSDEVELOPEDFROMCOUNTINGCALCULATIONMEASUREMENTANDTHESYSTEMATICSTUDYOFTHESHAPESANDMOTIONSOFPHYSICALOBJECTSPRACTICALMATHEMATICSHASBEENAHUMANACTIVITYFORASFARBACKASWRITTENRECORDSEXISTRIGOROUSARGUMENTSFIRSTAPPEAREDINGREEKMATHEMATICSMOSTNOTABLYINEUCLIDSELEMENTSMATHEMATICSDEVELOPEDATARELATIVELYSLOWPACEUNTILTHERENAISSANCEWHENMATHEMATICALINNOVATIONSINTERACTINGWITHNEWSCIENTIFICDISCOVERIESLEDTOARAPIDINCREASEINTHERATEOFMATHEMATICALDISCOVERYTHATCONTINUESTOTHEPRESENTDAY'"
      ]
     },
     "execution_count": 46,
     "metadata": {},
     "output_type": "execute_result"
    }
   ],
   "source": [
    "encriptar_cesar(encriptar_cesar(limpiar(texto,alfb),5),251)"
   ]
  },
  {
   "cell_type": "markdown",
   "metadata": {},
   "source": [
    "<h4>An&aacute;lisis de frecuencias</h4>"
   ]
  },
  {
   "cell_type": "code",
   "execution_count": 97,
   "metadata": {
    "collapsed": false
   },
   "outputs": [],
   "source": [
    "def analisis_frec(T):\n",
    "    frecuencias = {}\n",
    "    N = len(T)\n",
    "    for letra in T:\n",
    "        if letra in frecuencias:\n",
    "            frecuencias[letra] += (1/N).n()\n",
    "        else:\n",
    "            frecuencias[letra]=(1/N).n()\n",
    "    return frecuencias"
   ]
  },
  {
   "cell_type": "code",
   "execution_count": 98,
   "metadata": {
    "collapsed": false
   },
   "outputs": [
    {
     "data": {
      "text/plain": [
       "{'F': 0.107212475633528,\n",
       " 'G': 0.00974658869395711,\n",
       " 'H': 0.0565302144249513,\n",
       " 'I': 0.0311890838206628,\n",
       " 'J': 0.115009746588694,\n",
       " 'K': 0.0175438596491228,\n",
       " 'L': 0.0155945419103314,\n",
       " 'M': 0.0409356725146199,\n",
       " 'N': 0.0818713450292398,\n",
       " 'O': 0.00194931773879142,\n",
       " 'P': 0.00389863547758285,\n",
       " 'Q': 0.0350877192982456,\n",
       " 'R': 0.0409356725146199,\n",
       " 'S': 0.0682261208576998,\n",
       " 'T': 0.0584795321637427,\n",
       " 'U': 0.0194931773879142,\n",
       " 'W': 0.0506822612085770,\n",
       " 'X': 0.0740740740740741,\n",
       " 'Y': 0.107212475633528,\n",
       " 'Z': 0.0233918128654971,\n",
       " '[': 0.0136452241715400,\n",
       " '\\\\': 0.00974658869395711,\n",
       " ']': 0.00194931773879142,\n",
       " '^': 0.0155945419103314}"
      ]
     },
     "execution_count": 98,
     "metadata": {},
     "output_type": "execute_result"
    }
   ],
   "source": [
    "dicc = analisis_frec(encriptar_cesar(limpiar(texto,alfb),5)); dicc"
   ]
  },
  {
   "cell_type": "markdown",
   "metadata": {},
   "source": [
    "Para ver cuál tiene mayor frecuncia lo ordenamos. Para ello hay que invertir el diccionario porque la función ord que te ordena el diccionario, ordena sobre números y no sobre letras. Así que convertimos el diccionario en una lista que contenga las frecuencias de cada una de las letras."
   ]
  },
  {
   "cell_type": "code",
   "execution_count": 99,
   "metadata": {
    "collapsed": false
   },
   "outputs": [],
   "source": [
    "def invertir(dicc):\n",
    "    dict_inv = {}\n",
    "    for key in dicc:\n",
    "        dict_inv[dicc[key]] = ord(key)\n",
    "    return dict_inv"
   ]
  },
  {
   "cell_type": "markdown",
   "metadata": {},
   "source": [
    "El valor de la derecha corresponde a la encriptación de la letra"
   ]
  },
  {
   "cell_type": "code",
   "execution_count": 100,
   "metadata": {
    "collapsed": false
   },
   "outputs": [
    {
     "data": {
      "text/plain": [
       "{0.00194931773879142: 93,\n",
       " 0.00389863547758285: 80,\n",
       " 0.00974658869395711: 92,\n",
       " 0.0136452241715400: 91,\n",
       " 0.0155945419103314: 94,\n",
       " 0.0175438596491228: 75,\n",
       " 0.0194931773879142: 85,\n",
       " 0.0233918128654971: 90,\n",
       " 0.0311890838206628: 73,\n",
       " 0.0350877192982456: 81,\n",
       " 0.0409356725146199: 82,\n",
       " 0.0506822612085770: 87,\n",
       " 0.0565302144249513: 72,\n",
       " 0.0584795321637427: 84,\n",
       " 0.0682261208576998: 83,\n",
       " 0.0740740740740741: 88,\n",
       " 0.0818713450292398: 78,\n",
       " 0.107212475633528: 89,\n",
       " 0.115009746588694: 74}"
      ]
     },
     "execution_count": 100,
     "metadata": {},
     "output_type": "execute_result"
    }
   ],
   "source": [
    "dicc2 = invertir(dicc);dicc2"
   ]
  },
  {
   "cell_type": "code",
   "execution_count": 101,
   "metadata": {
    "collapsed": false
   },
   "outputs": [
    {
     "data": {
      "text/plain": [
       "[(0.0155945419103314, 94),\n",
       " (0.0682261208576998, 83),\n",
       " (0.00194931773879142, 93),\n",
       " (0.115009746588694, 74),\n",
       " (0.0350877192982456, 81),\n",
       " (0.0136452241715400, 91),\n",
       " (0.0740740740740741, 88),\n",
       " (0.0506822612085770, 87),\n",
       " (0.0311890838206628, 73),\n",
       " (0.0565302144249513, 72),\n",
       " (0.107212475633528, 89),\n",
       " (0.0584795321637427, 84),\n",
       " (0.0233918128654971, 90),\n",
       " (0.0409356725146199, 82),\n",
       " (0.00974658869395711, 92),\n",
       " (0.0175438596491228, 75),\n",
       " (0.0194931773879142, 85),\n",
       " (0.00389863547758285, 80),\n",
       " (0.0818713450292398, 78)]"
      ]
     },
     "execution_count": 101,
     "metadata": {},
     "output_type": "execute_result"
    }
   ],
   "source": [
    "L = dicc2.items();L"
   ]
  },
  {
   "cell_type": "code",
   "execution_count": 102,
   "metadata": {
    "collapsed": false
   },
   "outputs": [
    {
     "data": {
      "text/plain": [
       "[(0.115009746588694, 74),\n",
       " (0.107212475633528, 89),\n",
       " (0.0818713450292398, 78),\n",
       " (0.0740740740740741, 88),\n",
       " (0.0682261208576998, 83),\n",
       " (0.0584795321637427, 84),\n",
       " (0.0565302144249513, 72),\n",
       " (0.0506822612085770, 87),\n",
       " (0.0409356725146199, 82),\n",
       " (0.0350877192982456, 81),\n",
       " (0.0311890838206628, 73),\n",
       " (0.0233918128654971, 90),\n",
       " (0.0194931773879142, 85),\n",
       " (0.0175438596491228, 75),\n",
       " (0.0155945419103314, 94),\n",
       " (0.0136452241715400, 91),\n",
       " (0.00974658869395711, 92),\n",
       " (0.00389863547758285, 80),\n",
       " (0.00194931773879142, 93)]"
      ]
     },
     "execution_count": 102,
     "metadata": {},
     "output_type": "execute_result"
    }
   ],
   "source": [
    "L.sort(reverse = True);L"
   ]
  },
  {
   "cell_type": "code",
   "execution_count": 104,
   "metadata": {
    "collapsed": false
   },
   "outputs": [
    {
     "data": {
      "text/plain": [
       "69"
      ]
     },
     "execution_count": 104,
     "metadata": {},
     "output_type": "execute_result"
    }
   ],
   "source": [
    "ord('E')"
   ]
  },
  {
   "cell_type": "markdown",
   "metadata": {},
   "source": [
    "<p>La letra m\\'as frecuente en ingl&eacute;s es la \"E\", que tiene el n&uacute;mero $69$ y le correponde depu&eacute;s de encriptada el n&uacute;mero $74.$ Entonces la clave es el $5$.</p>\n",
    "<p>Puedes leer sobre las frecuencias de las letras en ingl&eacute;s en <a href=\"http://en.wikipedia.org/wiki/Letter_frequency\" target=\"_blank\">Frecuencias</a>.</p>\n",
    "<p>&nbsp;</p>\n"
   ]
  },
  {
   "cell_type": "code",
   "execution_count": 105,
   "metadata": {
    "collapsed": true
   },
   "outputs": [],
   "source": [
    "T=\"Hola family, como va la vida?\""
   ]
  },
  {
   "cell_type": "code",
   "execution_count": 106,
   "metadata": {
    "collapsed": false
   },
   "outputs": [
    {
     "data": {
      "text/plain": [
       "{' ': 0.172413793103448,\n",
       " ',': 0.0344827586206897,\n",
       " '?': 0.0344827586206897,\n",
       " 'H': 0.0344827586206897,\n",
       " 'a': 0.172413793103448,\n",
       " 'c': 0.0344827586206897,\n",
       " 'd': 0.0344827586206897,\n",
       " 'f': 0.0344827586206897,\n",
       " 'i': 0.0689655172413793,\n",
       " 'l': 0.103448275862069,\n",
       " 'm': 0.0689655172413793,\n",
       " 'o': 0.103448275862069,\n",
       " 'v': 0.0689655172413793,\n",
       " 'y': 0.0344827586206897}"
      ]
     },
     "execution_count": 106,
     "metadata": {},
     "output_type": "execute_result"
    }
   ],
   "source": [
    "analisis_frec(T)"
   ]
  },
  {
   "cell_type": "code",
   "execution_count": 107,
   "metadata": {
    "collapsed": false
   },
   "outputs": [
    {
     "data": {
      "text/plain": [
       "{'F': 0.227272727272727,\n",
       " 'H': 0.0454545454545455,\n",
       " 'I': 0.0454545454545455,\n",
       " 'K': 0.0454545454545455,\n",
       " 'M': 0.0454545454545455,\n",
       " 'N': 0.0909090909090909,\n",
       " 'Q': 0.136363636363636,\n",
       " 'R': 0.0909090909090909,\n",
       " 'T': 0.136363636363636,\n",
       " '[': 0.0909090909090909,\n",
       " '^': 0.0454545454545455}"
      ]
     },
     "execution_count": 107,
     "metadata": {},
     "output_type": "execute_result"
    }
   ],
   "source": [
    "a=analisis_frec(encriptar_cesar(limpiar(T,alfb),5)); a"
   ]
  },
  {
   "cell_type": "code",
   "execution_count": 108,
   "metadata": {
    "collapsed": false
   },
   "outputs": [
    {
     "data": {
      "text/plain": [
       "{0.0454545454545455: 94,\n",
       " 0.0909090909090909: 91,\n",
       " 0.136363636363636: 84,\n",
       " 0.227272727272727: 70}"
      ]
     },
     "execution_count": 108,
     "metadata": {},
     "output_type": "execute_result"
    }
   ],
   "source": [
    "b = invertir(a); b #las letras cuya frecuencia es la misma las reduce y solo pone una"
   ]
  },
  {
   "cell_type": "code",
   "execution_count": 109,
   "metadata": {
    "collapsed": false
   },
   "outputs": [
    {
     "data": {
      "text/plain": [
       "[(0.0454545454545455, 94),\n",
       " (0.227272727272727, 70),\n",
       " (0.136363636363636, 84),\n",
       " (0.0909090909090909, 91)]"
      ]
     },
     "execution_count": 109,
     "metadata": {},
     "output_type": "execute_result"
    }
   ],
   "source": [
    "L = b.items();L #hacemos una lista"
   ]
  },
  {
   "cell_type": "code",
   "execution_count": 110,
   "metadata": {
    "collapsed": false
   },
   "outputs": [
    {
     "data": {
      "text/plain": [
       "[(0.227272727272727, 70),\n",
       " (0.136363636363636, 84),\n",
       " (0.0909090909090909, 91),\n",
       " (0.0454545454545455, 94)]"
      ]
     },
     "execution_count": 110,
     "metadata": {},
     "output_type": "execute_result"
    }
   ],
   "source": [
    "L.sort(reverse = True);L"
   ]
  },
  {
   "cell_type": "code",
   "execution_count": 120,
   "metadata": {
    "collapsed": false
   },
   "outputs": [
    {
     "data": {
      "text/plain": [
       "[65, 79]"
      ]
     },
     "execution_count": 120,
     "metadata": {},
     "output_type": "execute_result"
    }
   ],
   "source": [
    "L=[70-5, 84-5]; L"
   ]
  },
  {
   "cell_type": "code",
   "execution_count": 121,
   "metadata": {
    "collapsed": true
   },
   "outputs": [],
   "source": [
    "#print map(chr,map(ord,[x for x in alfb]))"
   ]
  },
  {
   "cell_type": "code",
   "execution_count": 122,
   "metadata": {
    "collapsed": false
   },
   "outputs": [
    {
     "name": "stdout",
     "output_type": "stream",
     "text": [
      "['A', 'O']\n"
     ]
    }
   ],
   "source": [
    "print map(chr, L)"
   ]
  },
  {
   "cell_type": "code",
   "execution_count": null,
   "metadata": {
    "collapsed": true
   },
   "outputs": [],
   "source": []
  }
 ],
 "metadata": {
  "kernelspec": {
   "display_name": "SageMath 7.5",
   "language": "",
   "name": "sagemath"
  },
  "language_info": {
   "codemirror_mode": {
    "name": "ipython",
    "version": 2
   },
   "file_extension": ".py",
   "mimetype": "text/x-python",
   "name": "python",
   "nbconvert_exporter": "python",
   "pygments_lexer": "ipython2",
   "version": "2.7.13"
  }
 },
 "nbformat": 4,
 "nbformat_minor": 0
}
