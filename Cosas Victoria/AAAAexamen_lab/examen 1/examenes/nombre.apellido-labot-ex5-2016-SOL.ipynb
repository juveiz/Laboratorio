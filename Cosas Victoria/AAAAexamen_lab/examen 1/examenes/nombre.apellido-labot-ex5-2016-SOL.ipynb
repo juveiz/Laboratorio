{
 "nbformat": 4, 
 "cells": [
  {
   "source": [
    "<h3>Ejercicio 1</h3>\n<p>En este ejercicio estudiamos&nbsp; la familia de aut&oacute;matas celulares de dimensi&oacute;n uno formada por los aut&oacute;matas que actualizan una celda usando el estado de dos celdas vecinas por cada lado (aut&oacute;matas-5). Despu&eacute;s de modificar las funciones de los aut&oacute;matas que s&oacute;lo tienen en cuenta una celda vecina por cada lado (aut&oacute;matas-3) hay que demostrar que todos los aut&oacute;matas-3 est&aacute;n incluidos en el conjunto de aut&oacute;matas-5.</p>\n<h4>Apartado 1</h4>"
   ], 
   "cell_type": "markdown", 
   "metadata": {}
  }, 
  {
   "execution_count": 1, 
   "cell_type": "code", 
   "source": [
    "def vecinos(j,L):\n", 
    "    return tuple([L[(j-2)%len(L)],L[(j-1)%len(L)],L[j],L[(j+1)%len(L)],L[(j+2)%len(L)]])"
   ], 
   "outputs": [], 
   "metadata": {
    "collapsed": false
   }
  }, 
  {
   "source": [
    "<h4>Apartado 2</h4>"
   ], 
   "cell_type": "markdown", 
   "metadata": {}
  }, 
  {
   "execution_count": 2, 
   "cell_type": "code", 
   "source": [
    "def listas(K):\n", 
    "    L = []\n", 
    "    for p in srange(2^K):\n", 
    "       L.append(tuple(p.digits(base=2,padto=K)))\n", 
    "    return L"
   ], 
   "outputs": [], 
   "metadata": {
    "collapsed": false
   }
  }, 
  {
   "source": [
    "<h4>Apartado 4</h4>"
   ], 
   "cell_type": "markdown", 
   "metadata": {}
  }, 
  {
   "execution_count": 3, 
   "cell_type": "code", 
   "source": [
    "def diccionario(c,k):\n", 
    "    C = zip(listas(c),(k).digits(base=2,padto=2**c))\n", 
    "    return dict(C)"
   ], 
   "outputs": [], 
   "metadata": {
    "collapsed": false
   }
  }, 
  {
   "source": [
    "<h4>Apartado 5</h4>"
   ], 
   "cell_type": "markdown", 
   "metadata": {}
  }, 
  {
   "execution_count": 4, 
   "cell_type": "code", 
   "source": [
    "def siguiente(L,k):\n", 
    "    LL = []\n", 
    "    n = len(L)\n", 
    "    dic = diccionario(5,k)\n", 
    "    for j in srange(n):\n", 
    "        V = vecinos(j,L)\n", 
    "        LL.append(dic[V])\n", 
    "    return LL"
   ], 
   "outputs": [], 
   "metadata": {
    "collapsed": false
   }
  }, 
  {
   "source": [
    "<h4>Apartado 6</h4>"
   ], 
   "cell_type": "markdown", 
   "metadata": {}
  }, 
  {
   "execution_count": 5, 
   "cell_type": "code", 
   "source": [
    "def evolucion(L,k,N):\n", 
    "    LL = [L]\n", 
    "    for int in srange(N):\n", 
    "        LL.append(siguiente(LL[-1:][0],k))\n", 
    "    return LL"
   ], 
   "outputs": [], 
   "metadata": {
    "collapsed": false
   }
  }, 
  {
   "source": [
    "<h4>Apartado 7</h4>\r\n\r\n<p>&nbsp; Para demostrar que todos los aut&oacute;matas-3 est&aacute;n incluidos en el conjunto de aut&oacute;matas-5, observamos que para cada clave del diccionario de un aut&oacute;mata-3 hay 4 claves del diccionario de un aut&oacute;mata-5 ($8\\times 4=32$), y la forma de conseguir que unoo de&nbsp; aut&oacute;matas-5 tenga el mismo comportamiento que uno dado de aut&oacute;matas-3 es asignar a cada clave de $5$ el mismo valor que el diccionario de $3$ asigna a sus tres posiciones centrales. Se consigue as&iacute; que el diccionario de $3$ tenga exactamente la misma informaci&oacute;n que el de $5$, y debemos esperar que tenga el mismo comportamiento.</p>"
   ], 
   "cell_type": "markdown", 
   "metadata": {}
  }, 
  {
   "execution_count": 6, 
   "cell_type": "code", 
   "source": [
    "def traductor(k):\n", 
    "        dicc = {}\n", 
    "        DD3 = diccionario(3,k)\n", 
    "        L5 = listas(5)\n", 
    "        for item in listas(5):\n", 
    "            L3 = item[1:4]\n", 
    "            dicc[item] = DD3[L3]\n", 
    "        return dicc"
   ], 
   "outputs": [], 
   "metadata": {
    "collapsed": false
   }
  }, 
  {
   "execution_count": 7, 
   "cell_type": "code", 
   "source": [
    "traductor(18)"
   ], 
   "outputs": [
    {
     "output_type": "execute_result", 
     "data": {
      "text/plain": [
       "{(0, 0, 0, 0, 0): 0,\n", 
       " (0, 0, 0, 0, 1): 0,\n", 
       " (0, 0, 0, 1, 0): 1,\n", 
       " (0, 0, 0, 1, 1): 1,\n", 
       " (0, 0, 1, 0, 0): 0,\n", 
       " (0, 0, 1, 0, 1): 0,\n", 
       " (0, 0, 1, 1, 0): 0,\n", 
       " (0, 0, 1, 1, 1): 0,\n", 
       " (0, 1, 0, 0, 0): 1,\n", 
       " (0, 1, 0, 0, 1): 1,\n", 
       " (0, 1, 0, 1, 0): 0,\n", 
       " (0, 1, 0, 1, 1): 0,\n", 
       " (0, 1, 1, 0, 0): 0,\n", 
       " (0, 1, 1, 0, 1): 0,\n", 
       " (0, 1, 1, 1, 0): 0,\n", 
       " (0, 1, 1, 1, 1): 0,\n", 
       " (1, 0, 0, 0, 0): 0,\n", 
       " (1, 0, 0, 0, 1): 0,\n", 
       " (1, 0, 0, 1, 0): 1,\n", 
       " (1, 0, 0, 1, 1): 1,\n", 
       " (1, 0, 1, 0, 0): 0,\n", 
       " (1, 0, 1, 0, 1): 0,\n", 
       " (1, 0, 1, 1, 0): 0,\n", 
       " (1, 0, 1, 1, 1): 0,\n", 
       " (1, 1, 0, 0, 0): 1,\n", 
       " (1, 1, 0, 0, 1): 1,\n", 
       " (1, 1, 0, 1, 0): 0,\n", 
       " (1, 1, 0, 1, 1): 0,\n", 
       " (1, 1, 1, 0, 0): 0,\n", 
       " (1, 1, 1, 0, 1): 0,\n", 
       " (1, 1, 1, 1, 0): 0,\n", 
       " (1, 1, 1, 1, 1): 0}"
      ]
     }, 
     "execution_count": 7, 
     "metadata": {}
    }
   ], 
   "metadata": {
    "collapsed": false
   }
  }, 
  {
   "execution_count": 8, 
   "cell_type": "code", 
   "source": [
    "def siguiente2(L,k):\n", 
    "    LL = []\n", 
    "    n = len(L)\n", 
    "    dic = traductor(k)\n", 
    "    for j in srange(n):\n", 
    "        V = vecinos(j,L)\n", 
    "        LL.append(dic[V])\n", 
    "    return LL"
   ], 
   "outputs": [], 
   "metadata": {
    "collapsed": false
   }
  }, 
  {
   "execution_count": 9, 
   "cell_type": "code", 
   "source": [
    "def evolucion2(L,k,N):\n", 
    "    LL = [L]\n", 
    "    for int in srange(N):\n", 
    "        LL.append(siguiente2(LL[-1:][0],k))\n", 
    "    return LL"
   ], 
   "outputs": [], 
   "metadata": {
    "collapsed": false
   }
  }, 
  {
   "execution_count": 10, 
   "cell_type": "code", 
   "source": [
    "matrix_plot(matrix(ZZ,evolucion2([0]*128+[1]+[0]*128,18,256)))"
   ], 
   "outputs": [], 
   "metadata": {
    "collapsed": false
   }
  }, 
  {
   "execution_count": 11, 
   "cell_type": "code", 
   "source": [
    "matrix_plot(matrix(ZZ,evolucion2([0]*128+[1]+[0]*128,30,256)))"
   ], 
   "outputs": [], 
   "metadata": {
    "collapsed": false
   }
  }, 
  {
   "execution_count": 12, 
   "cell_type": "code", 
   "source": [
    "matrix_plot(matrix(ZZ,evolucion2([0]*128+[1]+[0]*128,50,256)))"
   ], 
   "outputs": [], 
   "metadata": {
    "collapsed": false
   }
  }, 
  {
   "execution_count": 13, 
   "cell_type": "code", 
   "source": [
    "matrix_plot(matrix(ZZ,evolucion2([0]*128+[1]+[0]*128,110,256)))"
   ], 
   "outputs": [], 
   "metadata": {
    "collapsed": false
   }
  }, 
  {
   "source": [
    "<p>Estos cuatro gr&aacute;ficos comprueban que podemos obtener los aut&oacute;matas de $3$ con $k=18,30,50,110$ usando automatas de $5$, es decir usando $traductor$ y $evolucion2$. El siguiente es un aut&oacute;mata de $5$ obtenido con un $k$ aleatorio y tiene de interesante que primero parece de tipo \"ordenado\" (como el de $3$ con $k=18$, pero luego cambia de idea y se pasa a un tipo m&aacute;s bien aleatorio (como el de $3$ con $k=30).</p>"
   ], 
   "cell_type": "markdown", 
   "metadata": {}
  }, 
  {
   "execution_count": 14, 
   "cell_type": "code", 
   "source": [
    "matrix_plot(matrix(ZZ,evolucion([0]*128+[1]+[0]*128,ZZ(randint(0,2**32-1)),256)))"
   ], 
   "outputs": [], 
   "metadata": {
    "collapsed": false
   }
  }, 
  {
   "source": [
    "<h3>Ejercicio 2</h3>\n<p>(<span style=\"color: #008000;\">Enunciado corregido</span>) Durante bastante tiempo se utiliz&oacute; en los ordenadores el generador de n&uacute;meros pseudoaleatorios conocido como RANDU, que se define utilizando la transformaci&oacute;n &nbsp;$x_{&icirc;+1} :=(65539\\cdot x_i)\\%2^{31}$ con los $x_i$ n&uacute;meros enteros. Los n&uacute;meros aleatorios que genera RANDU son decimales $y_i$ del intervalo $[0,1]$, que se obtienen dividiendo los enteros $x_i$ entre $2^{31}$. Si queremos $N$ n&uacute;meros aleatorios empezamos con &nbsp;una &nbsp; semilla entera $x_0$, &nbsp; iteramos la transformaci&oacute;n $N-1$ veces, y una vez obtenidos los $N$ valores&nbsp; $x_j$ dividimos cada uno entre&nbsp;$2^{31}$. &nbsp;Esta conversi&oacute;n de enteros a decimales conviene hacerla usando $round(y,10)$ para redondear el decimal $y$ a diez cifras decimales.&nbsp;</p>\n<p>Un generador tan simple no puede ser muy bueno, y en este ejercicio vamos a considerar esta cuesti&oacute;n.</p>\n<ol>\n<li><span style=\"color: #ff0000;\">Define las funciones necesarias para implementar el generador</span> en SAGE.&nbsp;</li>\n<li><span style=\"color: #ff0000;\">Genera</span> una lista $L$ con $10^6$ n&uacute;meros aleatorios decimales $y_j$,&nbsp; del intervalo $[0,1]$,&nbsp; comenzando con la semilla entera $x_0:=1638303916$, es decir, con $y_0=1638303916/2^{31}$,&nbsp; y NO LA IMPRIMAS en la pantalla.</li>\n<li><span style=\"color: #ff0000;\">Produce un histograma</span> de los datos de la lista $L$, &nbsp;con $100$ barras. &iquest;Tiene un aspecto uniforme?</li>\n<li><span style=\"color: #ff0000;\">Produce una lista</span>&nbsp;$L1$ de $10^6$ tripletas de decimales aleatorios&nbsp; $(y_i,y_{i+1},y_{i+2})$, con el primero $y_i$ elegido aleatorialemte mediante el generador de Sage, y los otros dos obtenidos a partir de &eacute;l usando&nbsp;&nbsp; RANDU. &nbsp;Selecciona las tripletas de $L1$ tales que $0.50\\le y_{i+1}\\le 0.51$, y produce la lista $L2$ de duplas $(y_i,y_{i+2})$ correspondientes a las tripletas seleccionadas (es decir, aquellas tales que $y_{i+1}$ cumple la condici&oacute;n). <span style=\"color: #ff0000;\">Representa gr&aacute;ficamente</span> los datos contenidos en la lista $L2$ y<span style=\"color: #ff0000;\"> discute las conclusiones</span> que se pueden obtener sobre la aleatoriedad de RANDU.&nbsp;<br />\n<div id=\"cell_div_output_15\" class=\"cell_div_output_wrap\">\n<div id=\"cell_output_html_15\" class=\"cell_output_html_wrap\">&nbsp;</div>\n</div>\n</li>\n</ol>"
   ], 
   "cell_type": "markdown", 
   "metadata": {}
  }, 
  {
   "execution_count": 15, 
   "cell_type": "code", 
   "source": [
    "def randu(x):\n", 
    "    M = 2**31\n", 
    "    return (65539*x)%M"
   ], 
   "outputs": [], 
   "metadata": {
    "collapsed": false
   }
  }, 
  {
   "execution_count": 16, 
   "cell_type": "code", 
   "source": [
    "def orbita(semilla,N):\n", 
    "    L = [semilla]\n", 
    "    for _ in xsrange(N):\n", 
    "        L.append(randu(L[-1]))\n", 
    "    return L"
   ], 
   "outputs": [], 
   "metadata": {
    "collapsed": false
   }
  }, 
  {
   "execution_count": 17, 
   "cell_type": "code", 
   "source": [
    "L0 = orbita(1638303916,10**6)"
   ], 
   "outputs": [], 
   "metadata": {
    "collapsed": false
   }
  }, 
  {
   "execution_count": 18, 
   "cell_type": "code", 
   "source": [
    "M = 2**31\n", 
    "L = [round(item/M,10) for item in L0]"
   ], 
   "outputs": [], 
   "metadata": {
    "collapsed": false
   }
  }, 
  {
   "execution_count": 19, 
   "cell_type": "code", 
   "source": [
    "histogram(L,bins=100)"
   ], 
   "outputs": [], 
   "metadata": {
    "collapsed": false
   }
  }, 
  {
   "execution_count": 20, 
   "cell_type": "code", 
   "source": [
    "def tripletas(N):\n", 
    "    M = 2**31\n", 
    "    L = []\n", 
    "    for inte in xsrange(N):\n", 
    "        x = randint(0,M-1)\n", 
    "        x1 =randu(x)\n", 
    "        x2 =randu(x1)\n", 
    "        t = (x,x1,x2)\n", 
    "        L.append(t)\n", 
    "    return L"
   ], 
   "outputs": [], 
   "metadata": {
    "collapsed": false
   }
  }, 
  {
   "execution_count": 21, 
   "cell_type": "code", 
   "source": [
    "L1 = tripletas(10**6)"
   ], 
   "outputs": [], 
   "metadata": {
    "collapsed": false
   }
  }, 
  {
   "execution_count": 22, 
   "cell_type": "code", 
   "source": [
    "M = 2**31\n", 
    "L2 = [(round(item[0]/M,10),round(item[2]/M,10)) for item in L1 if 0.5<= round(item[1]/M,10) <=0.51]"
   ], 
   "outputs": [], 
   "metadata": {
    "collapsed": false
   }
  }, 
  {
   "execution_count": 23, 
   "cell_type": "code", 
   "source": [
    "points(L2)"
   ], 
   "outputs": [], 
   "metadata": {
    "collapsed": false
   }
  }, 
  {
   "source": [
    "<p>Las conclusiones pueden ser:</p>\n<ol>\n<li>El histograma paraece bastante correcto. En cada una de las $100$ barras hay un n&uacute;mero muy similar de n&uacute;meros aleatorios. Esto no demuestra realmente que la distribuci&oacute;n de n&uacute;meros aleatorios generada por RANDU sea uniforme, pero tampoco demuestra que no lo sea. Para demostrar la uniformidad hay que usar m&eacute;todos estad&iacute;sticos m&aacute;s sofisticados.</li>\n<li>El segundo gr&aacute;fico, correspondiente a las tripletas, prueba que en una tripleta cualquiera de n&uacute;meros aleatorios generados por RANDU, si el intermedio est&aacute; entre $0.5$ y $0.51$ (que es una restricci&oacute;n bastante fuerte), el primero pr&aacute;cticamente determina al tercero. Esto contradice fuertemente la aleatoriedad de la sucesi&oacute;n de n&uacute;meros genarada por RANDU. &nbsp; Podemos preguntarnos si esta clase de resultado se verifica tambi&eacute;n limitando los valores del intermedio de otra manera, o si lo que ocurre es algo muy particular de los l&iacute;mites indicados. Esta falta de aleatoriedad ser&aacute; cr&iacute;tica en todas aquellas aplicaciones en las que generemos vectores de $3$ o m&aacute;s componentes aleatoriamente. </li>\n<li>Tambi&eacute;n deber&iacute;amos estudiar la longitud media de las &oacute;rbitas para entender hasta qu&eacute; punto el generador es malo, pero esto no se ped&iacute;a porque puede consumir demasiado tiempo de ordenador.</li>\n</ol>"
   ], 
   "cell_type": "markdown", 
   "metadata": {}
  }
 ], 
 "metadata": {
  "kernelspec": {
   "display_name": "Sage 6.6", 
   "name": "sage_6_6", 
   "language": "python"
  }
 }, 
 "nbformat_minor": 0
}