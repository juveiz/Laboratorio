{
 "cells": [
  {
   "cell_type": "markdown",
   "metadata": {},
   "source": [
    "<p><span style=\"color: #008000;\">CALIFICACI&Oacute;N: 2</span></p>\n",
    "\n",
    "<p><span style=\"color: #ff0000;\">Por favor, antes de empezar el examen cambia el nombre de la hoja (File&gt;Rename worksheet) poniendo en lugar de \"nombre.apellido\" los tuyos tal como aparecen en tu direcci&oacute;n de correo electr&oacute;nico de la UAM. El final del nombre de la hoja, -labot-ex2-2016, dej&aacute;lo como est&aacute;.<br /></span></p>\n",
    "<p><span style=\"color: #ff0000;\">Una vez hayas terminado el examen, salva la hoja (File&gt;Save worksheet to a file....) y d&eacute;jala en la carpeta en tu escritorio con nombre \"ENTREGA......\".</span></p>\n",
    "<h4><span style=\"color: #ff0000;\"><span style=\"color: #000000;\">Ejercicio 1</span><br /></span></h4>\n",
    "<p>&nbsp;<span style=\"color: #ff0000;\">(2 puntos)</span> <span style=\"color: #ff0000;\">Define&nbsp; funciones</span> $H(n,nbits)$&nbsp; y $H2(n,nbits)$ que devuelvan la suma $\\sum_{k=1}^{k=n} \\frac{1}{k}$ calculada con precisi&oacute;n igual a $nbits$. Las dos funciones ser&aacute;n esencialmente iguales,&nbsp; pero $H$ realizar&aacute; todos los c&aacute;lculos con n&uacute;meros decimales de la precisi&oacute;n fijada mientras que&nbsp; $H2$ debe efectuar los c&aacute;lculos con racionales,&nbsp; y &uacute;nicamente al devolver el resultado debe convertir a decimal de $nbits$ de precisi&oacute;n.<span style=\"color: #ff0000;\"> &iquest;Qu&eacute; ense&ntilde;a este ejemplo?</span></p>"
   ]
  },
  {
   "cell_type": "code",
   "execution_count": 1,
   "metadata": {
    "collapsed": false
   },
   "outputs": [],
   "source": [
    "def H"
   ]
  },
  {
   "cell_type": "markdown",
   "metadata": {},
   "source": [
    "<h4>Ejercicio 2</h4>\n",
    "<p>Sabemos que la serie $\\sum_{k=1}^{k=\\infty} \\frac{1}{k}$ es divergente. Adem&aacute;s, sabemos que sus sumas parciales $H_n:=\\sum_{k=1}^{k=n} \\frac{1}{k}$&nbsp; tienen un valor no muy diferente a $log(n)$ (logaritmo neperiano siempre) ya que</p>\n",
    "<p>\\[\\int_1^x \\frac{1}{t}dt=log(x),\\]</p>\n",
    "<p>y $H_n$ es una suma de Riemann de esta integral con los puntos de la partici&oacute;n con coordenadas enteras. Podemos entonces decir que la serie diverge (aproximadamente) como el logaritmo.</p>\n",
    "<p>Euler defini&oacute; la constante</p>\n",
    "<p>\\[\\gamma:=\\lim_{n\\to \\infty}(H_n-log(n)),\\]</p>\n",
    "<p>cuya existencia nos indica que la diferencia entre $H_n$ y el logaritmo de $n$ no crece con $n$. Sage dispone de un procedimiento, $euler\\_gamma$, para calcular con la precisi&oacute;n que queramos la constante de Euler.</p>\n",
    "<ol><ol><ol>\n",
    "<li><span style=\"color: #ff0000;\">(1 punto) Define una funci&oacute;n</span> $mi\\_gamma1(n,nbits)$ que calcule el t&eacute;rmino $n$-&eacute;simo de la sucesi&oacute;n que define $gamma$ con $nbits$ de precisi&oacute;n.</li>\n",
    "<li><span style=\"color: #ff0000;\"><span style=\"color: #ff0000;\">(1 punto)</span> Define una funci&oacute;n</span> $mi\\_gamma2(n,nbits)$ que calcule \\[\\gamma_n:= \\sum_{k=1}^{k=n} \\frac{1}{n}\\left(\\left\\lceil \\frac{n}{k}\\right\\rceil -\\frac{n}{k}\\right)\\] con $nbits$ de precisi&oacute;n. La notaci&oacute;n $\\lceil x\\rceil$ indica la parte entera por exceso de $x$. El l&iacute;mite, cuando $n$ tiende a infinito, de $\\gamma_n$ se sabe que es $\\gamma$.</li>\n",
    "<li><span style=\"color: #ff0000;\"><span style=\"color: #ff0000;\"><span style=\"color: #ff0000;\">(1 punto)</span></span> Define una funci&oacute;n</span> $mi\\_gamma3(n,nbits)$ que calcule $gamma$ sumando $n$ t&eacute;rminos de la serie \\[\\sum_{k=1}^{k=\\infty} \\left(\\frac{1}{k}-log(1+\\frac{1}{k})\\right),\\] que tambi&eacute;n converge a $\\gamma.$</li>\n",
    "<li><span style=\"color: #ff0000;\"><span style=\"color: #ff0000;\"><span style=\"color: #ff0000;\">(1 punto)</span></span> Compara</span> la cantidad de cifras correctas obtenidas y los tiempos de c&aacute;lculo para los tres m&eacute;todos,&nbsp; usando $n=10^6$ y&nbsp; fijando la precisi&oacute;n &oacute;ptima mediante experimentaci&oacute;n. <span style=\"color: #ff0000;\">&iquest;Qu&eacute; conclusiones obtienes y cu&aacute;l puede ser el motivo?</span></li>\n",
    "</ol></ol></ol>\n",
    "<p>&nbsp;</p>"
   ]
  },
  {
   "cell_type": "markdown",
   "metadata": {},
   "source": [
    "<h4>Ejercicio 3</h4>\n",
    "<p>(2 puntos) Se define la funci&oacute;n $\\sigma(n)$ como la suma de todos los divisores positivos del entero positivo $n$. Sage dispone de la funci&oacute;n $sigma$ que realiza este c&aacute;lculo. <span style=\"color: #ff0000;\">Determina</span> (experimentalmente) el mayor entero positivo tal que la diferencia</p>\n",
    "<p>\\[e^\\gamma\\cdot n \\cdot log(log(n))-\\sigma(n),\\]</p>\n",
    "<p>es negativa ($\\gamma$ es la constante de Euler).</p>"
   ]
  },
  {
   "cell_type": "markdown",
   "metadata": {},
   "source": [
    "<h4>Ejercicio 4</h4>\n",
    "<p>Definimos una sucesi&oacute;n de n&uacute;meros racionales mediante</p>\n",
    "<p>\\[G_1=0,\\ G_2=1,\\ G_n=G_{n-1}+\\frac{1}{n-2}G_{n-2} \\ (n\\ge 3).\\]</p>\n",
    "<ol>\n",
    "<li><span style=\"color: #ff0000;\">(1 punto) Comprueba</span> (experimentalmente)&nbsp; que la fracci&oacute;n $\\frac{n}{G_n}$ tiende al n&uacute;mero $e$.</li>\n",
    "<li><span style=\"color: #ff0000;\">(1 punto) Compara</span> la eficiencia de esta manera de aproximar $e$&nbsp; con la de la forma,&nbsp; m&aacute;s conocida,&nbsp; que utiliza la serie \\[e=\\sum_{n=0}^{n=\\infty}\\frac{1}{n!}.\\]</li>\n",
    "</ol>"
   ]
  },
  {
   "cell_type": "code",
   "execution_count": 2,
   "metadata": {
    "collapsed": false
   },
   "outputs": [],
   "source": [
    "def euler(n):\n",
    "    #escribimos la forma mas conocida del numero e#\n",
    "    L=[]\n",
    "    for k in srange(n):\n",
    "        L.append(1/(factorial(k)))\n",
    "    return RR(e-sum(L))"
   ]
  },
  {
   "cell_type": "code",
   "execution_count": 3,
   "metadata": {
    "collapsed": false
   },
   "outputs": [
    {
     "data": {
      "text/plain": [
       "0.000000000000000\n",
       "Time: CPU 0.00 s, Wall: 0.00 s"
      ]
     },
     "execution_count": 3,
     "metadata": {},
     "output_type": "execute_result"
    }
   ],
   "source": [
    "time euler(18)"
   ]
  },
  {
   "cell_type": "code",
   "execution_count": 4,
   "metadata": {
    "collapsed": false
   },
   "outputs": [],
   "source": [
    "vemos con ello que la funcion euler alcanza el valor de Sage de e más rapido y de una forma mucho mas precisa"
   ]
  },
  {
   "cell_type": "code",
   "execution_count": 5,
   "metadata": {
    "collapsed": false
   },
   "outputs": [],
   "source": [
    "def buscando_e(x):\n",
    "    a,b=1,0\n",
    "    for k in xsrange(2,x):\n",
    "        a,b=b,a+((1/(x-2))*b)\n",
    "    return"
   ]
  },
  {
   "cell_type": "code",
   "execution_count": 6,
   "metadata": {
    "collapsed": false
   },
   "outputs": [
    {
     "data": {
      "text/plain": [
       "13/9"
      ]
     },
     "execution_count": 6,
     "metadata": {},
     "output_type": "execute_result"
    }
   ],
   "source": [
    "buscando_e(5)"
   ]
  }
 ],
 "metadata": {
  "kernelspec": {
   "display_name": "Python 2",
   "language": "python",
   "name": "python2"
  },
  "language_info": {
   "codemirror_mode": {
    "name": "ipython",
    "version": 2
   },
   "file_extension": ".py",
   "mimetype": "text/x-python",
   "name": "python",
   "nbconvert_exporter": "python",
   "pygments_lexer": "ipython2",
   "version": "2.7.10"
  }
 },
 "nbformat": 4,
 "nbformat_minor": 0
}
