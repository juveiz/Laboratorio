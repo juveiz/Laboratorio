{
 "nbformat": 4, 
 "cells": [
  {
   "source": [
    "<p><span style=\"color: #008000;\">CALIFICACI&Oacute;N: 3+5=8</span></p>\n\n<p><span style=\"color: #ff0000;\">Por favor, antes de empezar el examen cambia el nombre de la hoja (File&gt;Rename worksheet) poniendo en lugar de \"nombre.apellido\" los tuyos tal como aparecen en tu direcci&oacute;n de correo electr&oacute;nico de la UAM. El final del nombre de la hoja, -labot-ex2-2016, dej&aacute;lo como est&aacute;.<br /></span></p>\n<p><span style=\"color: #ff0000;\">Una vez hayas terminado el examen, salva la hoja (File&gt;Save worksheet to a file....) y d&eacute;jala en la carpeta en tu escritorio con nombre \"ENTREGA......\".</span></p>\n<h3><span style=\"color: #ff0000;\"><span style=\"color: #000000;\">Ejercicio 1</span><br /></span></h3>\n\n<h4>Apartado 1</h4>\n\n<p><span style=\"color: #ff0000;\">Est&aacute; mal porque falta un break, si se solapan en m&aacute;s de un elemento los cuentas como varias veces que se solapan.&nbsp;</span></p>"
   ], 
   "cell_type": "markdown", 
   "metadata": {}
  }, 
  {
   "execution_count": 1, 
   "cell_type": "code", 
   "source": [
    "def pr_solapen(t,k,M):\n", 
    "     #M sera la cantidad de veces que genere las gotas aleatorias y sus sublistas asociadas para ver si se solapan o no#\n", 
    "    N=(2*k+1)*t\n", 
    "    L=srange(N)\n", 
    "    cont=0\n", 
    "    for intentos in xrange(M):\n", 
    "        x=randint(k+1,(N-k-1))\n", 
    "        y=randint(k+1,(N-k-1))\n", 
    "        LL_x=L[x-k:x+k+1]\n", 
    "        LL_y=L[y-k:y+k+1]\n", 
    "        \n", 
    "    #ahora voy a comparar los elementos de las dos LL si algun numero aparece repetido es que en ese punto se ha solapado, para ello concatenare las listas,y vere si hay elementos repetidos o no#\n", 
    "    \n", 
    "        for p in xrange(len(LL_x)):\n", 
    "            for t in xrange(len(LL_y)):\n", 
    "                if LL_x[p]==LL_y[t]:\n", 
    "                      cont+=1\n", 
    "    return cont/M.n()"
   ], 
   "outputs": [], 
   "metadata": {
    "collapsed": false
   }
  }, 
  {
   "source": [
    "<h4>Apartado 2</h4>"
   ], 
   "cell_type": "markdown", 
   "metadata": {}
  }, 
  {
   "execution_count": 2, 
   "cell_type": "code", 
   "source": [
    "def pr_cubrir(t,k,s,M):\n", 
    "    N=(2*k+1)*t\n", 
    "    L=srange(N)\n", 
    "    Conjunto={L[p] for p in srange(len(L))}\n", 
    "    Subconjunto={0}\n", 
    "    cont=0\n", 
    "    for Intento in xrange(M):\n", 
    "        for gota in xrange(s):\n", 
    "            E=randint(k+1,(N-k-1))\n", 
    "            LL= L[E-k:E+k+1]\n", 
    "            Conjuntillo={LL[r] for r in srange(len(LL))}\n", 
    "            Subconjunto.update(Conjuntillo)\n", 
    "            if Conjunto==Subconjunto:\n", 
    "                   cont+=1\n", 
    "                   break\n", 
    "    return cont/M.n()"
   ], 
   "outputs": [], 
   "metadata": {
    "collapsed": false
   }
  }, 
  {
   "source": [
    "<h4>Apartado 3</h4>"
   ], 
   "cell_type": "markdown", 
   "metadata": {}
  }, 
  {
   "execution_count": 3, 
   "cell_type": "code", 
   "source": [
    "pr_solapen(10,3,10000);pr_solapen(10,5,10000);pr_solapen(10,7,10000)"
   ], 
   "outputs": [
    {
     "output_type": "execute_result", 
     "data": {
      "text/plain": [
       "0.0153000000000000\n", 
       "0.00880000000000000\n", 
       "0.00560000000000000"
      ]
     }, 
     "execution_count": 3, 
     "metadata": {}
    }
   ], 
   "metadata": {
    "collapsed": false
   }
  }, 
  {
   "execution_count": 4, 
   "cell_type": "code", 
   "source": [
    "#vemos que al aumentar la k se reducen las posibilidaes, lo cual es logico pues eso establece que la gota va siendo mas peque\u00f1o respecto al tejidoy dificulta que se solape#"
   ], 
   "outputs": [], 
   "metadata": {
    "collapsed": false
   }
  }, 
  {
   "execution_count": 5, 
   "cell_type": "code", 
   "source": [
    "pr_cubrir(10,4,100,100)"
   ], 
   "outputs": [
    {
     "output_type": "execute_result", 
     "data": {
      "text/plain": [
       "0.950000000000000"
      ]
     }, 
     "execution_count": 5, 
     "metadata": {}
    }
   ], 
   "metadata": {
    "collapsed": false
   }
  }, 
  {
   "execution_count": 6, 
   "cell_type": "code", 
   "source": [
    "#vemos que si el numero de gotas es grande es pracitcamente4 imposible que no pase#"
   ], 
   "outputs": [], 
   "metadata": {
    "collapsed": false
   }
  }, 
  {
   "source": [
    "<h3>Ejercicio 2</h3>\n\n<h4>Apartado 1</h4>"
   ], 
   "cell_type": "markdown", 
   "metadata": {}
  }, 
  {
   "execution_count": 7, 
   "cell_type": "code", 
   "source": [
    "def integrador(f,M):\n", 
    "    #al ser los extremos de integracion 0 y 1 se facilita el programa ya que vale con usar random, y el la solucion no es necesario multipluicar por b-a#\n", 
    "    cont=0\n", 
    "    for dardo in xrange(M):\n", 
    "        x=random()\n", 
    "        y=random()\n", 
    "        if f(x)>=y:\n", 
    "            cont=cont+1\n", 
    "    return cont/M.n()"
   ], 
   "outputs": [], 
   "metadata": {
    "collapsed": false
   }
  }, 
  {
   "execution_count": 8, 
   "cell_type": "code", 
   "source": [
    "def integralRiemman(f,N):\n", 
    "    return (1/N).n()*sum([f(x=random()) for muda in srange(N)])"
   ], 
   "outputs": [], 
   "metadata": {
    "collapsed": false
   }
  }, 
  {
   "source": [
    "<h4>Apartado 2</h4>"
   ], 
   "cell_type": "markdown", 
   "metadata": {}
  }, 
  {
   "execution_count": 9, 
   "cell_type": "code", 
   "source": [
    "#Me parece mas eficiente la segunda ya que ambos usan un bucle de igual longitud y mientras que uno solo crea un numero aleatorio dentro del bucle, el primero crea dos aleatorios y ejecuta la funcion a la vez que evalua el if, creo que eso es menos eficiente#"
   ], 
   "outputs": [], 
   "metadata": {
    "collapsed": false
   }
  }, 
  {
   "execution_count": 10, 
   "cell_type": "code", 
   "source": [
    "integralRiemman(x^2,10000)-(1^3/3)"
   ], 
   "outputs": [
    {
     "output_type": "execute_result", 
     "data": {
      "text/plain": [
       "0.00432089835135674"
      ]
     }, 
     "execution_count": 10, 
     "metadata": {}
    }
   ], 
   "metadata": {
    "collapsed": false
   }
  }, 
  {
   "execution_count": 11, 
   "cell_type": "code", 
   "source": [
    "integralRiemman(x^1,10000)-(1^2/2)"
   ], 
   "outputs": [
    {
     "output_type": "execute_result", 
     "data": {
      "text/plain": [
       "-0.000562882595686542"
      ]
     }, 
     "execution_count": 11, 
     "metadata": {}
    }
   ], 
   "metadata": {
    "collapsed": false
   }
  }, 
  {
   "execution_count": 12, 
   "cell_type": "code", 
   "source": [
    "integralRiemman(x^-0.2,10000)-(1^0.8/0.8)"
   ], 
   "outputs": [
    {
     "output_type": "execute_result", 
     "data": {
      "text/plain": [
       "-0.000411809567743004"
      ]
     }, 
     "execution_count": 12, 
     "metadata": {}
    }
   ], 
   "metadata": {
    "collapsed": false
   }
  }, 
  {
   "execution_count": 13, 
   "cell_type": "code", 
   "source": [
    "integralRiemman(x^-0.4,10000)-(1^0.6/0.6)"
   ], 
   "outputs": [
    {
     "output_type": "execute_result", 
     "data": {
      "text/plain": [
       "-0.0244593979778269"
      ]
     }, 
     "execution_count": 13, 
     "metadata": {}
    }
   ], 
   "metadata": {
    "collapsed": false
   }
  }, 
  {
   "execution_count": 14, 
   "cell_type": "code", 
   "source": [
    "integralRiemman(x^-0.8,10000)-(1^0.2/0.2)"
   ], 
   "outputs": [
    {
     "output_type": "execute_result", 
     "data": {
      "text/plain": [
       "-0.678394972663348"
      ]
     }, 
     "execution_count": 14, 
     "metadata": {}
    }
   ], 
   "metadata": {
    "collapsed": false
   }
  }, 
  {
   "execution_count": 15, 
   "cell_type": "code", 
   "source": [
    "integralRiemman(x^-0.9,10000)-(1^0.1/0.1)"
   ], 
   "outputs": [
    {
     "output_type": "execute_result", 
     "data": {
      "text/plain": [
       "-2.92126817573607"
      ]
     }, 
     "execution_count": 15, 
     "metadata": {}
    }
   ], 
   "metadata": {
    "collapsed": false
   }
  }, 
  {
   "execution_count": 16, 
   "cell_type": "code", 
   "source": [
    "Vemos que el error crece mucho cuando nos acercamos al -1 y creo que es debido a la distribucion de los puntos de la funcion, ya que al  pasar el 0 y convertirse en raices la cantidad de puntos que encontramos con el random se concentran de forma uniforme en la grafica pero no asi en la realidad lo cual causa que el resultado se desvie"
   ], 
   "outputs": [], 
   "metadata": {
    "collapsed": false
   }
  }, 
  {
   "source": [
    "<h3>Apartado 3</h3>"
   ], 
   "cell_type": "markdown", 
   "metadata": {}
  }, 
  {
   "execution_count": 17, 
   "cell_type": "code", 
   "source": [
    "Lo he respondido arriba y no me da el tiempo para copiarlo,perdon"
   ], 
   "outputs": [], 
   "metadata": {
    "collapsed": false
   }
  }
 ], 
 "metadata": {
  "kernelspec": {
   "display_name": "Sage 6.6", 
   "name": "sage_6_6", 
   "language": "python"
  }
 }, 
 "nbformat_minor": 0
}