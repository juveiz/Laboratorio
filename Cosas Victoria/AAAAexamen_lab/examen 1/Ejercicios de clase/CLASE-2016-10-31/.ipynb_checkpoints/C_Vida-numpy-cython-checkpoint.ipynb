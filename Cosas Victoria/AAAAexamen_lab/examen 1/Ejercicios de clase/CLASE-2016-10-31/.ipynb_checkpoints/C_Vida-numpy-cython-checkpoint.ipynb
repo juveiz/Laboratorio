{
 "cells": [
  {
   "cell_type": "markdown",
   "metadata": {},
   "source": [
    "## Ejemplos de animaciones"
   ]
  },
  {
   "cell_type": "code",
   "execution_count": 1,
   "metadata": {
    "collapsed": false
   },
   "outputs": [],
   "source": [
    "#!/usr/bin/env python\n",
    "\"\"\"\n",
    "An animated image\n",
    "\"\"\"\n",
    "import numpy as np\n",
    "import matplotlib.pyplot as plt\n",
    "import matplotlib.animation as animation\n",
    "\n",
    "fig = plt.figure()\n",
    "\n",
    "\n",
    "def f(x, y):\n",
    "    return np.sin(x) + np.cos(y)\n",
    "\n",
    "x = np.linspace(0, 2 * np.pi, 120)\n",
    "y = np.linspace(0, 2 * np.pi, 100).reshape(-1, 1)\n",
    "\n",
    "im = plt.imshow(f(x, y), cmap=plt.get_cmap('coolwarm'), animated=True)\n",
    "\n",
    "\n",
    "def updatefig(*args):\n",
    "    global x, y\n",
    "    x += np.pi / 15.\n",
    "    y += np.pi / 20.\n",
    "    im.set_array(f(x, y))\n",
    "    return im,\n",
    "\n",
    "ani = animation.FuncAnimation(fig, updatefig, interval=50, blit=True)\n",
    "plt.show()"
   ]
  },
  {
   "cell_type": "code",
   "execution_count": 2,
   "metadata": {
    "collapsed": false
   },
   "outputs": [],
   "source": [
    "import numpy as np\n",
    "from matplotlib import pyplot as plt\n",
    "from matplotlib import animation\n",
    "\n",
    "fig = plt.figure()\n",
    "fig.set_dpi(100)\n",
    "fig.set_size_inches(7, 6.5)\n",
    "\n",
    "ax = plt.axes(xlim=(0, 10), ylim=(0, 10))\n",
    "patch = plt.Circle((5, -5), 0.75, fc='y')\n",
    "\n",
    "def init():\n",
    "    patch.center = (5, 5)\n",
    "    ax.add_patch(patch)\n",
    "    return patch,\n",
    "\n",
    "def animate(i):\n",
    "    x, y = patch.center\n",
    "    x = 5 + 3 * np.sin(np.radians(i))\n",
    "    y = 5 + 3 * np.cos(np.radians(i))\n",
    "    patch.center = (x, y)\n",
    "    return patch,\n",
    "\n",
    "anim = animation.FuncAnimation(fig, animate, \n",
    "                               init_func=init, \n",
    "                               frames=360, \n",
    "                               interval=20,\n",
    "                               blit=True)\n",
    "\n",
    "plt.show()\n"
   ]
  },
  {
   "cell_type": "code",
   "execution_count": 3,
   "metadata": {
    "collapsed": false
   },
   "outputs": [],
   "source": [
    "import numpy as np\n",
    "import matplotlib.pyplot as plt \n",
    "import matplotlib.animation as animation\n",
    "\n",
    "def generate_data():\n",
    "    a = np.arange(25).reshape(5, 5)\n",
    "    b = 10 * np.random.rand(5, 5)\n",
    "    return a - b \n",
    "\n",
    "def update(data):\n",
    "    mat.set_data(data)\n",
    "    return mat \n",
    "\n",
    "def data_gen():\n",
    "    while True:\n",
    "        yield generate_data()\n",
    "\n",
    "fig, ax = plt.subplots()\n",
    "mat = ax.matshow(generate_data())\n",
    "plt.colorbar(mat)\n",
    "ani = animation.FuncAnimation(fig, update, data_gen, interval=500,\n",
    "                              save_count=50)\n",
    "plt.show()"
   ]
  },
  {
   "cell_type": "markdown",
   "metadata": {},
   "source": [
    "## Conway Life"
   ]
  },
  {
   "cell_type": "code",
   "execution_count": 4,
   "metadata": {
    "collapsed": false
   },
   "outputs": [],
   "source": [
    "import numpy as np\n",
    "import matplotlib.pyplot as plt\n",
    "import random\n",
    "import matplotlib.animation as animation\n",
    "\n",
    "\n",
    "\n",
    "def vecinos(N,(n,m)):\n",
    "    return [(n-1%N,m%N),(n%N,(m-1)%N),((n+1)%N,m%N),(n%N,(m+1)%N),\\\n",
    "            ((n-1)%N,(m-1)%N),((n-1)%N,(m+1)%N),\\\n",
    "            ((n+1)%N,(m+1)%N),((n+1)%N,(m-1)%N)]\n",
    "\n",
    "\n",
    "\n",
    "M = np.array([[random.randint(0,1) for _ in range(128)] \\\n",
    "              for _ in range(128)])\n",
    "##M[8,8] = 1;M[8,9] = 1;M[9,9] = 1;M[9,8] = 1;M[10,8] = 1;M[8,10] = 1\n",
    "\n",
    "\n",
    "def siguiente(M):\n",
    "    N = M.shape[0]\n",
    "    M2 = np.array([[0]*N for _ in range(N)])\n",
    "    for p in range(N):\n",
    "        for q in range(N):\n",
    "            L = vecinos(N,(p,q))\n",
    "            vivos =len([1 for par in L if M[par[0],par[1]] == 1])\n",
    "            if (M[p,q] == 1) and (2 <= vivos <= 3):\n",
    "                M2[p,q] = 1\n",
    "            elif  (M[p,q] == 0) and (vivos == 3):\n",
    "                M2[p,q] = 1\n",
    "    \n",
    "    return M2\n",
    "\n",
    "\n",
    "def generate_data(M):\n",
    "       return siguiente(M)\n",
    "\n",
    "def update(data):\n",
    "    mat.set_data(data)\n",
    "    return mat \n",
    "\n",
    "def data_gen():\n",
    "    global M\n",
    "    M = generate_data(M)\n",
    "    yield M\n",
    "\n",
    "fig, ax = plt.subplots()\n",
    "mat = ax.matshow(generate_data(M))\n",
    "\n",
    "ani = animation.FuncAnimation(fig, update, data_gen,interval=1)\n",
    "plt.show()\n"
   ]
  },
  {
   "cell_type": "markdown",
   "metadata": {},
   "source": [
    "## C_life optimizado numpy+cython"
   ]
  },
  {
   "cell_type": "code",
   "execution_count": 1,
   "metadata": {
    "collapsed": false
   },
   "outputs": [],
   "source": [
    "#%load_ext autotime\n",
    "%load_ext cython\n",
    "\n"
   ]
  },
  {
   "cell_type": "code",
   "execution_count": null,
   "metadata": {
    "collapsed": false
   },
   "outputs": [],
   "source": [
    "%%cython -a\n",
    "import numpy as np\n",
    "cimport numpy as np\n",
    "\n",
    "import random\n",
    "\n",
    "cimport cython\n",
    "\n",
    "@cython.boundscheck(False)\n",
    "@cython.cdivision(True)\n",
    "cdef int vecinosVivos(np.uint16_t[:,:] M,int p,int q):\n",
    "    cdef int v = 0\n",
    "    cdef int i,j\n",
    "    \n",
    "    cdef int N = M.shape[0]\n",
    "    \n",
    "    for i in range(p - 1,p + 2):\n",
    "        for j in range(q - 1,q + 2):\n",
    "            if i == j:\n",
    "                continue\n",
    "            v += M[i % N,j % N]\n",
    "            \n",
    "    return v\n",
    "\n",
    "@cython.boundscheck(False)\n",
    "def siguiente(np.ndarray[np.uint16_t,ndim=2] M):\n",
    "    cdef int N = M.shape[0]\n",
    "    cdef np.ndarray[np.uint16_t,ndim=2] M2 = np.zeros((N,N), \\\n",
    "        dtype=np.uint16)\n",
    "    \n",
    "    cdef np.uint16_t[:,:] MV = M\n",
    "    cdef np.uint16_t[:,:] M2V = M2 \n",
    "    \n",
    "    cdef int p\n",
    "    cdef int q\n",
    "    cdef int vivos\n",
    "\n",
    "    for p in range(N):\n",
    "        for q in range(N):\n",
    "            vivos = vecinosVivos(MV,p,q)\n",
    "\n",
    "            if (MV[p,q] == 1) and (2 <= vivos <= 3):\n",
    "                M2V[p,q] = 1\n",
    "            elif  (MV[p,q] == 0) and (vivos == 3):\n",
    "                M2V[p,q] = 1\n",
    "    \n",
    "    return M2"
   ]
  },
  {
   "cell_type": "code",
   "execution_count": null,
   "metadata": {
    "collapsed": false
   },
   "outputs": [],
   "source": [
    "M = np.random.randint(0,2,size=4096**2).\\\n",
    "    reshape((4096,4096)).astype(np.uint16)\n",
    "%timeit MM = siguiente(M)"
   ]
  },
  {
   "cell_type": "code",
   "execution_count": 8,
   "metadata": {
    "collapsed": false
   },
   "outputs": [
    {
     "name": "stdout",
     "output_type": "stream",
     "text": [
      "time: 2.48 s\n"
     ]
    }
   ],
   "source": [
    "import numpy as np\n",
    "import matplotlib.pyplot as plt\n",
    "import random\n",
    "import matplotlib.animation as animation\n",
    "\n",
    "\n",
    "\n",
    "M = np.random.randint(0,2,size=128**2).\\\n",
    "    reshape((128,128)).astype(np.uint16)\n",
    "\n",
    "def generate_data(M):\n",
    "       return siguiente(M)\n",
    "\n",
    "def update(data):\n",
    "    mat.set_data(data)\n",
    "    return mat \n",
    "\n",
    "def data_gen():\n",
    "    global M\n",
    "    M = generate_data(M)\n",
    "    yield M\n",
    "\n",
    "fig, ax = plt.subplots()\n",
    "mat = ax.matshow(generate_data(M))\n",
    "\n",
    "ani = animation.FuncAnimation(fig, update, data_gen,interval=100)\n",
    "plt.show()\n"
   ]
  },
  {
   "cell_type": "code",
   "execution_count": null,
   "metadata": {
    "collapsed": true
   },
   "outputs": [],
   "source": []
  },
  {
   "cell_type": "code",
   "execution_count": null,
   "metadata": {
    "collapsed": true
   },
   "outputs": [],
   "source": []
  },
  {
   "cell_type": "code",
   "execution_count": null,
   "metadata": {
    "collapsed": true
   },
   "outputs": [],
   "source": []
  }
 ],
 "metadata": {
  "kernelspec": {
   "display_name": "Python [Root]",
   "language": "python",
   "name": "Python [Root]"
  },
  "language_info": {
   "codemirror_mode": {
    "name": "ipython",
    "version": 2
   },
   "file_extension": ".py",
   "mimetype": "text/x-python",
   "name": "python",
   "nbconvert_exporter": "python",
   "pygments_lexer": "ipython2",
   "version": "2.7.12"
  }
 },
 "nbformat": 4,
 "nbformat_minor": 0
}
