{
 "cells": [
  {
   "cell_type": "markdown",
   "metadata": {},
   "source": [
    "La suma de los cuadrados de dos enteros, x^2 + y^2, es un entero no negativo y queremos averiguar que enteros no negativos se pueden representar como una tal suma de cuadrados. Es claro que, por ejemplo, 2 = 1^2 + 1^2 pero 3 no se puede representar como una suma de cuadrados. En estos ejercicios se trata de generar un n´umero suficiente de ejemplos de enteros que se representan, o no, como sumas de cuadrados, y de obtener conjeturas razonables acerca de la condicion (condiciones) que debe verificar un entero n para que se pueda representar como una suma de cuadrados."
   ]
  },
  {
   "cell_type": "code",
   "execution_count": 31,
   "metadata": {
    "collapsed": false
   },
   "outputs": [],
   "source": [
    "def es_sum_cuad(i):\n",
    "    var('x', 'y')\n",
    "    for x in srange(1, i):\n",
    "        for y in srange(1, i):\n",
    "            if i == x**2 + y**2:\n",
    "                return 1\n",
    "    return 0"
   ]
  },
  {
   "cell_type": "code",
   "execution_count": 54,
   "metadata": {
    "collapsed": true
   },
   "outputs": [],
   "source": [
    "def sum_cuad(n):\n",
    "    var('i')\n",
    "    L = []\n",
    "    for i in srange(0, n):\n",
    "        if es_sum_cuad(i) == 1:\n",
    "            L.append(i)\n",
    "    return L"
   ]
  },
  {
   "cell_type": "code",
   "execution_count": 55,
   "metadata": {
    "collapsed": false
   },
   "outputs": [],
   "source": [
    "def primos_sum_cuad(n):\n",
    "    var('i', 'lon')\n",
    "    L = prime_range(n)\n",
    "    M = []\n",
    "    lon = len(L)\n",
    "    for i in srange(0, lon):\n",
    "        if es_sum_cuad(L[i]) == 1:\n",
    "            M.append(L[i])\n",
    "    return M"
   ]
  },
  {
   "cell_type": "code",
   "execution_count": 56,
   "metadata": {
    "collapsed": false
   },
   "outputs": [
    {
     "data": {
      "text/plain": [
       "[2,\n",
       " 5,\n",
       " 13,\n",
       " 17,\n",
       " 29,\n",
       " 37,\n",
       " 41,\n",
       " 53,\n",
       " 61,\n",
       " 73,\n",
       " 89,\n",
       " 97,\n",
       " 101,\n",
       " 109,\n",
       " 113,\n",
       " 137,\n",
       " 149,\n",
       " 157,\n",
       " 173,\n",
       " 181,\n",
       " 193,\n",
       " 197,\n",
       " 229,\n",
       " 233,\n",
       " 241,\n",
       " 257,\n",
       " 269,\n",
       " 277,\n",
       " 281,\n",
       " 293,\n",
       " 313,\n",
       " 317,\n",
       " 337,\n",
       " 349,\n",
       " 353,\n",
       " 373,\n",
       " 389,\n",
       " 397,\n",
       " 401,\n",
       " 409,\n",
       " 421,\n",
       " 433,\n",
       " 449,\n",
       " 457,\n",
       " 461]"
      ]
     },
     "execution_count": 56,
     "metadata": {},
     "output_type": "execute_result"
    }
   ],
   "source": [
    "primos_sum_cuad(500)"
   ]
  },
  {
   "cell_type": "code",
   "execution_count": null,
   "metadata": {
    "collapsed": false
   },
   "outputs": [],
   "source": []
  },
  {
   "cell_type": "code",
   "execution_count": null,
   "metadata": {
    "collapsed": true
   },
   "outputs": [],
   "source": []
  }
 ],
 "metadata": {
  "kernelspec": {
   "display_name": "SageMath 7.3",
   "language": "",
   "name": "sagemath"
  },
  "language_info": {
   "codemirror_mode": {
    "name": "ipython",
    "version": 2
   },
   "file_extension": ".py",
   "mimetype": "text/x-python",
   "name": "python",
   "nbconvert_exporter": "python",
   "pygments_lexer": "ipython2",
   "version": "2.7.10"
  }
 },
 "nbformat": 4,
 "nbformat_minor": 0
}
