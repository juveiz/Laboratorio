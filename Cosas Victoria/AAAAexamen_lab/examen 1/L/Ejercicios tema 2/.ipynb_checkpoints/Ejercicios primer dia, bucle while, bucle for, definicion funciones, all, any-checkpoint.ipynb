{
 "cells": [
  {
   "cell_type": "markdown",
   "metadata": {},
   "source": [
    "<h3>Otros ejercicios</h3>\n",
    "\n",
    "<h3>OTROS EJERCICIOS</h3>\n",
    "<ol>\n",
    "<li>&iquest;Qu&eacute; enteros primos $p$ se pueden representar como la suma de dos cuadrados de enteros?&nbsp;</li>\n",
    "<li>&iquest;Cu&aacute;ntos ceros hay al final, por la derecha, en $100!$ (factorial de cien)?&iquest;Y en $365!$?</li>\n",
    "<li>&nbsp;&iquest;Es cierto que la suma $$1!+2!+3!+\\dots+n!$$ no puede ser un cuadrado si $n\\ge 4$?</li>\n",
    "<li>&iquest;Existen grupos de $k$ enteros positivos consecutivos cuya suma sea una potencia de $2$?&iquest;Y si permitimos que sean enteros positivos o negativos?</li>\n",
    "</ol>"
   ]
  },
  {
   "cell_type": "code",
   "execution_count": 2,
   "metadata": {
    "collapsed": false,
    "scrolled": true
   },
   "outputs": [
    {
     "data": {
      "text/plain": [
       "[2,\n",
       " 5,\n",
       " 17,\n",
       " 37,\n",
       " 101,\n",
       " 197,\n",
       " 257,\n",
       " 5,\n",
       " 13,\n",
       " 29,\n",
       " 53,\n",
       " 173,\n",
       " 229,\n",
       " 293,\n",
       " 13,\n",
       " 73,\n",
       " 109,\n",
       " 17,\n",
       " 41,\n",
       " 97,\n",
       " 137,\n",
       " 241,\n",
       " 29,\n",
       " 41,\n",
       " 61,\n",
       " 89,\n",
       " 281,\n",
       " 349,\n",
       " 37,\n",
       " 61,\n",
       " 157,\n",
       " 397,\n",
       " 53,\n",
       " 113,\n",
       " 149,\n",
       " 193,\n",
       " 373,\n",
       " 73,\n",
       " 89,\n",
       " 113,\n",
       " 233,\n",
       " 353,\n",
       " 97,\n",
       " 181,\n",
       " 277,\n",
       " 337,\n",
       " 101,\n",
       " 109,\n",
       " 149,\n",
       " 181,\n",
       " 269,\n",
       " 389,\n",
       " 461,\n",
       " 137,\n",
       " 157,\n",
       " 317,\n",
       " 193,\n",
       " 313,\n",
       " 433,\n",
       " 173,\n",
       " 233,\n",
       " 269,\n",
       " 313,\n",
       " 197,\n",
       " 277,\n",
       " 317,\n",
       " 421,\n",
       " 557,\n",
       " 229,\n",
       " 241,\n",
       " 421,\n",
       " 257,\n",
       " 281,\n",
       " 337,\n",
       " 617,\n",
       " 293,\n",
       " 353,\n",
       " 389,\n",
       " 433,\n",
       " 613,\n",
       " 349,\n",
       " 373,\n",
       " 613,\n",
       " 397,\n",
       " 461,\n",
       " 557,\n",
       " 617]"
      ]
     },
     "execution_count": 2,
     "metadata": {},
     "output_type": "execute_result"
    }
   ],
   "source": [
    "[x^2+y^2 for x in srange(1,20) for y in srange(1,20) if is_prime(x^2+y^2)]"
   ]
  },
  {
   "cell_type": "code",
   "execution_count": 77,
   "metadata": {
    "collapsed": false
   },
   "outputs": [
    {
     "data": {
      "text/html": [
       "<html><script type=\"math/tex; mode=display\">\\newcommand{\\Bold}[1]{\\mathbf{#1}}\\left[2, 3, 5, 7, 11, 13, 17, 19, 23, 29, 31, 37, 41, 43, 47, 53, 59, 61, 67, 71, 73, 79, 83, 89, 97\\right]</script></html>"
      ],
      "text/plain": [
       "[2,\n",
       " 3,\n",
       " 5,\n",
       " 7,\n",
       " 11,\n",
       " 13,\n",
       " 17,\n",
       " 19,\n",
       " 23,\n",
       " 29,\n",
       " 31,\n",
       " 37,\n",
       " 41,\n",
       " 43,\n",
       " 47,\n",
       " 53,\n",
       " 59,\n",
       " 61,\n",
       " 67,\n",
       " 71,\n",
       " 73,\n",
       " 79,\n",
       " 83,\n",
       " 89,\n",
       " 97]"
      ]
     },
     "metadata": {},
     "output_type": "display_data"
    }
   ],
   "source": [
    "show(prime_range(1, 100))"
   ]
  },
  {
   "cell_type": "markdown",
   "metadata": {},
   "source": [
    "El comando $append$ introduce un elemento en la ultima parte de la lista"
   ]
  },
  {
   "cell_type": "code",
   "execution_count": 91,
   "metadata": {
    "collapsed": false
   },
   "outputs": [],
   "source": [
    "L = []\n",
    "i=0\n",
    "for p in prime_range(1,1000):\n",
    "    for x in srange(1,1000):\n",
    "        if(is_square(p-x^2)):\n",
    "            L.append(factor(p-1))\n",
    "            i += 1\n",
    "            break         "
   ]
  },
  {
   "cell_type": "code",
   "execution_count": 93,
   "metadata": {
    "collapsed": false
   },
   "outputs": [
    {
     "data": {
      "text/plain": [
       "[1,\n",
       " 2^2,\n",
       " 2^2 * 3,\n",
       " 2^4,\n",
       " 2^2 * 7,\n",
       " 2^2 * 3^2,\n",
       " 2^3 * 5,\n",
       " 2^2 * 13,\n",
       " 2^2 * 3 * 5,\n",
       " 2^3 * 3^2,\n",
       " 2^3 * 11,\n",
       " 2^5 * 3,\n",
       " 2^2 * 5^2,\n",
       " 2^2 * 3^3,\n",
       " 2^4 * 7,\n",
       " 2^3 * 17,\n",
       " 2^2 * 37,\n",
       " 2^2 * 3 * 13,\n",
       " 2^2 * 43,\n",
       " 2^2 * 3^2 * 5,\n",
       " 2^6 * 3,\n",
       " 2^2 * 7^2,\n",
       " 2^2 * 3 * 19,\n",
       " 2^3 * 29,\n",
       " 2^4 * 3 * 5,\n",
       " 2^8,\n",
       " 2^2 * 67,\n",
       " 2^2 * 3 * 23,\n",
       " 2^3 * 5 * 7,\n",
       " 2^2 * 73,\n",
       " 2^3 * 3 * 13,\n",
       " 2^2 * 79,\n",
       " 2^4 * 3 * 7,\n",
       " 2^2 * 3 * 29,\n",
       " 2^5 * 11,\n",
       " 2^2 * 3 * 31,\n",
       " 2^2 * 97,\n",
       " 2^2 * 3^2 * 11,\n",
       " 2^4 * 5^2,\n",
       " 2^3 * 3 * 17,\n",
       " 2^2 * 3 * 5 * 7,\n",
       " 2^4 * 3^3,\n",
       " 2^6 * 7,\n",
       " 2^3 * 3 * 19,\n",
       " 2^2 * 5 * 23,\n",
       " 2^2 * 127,\n",
       " 2^3 * 5 * 13,\n",
       " 2^2 * 3^3 * 5,\n",
       " 2^2 * 139,\n",
       " 2^3 * 71,\n",
       " 2^6 * 3^2,\n",
       " 2^4 * 37,\n",
       " 2^3 * 3 * 5^2,\n",
       " 2^2 * 3^2 * 17,\n",
       " 2^3 * 7 * 11,\n",
       " 2^7 * 5,\n",
       " 2^2 * 163,\n",
       " 2^2 * 3 * 5 * 11,\n",
       " 2^5 * 3 * 7,\n",
       " 2^2 * 13^2,\n",
       " 2^2 * 5^2 * 7,\n",
       " 2^2 * 3 * 59,\n",
       " 2^2 * 3 * 61,\n",
       " 2^2 * 3^3 * 7,\n",
       " 2^3 * 5 * 19,\n",
       " 2^8 * 3,\n",
       " 2^2 * 193,\n",
       " 2^2 * 199,\n",
       " 2^3 * 101,\n",
       " 2^2 * 5 * 41,\n",
       " 2^2 * 3^2 * 23,\n",
       " 2^2 * 3 * 71,\n",
       " 2^3 * 107,\n",
       " 2^2 * 3 * 73,\n",
       " 2^4 * 5 * 11,\n",
       " 2^5 * 29,\n",
       " 2^3 * 3^2 * 13,\n",
       " 2^2 * 5 * 47,\n",
       " 2^3 * 7 * 17,\n",
       " 2^4 * 61,\n",
       " 2^2 * 3 * 83]"
      ]
     },
     "execution_count": 93,
     "metadata": {},
     "output_type": "execute_result"
    }
   ],
   "source": [
    "L"
   ]
  },
  {
   "cell_type": "markdown",
   "metadata": {},
   "source": [
    "Para buscar una función de manera facil podemos hacerlo fácil poniendo las primeras letras y dándole a tab, para saber como se utiliza podemos poner, por ejemplo, factorial? y darle a $run$, asi nos da la ayuda."
   ]
  },
  {
   "cell_type": "code",
   "execution_count": 1,
   "metadata": {
    "collapsed": true
   },
   "outputs": [],
   "source": [
    "factorial?"
   ]
  },
  {
   "cell_type": "code",
   "execution_count": 3,
   "metadata": {
    "collapsed": false,
    "scrolled": true
   },
   "outputs": [
    {
     "name": "stdout",
     "output_type": "stream",
     "text": [
      "24\n"
     ]
    }
   ],
   "source": [
    "i=0\n",
    "j=-1\n",
    "num = factorial(100)\n",
    "while i==0:\n",
    "    i=num%10\n",
    "    num=num/10\n",
    "    j += 1\n",
    "print j"
   ]
  },
  {
   "cell_type": "markdown",
   "metadata": {},
   "source": [
    "Para crear una lista utilizamos [ ], si le damos un nombre no nos dara el resultado completo, pero podremos usar $all(nombre)$ para mostrarlo"
   ]
  },
  {
   "cell_type": "code",
   "execution_count": 15,
   "metadata": {
    "collapsed": false
   },
   "outputs": [],
   "source": [
    "L=[is_square(sum(factorial(i) for i in srange(1,x+1))) for x in srange(4,100)]"
   ]
  },
  {
   "cell_type": "code",
   "execution_count": 16,
   "metadata": {
    "collapsed": false
   },
   "outputs": [
    {
     "data": {
      "text/html": [
       "<html><script type=\"math/tex; mode=display\">\\newcommand{\\Bold}[1]{\\mathbf{#1}}\\left[\\mathrm{False}, \\mathrm{False}, \\mathrm{False}, \\mathrm{False}, \\mathrm{False}, \\mathrm{False}, \\mathrm{False}, \\mathrm{False}, \\mathrm{False}, \\mathrm{False}, \\mathrm{False}, \\mathrm{False}, \\mathrm{False}, \\mathrm{False}, \\mathrm{False}, \\mathrm{False}, \\mathrm{False}, \\mathrm{False}, \\mathrm{False}, \\mathrm{False}, \\mathrm{False}, \\mathrm{False}, \\mathrm{False}, \\mathrm{False}, \\mathrm{False}, \\mathrm{False}, \\mathrm{False}, \\mathrm{False}, \\mathrm{False}, \\mathrm{False}, \\mathrm{False}, \\mathrm{False}, \\mathrm{False}, \\mathrm{False}, \\mathrm{False}, \\mathrm{False}, \\mathrm{False}, \\mathrm{False}, \\mathrm{False}, \\mathrm{False}, \\mathrm{False}, \\mathrm{False}, \\mathrm{False}, \\mathrm{False}, \\mathrm{False}, \\mathrm{False}, \\mathrm{False}, \\mathrm{False}, \\mathrm{False}, \\mathrm{False}, \\mathrm{False}, \\mathrm{False}, \\mathrm{False}, \\mathrm{False}, \\mathrm{False}, \\mathrm{False}, \\mathrm{False}, \\mathrm{False}, \\mathrm{False}, \\mathrm{False}, \\mathrm{False}, \\mathrm{False}, \\mathrm{False}, \\mathrm{False}, \\mathrm{False}, \\mathrm{False}, \\mathrm{False}, \\mathrm{False}, \\mathrm{False}, \\mathrm{False}, \\mathrm{False}, \\mathrm{False}, \\mathrm{False}, \\mathrm{False}, \\mathrm{False}, \\mathrm{False}, \\mathrm{False}, \\mathrm{False}, \\mathrm{False}, \\mathrm{False}, \\mathrm{False}, \\mathrm{False}, \\mathrm{False}, \\mathrm{False}, \\mathrm{False}, \\mathrm{False}, \\mathrm{False}, \\mathrm{False}, \\mathrm{False}, \\mathrm{False}, \\mathrm{False}, \\mathrm{False}, \\mathrm{False}, \\mathrm{False}, \\mathrm{False}, \\mathrm{False}\\right]</script></html>"
      ],
      "text/plain": [
       "[False,\n",
       " False,\n",
       " False,\n",
       " False,\n",
       " False,\n",
       " False,\n",
       " False,\n",
       " False,\n",
       " False,\n",
       " False,\n",
       " False,\n",
       " False,\n",
       " False,\n",
       " False,\n",
       " False,\n",
       " False,\n",
       " False,\n",
       " False,\n",
       " False,\n",
       " False,\n",
       " False,\n",
       " False,\n",
       " False,\n",
       " False,\n",
       " False,\n",
       " False,\n",
       " False,\n",
       " False,\n",
       " False,\n",
       " False,\n",
       " False,\n",
       " False,\n",
       " False,\n",
       " False,\n",
       " False,\n",
       " False,\n",
       " False,\n",
       " False,\n",
       " False,\n",
       " False,\n",
       " False,\n",
       " False,\n",
       " False,\n",
       " False,\n",
       " False,\n",
       " False,\n",
       " False,\n",
       " False,\n",
       " False,\n",
       " False,\n",
       " False,\n",
       " False,\n",
       " False,\n",
       " False,\n",
       " False,\n",
       " False,\n",
       " False,\n",
       " False,\n",
       " False,\n",
       " False,\n",
       " False,\n",
       " False,\n",
       " False,\n",
       " False,\n",
       " False,\n",
       " False,\n",
       " False,\n",
       " False,\n",
       " False,\n",
       " False,\n",
       " False,\n",
       " False,\n",
       " False,\n",
       " False,\n",
       " False,\n",
       " False,\n",
       " False,\n",
       " False,\n",
       " False,\n",
       " False,\n",
       " False,\n",
       " False,\n",
       " False,\n",
       " False,\n",
       " False,\n",
       " False,\n",
       " False,\n",
       " False,\n",
       " False,\n",
       " False,\n",
       " False,\n",
       " False,\n",
       " False,\n",
       " False,\n",
       " False,\n",
       " False]"
      ]
     },
     "metadata": {},
     "output_type": "display_data"
    }
   ],
   "source": [
    "show(L)"
   ]
  },
  {
   "cell_type": "markdown",
   "metadata": {},
   "source": [
    "El comando $any$ nos dice si hay algun $true$ en la lista (util para ver si son todos falsos)\n",
    "\n",
    "El comando $all$ nos dice si todos son $true$"
   ]
  },
  {
   "cell_type": "code",
   "execution_count": 17,
   "metadata": {
    "collapsed": false
   },
   "outputs": [
    {
     "data": {
      "text/plain": [
       "False"
      ]
     },
     "execution_count": 17,
     "metadata": {},
     "output_type": "execute_result"
    }
   ],
   "source": [
    "any(L)"
   ]
  },
  {
   "cell_type": "code",
   "execution_count": 18,
   "metadata": {
    "collapsed": false
   },
   "outputs": [
    {
     "data": {
      "text/plain": [
       "False"
      ]
     },
     "execution_count": 18,
     "metadata": {},
     "output_type": "execute_result"
    }
   ],
   "source": [
    "all(L)"
   ]
  },
  {
   "cell_type": "code",
   "execution_count": 42,
   "metadata": {
    "collapsed": false
   },
   "outputs": [
    {
     "data": {
      "text/plain": [
       "[3 * 11,\n",
       " 3^2 * 17,\n",
       " 3^2 * 97,\n",
       " 3^4 * 73,\n",
       " 3^2 * 11 * 467,\n",
       " 3^2 * 131 * 347,\n",
       " 3^2 * 11 * 40787,\n",
       " 3^2 * 11 * 443987,\n",
       " 3^2 * 11^2 * 23 * 20879,\n",
       " 3^2 * 11 * 821 * 83047,\n",
       " 3^2 * 11 * 2789 * 340183,\n",
       " 3^2 * 11 * 107 * 509 * 259949,\n",
       " 3^2 * 11 * 225498914387,\n",
       " 3^2 * 11 * 163 * 20143 * 1162943,\n",
       " 3^2 * 11 * 19727 * 3471827581,\n",
       " 3^2 * 11 * 29 * 43 * 1621 * 641751001,\n",
       " 3^2 * 11^2 * 53 * 67 * 662348503367,\n",
       " 3^2 * 11 * 877 * 3203 * 41051 * 4699727,\n",
       " 3^2 * 11 * 11895484822660898387,\n",
       " 3^2 * 11 * 139 * 2129333 * 922459185301,\n",
       " 3^2 * 11 * 37^2 * 29131483 * 163992440081,\n",
       " 3^2 * 11 * 454823 * 519472957 * 690821017,\n",
       " 3^2 * 11 * 107 * 173 * 7823 * 12227 * 1281439 * 1867343,\n",
       " 3^2 * 11 * 431363 * 2882477797 * 91865833117,\n",
       " 3^2 * 11 * 191 * 47793258077 * 349882390108241,\n",
       " 3^2 * 11 * 37 * 283 * 5087 * 1736655143086866180331,\n",
       " 3^2 * 11 * 2771826449193354891007108898387,\n",
       " 3^2 * 11 * 1231547 * 306730217 * 227214279676815713,\n",
       " 3^2 * 11 * 41 * 163 * 224677 * 278437 * 6562698554476756561,\n",
       " 3^2 * 11 * 109 * 839 * 2819 * 40597679 * 8642572321688037037,\n",
       " 3^2 * 11 * 3072603482270933019578343003268898387,\n",
       " 3^2 * 11 * 7523968684626643 * 14280739323850758510209,\n",
       " 3^2 * 11 * 542410073 * 7125524357434108671946525659019,\n",
       " 3^2 * 11 * 379 * 2677 * 5685998930867 * 24769422762368668966567,\n",
       " 3^2 * 11 * 127 * 338944799 * 126050058872020979628982810240819,\n",
       " 3^2 * 11 * 956042657 * 221187999196843747210838711867563891,\n",
       " 3^2 * 11 * 8453033680104197032254976173172281742468898387,\n",
       " 3^2 * 11 * 1652359939 * 276306566079013 * 758627421394906687355741,\n",
       " 3^2 * 11 * 14538338330306808294520261726657539166606468898387,\n",
       " 3^2 * 11 * 134593 * 4642095211404964451264304571909393120971331859,\n",
       " 3^2 * 11 * 467 * 389132347 * 4228337353 * 35757735254503278958283094266971,\n",
       " 3^2 * 11 * 2663 * 95401 * 410811827 * 7771244856041 * 1523645693711902928107207,\n",
       " 3^2 * 11 * 53 * 18701 * 57324977375965527296659921321353312523677172794179,\n",
       " 3^2 * 11 * 2669173798161405013235902281639968551981897699726468898387,\n",
       " 3^2 * 11 * 12890567 * 1801778789 * 5513757650189196992316484862420099904107249,\n",
       " 3^2 * 11 * 6272323513462844572115402087823748573865863895011726468898387]"
      ]
     },
     "execution_count": 42,
     "metadata": {},
     "output_type": "execute_result"
    }
   ],
   "source": [
    "[factor(sum(factorial(i) for i in srange(1,x+1))) for x in srange(4,50)]"
   ]
  },
  {
   "cell_type": "markdown",
   "metadata": {},
   "source": [
    "Definimos una función para que nos calcule la suma de los factoriales"
   ]
  },
  {
   "cell_type": "code",
   "execution_count": 3,
   "metadata": {
    "collapsed": true
   },
   "outputs": [],
   "source": [
    "def sumafact(n):\n",
    "    suma = 0\n",
    "    for i in srange (1,n+1):\n",
    "        suma += factorial(i)\n",
    "    return suma"
   ]
  },
  {
   "cell_type": "code",
   "execution_count": 4,
   "metadata": {
    "collapsed": false
   },
   "outputs": [
    {
     "name": "stdout",
     "output_type": "stream",
     "text": [
      "33\n"
     ]
    }
   ],
   "source": [
    "print(sumafact(4))"
   ]
  },
  {
   "cell_type": "code",
   "execution_count": 58,
   "metadata": {
    "collapsed": false
   },
   "outputs": [],
   "source": [
    "def potenciadedos(n):\n",
    "    if(n == 1):\n",
    "        return True\n",
    "    if(n>1):\n",
    "        while(n!=2):\n",
    "            if(n<2):\n",
    "                return False\n",
    "            i=n%2\n",
    "            if(i!=0):\n",
    "                return False\n",
    "            n = n/2\n",
    "        return True\n",
    "    if(n<0 or n==0):\n",
    "        return False\n",
    "    if(n<1):\n",
    "        while(n!=2):\n",
    "            if(n>2):\n",
    "                return False\n",
    "            n=n*2\n",
    "        return True"
   ]
  },
  {
   "cell_type": "code",
   "execution_count": 55,
   "metadata": {
    "collapsed": false
   },
   "outputs": [
    {
     "data": {
      "text/plain": [
       "True"
      ]
     },
     "execution_count": 55,
     "metadata": {},
     "output_type": "execute_result"
    }
   ],
   "source": [
    "potenciadedos(1)"
   ]
  },
  {
   "cell_type": "code",
   "execution_count": 59,
   "metadata": {
    "collapsed": false
   },
   "outputs": [],
   "source": [
    "L = [(n,n+1) for n in srange (-2000,5) if(potenciadedos(n+n+1)==True)]"
   ]
  },
  {
   "cell_type": "code",
   "execution_count": 60,
   "metadata": {
    "collapsed": false
   },
   "outputs": [
    {
     "data": {
      "text/html": [
       "<html><script type=\"math/tex; mode=display\">\\newcommand{\\Bold}[1]{\\mathbf{#1}}\\left[\\left(0, 1\\right)\\right]</script></html>"
      ],
      "text/plain": [
       "[(0, 1)]"
      ]
     },
     "metadata": {},
     "output_type": "display_data"
    }
   ],
   "source": [
    "show(L)"
   ]
  },
  {
   "cell_type": "markdown",
   "metadata": {},
   "source": [
    "Encontrar el menor n tal que mi DNI esté en factorial(n)"
   ]
  },
  {
   "cell_type": "code",
   "execution_count": 6,
   "metadata": {
    "collapsed": false
   },
   "outputs": [
    {
     "name": "stdout",
     "output_type": "stream",
     "text": [
      "1534\n"
     ]
    }
   ],
   "source": [
    "n=0\n",
    "while not(str(9067735) in str(factorial(n))):\n",
    "    n+=1\n",
    "print n"
   ]
  },
  {
   "cell_type": "code",
   "execution_count": 103,
   "metadata": {
    "collapsed": false
   },
   "outputs": [
    {
     "data": {
      "text/plain": [
       "69245668670337510729148413231078524461887818754081124609408233014255822826625027704513362381742619098332939169532599610059126660734464231732305141323206524317678733226868914075599314685118665771134154291672606108094502392637640213315377931150446826024077297700678159237650971088444266246844220482721458090623985098689903531344200379505118388553684003695826478259367553866721511808255109152471136894889675118090789502593229843938671112205343686380769493207517323078626559548531790341961309577615922567828611010669168475807577183470586025237705862976718802582877299864267619150552486534646859284436966228707401921621688917214024423347678313755936719860062441815831704451976453849129863149287136958269406116494703011744178402240795292652610194204873013178466199640339067735608978161246383323481055971494059900207904108298068607969923139942049399006284311417251201727313980512507519081310325442907014472716157407873525956626143575904812031180831329495543118312495096701564855197114283863307526609626256185309620496179488355658023189572106920027950902573169337289934964575716323311493110626340840653858400711511001068043286709496221677822742236424291299941936743006954801004124306659264621391407741620738067886169396684260810085166474123523301167796918634909873930667063130281998452642729530031911057057204199357996857654845956435991699563918053401777990274110392397637258533926893017067742264188786922452532278875192671566090002772881901168782316796943147686966918605027682949507099563172777814144971334429557841989256079068660816086799948114688589267394131600609389310850295338378466201933331961468678404415085825510563903479299899211398008772543803385675087210486812573699325923197319653348116257117116309088287460087881241748418590787831202685247777357282531017526745993475491159338353376732453528144816286504891336587184463339792731092669649089634804451843037487214809643561922690223427448215129149492953037503229192779971450471935805607789457583738723709045750258609610758223279925275216367054696508171458845197998444653054737850478095119435844872180999662955595715550430154014214797803358660852685555279577432679240235658041949241151956162925622266340029642282199538998526301961092187791658381608811573770795717369746734405816197143489240468171923627675780536840995307524984943895872389517232563333968225473335612126988428835856770607826290789900183948857878259699541737462556068904321494302893671016254567160240626375504338740677708880007577241054557218583306742061748744495609395128687519288935677820296299213837396811193354637027093989783841772547828153920329405978077927443774492723978701739133027962350629995923560888474823839391707763315117044957627411198667603771048795905075970995878272633482201329384436467028929582177680349500877409078016256896147891526755999246006930974469096460343408107345155464043623039606773394786030294611439865311666772533784456557007664773469020523102399166114281744355386007565148972771103213097030678905214365709405677332863546718365894745872871826435673259280721632861793333330553861600141765148401810123754769344810386969260257913718861392126038811266640149984154876745587311096166051405702759727883650075705539205043574808900219244991872796938001856820041291633399287118989800673567249437568055207361915291333897503647892238710006129722948770758341965122109889536941330864072902031407933870773155316297777715554730809758013202948823541832082307709581440137726536866323382407764558712862315751455132730958545828672383701101697743158016902824308951892311534243937959413353183256390055540682358669280246886425286122716468457548999248235976436233100217521261018867591041759377382687197515341427748817643789970549854510176898229667351071028054840089176083505368233224922551230899820155298050159643306122460508337415600427865569785155970524195833615532648588487520826688774508449101605840137817448316403712000000000000000000000000000000000000000000000000000000000000000000000000000000000000000000000000000000000000000000000000000000000000000000000000000000000000000000000000000000000000000000000000000000000000000000000000000000000000000000000000000000000000000000000000000000000000000000000000000000000000000000000000000000000000000000000000000000000000000000000000000000000000000000000"
      ]
     },
     "execution_count": 103,
     "metadata": {},
     "output_type": "execute_result"
    }
   ],
   "source": [
    "factorial(1534)"
   ]
  },
  {
   "cell_type": "markdown",
   "metadata": {},
   "source": [
    " $index$ nos dice en que posición se encuentra una cadena determinada"
   ]
  },
  {
   "cell_type": "code",
   "execution_count": 7,
   "metadata": {
    "collapsed": true
   },
   "outputs": [],
   "source": [
    "a = str(factorial(n)).index(str(9067735))"
   ]
  },
  {
   "cell_type": "code",
   "execution_count": 110,
   "metadata": {
    "collapsed": false
   },
   "outputs": [
    {
     "data": {
      "text/plain": [
       "'9067735'"
      ]
     },
     "execution_count": 110,
     "metadata": {},
     "output_type": "execute_result"
    }
   ],
   "source": [
    "str(factorial(n))[a: a+7]"
   ]
  },
  {
   "cell_type": "code",
   "execution_count": null,
   "metadata": {
    "collapsed": true
   },
   "outputs": [],
   "source": []
  }
 ],
 "metadata": {
  "kernelspec": {
   "display_name": "SageMath 7.3",
   "language": "",
   "name": "sagemath"
  },
  "language_info": {
   "codemirror_mode": {
    "name": "ipython",
    "version": 2
   },
   "file_extension": ".py",
   "mimetype": "text/x-python",
   "name": "python",
   "nbconvert_exporter": "python",
   "pygments_lexer": "ipython2",
   "version": "2.7.10"
  }
 },
 "nbformat": 4,
 "nbformat_minor": 0
}
