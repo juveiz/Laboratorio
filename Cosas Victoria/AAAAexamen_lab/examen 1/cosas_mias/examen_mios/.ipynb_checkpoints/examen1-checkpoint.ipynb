{
 "cells": [
  {
   "cell_type": "markdown",
   "metadata": {
    "collapsed": true
   },
   "source": [
    "<p><span style=\"color: #ff0000;\">Por favor, antes de empezar el examen cambia el nombre de la hoja (File&gt;Rename worksheet) poniendo en lugar de \"nombre.apellido\" los tuyos tal como aparecen en tu direcci&oacute;n de correo electr&oacute;nico de la UAM. El final del nombre de la hoja, -labot-ex1, dej&aacute;lo como est&aacute;.<br /></span></p>\n",
    "<p><span style=\"color: #ff0000;\">Una vez hayas terminado el examen, salva la hoja (File&gt;Save worksheet to a file....) y d&eacute;jala en la carpeta en tu escritorio con nombre \"ENTREGA......\".</span></p>\n",
    "<h4>&nbsp;</h4>\n",
    "<h4>&nbsp;</h4>\n",
    "<h4>Ejercicio1</h4>\n",
    "<p>Decimos que un entero positivo $n$ es <strong>multiplicativamente perfecto</strong> si el producto de todos los divisores de $n$ vale exactamente $n^2.$ El ejemplo m&aacute;s sencillo de un n&uacute;mero multiplicativamente perfecto es el producto $n=p\\cdot q$ de dos primos distintos. Por tanto, existen infinitos enteros multiplicativamente perfectos. Queremos caracterizar los enteros multiplicativamente perfectos.</p>\n",
    "<ol>\n",
    "<li>Primero define una funci&oacute;n de Sage, de nombre $perfecto(n)$,&nbsp; que reciba como argumento un entero $n$ y devuelva $Truo$ o $False$ seg&uacute;n el n&uacute;mero $n$ sea multiplicativamente perfecto o no.</li>\n",
    "<li>Ahora define una funci&oacute;n de Sage, de nombre $perfectos(N)$,&nbsp; que reciba como argumento un entero $N$ y devuelva la lista de todos los enteros multiplicativamente perfectos que pertenecen al intervalo $[1,N].$</li>\n",
    "<li>Usando las listas de enteros multiplicativamente perfectos que puedes obtener con la funci&oacute;n del apartado anterior, produce una conjetura razonable acerca de qu&eacute; enteros son multiplicativamente perfectos. Debes escribir expl&iacute;citamente tu conjetura en una celda de texto.</li>\n",
    "<li>Define una tercera funci&oacute;n, de nombre $comprobar(N)$, que devuelva $True$ si tu conjetura es correcta para enteros positivos menores que $N$, y $False$ si no lo es.</li>\n",
    "<li>Experimenta con valores de $N$ suficientemente grandes para obtener&nbsp; el $N=10^t$ ($t$ entero) m&aacute;s grande tal que tu programa $comprobar(N)$ se ejecuta en menos de un minuto.</li>\n",
    "</ol>"
   ]
  },
  {
   "cell_type": "code",
   "execution_count": null,
   "metadata": {
    "collapsed": true
   },
   "outputs": [],
   "source": []
  }
 ],
 "metadata": {
  "kernelspec": {
   "display_name": "SageMath 7.3",
   "language": "",
   "name": "sagemath"
  },
  "language_info": {
   "codemirror_mode": {
    "name": "ipython",
    "version": 2
   },
   "file_extension": ".py",
   "mimetype": "text/x-python",
   "name": "python",
   "nbconvert_exporter": "python",
   "pygments_lexer": "ipython2",
   "version": "2.7.10"
  }
 },
 "nbformat": 4,
 "nbformat_minor": 0
}
