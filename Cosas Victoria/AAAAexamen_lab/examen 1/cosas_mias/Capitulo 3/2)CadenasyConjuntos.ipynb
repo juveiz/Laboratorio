{
 "cells": [
  {
   "cell_type": "markdown",
   "metadata": {
    "collapsed": true
   },
   "source": [
    "CADENAS DE CARACTERES"
   ]
  },
  {
   "cell_type": "code",
   "execution_count": 3,
   "metadata": {
    "collapsed": true
   },
   "outputs": [],
   "source": [
    "C='Esta es nuestra casa'"
   ]
  },
  {
   "cell_type": "code",
   "execution_count": 6,
   "metadata": {
    "collapsed": false
   },
   "outputs": [
    {
     "data": {
      "text/plain": [
       "20"
      ]
     },
     "execution_count": 6,
     "metadata": {},
     "output_type": "execute_result"
    }
   ],
   "source": [
    "#str(k) convierte el entero k en una cadena de caracteres\n",
    "len(C) #len(<cadena>) es el n´umero de caracteres de la cadena"
   ]
  },
  {
   "cell_type": "code",
   "execution_count": 9,
   "metadata": {
    "collapsed": false
   },
   "outputs": [
    {
     "name": "stdout",
     "output_type": "stream",
     "text": [
      "('o', 'eo', 'ando', 'letras de una frase', 'Reco', 'Roaoeadu a')\n"
     ]
    }
   ],
   "source": [
    "#accseo a subcadenas\n",
    "frase='Recortando letras de una frase'\n",
    "print (frase[3],frase[1:5:2],frase[6:10],frase[11:],frase[:4],frase[::3])"
   ]
  },
  {
   "cell_type": "code",
   "execution_count": 10,
   "metadata": {
    "collapsed": false
   },
   "outputs": [
    {
     "data": {
      "text/plain": [
       "3"
      ]
     },
     "execution_count": 10,
     "metadata": {},
     "output_type": "execute_result"
    }
   ],
   "source": [
    "#<cadena>.count(<cadena1>) devuelve el n´umero de veces que la cadena1 aparece “textualmente” dentro de la cadena.\n",
    "frase='Contando letras de una frase'\n",
    "frase.count('e')"
   ]
  },
  {
   "cell_type": "code",
   "execution_count": 11,
   "metadata": {
    "collapsed": false
   },
   "outputs": [
    {
     "data": {
      "text/plain": [
       "4"
      ]
     },
     "execution_count": 11,
     "metadata": {},
     "output_type": "execute_result"
    }
   ],
   "source": [
    "#<cadena>.index(<cadena1>) devuelve el lugar en que la cadena1 aparece por primera vez dentro de la cadena.\n",
    "frase='Buscando letras en una frase'\n",
    "frase.index('a')"
   ]
  },
  {
   "cell_type": "code",
   "execution_count": 23,
   "metadata": {
    "collapsed": false
   },
   "outputs": [
    {
     "name": "stdout",
     "output_type": "stream",
     "text": [
      "True\n"
     ]
    },
    {
     "data": {
      "text/plain": [
       "(['Una',\n",
       "  'frase',\n",
       "  'para',\n",
       "  'trocear.',\n",
       "  'Por',\n",
       "  'defecto,',\n",
       "  'se',\n",
       "  'recorta',\n",
       "  'por',\n",
       "  'el',\n",
       "  'espacio',\n",
       "  'en',\n",
       "  'blanco.'],\n",
       " ['Una',\n",
       "  'frase',\n",
       "  'para',\n",
       "  'trocear.',\n",
       "  'Por',\n",
       "  'defecto,',\n",
       "  'se',\n",
       "  'recorta',\n",
       "  'por',\n",
       "  'el',\n",
       "  'espacio',\n",
       "  'en',\n",
       "  'blanco.'],\n",
       " ['Una frase para trocear',\n",
       "  ' Por defecto, se recorta por el espacio en blanco',\n",
       "  ''])"
      ]
     },
     "execution_count": 23,
     "metadata": {},
     "output_type": "execute_result"
    }
   ],
   "source": [
    "# .split() trocea una cadena de caracteres, devolviendo una lista con las subcadenas resultantes. Si no hay argumento, se utiliza,\n",
    "#por defecto, el espacio en blanco para trocear, eliminandose de la lista de subcadenas resultante.\n",
    "#Si se indica al metodo una subcadena, se utiliza esta para recortar.\n",
    "frase='Una frase para trocear. Por defecto, se recorta por el espacio en blanco.'\n",
    "print frase.split(' ')==frase.split() #por defecto espacio blanco\n",
    "palabras=frase.split(' ')\n",
    "palabras1=frase.split()\n",
    "subfrases=frase.split('.')\n",
    "palabras, palabras1, subfrases"
   ]
  },
  {
   "cell_type": "code",
   "execution_count": 33,
   "metadata": {
    "collapsed": false
   },
   "outputs": [],
   "source": [
    "#unimos así\n",
    "#'-'.join(palabras); \n",
    "#join(palabras,'|')\n",
    "#NO SE PORQUE NO ME RECONOCE ESTOO JOO PREGUNTR MAÑANAA"
   ]
  },
  {
   "cell_type": "code",
   "execution_count": 37,
   "metadata": {
    "collapsed": false
   },
   "outputs": [
    {
     "data": {
      "text/plain": [
       "('Una frase para trocear. Por defecto, se recorta por el espacio en blanco.',\n",
       " 25,\n",
       " 43,\n",
       " 49,\n",
       " -1)"
      ]
     },
     "execution_count": 37,
     "metadata": {},
     "output_type": "execute_result"
    }
   ],
   "source": [
    "L=len(frase)\n",
    "a=frase.find('or')\n",
    "b=frase.find('or',a+1,-2)\n",
    "c=frase.find('or',b+1)\n",
    "frase, a, b, c, frase.find('or',c+1)"
   ]
  },
  {
   "cell_type": "markdown",
   "metadata": {},
   "source": [
    "CONJUNTOSS"
   ]
  },
  {
   "cell_type": "code",
   "execution_count": 2,
   "metadata": {
    "collapsed": false
   },
   "outputs": [
    {
     "data": {
      "text/plain": [
       "(<type 'set'>, {1, 2})"
      ]
     },
     "execution_count": 2,
     "metadata": {},
     "output_type": "execute_result"
    }
   ],
   "source": [
    "#los conjuntos suprimen elementos repetidos\n",
    "A = {1,2,1}\n",
    "type(A), A"
   ]
  },
  {
   "cell_type": "code",
   "execution_count": 3,
   "metadata": {
    "collapsed": false
   },
   "outputs": [
    {
     "ename": "TypeError",
     "evalue": "unhashable type: 'set'",
     "output_type": "error",
     "traceback": [
      "\u001b[1;31m---------------------------------------------------------------------------\u001b[0m",
      "\u001b[1;31mTypeError\u001b[0m                                 Traceback (most recent call last)",
      "\u001b[1;32m<ipython-input-3-35ef8766e001>\u001b[0m in \u001b[0;36m<module>\u001b[1;34m()\u001b[0m\n\u001b[0;32m      1\u001b[0m \u001b[1;31m#no podemos crear dentro ni listas ni otros conjuntos\u001b[0m\u001b[1;33m\u001b[0m\u001b[1;33m\u001b[0m\u001b[0m\n\u001b[1;32m----> 2\u001b[1;33m \u001b[0mA\u001b[0m\u001b[1;33m=\u001b[0m\u001b[1;33m{\u001b[0m\u001b[1;33m{\u001b[0m\u001b[0mInteger\u001b[0m\u001b[1;33m(\u001b[0m\u001b[1;36m1\u001b[0m\u001b[1;33m)\u001b[0m\u001b[1;33m,\u001b[0m\u001b[0mInteger\u001b[0m\u001b[1;33m(\u001b[0m\u001b[1;36m2\u001b[0m\u001b[1;33m)\u001b[0m\u001b[1;33m}\u001b[0m\u001b[1;33m,\u001b[0m\u001b[1;33m{\u001b[0m\u001b[0mInteger\u001b[0m\u001b[1;33m(\u001b[0m\u001b[1;36m3\u001b[0m\u001b[1;33m)\u001b[0m\u001b[1;33m}\u001b[0m\u001b[1;33m}\u001b[0m\u001b[1;33m\u001b[0m\u001b[0m\n\u001b[0m\u001b[0;32m      3\u001b[0m \u001b[0mA\u001b[0m\u001b[1;33m=\u001b[0m\u001b[1;33m{\u001b[0m\u001b[1;33m[\u001b[0m\u001b[0mInteger\u001b[0m\u001b[1;33m(\u001b[0m\u001b[1;36m1\u001b[0m\u001b[1;33m)\u001b[0m\u001b[1;33m,\u001b[0m\u001b[0mInteger\u001b[0m\u001b[1;33m(\u001b[0m\u001b[1;36m2\u001b[0m\u001b[1;33m)\u001b[0m\u001b[1;33m]\u001b[0m\u001b[1;33m}\u001b[0m\u001b[1;33m\u001b[0m\u001b[0m\n",
      "\u001b[1;31mTypeError\u001b[0m: unhashable type: 'set'"
     ]
    }
   ],
   "source": [
    "#no podemos crear dentro ni listas ni otros conjuntos\n",
    "A={{1,2},{3}}\n",
    "A={[1,2]}"
   ]
  },
  {
   "cell_type": "code",
   "execution_count": 4,
   "metadata": {
    "collapsed": false
   },
   "outputs": [
    {
     "data": {
      "text/plain": [
       "({1, 2}, {2, 3}, {' ', 'H', 'a', 'e', 'g', 'l', 'n', 'o', 't'})"
      ]
     },
     "execution_count": 4,
     "metadata": {},
     "output_type": "execute_result"
    }
   ],
   "source": [
    "#otra forma de crear conjuntos\n",
    "l,t,s=[1,2,1],(3,2,3),'Hola gente'\n",
    "set(l), set(t), set(s)"
   ]
  },
  {
   "cell_type": "code",
   "execution_count": 5,
   "metadata": {
    "collapsed": false
   },
   "outputs": [
    {
     "name": "stdout",
     "output_type": "stream",
     "text": [
      "set([])\n"
     ]
    }
   ],
   "source": [
    "#conjunto vacio \n",
    "A=set()\n",
    "print A"
   ]
  },
  {
   "cell_type": "code",
   "execution_count": 54,
   "metadata": {
    "collapsed": false
   },
   "outputs": [
    {
     "name": "stdout",
     "output_type": "stream",
     "text": [
      "set([1])\n",
      "set([])\n"
     ]
    }
   ],
   "source": [
    "#1 in A devuelve True si el 1 es uno de los elementos del conjunto A\n",
    "#len(A) es el n´umero de elementos de un conjunto\n",
    "A.add(1) #añadimos 1 elemento\n",
    "print A\n",
    "A.remove(1) #eliminamos\n",
    "print A"
   ]
  },
  {
   "cell_type": "code",
   "execution_count": 56,
   "metadata": {
    "collapsed": false
   },
   "outputs": [
    {
     "data": {
      "text/plain": [
       "102"
      ]
     },
     "execution_count": 56,
     "metadata": {},
     "output_type": "execute_result"
    }
   ],
   "source": [
    "A={-1,-2}\n",
    "l=srange(100)\n",
    "A.update(l)\n",
    "len(A)"
   ]
  },
  {
   "cell_type": "code",
   "execution_count": null,
   "metadata": {
    "collapsed": true
   },
   "outputs": [],
   "source": []
  }
 ],
 "metadata": {
  "kernelspec": {
   "display_name": "SageMath 7.3",
   "language": "",
   "name": "sagemath"
  },
  "language_info": {
   "codemirror_mode": {
    "name": "ipython",
    "version": 2
   },
   "file_extension": ".py",
   "mimetype": "text/x-python",
   "name": "python",
   "nbconvert_exporter": "python",
   "pygments_lexer": "ipython2",
   "version": "2.7.10"
  }
 },
 "nbformat": 4,
 "nbformat_minor": 0
}
