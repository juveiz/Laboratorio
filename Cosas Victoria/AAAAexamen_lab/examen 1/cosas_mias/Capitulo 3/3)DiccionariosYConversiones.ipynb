{
 "cells": [
  {
   "cell_type": "markdown",
   "metadata": {
    "collapsed": true
   },
   "source": [
    "DICCIONARIOS"
   ]
  },
  {
   "cell_type": "code",
   "execution_count": 9,
   "metadata": {
    "collapsed": false
   },
   "outputs": [
    {
     "data": {
      "text/plain": [
       "112"
      ]
     },
     "execution_count": 9,
     "metadata": {},
     "output_type": "execute_result"
    }
   ],
   "source": [
    "#diccionario = {clave1:valor1, clave2:valor2, ...}\n",
    "granja={'vacas':3, 'gallinas':10, 'ovejas':112}\n",
    "granja['ovejas']"
   ]
  },
  {
   "cell_type": "code",
   "execution_count": 10,
   "metadata": {
    "collapsed": false
   },
   "outputs": [
    {
     "data": {
      "text/html": [
       "<html><script type=\"math/tex; mode=display\">\\newcommand{\\Bold}[1]{\\mathbf{#1}}\\left\\{\\verb|vacas| : 4, \\verb|ovejas| : 112, \\verb|caballos| : 2\\right\\}</script></html>"
      ],
      "text/plain": [
       "{'caballos': 2, 'ovejas': 112, 'vacas': 4}"
      ]
     },
     "metadata": {},
     "output_type": "display_data"
    }
   ],
   "source": [
    "granja['vacas']+=1 ## Se adquieren una vaca...\n",
    "granja['caballos']=2 ## ... y dos caballos.\n",
    "del granja['gallinas'] ## Se venden todas las gallinas.\n",
    "show(granja)"
   ]
  },
  {
   "cell_type": "code",
   "execution_count": 13,
   "metadata": {
    "collapsed": false
   },
   "outputs": [
    {
     "data": {
      "text/html": [
       "<html><script type=\"math/tex; mode=display\">\\newcommand{\\Bold}[1]{\\mathbf{#1}}\\left\\{1 : \\left(1, 1\\right), 2 : \\left(4, 8\\right), 3 : \\left(9, 27\\right), 4 : \\left(16, 64\\right), 5 : \\left(25, 125\\right), 6 : \\left(36, 216\\right)\\right\\}</script></html>"
      ],
      "text/plain": [
       "{1: (1, 1), 2: (4, 8), 3: (9, 27), 4: (16, 64), 5: (25, 125), 6: (36, 216)}"
      ]
     },
     "metadata": {},
     "output_type": "display_data"
    }
   ],
   "source": [
    "Cuadrados_y_cubos=dict([(j,(j^2,j^3)) for j in [1..6]])\n",
    "show(Cuadrados_y_cubos)"
   ]
  },
  {
   "cell_type": "code",
   "execution_count": 16,
   "metadata": {
    "collapsed": false
   },
   "outputs": [
    {
     "name": "stdout",
     "output_type": "stream",
     "text": [
      "{1: 10, 2: 11, 3: 12, 4: 13, 5: 14, 6: 15, 7: 16}\n"
     ]
    }
   ],
   "source": [
    "#Si se tienen dos listas, L1 y L2, la lista zip(L1,L2) esta formada por las parejas (L1[j],L2[j]) para j=0,1,..., el menor ındice final posible\n",
    "L1, L2=[1..15], [10..16]\n",
    "DD=dict(zip(L1,L2))\n",
    "print DD\n",
    "#.keys() y .values() producen listas con las claves y los valores, respectivamente, en el diccionario. .items() devuelve la lista de pares (clave,valor).\n",
    "#La instruccion x in diccionario devuelve True si x es una de las claves del diccionario"
   ]
  },
  {
   "cell_type": "markdown",
   "metadata": {},
   "source": [
    "CONVERSIONES\n",
    "1. Tupla a lista o conjunto: Para una tupla T\n",
    "list(T)\n",
    "set(T)\n",
    "2. Lista a tupla: tuple(L).\n",
    "3. Cadena a lista:\n",
    "C = 'abc'\n",
    "list(C)\n",
    "4. ¿Lista a cadena?:\n",
    "C = 'abc'\n",
    "str(list(C))\n",
    "En general esto no es lo que queremos.\n",
    "5. Lista a cadena:\n",
    "C = 'abc'\n",
    "join(list(C),sep=\"\")\n",
    "6. Lista a conjunto: para una lista L, set(L). Suprime repeticiones en la lista.\n",
    "7. Conjunto a lista: para un conjunto A, list(conjunto).\n",
    "10. Dadas dos listas, L1 y L2, de la misma longitud podemos formar una lista de pares mediante zip(L1,L2), y transformar\n",
    "esta lista en diccionario mediante la funci´pn del apartado anterior"
   ]
  },
  {
   "cell_type": "code",
   "execution_count": 22,
   "metadata": {
    "collapsed": false
   },
   "outputs": [],
   "source": [
    "#8. Diccionario a lista de pares: Para un diccionerio D, D.items.().\n",
    "def convert_list_dict(L):\n",
    "    dict = {}\n",
    "    for item in L:\n",
    "        dict[item[0]]=item[1]\n",
    "    return dict\n"
   ]
  }
 ],
 "metadata": {
  "kernelspec": {
   "display_name": "SageMath 7.3",
   "language": "",
   "name": "sagemath"
  },
  "language_info": {
   "codemirror_mode": {
    "name": "ipython",
    "version": 2
   },
   "file_extension": ".py",
   "mimetype": "text/x-python",
   "name": "python",
   "nbconvert_exporter": "python",
   "pygments_lexer": "ipython2",
   "version": "2.7.10"
  }
 },
 "nbformat": 4,
 "nbformat_minor": 0
}
