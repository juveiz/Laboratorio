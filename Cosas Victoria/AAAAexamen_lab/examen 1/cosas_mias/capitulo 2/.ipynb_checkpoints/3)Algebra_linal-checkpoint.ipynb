{
 "cells": [
  {
   "cell_type": "raw",
   "metadata": {},
   "source": [
    "MATRICES"
   ]
  },
  {
   "cell_type": "code",
   "execution_count": 1,
   "metadata": {
    "collapsed": false
   },
   "outputs": [
    {
     "data": {
      "text/html": [
       "<html><script type=\"math/tex; mode=display\">\\newcommand{\\Bold}[1]{\\mathbf{#1}}\\left(\\begin{array}{rrr}\n",
       "1 & 2 & 3 \\\\\n",
       "4 & 5 & 6\n",
       "\\end{array}\\right)</script></html>"
      ],
      "text/plain": [
       "[1 2 3]\n",
       "[4 5 6]"
      ]
     },
     "metadata": {},
     "output_type": "display_data"
    },
    {
     "data": {
      "text/html": [
       "<html><script type=\"math/tex; mode=display\">\\newcommand{\\Bold}[1]{\\mathbf{#1}}\\left(\\begin{array}{rrr}\n",
       "1 & 2 & 3 \\\\\n",
       "4 & 5 & 6\n",
       "\\end{array}\\right)</script></html>"
      ],
      "text/plain": [
       "[1 2 3]\n",
       "[4 5 6]"
      ]
     },
     "metadata": {},
     "output_type": "display_data"
    }
   ],
   "source": [
    "#hay dos formas diferentes\n",
    "A=matrix(ZZ,[[1,2,3],[4,5,6]]);A;show(A)\n",
    "A=matrix(ZZ,2,[1,2,3,4,5,6]);show(A)"
   ]
  },
  {
   "cell_type": "code",
   "execution_count": 8,
   "metadata": {
    "collapsed": false
   },
   "outputs": [
    {
     "data": {
      "text/html": [
       "<html><script type=\"math/tex; mode=display\">\\newcommand{\\Bold}[1]{\\mathbf{#1}}\\left(\\begin{array}{rrrrrrrrrr}\n",
       "1 & 2 & 3 & 4 & 5 & 6 & 7 & 8 & 9 & 10 \\\\\n",
       "11 & 12 & 13 & 14 & 15 & 16 & 17 & 18 & 19 & 20 \\\\\n",
       "21 & 22 & 23 & 24 & 25 & 26 & 27 & 28 & 29 & 30 \\\\\n",
       "31 & 32 & 33 & 34 & 35 & 36 & 37 & 38 & 39 & 40 \\\\\n",
       "41 & 42 & 43 & 44 & 45 & 46 & 47 & 48 & 49 & 50 \\\\\n",
       "51 & 52 & 53 & 54 & 55 & 56 & 57 & 58 & 59 & 60 \\\\\n",
       "61 & 62 & 63 & 64 & 65 & 66 & 67 & 68 & 69 & 70 \\\\\n",
       "71 & 72 & 73 & 74 & 75 & 76 & 77 & 78 & 79 & 80 \\\\\n",
       "81 & 82 & 83 & 84 & 85 & 86 & 87 & 88 & 89 & 90 \\\\\n",
       "91 & 92 & 93 & 94 & 95 & 96 & 97 & 98 & 99 & 100\n",
       "\\end{array}\\right)</script></html>"
      ],
      "text/plain": [
       "[  1   2   3   4   5   6   7   8   9  10]\n",
       "[ 11  12  13  14  15  16  17  18  19  20]\n",
       "[ 21  22  23  24  25  26  27  28  29  30]\n",
       "[ 31  32  33  34  35  36  37  38  39  40]\n",
       "[ 41  42  43  44  45  46  47  48  49  50]\n",
       "[ 51  52  53  54  55  56  57  58  59  60]\n",
       "[ 61  62  63  64  65  66  67  68  69  70]\n",
       "[ 71  72  73  74  75  76  77  78  79  80]\n",
       "[ 81  82  83  84  85  86  87  88  89  90]\n",
       "[ 91  92  93  94  95  96  97  98  99 100]"
      ]
     },
     "metadata": {},
     "output_type": "display_data"
    }
   ],
   "source": [
    "A=matrix(ZZ,10,[1..100])\n",
    "show(A)"
   ]
  },
  {
   "cell_type": "code",
   "execution_count": 10,
   "metadata": {
    "collapsed": false
   },
   "outputs": [
    {
     "data": {
      "text/plain": [
       "[ 71  72  73  74  75  76  77  78  79  80]\n",
       "[ 81  82  83  84  85  86  87  88  89  90]\n",
       "[ 91  92  93  94  95  96  97  98  99 100]"
      ]
     },
     "execution_count": 10,
     "metadata": {},
     "output_type": "execute_result"
    }
   ],
   "source": [
    "A[7:] #filas de indice >=7"
   ]
  },
  {
   "cell_type": "code",
   "execution_count": 12,
   "metadata": {
    "collapsed": false
   },
   "outputs": [
    {
     "data": {
      "text/plain": [
       "[ 1  2  3  4  5  6  7  8  9 10]\n",
       "[11 12 13 14 15 16 17 18 19 20]"
      ]
     },
     "execution_count": 12,
     "metadata": {},
     "output_type": "execute_result"
    }
   ],
   "source": [
    "A[:2] #filas de indice<2"
   ]
  },
  {
   "cell_type": "code",
   "execution_count": 14,
   "metadata": {
    "collapsed": false
   },
   "outputs": [
    {
     "data": {
      "text/plain": [
       "[35 36 37]\n",
       "[45 46 47]"
      ]
     },
     "execution_count": 14,
     "metadata": {},
     "output_type": "execute_result"
    }
   ],
   "source": [
    "A[3:5,4:7] #no lo entiendo"
   ]
  },
  {
   "cell_type": "code",
   "execution_count": 15,
   "metadata": {
    "collapsed": false
   },
   "outputs": [
    {
     "data": {
      "text/plain": [
       "[25 27]\n",
       "[45 47]"
      ]
     },
     "execution_count": 15,
     "metadata": {},
     "output_type": "execute_result"
    }
   ],
   "source": [
    "A[2:5:2,4:7:2] #no lo entiendo"
   ]
  },
  {
   "cell_type": "code",
   "execution_count": 20,
   "metadata": {
    "collapsed": false
   },
   "outputs": [
    {
     "data": {
      "text/plain": [
       "(91, 92, 93, 94, 95, 96, 97, 98, 99, 100)"
      ]
     },
     "execution_count": 20,
     "metadata": {},
     "output_type": "execute_result"
    }
   ],
   "source": [
    "A[-1] #la ultima fila"
   ]
  },
  {
   "cell_type": "code",
   "execution_count": 24,
   "metadata": {
    "collapsed": false
   },
   "outputs": [
    {
     "data": {
      "text/plain": [
       "(81, 82, 83, 84, 85, 86, 87, 88, 89, 90)"
      ]
     },
     "execution_count": 24,
     "metadata": {},
     "output_type": "execute_result"
    }
   ],
   "source": [
    "A[-2] #la penultima fila"
   ]
  },
  {
   "cell_type": "code",
   "execution_count": 21,
   "metadata": {
    "collapsed": false
   },
   "outputs": [
    {
     "data": {
      "text/plain": [
       "(9, 19, 29, 39, 49, 59, 69, 79, 89, 99)"
      ]
     },
     "execution_count": 21,
     "metadata": {},
     "output_type": "execute_result"
    }
   ],
   "source": [
    "A.column(-2) #penultima columna"
   ]
  },
  {
   "cell_type": "code",
   "execution_count": 30,
   "metadata": {
    "collapsed": false
   },
   "outputs": [
    {
     "data": {
      "text/plain": [
       "[1 0 0]\n",
       "[0 1 0]\n",
       "[0 0 1]"
      ]
     },
     "execution_count": 30,
     "metadata": {},
     "output_type": "execute_result"
    }
   ],
   "source": [
    "identity_matrix(3) #matriz identidad"
   ]
  },
  {
   "cell_type": "code",
   "execution_count": 41,
   "metadata": {
    "collapsed": false
   },
   "outputs": [
    {
     "data": {
      "text/html": [
       "<html><script type=\"math/tex; mode=display\">\\newcommand{\\Bold}[1]{\\mathbf{#1}}\\left(\\begin{array}{rrr}\n",
       "1 & 2 & 3 \\\\\n",
       "4 & 5 & 6 \\\\\n",
       "7 & 8 & 9\n",
       "\\end{array}\\right)</script></html>"
      ],
      "text/plain": [
       "[1 2 3]\n",
       "[4 5 6]\n",
       "[7 8 9]"
      ]
     },
     "metadata": {},
     "output_type": "display_data"
    }
   ],
   "source": [
    "A=matrix(ZZ,3,[1,2,3,4,5,6,7,8,9]);show(A) # A.inverse() no tiene inversa porque el det=0"
   ]
  },
  {
   "cell_type": "code",
   "execution_count": 48,
   "metadata": {
    "collapsed": false
   },
   "outputs": [
    {
     "data": {
      "text/plain": [
       "(\n",
       "                [1 4 7]  [ -3   6  -3]        [1 2 3]  [ 1  0 -1]\n",
       "                [2 5 8]  [  6 -12   6]        [0 3 6]  [ 0  1  2]\n",
       "0, 0, 2, 2, 15, [3 6 9], [ -3   6  -3], None, [0 0 0], [ 0  0  0]\n",
       ")"
      ]
     },
     "execution_count": 48,
     "metadata": {},
     "output_type": "execute_result"
    }
   ],
   "source": [
    "A.det(), det(A), A.rank(), rank(A),  A.trace(), A.transpose(), A.adjoint(), A.echelonize(), A.echelon_form(), A.rref()"
   ]
  },
  {
   "cell_type": "code",
   "execution_count": 50,
   "metadata": {
    "collapsed": false
   },
   "outputs": [
    {
     "data": {
      "text/html": [
       "<html><script type=\"math/tex; mode=display\">\\newcommand{\\Bold}[1]{\\mathbf{#1}}\\left(\\begin{array}{rrr}\n",
       "1 & 2 & 3 \\\\\n",
       "0 & 3 & 6 \\\\\n",
       "0 & 0 & 0\n",
       "\\end{array}\\right)</script></html>"
      ],
      "text/plain": [
       "[1 2 3]\n",
       "[0 3 6]\n",
       "[0 0 0]"
      ]
     },
     "metadata": {},
     "output_type": "display_data"
    }
   ],
   "source": [
    "#como hemos sacado la matriz escalonada esta se ha guardado en el valor de A. Si no queremos que ocurra eso poner B=A.echelon_form()\n",
    "show(A)"
   ]
  },
  {
   "cell_type": "markdown",
   "metadata": {},
   "source": []
  }
 ],
 "metadata": {
  "kernelspec": {
   "display_name": "SageMath 7.3",
   "language": "",
   "name": "sagemath"
  },
  "language_info": {
   "codemirror_mode": {
    "name": "ipython",
    "version": 2
   },
   "file_extension": ".py",
   "mimetype": "text/x-python",
   "name": "python",
   "nbconvert_exporter": "python",
   "pygments_lexer": "ipython2",
   "version": "2.7.10"
  }
 },
 "nbformat": 4,
 "nbformat_minor": 0
}
