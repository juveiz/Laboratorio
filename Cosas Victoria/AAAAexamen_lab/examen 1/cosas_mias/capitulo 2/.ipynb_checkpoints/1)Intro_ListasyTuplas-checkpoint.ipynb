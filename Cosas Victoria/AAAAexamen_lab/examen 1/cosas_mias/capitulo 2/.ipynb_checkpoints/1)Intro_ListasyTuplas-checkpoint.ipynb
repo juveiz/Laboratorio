{
 "cells": [
  {
   "cell_type": "markdown",
   "metadata": {
    "collapsed": true
   },
   "source": [
    "Factorizar un entero:"
   ]
  },
  {
   "cell_type": "code",
   "execution_count": 5,
   "metadata": {
    "collapsed": false
   },
   "outputs": [
    {
     "data": {
      "text/plain": [
       "2^2 * 3^2 * 5"
      ]
     },
     "execution_count": 5,
     "metadata": {},
     "output_type": "execute_result"
    }
   ],
   "source": [
    "(180).factor()"
   ]
  },
  {
   "cell_type": "markdown",
   "metadata": {},
   "source": [
    "Operaciones elementales"
   ]
  },
  {
   "cell_type": "code",
   "execution_count": 15,
   "metadata": {
    "collapsed": false
   },
   "outputs": [
    {
     "name": "stdout",
     "output_type": "stream",
     "text": [
      "81 81\n"
     ]
    }
   ],
   "source": [
    "#suma y multiplicacion como siempre\n",
    "#potencia\n",
    "print (3**4), \n",
    "print (3^4)"
   ]
  },
  {
   "cell_type": "code",
   "execution_count": 18,
   "metadata": {
    "collapsed": false
   },
   "outputs": [
    {
     "name": "stdout",
     "output_type": "stream",
     "text": [
      "2 1\n"
     ]
    }
   ],
   "source": [
    "#division normal\n",
    "#parte entera\n",
    "print (7//3),\n",
    "#resto\n",
    "print (7%3)\n",
    "#si operacion combinada sigue el orden matematico comun"
   ]
  },
  {
   "cell_type": "markdown",
   "metadata": {},
   "source": [
    "Listas y tuplas"
   ]
  },
  {
   "cell_type": "code",
   "execution_count": 20,
   "metadata": {
    "collapsed": false
   },
   "outputs": [
    {
     "name": "stdout",
     "output_type": "stream",
     "text": [
      "([1, 5, 9, -5, 7],) ((1, 5, 9, -5, 7),)\n"
     ]
    }
   ],
   "source": [
    "#listas con mayusculas y corchetes\n",
    "L=[1,5,9,-5,7],\n",
    "print (L),\n",
    "#tuplas con minusculas y parentesis --> No se pueden asignar nuevos valores a los elementos de esta\n",
    "l=(1,5,9,-5,7),\n",
    "print(l)"
   ]
  }
 ],
 "metadata": {
  "kernelspec": {
   "display_name": "SageMath 7.3",
   "language": "",
   "name": "sagemath"
  },
  "language_info": {
   "codemirror_mode": {
    "name": "ipython",
    "version": 2
   },
   "file_extension": ".py",
   "mimetype": "text/x-python",
   "name": "python",
   "nbconvert_exporter": "python",
   "pygments_lexer": "ipython2",
   "version": "2.7.10"
  }
 },
 "nbformat": 4,
 "nbformat_minor": 0
}
