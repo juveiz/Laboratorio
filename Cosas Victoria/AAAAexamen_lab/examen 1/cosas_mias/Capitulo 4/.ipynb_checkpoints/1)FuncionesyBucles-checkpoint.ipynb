{
 "cells": [
  {
   "cell_type": "markdown",
   "metadata": {
    "collapsed": true
   },
   "source": [
    "FUNCIONES"
   ]
  },
  {
   "cell_type": "code",
   "execution_count": null,
   "metadata": {
    "collapsed": true
   },
   "outputs": [],
   "source": [
    "def nombre funcion(arg 1,arg 2,...,arg n):\n",
    "    '''Comentarios sobre la funcion'''\n",
    "instruccion 1\n",
    "instruccion 2\n",
    "etc.\n",
    "return res 1,res 2,...,res m\n"
   ]
  }
 ],
 "metadata": {
  "kernelspec": {
   "display_name": "SageMath 7.3",
   "language": "",
   "name": "sagemath"
  },
  "language_info": {
   "codemirror_mode": {
    "name": "ipython",
    "version": 2
   },
   "file_extension": ".py",
   "mimetype": "text/x-python",
   "name": "python",
   "nbconvert_exporter": "python",
   "pygments_lexer": "ipython2",
   "version": "2.7.10"
  }
 },
 "nbformat": 4,
 "nbformat_minor": 0
}
