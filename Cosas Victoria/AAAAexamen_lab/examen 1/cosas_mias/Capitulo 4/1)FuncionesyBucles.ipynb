{
 "cells": [
  {
   "cell_type": "markdown",
   "metadata": {
    "collapsed": true
   },
   "source": [
    "FUNCIONES"
   ]
  },
  {
   "cell_type": "code",
   "execution_count": 15,
   "metadata": {
    "collapsed": false
   },
   "outputs": [],
   "source": [
    "#def nombre funcion(arg 1,arg 2,...,arg n):\n",
    "#    '''Comentarios sobre la funcion'''\n",
    "#    instruccion 1\n",
    "#    instruccion 2\n",
    "#    etc.\n",
    "#return res 1,res 2,...,res m\n",
    "\n",
    "#res 1,res 2,...,res m=nombre funcion(arg 1,arg 2,...,arg n)"
   ]
  },
  {
   "cell_type": "markdown",
   "metadata": {},
   "source": [
    "FOR"
   ]
  },
  {
   "cell_type": "code",
   "execution_count": 16,
   "metadata": {
    "collapsed": false
   },
   "outputs": [
    {
     "name": "stdout",
     "output_type": "stream",
     "text": [
      "0\n",
      "1\n",
      "2\n",
      "3\n",
      "4\n",
      "5\n",
      "6\n",
      "7\n",
      "8\n",
      "9\n"
     ]
    }
   ],
   "source": [
    "#for <elemento> in <contenedor>:\n",
    "    #instruccion 1\n",
    "    #instruccion 2\n",
    "    #etc ...\n",
    "for j in srange(10): #te coge de 0 al 9\n",
    "    print j"
   ]
  },
  {
   "cell_type": "code",
   "execution_count": 21,
   "metadata": {
    "collapsed": false
   },
   "outputs": [],
   "source": [
    "#para recorrer los elementos de matriz m\n",
    "def matriz_hilbert(m):\n",
    "    A = matrix(QQ,m,m,[0]*m^2)\n",
    "    for i in srange(m):\n",
    "        for j in srange(m):\n",
    "            A[i,j] = 1/(i+j+1)\n",
    "    return A"
   ]
  },
  {
   "cell_type": "code",
   "execution_count": 22,
   "metadata": {
    "collapsed": false
   },
   "outputs": [
    {
     "data": {
      "text/plain": [
       "[1, 9, 25, 49, 81, 121, 169, 225, 289, 361]"
      ]
     },
     "execution_count": 22,
     "metadata": {},
     "output_type": "execute_result"
    }
   ],
   "source": [
    "cuadrados=[] ## iniciamos una lista vac´ıa\n",
    "for j in srange(20): ## 20 iteraciones\n",
    "    cuadrados.append(j^2) ## actualizamos la lista cuadrados\n",
    "cuadrados[1::2] ## listamos los de los impares"
   ]
  },
  {
   "cell_type": "code",
   "execution_count": 23,
   "metadata": {
    "collapsed": false
   },
   "outputs": [
    {
     "name": "stdout",
     "output_type": "stream",
     "text": [
      "25000550003\n"
     ]
    }
   ],
   "source": [
    "#sumatorio de los 10^5 primeros numeros de una progresion\n",
    "a,d,K=3,5,10^5\n",
    "suma=a\n",
    "for j in xsrange(K):\n",
    "    a=a+d\n",
    "    suma+=a\n",
    "print suma"
   ]
  },
  {
   "cell_type": "code",
   "execution_count": 36,
   "metadata": {
    "collapsed": false
   },
   "outputs": [
    {
     "name": "stdout",
     "output_type": "stream",
     "text": [
      "1\n",
      "1\n",
      "2\n",
      "3\n",
      "5\n",
      "8\n",
      "13\n",
      "21\n",
      "34\n",
      "55\n"
     ]
    },
    {
     "data": {
      "text/plain": [
       "55"
      ]
     },
     "execution_count": 36,
     "metadata": {},
     "output_type": "execute_result"
    }
   ],
   "source": [
    "#calculo del termino n-esimo de la sucesion de Fibonacci, definida mediante F0 := 0, F1 := 1, Fn := Fn−1 + Fn−2 para n ≥ 2 :\n",
    "def fibon(m):\n",
    "    p,q = 1,0\n",
    "    for j in xsrange(m):\n",
    "        p,q = q,p+q\n",
    "        print q\n",
    "    return q\n",
    "#sino sage cuenta con fibonacci() \n",
    "fibon(10)"
   ]
  },
  {
   "cell_type": "code",
   "execution_count": 49,
   "metadata": {
    "collapsed": false
   },
   "outputs": [],
   "source": [
    "def suma_primos(N):\n",
    "    suma = 2\n",
    "    primo = 2\n",
    "    print primo\n",
    "    for j in xsrange(N-1):\n",
    "        primo = next_prime(primo)\n",
    "        print primo\n",
    "        suma += primo ##Equivale a suma = suma+primo\n",
    "    return \"suma de primos:\", suma"
   ]
  },
  {
   "cell_type": "code",
   "execution_count": 50,
   "metadata": {
    "collapsed": false
   },
   "outputs": [
    {
     "name": "stdout",
     "output_type": "stream",
     "text": [
      "2\n",
      "3\n",
      "5\n",
      "7\n",
      "11\n",
      "('suma de primos:', 28)\n"
     ]
    }
   ],
   "source": [
    "print  suma_primos(5)"
   ]
  },
  {
   "cell_type": "code",
   "execution_count": 55,
   "metadata": {
    "collapsed": false
   },
   "outputs": [
    {
     "name": "stdout",
     "output_type": "stream",
     "text": [
      "2\n",
      "4\n",
      "6\n",
      "8\n",
      "10\n"
     ]
    }
   ],
   "source": [
    "#contador :\n",
    "#cont = 0\n",
    "#for int in srange(N):\n",
    "#    ....\n",
    "#    if condicion:\n",
    "#        ....\n",
    "#        cont += 1\n",
    "#return cont\n",
    "cont=0\n",
    "for i in srange(5):\n",
    "    cont+=2\n",
    "    print cont"
   ]
  },
  {
   "cell_type": "code",
   "execution_count": 74,
   "metadata": {
    "collapsed": false
   },
   "outputs": [
    {
     "data": {
      "text/plain": [
       "[2, 6, 18]"
      ]
     },
     "execution_count": 74,
     "metadata": {},
     "output_type": "execute_result"
    }
   ],
   "source": [
    "f(x)=x^2+2\n",
    "[f(x) for x in srange(5) if x%2==0]"
   ]
  },
  {
   "cell_type": "code",
   "execution_count": 75,
   "metadata": {
    "collapsed": false
   },
   "outputs": [
    {
     "data": {
      "text/plain": [
       "[2, 3, 5, 7, 11, 13, 17, 19, 23, 29, 31, 37, 41, 43, 47]"
      ]
     },
     "execution_count": 75,
     "metadata": {},
     "output_type": "execute_result"
    }
   ],
   "source": [
    "[m for m in srange(2,50) if is_prime(m)]"
   ]
  },
  {
   "cell_type": "markdown",
   "metadata": {},
   "source": [
    "IF es igual que en c"
   ]
  },
  {
   "cell_type": "code",
   "execution_count": 76,
   "metadata": {
    "collapsed": true
   },
   "outputs": [],
   "source": [
    "#if <condicion 1>:\n",
    "    #instruccion 1\n",
    "    #instruccion 2\n",
    "    #etc ...\n",
    "#elif <condicion 2>:\n",
    "    #instruccion 3\n",
    "    #instruccion 4\n",
    "    #etc ...\n",
    "    #etc ...\n",
    "#else:\n",
    "    #instruccion 5\n",
    "    #instruccion 6\n",
    "    #etc ...\n"
   ]
  },
  {
   "cell_type": "code",
   "execution_count": 84,
   "metadata": {
    "collapsed": false
   },
   "outputs": [
    {
     "data": {
      "text/plain": [
       "[False, True, True, True]"
      ]
     },
     "execution_count": 84,
     "metadata": {},
     "output_type": "execute_result"
    }
   ],
   "source": [
    "#condicion\n",
    "[3<2, 'a'<'b', 'casa'>'abeto', set([2])<=set([1,2])]"
   ]
  },
  {
   "cell_type": "markdown",
   "metadata": {},
   "source": [
    "WHILE es igual que en c"
   ]
  },
  {
   "cell_type": "code",
   "execution_count": 86,
   "metadata": {
    "collapsed": true
   },
   "outputs": [],
   "source": [
    "#while <condicion>:\n",
    "    #instruccion 1\n",
    "    #instruccion 2\n",
    "    #etc ..\n",
    "#actualizacion de la condicion"
   ]
  },
  {
   "cell_type": "code",
   "execution_count": 5,
   "metadata": {
    "collapsed": false
   },
   "outputs": [],
   "source": [
    "#Encontrar los dıgitos cuya posicion en la expresion decimal del factorial de un entero m (calculado mediante la instruccion factorial(m)) es un numero de Fibonacci.\n",
    "def gen_subcadena(m):\n",
    "    print factorial(m)\n",
    "    C = str(factorial(m)) #Convertimos el factorial de m en una cadena\n",
    "    K = len(C)\n",
    "    C1 = \"\" #Contendria la solucion\n",
    "    j = 1\n",
    "    while fibonacci(j) < K:\n",
    "        C1 = C1+C[fibonacci(j)-1] #Añadimos a C1 un dıgito cuya posicion es un numero de Fibonacci\n",
    "        print C1\n",
    "        j += 1 #Incrementamos j para que el bucle NO sea infinito\n",
    "    return C1"
   ]
  },
  {
   "cell_type": "code",
   "execution_count": 6,
   "metadata": {
    "collapsed": false
   },
   "outputs": [
    {
     "name": "stdout",
     "output_type": "stream",
     "text": [
      "120\n",
      "1\n",
      "11\n",
      "112\n"
     ]
    },
    {
     "data": {
      "text/plain": [
       "'112'"
      ]
     },
     "execution_count": 6,
     "metadata": {},
     "output_type": "execute_result"
    }
   ],
   "source": [
    "gen_subcadena(5)"
   ]
  },
  {
   "cell_type": "code",
   "execution_count": 10,
   "metadata": {
    "collapsed": false
   },
   "outputs": [],
   "source": [
    "#igual pero hecho de otra forma\n",
    "def gen_subcadena2(m):\n",
    "    C = str(factorial(m))\n",
    "    K = len(C)\n",
    "    C1 = \"\"\n",
    "    for j in xsrange(1,K):\n",
    "        Fj = fibonacci(j)\n",
    "        if Fj < N:\n",
    "            C1 = C1+C[Fj-1]\n",
    "        else:\n",
    "            break\n",
    "    return C1"
   ]
  },
  {
   "cell_type": "code",
   "execution_count": 12,
   "metadata": {
    "collapsed": false
   },
   "outputs": [
    {
     "data": {
      "text/plain": [
       "'11'"
      ]
     },
     "execution_count": 12,
     "metadata": {},
     "output_type": "execute_result"
    }
   ],
   "source": [
    "gen_subcadena2(5)"
   ]
  },
  {
   "cell_type": "code",
   "execution_count": null,
   "metadata": {
    "collapsed": true
   },
   "outputs": [],
   "source": []
  },
  {
   "cell_type": "code",
   "execution_count": null,
   "metadata": {
    "collapsed": true
   },
   "outputs": [],
   "source": []
  },
  {
   "cell_type": "code",
   "execution_count": null,
   "metadata": {
    "collapsed": true
   },
   "outputs": [],
   "source": []
  },
  {
   "cell_type": "code",
   "execution_count": null,
   "metadata": {
    "collapsed": true
   },
   "outputs": [],
   "source": []
  },
  {
   "cell_type": "code",
   "execution_count": null,
   "metadata": {
    "collapsed": true
   },
   "outputs": [],
   "source": []
  }
 ],
 "metadata": {
  "kernelspec": {
   "display_name": "SageMath 7.3",
   "language": "",
   "name": "sagemath"
  },
  "language_info": {
   "codemirror_mode": {
    "name": "ipython",
    "version": 2
   },
   "file_extension": ".py",
   "mimetype": "text/x-python",
   "name": "python",
   "nbconvert_exporter": "python",
   "pygments_lexer": "ipython2",
   "version": "2.7.10"
  }
 },
 "nbformat": 4,
 "nbformat_minor": 0
}
