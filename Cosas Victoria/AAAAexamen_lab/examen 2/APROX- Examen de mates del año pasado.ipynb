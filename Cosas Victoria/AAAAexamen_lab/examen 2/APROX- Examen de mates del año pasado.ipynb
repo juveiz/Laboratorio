{
 "cells": [
  {
   "cell_type": "markdown",
   "metadata": {},
   "source": [
    "Por favor, antes de empezar el examen cambia el nombre de la hoja (File>Rename worksheet) poniendo en lugar de \"nombre.apellido\" los tuyos tal como aparecen en tu dirección de correo electrónico de la UAM. El final del nombre de la hoja, -labot-ex2-2016, dejálo como está.\n",
    "\n",
    "Una vez hayas terminado el examen, salva la hoja (File>Save worksheet to a file....) y déjala en la carpeta en tu escritorio con nombre \"ENTREGA......\".\n",
    "\n",
    "### Ejercicio 1 ###\n",
    "\n",
    " (2 puntos) Define  funciones H(n,nbits) y H2(n,nbits) y que devuelvan la suma (sumatorio desde k= hasta k=n de 1/k) calculada con precisión igual a nbits. Las dos funciones serán esencialmente iguales,  pero H realizará todos los cálculos con números decimales de la precisión fijada mientras que H2 debe efectuar los cálculos con racionales,  y únicamente al devolver el resultado debe convertir a decimal de nbits de precisión. ¿Qué enseña este ejemplo?"
   ]
  },
  {
   "cell_type": "code",
   "execution_count": null,
   "metadata": {
    "collapsed": false
   },
   "outputs": [],
   "source": [
    "def H(n,nbits):\n",
    "    R = RealField(prec=nbits)\n",
    "    S = R(0)\n",
    "    for j in xsrange(1,n+1):\n",
    "        S += R(1/j)\n",
    "    return S"
   ]
  },
  {
   "cell_type": "code",
   "execution_count": null,
   "metadata": {
    "collapsed": true
   },
   "outputs": [],
   "source": [
    "#forma marta\n",
    "def H_1(n,nbits):\n",
    "    S = 0\n",
    "    for j in xsrange(1,n+1):\n",
    "        S += (1/j).n(nbits)\n",
    "    return S"
   ]
  },
  {
   "cell_type": "code",
   "execution_count": null,
   "metadata": {
    "collapsed": false
   },
   "outputs": [],
   "source": [
    "H(5*10^5, 50)"
   ]
  },
  {
   "cell_type": "code",
   "execution_count": null,
   "metadata": {
    "collapsed": false
   },
   "outputs": [],
   "source": [
    "time H(5*10^5, 50)"
   ]
  },
  {
   "cell_type": "code",
   "execution_count": null,
   "metadata": {
    "collapsed": false
   },
   "outputs": [],
   "source": [
    "H_1(5*10^5, 50)"
   ]
  },
  {
   "cell_type": "code",
   "execution_count": null,
   "metadata": {
    "collapsed": false
   },
   "outputs": [],
   "source": [
    "time H_1(5*10^5, 50)"
   ]
  },
  {
   "cell_type": "code",
   "execution_count": null,
   "metadata": {
    "collapsed": false
   },
   "outputs": [],
   "source": [
    "def H2(n,nbits):\n",
    "    R = RealField(prec=nbits)\n",
    "    S = 0\n",
    "    for j in xsrange(1,n+1):\n",
    "        S += 1/j\n",
    "    return R(S)"
   ]
  },
  {
   "cell_type": "code",
   "execution_count": null,
   "metadata": {
    "collapsed": false
   },
   "outputs": [],
   "source": [
    "time H(5*10^5, 50)"
   ]
  },
  {
   "cell_type": "code",
   "execution_count": null,
   "metadata": {
    "collapsed": false
   },
   "outputs": [],
   "source": [
    "time H2(5*10^5, 50)"
   ]
  },
  {
   "cell_type": "code",
   "execution_count": null,
   "metadata": {
    "collapsed": false
   },
   "outputs": [],
   "source": [
    "time H(26*10^6, 70)"
   ]
  },
  {
   "cell_type": "code",
   "execution_count": null,
   "metadata": {
    "collapsed": false
   },
   "outputs": [],
   "source": [
    "time H2(26*10^6, 70)"
   ]
  },
  {
   "cell_type": "markdown",
   "metadata": {},
   "source": [
    "En este ejercicio se observa que el tiempo es mayor en la función de H2, ya que tiene que calcular la precision de un número mucho más complicado que no l de la funión de H que ca calclando la precisión de cada uno de los resultados, siendo este mucho más rápido"
   ]
  },
  {
   "cell_type": "markdown",
   "metadata": {},
   "source": [
    "En muchos de los cálculos que nos interesan, en este capítulo 7,  sumamos términos de series de números racionales. Si efectuamos la suma como números racionales corremos el peligro de que las fracciones implicadas tengan numeradores y denominadores grandes,  lo que hace que el cálculo exacto con racionales sea muy costoso. Si lo que realmente nos interesa es el resultado final como decimal con un cierto número de bits de precisión  y no la fracción que determina ese decimal, este ejemplo muestra que nos conviene hacer todos los cálculos con decimales de la precisión fijada.\n"
   ]
  },
  {
   "cell_type": "markdown",
   "metadata": {},
   "source": [
    "### Ejercicio 2 ###"
   ]
  },
  {
   "cell_type": "markdown",
   "metadata": {},
   "source": [
    "Sabemos que la serie anterior es divergente. Además, sabemos que sus sumas parciales Hn tienen un valor no muy diferente\n",
    "a log(n) (logaritmo neperiano siempre) ya que:\n",
    "\n",
    "    La integral entre 1 y x de 1/t dt es igual a log(x)\n",
    "    \n",
    "y Hn es una suma de Riemann de esta integral con los puntos de la partición con coordenadas enteras. Podemos entonces \n",
    "decir que la serie diverge (aproximadamente) como el logaritmo.Euler definió la constante\n",
    "\n",
    "     cte de Euler := lim (Hn - log(n))\n",
    "                    n->00\n",
    "cuya existencia nos indica que la diferencia entre Hn y el logaritmo de n no crece con n . Sage dispone de un procedimiento, euler_gamma, para calcular con la precisión que queramos la constante de Euler.\n"
   ]
  },
  {
   "cell_type": "markdown",
   "metadata": {},
   "source": [
    "#### 1)  Define una función mi_gamma1(n, nbits) que calcule el término n-ésimo de la sucesión que define gamma con nbits de precisión"
   ]
  },
  {
   "cell_type": "code",
   "execution_count": null,
   "metadata": {
    "collapsed": true
   },
   "outputs": [],
   "source": [
    "def mi_gamma1(n,nbits):\n",
    "    R = RealField(prec=nbits)\n",
    "    return -R(log(n))+H(n,nbits)"
   ]
  },
  {
   "cell_type": "code",
   "execution_count": null,
   "metadata": {
    "collapsed": false
   },
   "outputs": [],
   "source": [
    "time mi_gamma1(10^6,100)"
   ]
  },
  {
   "cell_type": "code",
   "execution_count": null,
   "metadata": {
    "collapsed": false
   },
   "outputs": [],
   "source": [
    "euler_gamma.n(100)"
   ]
  },
  {
   "cell_type": "code",
   "execution_count": null,
   "metadata": {
    "collapsed": false
   },
   "outputs": [],
   "source": [
    "time euler_gamma.n()"
   ]
  },
  {
   "cell_type": "markdown",
   "metadata": {},
   "source": [
    "En este caso vemos que la precisión estándar de bits es suficiente para obtener cifras decimales correctas, y que no obtenemos más cifras correctas por aumentar la precisión."
   ]
  },
  {
   "cell_type": "markdown",
   "metadata": {},
   "source": [
    "#### 2) Define una función mi_gamma2(n,nbits) que calcule el sumatorio desde 1 a n de 1/n*([n/k]-n/k)\n",
    "\n",
    "Con nbits de precisión. La notación [x] indica la parte entera por exceso de x. El límite, cuando n tiende a infinito, de (cte de Euler de n) se sabe que es (cte de Euler)."
   ]
  },
  {
   "cell_type": "code",
   "execution_count": null,
   "metadata": {
    "collapsed": true
   },
   "outputs": [],
   "source": [
    "def F(n,nbits):\n",
    "    R = RealField(prec=nbits)\n",
    "    S = 0\n",
    "    for j in xsrange(1,n+1):\n",
    "        x = R(n/j)\n",
    "        S += ceil(x)-x\n",
    "    return S"
   ]
  },
  {
   "cell_type": "code",
   "execution_count": null,
   "metadata": {
    "collapsed": true
   },
   "outputs": [],
   "source": [
    "def mi_gamma2(n,nbits):\n",
    "    R = RealField(prec=nbits)\n",
    "    return R(F(n,nbits)/n)"
   ]
  },
  {
   "cell_type": "code",
   "execution_count": null,
   "metadata": {
    "collapsed": false
   },
   "outputs": [],
   "source": [
    "time mi_gamma2(10^6,53)"
   ]
  },
  {
   "cell_type": "code",
   "execution_count": null,
   "metadata": {
    "collapsed": false
   },
   "outputs": [],
   "source": [
    "time mi_gamma2(10^6, 106)"
   ]
  },
  {
   "cell_type": "code",
   "execution_count": null,
   "metadata": {
    "collapsed": false
   },
   "outputs": [],
   "source": [
    "euler_gamma.n()\n"
   ]
  },
  {
   "cell_type": "markdown",
   "metadata": {},
   "source": [
    "Vemos que el segundo método obtiene sólo 4 cifras decimales correctas y tarda más de cuatro veces más."
   ]
  },
  {
   "cell_type": "markdown",
   "metadata": {},
   "source": [
    "#### 3) Define una función mi_gamma3(n,nbits) que calcule gamma sumando n términos de la serie\n",
    "    desde k=1 a k=n de (1/k-log(1+1/k))"
   ]
  },
  {
   "cell_type": "code",
   "execution_count": null,
   "metadata": {
    "collapsed": true
   },
   "outputs": [],
   "source": [
    "def mi_gamma3(n,nbits):\n",
    "    R = RealField(prec=nbits)\n",
    "    S = 0\n",
    "    for j in xsrange(1, n+1):\n",
    "        x = R(1/j)\n",
    "        S += x-R(log(1+(1/j)))\n",
    "    return S\n",
    "    "
   ]
  },
  {
   "cell_type": "code",
   "execution_count": null,
   "metadata": {
    "collapsed": false
   },
   "outputs": [],
   "source": [
    "time mi_gamma3(10^6, 53)"
   ]
  },
  {
   "cell_type": "code",
   "execution_count": null,
   "metadata": {
    "collapsed": false
   },
   "outputs": [],
   "source": [
    "time mi_gamma3(10^6, 106)"
   ]
  },
  {
   "cell_type": "code",
   "execution_count": null,
   "metadata": {
    "collapsed": false
   },
   "outputs": [],
   "source": [
    "euler_gamma.n()"
   ]
  },
  {
   "cell_type": "markdown",
   "metadata": {},
   "source": [
    "Con el tercer método se recuperan 5 cifras correctas pero tarda más de 20 veces más que el primero."
   ]
  },
  {
   "cell_type": "markdown",
   "metadata": {},
   "source": [
    "#### 4) Compara la cantidad de cifras correctas obtenidas y los tiempos de cálculo para los tres métodos,  usando 10^6 y  fijando la precisión óptima mediante experimentación. ¿Qué conclusiones obtienes y cuál puede ser el motivo?\n",
    "\n",
    " "
   ]
  },
  {
   "cell_type": "markdown",
   "metadata": {},
   "source": [
    "Es bastante claro que el primer método es mejor que el segundo y éste mejor que el tercero. ¿Por qué?\n",
    "Debemos contar el número de operaciones que se hacen al aplicar cada uno de los métodos: En el primero calculamos n sumas y un logaritmo, en el segundo calculamos n divisiones y n sumas, y en el tercero n divisiones, n logaritmos y n sumas.\n"
   ]
  },
  {
   "cell_type": "markdown",
   "metadata": {},
   "source": [
    "### Ejercicio 3\n",
    "\n",
    "(2 puntos) Se define la función phi(n) como la suma de todos los divisores positivos del entero positivo n. Sage dispone de la función sigma que realiza este cálculo. Determina (experimentalmente) el mayor entero positivo tal que la diferencia\n",
    "\n",
    "    e^(cte de euler) * n* log(log(n)) - phi(n)\n",
    "\n",
    "es negativa ( es la constante de Euler)."
   ]
  },
  {
   "cell_type": "code",
   "execution_count": null,
   "metadata": {
    "collapsed": false
   },
   "outputs": [],
   "source": [
    "R = RealField(prec=50)\n",
    "exp(R(euler_gamma))"
   ]
  },
  {
   "cell_type": "code",
   "execution_count": null,
   "metadata": {
    "collapsed": false
   },
   "outputs": [],
   "source": [
    "R = RealField(prec=50)\n",
    "5*R(log(log(5)))-sigma(5)"
   ]
  },
  {
   "cell_type": "code",
   "execution_count": null,
   "metadata": {
    "collapsed": false
   },
   "outputs": [],
   "source": [
    "exp(1)"
   ]
  },
  {
   "cell_type": "code",
   "execution_count": null,
   "metadata": {
    "collapsed": false
   },
   "outputs": [],
   "source": [
    "exp(1).n()"
   ]
  },
  {
   "cell_type": "code",
   "execution_count": null,
   "metadata": {
    "collapsed": false
   },
   "outputs": [],
   "source": [
    "euler_gamma"
   ]
  },
  {
   "cell_type": "code",
   "execution_count": null,
   "metadata": {
    "collapsed": false
   },
   "outputs": [],
   "source": [
    "euler_gamma.n()"
   ]
  },
  {
   "cell_type": "code",
   "execution_count": null,
   "metadata": {
    "collapsed": true
   },
   "outputs": [],
   "source": [
    "def FF(n,nbits):\n",
    "    R = RealField(prec=nbits)\n",
    "    return exp(R(euler_gamma))*n*R(log(log(n)))-sigma(n)\n"
   ]
  },
  {
   "cell_type": "code",
   "execution_count": null,
   "metadata": {
    "collapsed": false
   },
   "outputs": [],
   "source": [
    "FF(5*10^5,50)"
   ]
  },
  {
   "cell_type": "code",
   "execution_count": null,
   "metadata": {
    "collapsed": true
   },
   "outputs": [],
   "source": [
    "def mayor(N,nbits):\n",
    "    max = 1\n",
    "    for n in xsrange(1,N):\n",
    "        if FF(n,nbits)<0.0:\n",
    "            max = n\n",
    "    return max"
   ]
  },
  {
   "cell_type": "code",
   "execution_count": null,
   "metadata": {
    "collapsed": false
   },
   "outputs": [],
   "source": [
    "time mayor(10^3,53)"
   ]
  },
  {
   "cell_type": "code",
   "execution_count": null,
   "metadata": {
    "collapsed": false
   },
   "outputs": [],
   "source": [
    "time mayor(10^4,53)"
   ]
  },
  {
   "cell_type": "code",
   "execution_count": null,
   "metadata": {
    "collapsed": false
   },
   "outputs": [],
   "source": [
    "time mayor(10^5,53)"
   ]
  },
  {
   "cell_type": "code",
   "execution_count": null,
   "metadata": {
    "collapsed": false
   },
   "outputs": [],
   "source": [
    "time mayor(10^6,53)"
   ]
  },
  {
   "cell_type": "markdown",
   "metadata": {},
   "source": [
    "Vemos que el entero buscado podría ser 5040 ya que no hay ninguno con FF(n,53) negativo entre 5041 y 10^5. Si quisiéramos comprobar hasta  10^6 debemos esperar que tarde del orden de 200 segundos, que no es demasiado. La precisión no parece ser importante en este problema, por lo que usamos la estándar de 53 bits."
   ]
  },
  {
   "cell_type": "code",
   "execution_count": null,
   "metadata": {
    "collapsed": true
   },
   "outputs": [],
   "source": [
    "#comprobamos que haya un num negativo en ese punto (5040) y vemos que es el mayor de los negativos\n",
    "L = [(n,FF(n,53)) for n in srange(2,8*10^3)]"
   ]
  },
  {
   "cell_type": "code",
   "execution_count": null,
   "metadata": {
    "collapsed": false
   },
   "outputs": [],
   "source": [
    "#show(L)"
   ]
  },
  {
   "cell_type": "code",
   "execution_count": null,
   "metadata": {
    "collapsed": false
   },
   "outputs": [],
   "source": [
    "points(L,pointsize=3)"
   ]
  },
  {
   "cell_type": "markdown",
   "metadata": {},
   "source": [
    " No se sabe si es cierto que 5040 es el mayor entero tal que es negativo, pero esa afirmación se ha demostrado que es equivalente a la \"hipótesis de Riemann\"."
   ]
  },
  {
   "cell_type": "markdown",
   "metadata": {},
   "source": [
    "### Ejercicio 4\n",
    "\n",
    "Definimos una sucesión de números racionales mediante\n",
    "        G1=0, G2=1, Gn = Gn-1 + (1/n-2)*Gn-2 (n>=3)\n",
    "\n",
    "    (1 punto) Comprueba (experimentalmente)  que la fracción n/Gn tiende al número e.\n",
    "    (1 punto) Compara la eficiencia de esta manera de aproximar e con la de la forma,  más conocida,  que utiliza la serie\n",
    "            e= k=1 hasta k=00 de 1/n!\n",
    "Programamos la recursión iterativamente, de forma similar a lo que hicimos para la sucesión de Fibonacci."
   ]
  },
  {
   "cell_type": "code",
   "execution_count": null,
   "metadata": {
    "collapsed": false
   },
   "outputs": [],
   "source": [
    "def G(n):\n",
    "    a,b = 0,1\n",
    "    for j in xsrange(3,n):\n",
    "        b,a = b+(a/(j-2)),b\n",
    "    return b"
   ]
  },
  {
   "cell_type": "code",
   "execution_count": null,
   "metadata": {
    "collapsed": true
   },
   "outputs": [],
   "source": [
    "x = G(1000)"
   ]
  },
  {
   "cell_type": "code",
   "execution_count": null,
   "metadata": {
    "collapsed": false
   },
   "outputs": [],
   "source": [
    "RR(x)"
   ]
  },
  {
   "cell_type": "code",
   "execution_count": null,
   "metadata": {
    "collapsed": false
   },
   "outputs": [],
   "source": [
    "RR(1000/x)"
   ]
  },
  {
   "cell_type": "code",
   "execution_count": null,
   "metadata": {
    "collapsed": false
   },
   "outputs": [],
   "source": [
    "RR(e)"
   ]
  },
  {
   "cell_type": "code",
   "execution_count": null,
   "metadata": {
    "collapsed": false
   },
   "outputs": [],
   "source": [
    "#forma marta prueba --> No se puede porque el ordena peta\n",
    "def G_1(n):\n",
    "    if n==1:\n",
    "        return 0\n",
    "    if n==2:\n",
    "        return 1\n",
    "    return (G_1(n-1)+(1/n-2)*G_1(n-2))"
   ]
  },
  {
   "cell_type": "code",
   "execution_count": null,
   "metadata": {
    "collapsed": true
   },
   "outputs": [],
   "source": [
    "def E(n,nbits):\n",
    "    R = RealField(prec=nbits)\n",
    "    a,b,k = R(0),R(1),3\n",
    "    while abs(R(k/b)-R(e))>R(10^(-n)):\n",
    "        b,a = R(b)+R(a/(k-2)),b\n",
    "        k += 1\n",
    "        #if k%10000 == 0:\n",
    "        #    print \"otros 10000\"  ##,k,abs(R(k/b)-R(e))\n",
    "    return R(k/b),R(k/b)-R(e),k"
   ]
  },
  {
   "cell_type": "code",
   "execution_count": null,
   "metadata": {
    "collapsed": false
   },
   "outputs": [],
   "source": [
    "time E(3,53)"
   ]
  },
  {
   "cell_type": "code",
   "execution_count": null,
   "metadata": {
    "collapsed": false
   },
   "outputs": [],
   "source": [
    "time E(6, 53)"
   ]
  },
  {
   "cell_type": "code",
   "execution_count": null,
   "metadata": {
    "collapsed": true
   },
   "outputs": [],
   "source": [
    "def Eserie(n,nbits):\n",
    "    R = RealField(prec=nbits)\n",
    "    S,k =R(2),1\n",
    "    while abs(R(S)-R(e))>R(10^(-n)):\n",
    "        k += 1\n",
    "        S += R(1/factorial(k))\n",
    "    return R(S),R(S)-R(e),k"
   ]
  },
  {
   "cell_type": "code",
   "execution_count": null,
   "metadata": {
    "collapsed": false
   },
   "outputs": [],
   "source": [
    "time Eserie(6,53)"
   ]
  },
  {
   "cell_type": "code",
   "execution_count": null,
   "metadata": {
    "collapsed": false
   },
   "outputs": [],
   "source": [
    "time Eserie(12,53)\n"
   ]
  },
  {
   "cell_type": "code",
   "execution_count": null,
   "metadata": {
    "collapsed": false
   },
   "outputs": [],
   "source": [
    "time Eserie(24,53)"
   ]
  },
  {
   "cell_type": "code",
   "execution_count": null,
   "metadata": {
    "collapsed": false
   },
   "outputs": [],
   "source": [
    "time Eserie(24,106)"
   ]
  },
  {
   "cell_type": "markdown",
   "metadata": {},
   "source": [
    "No podemos calcular 24 cifras de e usando 53 bits de precisión, y el bucle en el primer caso es infinito. Doblando la precisión obtenemos más 4x24 =96 de bits de precisión, y el cálculo se realiza en menos de centésimas de segundo.  Es claro que la serie es un método mucho más eficiente, posiblemente debido a que\n",
    "\n",
    "    Como n! crece de forma tan bestial, los términos que sumamos son en seguida irrelevantes para alcanzar la precisión deseada.\n",
    "    Sage dispone de un método muy eficiente para calcular factoriales, de forma que algo que, en principio,  suena improbable, que se pueda calcular rápido el factorial de un número grande, de hecho es cierto.\n",
    "\n",
    "Las celdas que siguen calculan el número de cifras decimales de factoriales grandes y el tiempo de cálculo."
   ]
  },
  {
   "cell_type": "code",
   "execution_count": null,
   "metadata": {
    "collapsed": false
   },
   "outputs": [],
   "source": [
    "time floor(log(factorial(1234567),base=10))"
   ]
  },
  {
   "cell_type": "code",
   "execution_count": null,
   "metadata": {
    "collapsed": false
   },
   "outputs": [],
   "source": [
    "time floor(log(factorial(12345678),base=10))"
   ]
  },
  {
   "cell_type": "code",
   "execution_count": null,
   "metadata": {
    "collapsed": false
   },
   "outputs": [],
   "source": [
    "time floor(log(factorial(123456789),base=10))"
   ]
  }
 ],
 "metadata": {
  "kernelspec": {
   "display_name": "SageMath 7.3",
   "language": "",
   "name": "sagemath"
  },
  "language_info": {
   "codemirror_mode": {
    "name": "ipython",
    "version": 2
   },
   "file_extension": ".py",
   "mimetype": "text/x-python",
   "name": "python",
   "nbconvert_exporter": "python",
   "pygments_lexer": "ipython2",
   "version": "2.7.10"
  }
 },
 "nbformat": 4,
 "nbformat_minor": 0
}
