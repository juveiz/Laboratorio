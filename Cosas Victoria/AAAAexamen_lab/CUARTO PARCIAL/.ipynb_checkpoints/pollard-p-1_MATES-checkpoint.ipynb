{
 "cells": [
  {
   "cell_type": "code",
   "execution_count": 1,
   "metadata": {
    "collapsed": false
   },
   "outputs": [],
   "source": [
    "def pollard_aux(B,n):\n",
    "    L = prime_range(B+1)\n",
    "    M = prod([q^((log(B,base=q).n()).ceil()) for q in L])\n",
    "    a =2\n",
    "    g = gcd(power_mod(a,M,n)-1,n)\n",
    "    if 1<g and g<n:\n",
    "        return g\n",
    "    else:\n",
    "        return False"
   ]
  },
  {
   "cell_type": "code",
   "execution_count": 2,
   "metadata": {
    "collapsed": false
   },
   "outputs": [
    {
     "data": {
      "text/plain": [
       "11383\n",
       "11383\n",
       "252852469\n",
       "2878219654627"
      ]
     },
     "execution_count": 2,
     "metadata": {},
     "output_type": "execute_result"
    }
   ],
   "source": [
    "pollard_aux(1000,nth_prime(1374)*nth_prime(13826755));nth_prime(1374);nth_prime(13826755);nth_prime(1374)*nth_prime(13826755)"
   ]
  },
  {
   "cell_type": "code",
   "execution_count": 3,
   "metadata": {
    "collapsed": false
   },
   "outputs": [
    {
     "data": {
      "text/plain": [
       "2 * 3 * 7 * 271"
      ]
     },
     "execution_count": 3,
     "metadata": {},
     "output_type": "execute_result"
    }
   ],
   "source": [
    "factor(nth_prime(1374)-1)"
   ]
  },
  {
   "cell_type": "code",
   "execution_count": 4,
   "metadata": {
    "collapsed": false
   },
   "outputs": [
    {
     "data": {
      "text/plain": [
       "False"
      ]
     },
     "execution_count": 4,
     "metadata": {},
     "output_type": "execute_result"
    }
   ],
   "source": [
    "pollard_aux(100,nth_prime(1374)*nth_prime(13826755))"
   ]
  },
  {
   "cell_type": "code",
   "execution_count": 5,
   "metadata": {
    "collapsed": false
   },
   "outputs": [
    {
     "data": {
      "text/plain": [
       "[False, False, 11383, False]"
      ]
     },
     "execution_count": 5,
     "metadata": {},
     "output_type": "execute_result"
    }
   ],
   "source": [
    "[pollard_aux(10^k,nth_prime(1374)*nth_prime(13826755)) for k in srange(1,5)]"
   ]
  },
  {
   "cell_type": "code",
   "execution_count": 6,
   "metadata": {
    "collapsed": false
   },
   "outputs": [],
   "source": [
    "def pollard_aux2(B,n):\n",
    "    L = prime_range(B+1)\n",
    "    M = prod([q^((log(B,base=q).n()).ceil()) for q in L])\n",
    "    for muda in srange(100):\n",
    "        a = randint(2,1000)\n",
    "        if gcd(a,n)== 1:\n",
    "            g = gcd(power_mod(a,M,n)-1,n)\n",
    "            print a,g\n",
    "            if 1<g and g<n:\n",
    "                return g\n",
    "    return False"
   ]
  },
  {
   "cell_type": "code",
   "execution_count": 7,
   "metadata": {
    "collapsed": false
   },
   "outputs": [
    {
     "data": {
      "text/plain": [
       "760 2878219654627\n",
       "23 2878219654627\n",
       "898 2878219654627\n",
       "493 2878219654627\n",
       "278 2878219654627\n",
       "302 2878219654627\n",
       "210 2878219654627\n",
       "786 2878219654627\n",
       "386 2878219654627\n",
       "4 2878219654627\n",
       "204 2878219654627\n",
       "981 2878219654627\n",
       "826 2878219654627\n",
       "313 2878219654627\n",
       "537 2878219654627\n",
       "995 2878219654627\n",
       "930 2878219654627\n",
       "866 2878219654627\n",
       "442 2878219654627\n",
       "275 2878219654627\n",
       "765 2878219654627\n",
       "457 2878219654627\n",
       "35 2878219654627\n",
       "584 2878219654627\n",
       "628 2878219654627\n",
       "922 2878219654627\n",
       "191 2878219654627\n",
       "213 2878219654627\n",
       "54 2878219654627\n",
       "487 2878219654627\n",
       "149 2878219654627\n",
       "844 2878219654627\n",
       "410 2878219654627\n",
       "222 2878219654627\n",
       "147 2878219654627\n",
       "394 2878219654627\n",
       "537 2878219654627\n",
       "790 2878219654627\n",
       "557 2878219654627\n",
       "448 2878219654627\n",
       "90 2878219654627\n",
       "988 2878219654627\n",
       "684 2878219654627\n",
       "643 2878219654627\n",
       "625 2878219654627\n",
       "502 2878219654627\n",
       "451 2878219654627\n",
       "681 2878219654627\n",
       "293 2878219654627\n",
       "22 2878219654627\n",
       "936 2878219654627\n",
       "642 2878219654627\n",
       "820 2878219654627\n",
       "277 2878219654627\n",
       "270 2878219654627\n",
       "238 2878219654627\n",
       "532 2878219654627\n",
       "536 2878219654627\n",
       "416 2878219654627\n",
       "936 2878219654627\n",
       "768 2878219654627\n",
       "201 2878219654627\n",
       "208 2878219654627\n",
       "757 2878219654627\n",
       "616 2878219654627\n",
       "129 2878219654627\n",
       "737 2878219654627\n",
       "210 2878219654627\n",
       "220 2878219654627\n",
       "292 2878219654627\n",
       "881 2878219654627\n",
       "643 2878219654627\n",
       "535 2878219654627\n",
       "376 2878219654627\n",
       "765 2878219654627\n",
       "244 2878219654627\n",
       "903 2878219654627\n",
       "37 2878219654627\n",
       "944 2878219654627\n",
       "895 2878219654627\n",
       "873 2878219654627\n",
       "179 2878219654627\n",
       "12 2878219654627\n",
       "368 2878219654627\n",
       "680 2878219654627\n",
       "365 2878219654627\n",
       "226 2878219654627\n",
       "547 2878219654627\n",
       "833 2878219654627\n",
       "100 2878219654627\n",
       "938 2878219654627\n",
       "858 2878219654627\n",
       "648 2878219654627\n",
       "870 2878219654627\n",
       "96 2878219654627\n",
       "956 2878219654627\n",
       "636 2878219654627\n",
       "669 2878219654627\n",
       "62 2878219654627\n",
       "130 2878219654627\n",
       "False"
      ]
     },
     "execution_count": 7,
     "metadata": {},
     "output_type": "execute_result"
    }
   ],
   "source": [
    "pollard_aux2(10000,nth_prime(1374)*nth_prime(13826755))"
   ]
  },
  {
   "cell_type": "code",
   "execution_count": 8,
   "metadata": {
    "collapsed": false
   },
   "outputs": [
    {
     "data": {
      "text/plain": [
       "[False, False, False, False]"
      ]
     },
     "execution_count": 8,
     "metadata": {},
     "output_type": "execute_result"
    }
   ],
   "source": [
    "[pollard_aux(10^k,nth_prime(1974)*nth_prime(13826755)) for k in srange(1,5)]"
   ]
  },
  {
   "cell_type": "code",
   "execution_count": 9,
   "metadata": {
    "collapsed": false
   },
   "outputs": [
    {
     "data": {
      "text/plain": [
       "[False, False, False, False, False]"
      ]
     },
     "execution_count": 9,
     "metadata": {},
     "output_type": "execute_result"
    }
   ],
   "source": [
    "[pollard_aux(10^k,nth_prime(1974)*nth_prime(13826755)) for k in srange(1,6)]"
   ]
  },
  {
   "cell_type": "code",
   "execution_count": 10,
   "metadata": {
    "collapsed": false
   },
   "outputs": [
    {
     "data": {
      "text/plain": [
       "2 * 7 * 1223"
      ]
     },
     "execution_count": 10,
     "metadata": {},
     "output_type": "execute_result"
    }
   ],
   "source": [
    "factor(nth_prime(1974)-1)"
   ]
  },
  {
   "cell_type": "code",
   "execution_count": 11,
   "metadata": {
    "collapsed": false
   },
   "outputs": [
    {
     "data": {
      "text/plain": [
       "17123"
      ]
     },
     "execution_count": 11,
     "metadata": {},
     "output_type": "execute_result"
    }
   ],
   "source": [
    "pollard_aux(1300,nth_prime(1974)*nth_prime(13826755))"
   ]
  },
  {
   "cell_type": "code",
   "execution_count": 12,
   "metadata": {
    "collapsed": false
   },
   "outputs": [
    {
     "data": {
      "text/plain": [
       "25 4329592826687\n",
       "378 4329592826687\n",
       "653 4329592826687\n",
       "512 4329592826687\n",
       "418 4329592826687\n",
       "570 4329592826687\n",
       "523 4329592826687\n",
       "673 4329592826687\n",
       "502 4329592826687\n",
       "433 4329592826687\n",
       "707 4329592826687\n",
       "794 4329592826687\n",
       "618 4329592826687\n",
       "987 4329592826687\n",
       "622 4329592826687\n",
       "746 4329592826687\n",
       "953 4329592826687\n",
       "556 4329592826687\n",
       "776 4329592826687\n",
       "657 4329592826687\n",
       "500 4329592826687\n",
       "923 4329592826687\n",
       "102 4329592826687\n",
       "179 4329592826687\n",
       "526 4329592826687\n",
       "898 4329592826687\n",
       "403 4329592826687\n",
       "437 4329592826687\n",
       "355 4329592826687\n",
       "886 4329592826687\n",
       "80 4329592826687\n",
       "904 4329592826687\n",
       "126 4329592826687\n",
       "826 4329592826687\n",
       "123 4329592826687\n",
       "555 4329592826687\n",
       "234 4329592826687\n",
       "148 4329592826687\n",
       "939 4329592826687\n",
       "589 4329592826687\n",
       "841 4329592826687\n",
       "518 4329592826687\n",
       "839 4329592826687\n",
       "153 4329592826687\n",
       "392 4329592826687\n",
       "742 4329592826687\n",
       "910 4329592826687\n",
       "757 4329592826687\n",
       "840 4329592826687\n",
       "613 4329592826687\n",
       "387 4329592826687\n",
       "181 4329592826687\n",
       "696 4329592826687\n",
       "513 4329592826687\n",
       "968 4329592826687\n",
       "350 4329592826687\n",
       "718 4329592826687\n",
       "369 4329592826687\n",
       "611 4329592826687\n",
       "189 4329592826687\n",
       "655 4329592826687\n",
       "359 4329592826687\n",
       "804 4329592826687\n",
       "848 4329592826687\n",
       "262 4329592826687\n",
       "693 4329592826687\n",
       "282 4329592826687\n",
       "415 4329592826687\n",
       "337 4329592826687\n",
       "155 4329592826687\n",
       "760 4329592826687\n",
       "536 4329592826687\n",
       "723 4329592826687\n",
       "578 4329592826687\n",
       "141 4329592826687\n",
       "389 4329592826687\n",
       "317 4329592826687\n",
       "241 4329592826687\n",
       "912 4329592826687\n",
       "51 4329592826687\n",
       "133 4329592826687\n",
       "814 4329592826687\n",
       "161 4329592826687\n",
       "156 4329592826687\n",
       "752 4329592826687\n",
       "484 4329592826687\n",
       "947 4329592826687\n",
       "221 4329592826687\n",
       "379 4329592826687\n",
       "102 4329592826687\n",
       "470 4329592826687\n",
       "727 4329592826687\n",
       "767 4329592826687\n",
       "441 4329592826687\n",
       "884 4329592826687\n",
       "406 4329592826687\n",
       "758 4329592826687\n",
       "392 4329592826687\n",
       "837 4329592826687\n",
       "382 4329592826687\n",
       "False"
      ]
     },
     "execution_count": 12,
     "metadata": {},
     "output_type": "execute_result"
    }
   ],
   "source": [
    "pollard_aux2(10000,nth_prime(1974)*nth_prime(13826755))"
   ]
  },
  {
   "cell_type": "code",
   "execution_count": 13,
   "metadata": {
    "collapsed": false
   },
   "outputs": [],
   "source": [
    "def pollard(n):\n",
    "    valor = False\n",
    "    cont = 0\n",
    "    B = 10\n",
    "    while valor == False and cont < 100:\n",
    "        valor=pollard_aux(B,n)\n",
    "        B += 100\n",
    "        cont += 1\n",
    "    return valor,B"
   ]
  },
  {
   "cell_type": "code",
   "execution_count": 14,
   "metadata": {
    "collapsed": false
   },
   "outputs": [
    {
     "data": {
      "text/plain": [
       "(17123, 1410)"
      ]
     },
     "execution_count": 14,
     "metadata": {},
     "output_type": "execute_result"
    }
   ],
   "source": [
    "pollard(nth_prime(1974)*nth_prime(13826755))"
   ]
  }
 ],
 "metadata": {
  "kernelspec": {
   "display_name": "Sage 6.6",
   "language": "python",
   "name": "sage_6_6"
  }
 },
 "nbformat": 4,
 "nbformat_minor": 0
}
