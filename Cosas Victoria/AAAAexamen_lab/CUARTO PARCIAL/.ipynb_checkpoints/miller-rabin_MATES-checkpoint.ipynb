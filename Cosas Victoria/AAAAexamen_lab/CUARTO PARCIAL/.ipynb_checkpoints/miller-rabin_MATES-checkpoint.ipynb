{
 "cells": [
  {
   "cell_type": "code",
   "execution_count": 1,
   "metadata": {
    "collapsed": false
   },
   "outputs": [],
   "source": [
    "def miller_rabin0(n):\n",
    "    n2 = n-1\n",
    "    s = 0\n",
    "    while n2%2 == 0:\n",
    "        n2 = n2//2\n",
    "        s += 1\n",
    "        #print s\n",
    "    return s,(n-1)//(2^s)"
   ]
  },
  {
   "cell_type": "code",
   "execution_count": 2,
   "metadata": {
    "collapsed": false
   },
   "outputs": [
    {
     "data": {
      "text/plain": [
       "(3, 3)"
      ]
     },
     "execution_count": 2,
     "metadata": {},
     "output_type": "execute_result"
    }
   ],
   "source": [
    "miller_rabin0(25)"
   ]
  },
  {
   "cell_type": "code",
   "execution_count": 3,
   "metadata": {
    "collapsed": false
   },
   "outputs": [],
   "source": [
    "def miller_rabin1(n,t):\n",
    "    L = []\n",
    "    while len(L) <= t:\n",
    "        a = randint(2,n-1)\n",
    "        if gcd(a,n) == 1:\n",
    "            L.append(a)\n",
    "        else:\n",
    "            return False\n",
    "    return L"
   ]
  },
  {
   "cell_type": "code",
   "execution_count": 4,
   "metadata": {
    "collapsed": false
   },
   "outputs": [],
   "source": [
    "def miller_rabin2a(n,a,d):\n",
    "    if power_mod(a,d,n) == 1:\n",
    "        return True\n",
    "    else: \n",
    "        return False ###########a puede ser un testigo, debe devolver False tambien miller_rabin2b"
   ]
  },
  {
   "cell_type": "code",
   "execution_count": 5,
   "metadata": {
    "collapsed": false
   },
   "outputs": [],
   "source": [
    "def miller_rabin2b(n,a,s,d):\n",
    "    L = [1 for r in srange(s) if (power_mod(a,(2^r)*d,n)+1)%n == 0]\n",
    "    if len(L) > 0:\n",
    "        return True \n",
    "    else: \n",
    "        return False ############# a puede ser un testigo, debe devolver False tambien miller_rabin2a"
   ]
  },
  {
   "cell_type": "code",
   "execution_count": 6,
   "metadata": {
    "collapsed": false
   },
   "outputs": [],
   "source": [
    "def miller_rabin(n,t):\n",
    "    s,d = miller_rabin0(n)\n",
    "    L = miller_rabin1(n,t)\n",
    "    if L == False:\n",
    "        return False\n",
    "    else:\n",
    "        for a in L:\n",
    "            if not miller_rabin2a(n,a,d) and not miller_rabin2b(n,a,s,d):\n",
    "                return False    ##El entero n es compuesto con seguridad y a es un testigo\n",
    "        return True             ### El entero n es \"casi primo\""
   ]
  },
  {
   "cell_type": "code",
   "execution_count": 7,
   "metadata": {
    "collapsed": false
   },
   "outputs": [
    {
     "data": {
      "text/plain": [
       "False"
      ]
     },
     "execution_count": 7,
     "metadata": {},
     "output_type": "execute_result"
    }
   ],
   "source": [
    "miller_rabin(nth_prime(178)*nth_prime(246),15)"
   ]
  },
  {
   "cell_type": "code",
   "execution_count": 8,
   "metadata": {
    "collapsed": false
   },
   "outputs": [
    {
     "data": {
      "text/plain": [
       "True"
      ]
     },
     "execution_count": 8,
     "metadata": {},
     "output_type": "execute_result"
    }
   ],
   "source": [
    "miller_rabin(nth_prime(1456888),20)"
   ]
  },
  {
   "cell_type": "markdown",
   "metadata": {},
   "source": [
    "<h3>Teorema 1</h3>"
   ]
  },
  {
   "cell_type": "code",
   "execution_count": 9,
   "metadata": {
    "collapsed": false
   },
   "outputs": [],
   "source": [
    "def teorema1(p,a):\n",
    "    s,d = miller_rabin0(p)\n",
    "    if power_mod(a,d,p) == 1:\n",
    "        print \"Se cumple la primera condicion.\"\n",
    "    else:\n",
    "        for r in srange(s):\n",
    "            if (power_mod(a,(2^r)*d,p)+1)%p == 0:\n",
    "                print \"Se cumple la segunda condicion.\"\n",
    "                break"
   ]
  },
  {
   "cell_type": "code",
   "execution_count": 10,
   "metadata": {
    "collapsed": false
   },
   "outputs": [
    {
     "name": "stdout",
     "output_type": "stream",
     "text": [
      "Se cumple la segunda condicion.\n"
     ]
    }
   ],
   "source": [
    "teorema1(nth_prime(1456),5249)"
   ]
  },
  {
   "cell_type": "code",
   "execution_count": 11,
   "metadata": {
    "collapsed": false
   },
   "outputs": [
    {
     "name": "stdout",
     "output_type": "stream",
     "text": [
      "1009 863\n",
      "Se cumple la segunda condicion.\n",
      "=======================================================================\n",
      "1013 182\n",
      "Se cumple la segunda condicion.\n",
      "=======================================================================\n",
      "1019 433\n",
      "Se cumple la primera condicion.\n",
      "=======================================================================\n",
      "1021 726\n",
      "Se cumple la segunda condicion.\n",
      "=======================================================================\n",
      "1031 360\n",
      "Se cumple la primera condicion.\n",
      "=======================================================================\n",
      "1033 475\n",
      "Se cumple la segunda condicion.\n",
      "=======================================================================\n",
      "1039 30\n",
      "Se cumple la segunda condicion.\n",
      "=======================================================================\n",
      "1049 628\n",
      "Se cumple la segunda condicion.\n",
      "=======================================================================\n",
      "1051 386\n",
      "Se cumple la segunda condicion.\n",
      "=======================================================================\n",
      "1061 131\n",
      "Se cumple la primera condicion.\n",
      "=======================================================================\n",
      "1063 746\n",
      "Se cumple la segunda condicion.\n",
      "=======================================================================\n",
      "1069 1066\n",
      "Se cumple la primera condicion.\n",
      "=======================================================================\n",
      "1087 203\n",
      "Se cumple la primera condicion.\n",
      "=======================================================================\n",
      "1091 645\n",
      "Se cumple la segunda condicion.\n",
      "=======================================================================\n",
      "1093 233\n",
      "Se cumple la primera condicion.\n",
      "=======================================================================\n",
      "1097 16\n",
      "Se cumple la primera condicion.\n",
      "=======================================================================\n",
      "1103 487\n",
      "Se cumple la segunda condicion.\n",
      "=======================================================================\n",
      "1109 719\n",
      "Se cumple la primera condicion.\n",
      "=======================================================================\n",
      "1117 186\n",
      "Se cumple la segunda condicion.\n",
      "=======================================================================\n",
      "1123 769\n",
      "Se cumple la segunda condicion.\n",
      "=======================================================================\n",
      "1129 86\n",
      "Se cumple la segunda condicion.\n",
      "=======================================================================\n",
      "1151 829\n",
      "Se cumple la primera condicion.\n",
      "=======================================================================\n",
      "1153 484\n",
      "Se cumple la segunda condicion.\n",
      "=======================================================================\n",
      "1163 334\n",
      "Se cumple la segunda condicion.\n",
      "=======================================================================\n",
      "1171 1064\n",
      "Se cumple la primera condicion.\n",
      "=======================================================================\n",
      "1181 29\n",
      "Se cumple la segunda condicion.\n",
      "=======================================================================\n",
      "1187 508\n",
      "Se cumple la segunda condicion.\n",
      "=======================================================================\n",
      "1193 552\n",
      "Se cumple la segunda condicion.\n",
      "=======================================================================\n",
      "1201 265\n",
      "Se cumple la segunda condicion.\n",
      "=======================================================================\n",
      "1213 783\n",
      "Se cumple la primera condicion.\n",
      "=======================================================================\n",
      "1217 741\n",
      "Se cumple la segunda condicion.\n",
      "=======================================================================\n",
      "1223 736\n",
      "Se cumple la segunda condicion.\n",
      "=======================================================================\n",
      "1229 1186\n",
      "Se cumple la primera condicion.\n",
      "=======================================================================\n",
      "1231 803\n",
      "Se cumple la segunda condicion.\n",
      "=======================================================================\n",
      "1237 1015\n",
      "Se cumple la segunda condicion.\n",
      "=======================================================================\n",
      "1249 1054\n",
      "Se cumple la segunda condicion.\n",
      "=======================================================================\n",
      "1259 1134\n",
      "Se cumple la segunda condicion.\n",
      "=======================================================================\n",
      "1277 172\n",
      "Se cumple la segunda condicion.\n",
      "=======================================================================\n",
      "1279 1176\n",
      "Se cumple la segunda condicion.\n",
      "=======================================================================\n",
      "1283 499\n",
      "Se cumple la segunda condicion.\n",
      "=======================================================================\n",
      "1289 218\n",
      "Se cumple la segunda condicion.\n",
      "=======================================================================\n",
      "1291 828\n",
      "Se cumple la segunda condicion.\n",
      "=======================================================================\n",
      "1297 932\n",
      "Se cumple la segunda condicion.\n",
      "=======================================================================\n",
      "1301 491\n",
      "Se cumple la segunda condicion.\n",
      "=======================================================================\n",
      "1303 1015\n",
      "Se cumple la segunda condicion.\n",
      "=======================================================================\n",
      "1307 803\n",
      "Se cumple la primera condicion.\n",
      "=======================================================================\n",
      "1319 343\n",
      "Se cumple la primera condicion.\n",
      "=======================================================================\n",
      "1321 1161\n",
      "Se cumple la segunda condicion.\n",
      "=======================================================================\n",
      "1327 827\n",
      "Se cumple la primera condicion.\n",
      "=======================================================================\n",
      "1361 1274\n",
      "Se cumple la segunda condicion.\n",
      "=======================================================================\n",
      "1367 1302\n",
      "Se cumple la segunda condicion.\n",
      "=======================================================================\n",
      "1373 440\n",
      "Se cumple la segunda condicion.\n",
      "=======================================================================\n",
      "1381 768\n",
      "Se cumple la primera condicion.\n",
      "=======================================================================\n",
      "1399 1095\n",
      "Se cumple la segunda condicion.\n",
      "=======================================================================\n",
      "1409 1028\n",
      "Se cumple la segunda condicion.\n",
      "=======================================================================\n",
      "1423 498\n",
      "Se cumple la primera condicion.\n",
      "=======================================================================\n",
      "1427 523\n",
      "Se cumple la segunda condicion.\n",
      "=======================================================================\n",
      "1429 387\n",
      "Se cumple la primera condicion.\n",
      "=======================================================================\n",
      "1433 907\n",
      "Se cumple la segunda condicion.\n",
      "=======================================================================\n",
      "1439 1318\n",
      "Se cumple la segunda condicion.\n",
      "=======================================================================\n",
      "1447 342\n",
      "Se cumple la primera condicion.\n",
      "=======================================================================\n",
      "1451 424\n",
      "Se cumple la primera condicion.\n",
      "=======================================================================\n",
      "1453 1313\n",
      "Se cumple la segunda condicion.\n",
      "=======================================================================\n",
      "1459 60\n",
      "Se cumple la segunda condicion.\n",
      "=======================================================================\n",
      "1471 1401\n",
      "Se cumple la primera condicion.\n",
      "=======================================================================\n",
      "1481 738\n",
      "Se cumple la segunda condicion.\n",
      "=======================================================================\n",
      "1483 1172\n",
      "Se cumple la segunda condicion.\n",
      "=======================================================================\n",
      "1487 112\n",
      "Se cumple la primera condicion.\n",
      "=======================================================================\n",
      "1489 1370\n",
      "Se cumple la segunda condicion.\n",
      "=======================================================================\n",
      "1493 420\n",
      "Se cumple la segunda condicion.\n",
      "=======================================================================\n",
      "1499 343\n",
      "Se cumple la segunda condicion.\n",
      "=======================================================================\n",
      "1511 121\n",
      "Se cumple la primera condicion.\n",
      "=======================================================================\n",
      "1523 1378\n",
      "Se cumple la segunda condicion.\n",
      "=======================================================================\n",
      "1531 280\n",
      "Se cumple la segunda condicion.\n",
      "=======================================================================\n",
      "1543 359\n",
      "Se cumple la segunda condicion.\n",
      "=======================================================================\n",
      "1549 180\n",
      "Se cumple la primera condicion.\n",
      "=======================================================================\n",
      "1553 1551\n",
      "Se cumple la primera condicion.\n",
      "=======================================================================\n",
      "1559 1230\n",
      "Se cumple la primera condicion.\n",
      "=======================================================================\n",
      "1567 425\n",
      "Se cumple la segunda condicion.\n",
      "=======================================================================\n",
      "1571 865\n",
      "Se cumple la primera condicion.\n",
      "=======================================================================\n",
      "1579 1023\n",
      "Se cumple la segunda condicion.\n",
      "=======================================================================\n",
      "1583 605\n",
      "Se cumple la segunda condicion.\n",
      "=======================================================================\n",
      "1597 226\n",
      "Se cumple la segunda condicion.\n",
      "=======================================================================\n",
      "1601 355\n",
      "Se cumple la segunda condicion.\n",
      "=======================================================================\n",
      "1607 903\n",
      "Se cumple la primera condicion.\n",
      "=======================================================================\n",
      "1609 139\n",
      "Se cumple la segunda condicion.\n",
      "=======================================================================\n",
      "1613 467\n",
      "Se cumple la segunda condicion.\n",
      "=======================================================================\n",
      "1619 752\n",
      "Se cumple la segunda condicion.\n",
      "=======================================================================\n",
      "1621 443\n",
      "Se cumple la segunda condicion.\n",
      "=======================================================================\n",
      "1627 462\n",
      "Se cumple la primera condicion.\n",
      "=======================================================================\n",
      "1637 433\n",
      "Se cumple la segunda condicion.\n",
      "=======================================================================\n",
      "1657 59\n",
      "Se cumple la primera condicion.\n",
      "=======================================================================\n",
      "1663 769\n",
      "Se cumple la primera condicion.\n",
      "=======================================================================\n",
      "1667 425\n",
      "Se cumple la primera condicion.\n",
      "=======================================================================\n",
      "1669 869\n",
      "Se cumple la segunda condicion.\n",
      "=======================================================================\n",
      "1693 1690\n",
      "Se cumple la primera condicion.\n",
      "=======================================================================\n",
      "1697 888\n",
      "Se cumple la segunda condicion.\n",
      "=======================================================================\n",
      "1699 587\n",
      "Se cumple la segunda condicion.\n",
      "=======================================================================\n",
      "1709 1047\n",
      "Se cumple la segunda condicion.\n",
      "=======================================================================\n",
      "1721 505\n",
      "Se cumple la primera condicion.\n",
      "=======================================================================\n",
      "1723 1570\n",
      "Se cumple la primera condicion.\n",
      "=======================================================================\n",
      "1733 541\n",
      "Se cumple la primera condicion.\n",
      "=======================================================================\n",
      "1741 59\n",
      "Se cumple la segunda condicion.\n",
      "=======================================================================\n",
      "1747 796\n",
      "Se cumple la segunda condicion.\n",
      "=======================================================================\n",
      "1753 1243\n",
      "Se cumple la segunda condicion.\n",
      "=======================================================================\n",
      "1759 1192\n",
      "Se cumple la primera condicion.\n",
      "=======================================================================\n",
      "1777 150\n",
      "Se cumple la segunda condicion.\n",
      "=======================================================================\n",
      "1783 914\n",
      "Se cumple la segunda condicion.\n",
      "=======================================================================\n",
      "1787 285\n",
      "Se cumple la primera condicion.\n",
      "=======================================================================\n",
      "1789 698\n",
      "Se cumple la segunda condicion.\n",
      "=======================================================================\n",
      "1801 934\n",
      "Se cumple la segunda condicion.\n",
      "=======================================================================\n",
      "1811 289\n",
      "Se cumple la primera condicion.\n",
      "=======================================================================\n",
      "1823 379\n",
      "Se cumple la segunda condicion.\n",
      "=======================================================================\n",
      "1831 1029\n",
      "Se cumple la primera condicion.\n",
      "=======================================================================\n",
      "1847 695\n",
      "Se cumple la segunda condicion.\n",
      "=======================================================================\n",
      "1861 1047\n",
      "Se cumple la segunda condicion.\n",
      "=======================================================================\n",
      "1867 866\n",
      "Se cumple la primera condicion.\n",
      "=======================================================================\n",
      "1871 1015\n",
      "Se cumple la primera condicion.\n",
      "=======================================================================\n",
      "1873 879\n",
      "Se cumple la segunda condicion.\n",
      "=======================================================================\n",
      "1877 512\n",
      "Se cumple la segunda condicion.\n",
      "=======================================================================\n",
      "1879 1484\n",
      "Se cumple la primera condicion.\n",
      "=======================================================================\n",
      "1889 1030\n",
      "Se cumple la segunda condicion.\n",
      "=======================================================================\n",
      "1901 312\n",
      "Se cumple la segunda condicion.\n",
      "=======================================================================\n",
      "1907 202\n",
      "Se cumple la primera condicion.\n",
      "=======================================================================\n",
      "1913 1135\n",
      "Se cumple la segunda condicion.\n",
      "=======================================================================\n",
      "1931 1231\n",
      "Se cumple la segunda condicion.\n",
      "=======================================================================\n",
      "1933 676\n",
      "Se cumple la segunda condicion.\n",
      "=======================================================================\n",
      "1949 1234\n",
      "Se cumple la segunda condicion.\n",
      "=======================================================================\n",
      "1951 1663\n",
      "Se cumple la segunda condicion.\n",
      "=======================================================================\n",
      "1973 174\n",
      "Se cumple la primera condicion.\n",
      "=======================================================================\n",
      "1979 1573\n",
      "Se cumple la primera condicion.\n",
      "=======================================================================\n",
      "1987 516\n",
      "Se cumple la primera condicion.\n",
      "=======================================================================\n",
      "1993 476\n",
      "Se cumple la segunda condicion.\n",
      "=======================================================================\n",
      "1997 693\n",
      "Se cumple la segunda condicion.\n",
      "=======================================================================\n",
      "1999 458\n",
      "Se cumple la primera condicion.\n",
      "=======================================================================\n"
     ]
    }
   ],
   "source": [
    "for p in prime_range(1000,2000):\n",
    "    a = randint(1,p-1)\n",
    "    print p,a\n",
    "    if gcd(a,p) == 1:\n",
    "        teorema1(p,a)\n",
    "        print \"=======================================================================\""
   ]
  },
  {
   "cell_type": "markdown",
   "metadata": {},
   "source": [
    "<h3>Teorema 2</h3>"
   ]
  },
  {
   "cell_type": "code",
   "execution_count": 12,
   "metadata": {
    "collapsed": false
   },
   "outputs": [],
   "source": [
    "def teorema2(n):\n",
    "    testigos = 0\n",
    "    s,d = miller_rabin0(n)\n",
    "    #print s,d\n",
    "    for a in srange(2,n):\n",
    "        if gcd(a,n) == 1:\n",
    "            if ((not miller_rabin2a(n,a,d)) and (not miller_rabin2b(n,a,s,d))):\n",
    "                testigos += 1\n",
    "        else:\n",
    "            testigos += 1\n",
    "    if  testigos < n-((n-1)/4).ceil():\n",
    "        return testigos,n-((n-1)/4).ceil()"
   ]
  },
  {
   "cell_type": "code",
   "execution_count": 13,
   "metadata": {
    "collapsed": false
   },
   "outputs": [],
   "source": [
    "teorema2(10005)"
   ]
  },
  {
   "cell_type": "code",
   "execution_count": 14,
   "metadata": {
    "collapsed": false
   },
   "outputs": [
    {
     "name": "stdout",
     "output_type": "stream",
     "text": [
      "= = = = = = = = = = = = = = = = = = = = = = = = = = = = = = = = = = = = = = =\n"
     ]
    }
   ],
   "source": [
    "for int in srange(10000,10100):\n",
    "    if ((not is_prime(int)) and (int%2 == 1)):\n",
    "        print \"=\",\n",
    "        teorema2(int)"
   ]
  },
  {
   "cell_type": "markdown",
   "metadata": {},
   "source": [
    "<h3>Comprobamos</h3>"
   ]
  },
  {
   "cell_type": "code",
   "execution_count": 15,
   "metadata": {
    "collapsed": false
   },
   "outputs": [
    {
     "data": {
      "text/plain": [
       "True"
      ]
     },
     "execution_count": 15,
     "metadata": {},
     "output_type": "execute_result"
    }
   ],
   "source": [
    "all([not miller_rabin(p*nth_prime(1150),10) for p in prime_range(100000,110000)])"
   ]
  },
  {
   "cell_type": "code",
   "execution_count": 16,
   "metadata": {
    "collapsed": false
   },
   "outputs": [
    {
     "data": {
      "text/plain": [
       "True"
      ]
     },
     "execution_count": 16,
     "metadata": {},
     "output_type": "execute_result"
    }
   ],
   "source": [
    "all([miller_rabin(p,10) for p in prime_range(100000,110000)])"
   ]
  },
  {
   "cell_type": "markdown",
   "metadata": {},
   "source": [
    "<h3>B&uacute;squeda de un entero que pase Miller-Rabin, con probabilidad te&oacute;rica menor que $1\\%$ de aceptar un no primo como primo, pero sea compuesto:</h3>"
   ]
  },
  {
   "cell_type": "code",
   "execution_count": 17,
   "metadata": {
    "collapsed": false
   },
   "outputs": [
    {
     "data": {
      "text/plain": [
       "3.32192809488736"
      ]
     },
     "execution_count": 17,
     "metadata": {},
     "output_type": "execute_result"
    }
   ],
   "source": [
    "(log(0.01)/log(0.25)).n()"
   ]
  },
  {
   "cell_type": "code",
   "execution_count": 18,
   "metadata": {
    "collapsed": false
   },
   "outputs": [
    {
     "data": {
      "text/plain": [
       "[]"
      ]
     },
     "execution_count": 18,
     "metadata": {},
     "output_type": "execute_result"
    }
   ],
   "source": [
    "[n for n in srange(2^100,2^100+1000) if is_prime(n) != miller_rabin(n,4)]"
   ]
  },
  {
   "cell_type": "code",
   "execution_count": 19,
   "metadata": {
    "collapsed": false
   },
   "outputs": [
    {
     "data": {
      "text/plain": [
       "[]"
      ]
     },
     "execution_count": 19,
     "metadata": {},
     "output_type": "execute_result"
    }
   ],
   "source": [
    "[n for n in srange(2^100,2^100+10000) if is_prime(n) != miller_rabin(n,4)]"
   ]
  },
  {
   "cell_type": "code",
   "execution_count": 21,
   "metadata": {
    "collapsed": false
   },
   "outputs": [
    {
     "data": {
      "text/plain": [
       "[]"
      ]
     },
     "execution_count": 21,
     "metadata": {},
     "output_type": "execute_result"
    }
   ],
   "source": [
    "[n for n in srange(2^400,2^400+100000) if is_prime(n) != miller_rabin(n,4)]"
   ]
  },
  {
   "cell_type": "code",
   "execution_count": 22,
   "metadata": {
    "collapsed": false
   },
   "outputs": [
    {
     "data": {
      "text/plain": [
       "[]"
      ]
     },
     "execution_count": 22,
     "metadata": {},
     "output_type": "execute_result"
    }
   ],
   "source": [
    "[n for n in srange(10,10^7) if ((not is_prime(n)) and (miller_rabin(n,4) == True))]"
   ]
  },
  {
   "cell_type": "markdown",
   "metadata": {},
   "source": [
    "<h3>Miller-Rabin determinista suponiendo cierta la Hip&oacute;tesis de Riemann generalizada:</h3>\n",
    "\n",
    "<p>Si se admite la Hip&oacute;tesis de Riemann generalizada&nbsp; (no se ha demostrado la Hip&oacute;tesis de Riemann y mucho menos la generalizada) se puede demostrar que necesariamente hay un testigo menor que $log(log(n))$. El m&eacute;todo es ahora totalmente determinista, es decir, ya no demuestra que un n&uacute;mero es primo con probabilidad mayor que, por ejemplo,&nbsp; $0.999$ sino que decide, si la Hip&oacute;tesis es correcta,&nbsp; si es primo o no con certeza.</p>\n",
    "<p>Mientras no se demuestre la&nbsp; Hip&oacute;tesis de Riemann generalizada, podemos decir que el hecho de que Miller-Rabin determinista no d&eacute; resultados falsos soporta el convencimiento de que la Hip&oacute;tesis es correcta.</p>"
   ]
  },
  {
   "cell_type": "code",
   "execution_count": 23,
   "metadata": {
    "collapsed": false
   },
   "outputs": [],
   "source": [
    "def miller_rabin_det(n):\n",
    "    s,d = miller_rabin0(n)\n",
    "    B = log(log(n)).n().ceil()\n",
    "    for a in srange(2,B):\n",
    "        if not miller_rabin2a(n,a,d) and not miller_rabin2b(n,a,s,d):\n",
    "                return False    ##El entero n es compuesto con seguridad y a es un testigo\n",
    "    return True"
   ]
  },
  {
   "cell_type": "code",
   "execution_count": 24,
   "metadata": {
    "collapsed": false
   },
   "outputs": [
    {
     "data": {
      "text/plain": [
       "True"
      ]
     },
     "execution_count": 24,
     "metadata": {},
     "output_type": "execute_result"
    }
   ],
   "source": [
    "all([miller_rabin_det(p) for p in prime_range(100000,110000)])"
   ]
  },
  {
   "cell_type": "code",
   "execution_count": 25,
   "metadata": {
    "collapsed": false
   },
   "outputs": [
    {
     "ename": "KeyboardInterrupt",
     "evalue": "",
     "output_type": "error",
     "traceback": [
      "\u001b[1;31m---------------------------------------------------------------------------\u001b[0m",
      "\u001b[1;31mKeyboardInterrupt\u001b[0m                         Traceback (most recent call last)",
      "\u001b[1;32m<ipython-input-25-a5c1f6c7386b>\u001b[0m in \u001b[0;36m<module>\u001b[1;34m()\u001b[0m\n\u001b[1;32m----> 1\u001b[1;33m \u001b[0mall\u001b[0m\u001b[1;33m(\u001b[0m\u001b[1;33m[\u001b[0m\u001b[1;32mnot\u001b[0m \u001b[0mmiller_rabin_det\u001b[0m\u001b[1;33m(\u001b[0m\u001b[0mp\u001b[0m\u001b[1;33m*\u001b[0m\u001b[0mq\u001b[0m\u001b[1;33m)\u001b[0m \u001b[1;32mfor\u001b[0m \u001b[0mp\u001b[0m \u001b[1;32min\u001b[0m \u001b[0mprime_range\u001b[0m\u001b[1;33m(\u001b[0m\u001b[0mInteger\u001b[0m\u001b[1;33m(\u001b[0m\u001b[1;36m100000\u001b[0m\u001b[1;33m)\u001b[0m\u001b[1;33m,\u001b[0m\u001b[0mInteger\u001b[0m\u001b[1;33m(\u001b[0m\u001b[1;36m110000\u001b[0m\u001b[1;33m)\u001b[0m\u001b[1;33m)\u001b[0m \u001b[1;32mfor\u001b[0m \u001b[0mq\u001b[0m \u001b[1;32min\u001b[0m \u001b[0mprime_range\u001b[0m\u001b[1;33m(\u001b[0m\u001b[0mInteger\u001b[0m\u001b[1;33m(\u001b[0m\u001b[1;36m100000\u001b[0m\u001b[1;33m)\u001b[0m\u001b[1;33m,\u001b[0m\u001b[0mInteger\u001b[0m\u001b[1;33m(\u001b[0m\u001b[1;36m101000\u001b[0m\u001b[1;33m)\u001b[0m\u001b[1;33m)\u001b[0m\u001b[1;33m]\u001b[0m\u001b[1;33m)\u001b[0m\u001b[1;33m\u001b[0m\u001b[0m\n\u001b[0m",
      "\u001b[1;32m<ipython-input-23-084fcf70f9b4>\u001b[0m in \u001b[0;36mmiller_rabin_det\u001b[1;34m(n)\u001b[0m\n\u001b[0;32m      1\u001b[0m \u001b[1;32mdef\u001b[0m \u001b[0mmiller_rabin_det\u001b[0m\u001b[1;33m(\u001b[0m\u001b[0mn\u001b[0m\u001b[1;33m)\u001b[0m\u001b[1;33m:\u001b[0m\u001b[1;33m\u001b[0m\u001b[0m\n\u001b[0;32m      2\u001b[0m     \u001b[0ms\u001b[0m\u001b[1;33m,\u001b[0m\u001b[0md\u001b[0m \u001b[1;33m=\u001b[0m \u001b[0mmiller_rabin0\u001b[0m\u001b[1;33m(\u001b[0m\u001b[0mn\u001b[0m\u001b[1;33m)\u001b[0m\u001b[1;33m\u001b[0m\u001b[0m\n\u001b[1;32m----> 3\u001b[1;33m     \u001b[0mB\u001b[0m \u001b[1;33m=\u001b[0m \u001b[0mlog\u001b[0m\u001b[1;33m(\u001b[0m\u001b[0mlog\u001b[0m\u001b[1;33m(\u001b[0m\u001b[0mn\u001b[0m\u001b[1;33m)\u001b[0m\u001b[1;33m)\u001b[0m\u001b[1;33m.\u001b[0m\u001b[0mn\u001b[0m\u001b[1;33m(\u001b[0m\u001b[1;33m)\u001b[0m\u001b[1;33m.\u001b[0m\u001b[0mceil\u001b[0m\u001b[1;33m(\u001b[0m\u001b[1;33m)\u001b[0m\u001b[1;33m\u001b[0m\u001b[0m\n\u001b[0m\u001b[0;32m      4\u001b[0m     \u001b[1;32mfor\u001b[0m \u001b[0ma\u001b[0m \u001b[1;32min\u001b[0m \u001b[0msrange\u001b[0m\u001b[1;33m(\u001b[0m\u001b[0mInteger\u001b[0m\u001b[1;33m(\u001b[0m\u001b[1;36m2\u001b[0m\u001b[1;33m)\u001b[0m\u001b[1;33m,\u001b[0m\u001b[0mB\u001b[0m\u001b[1;33m)\u001b[0m\u001b[1;33m:\u001b[0m\u001b[1;33m\u001b[0m\u001b[0m\n\u001b[0;32m      5\u001b[0m         \u001b[1;32mif\u001b[0m \u001b[1;32mnot\u001b[0m \u001b[0mmiller_rabin2a\u001b[0m\u001b[1;33m(\u001b[0m\u001b[0mn\u001b[0m\u001b[1;33m,\u001b[0m\u001b[0ma\u001b[0m\u001b[1;33m,\u001b[0m\u001b[0md\u001b[0m\u001b[1;33m)\u001b[0m \u001b[1;32mand\u001b[0m \u001b[1;32mnot\u001b[0m \u001b[0mmiller_rabin2b\u001b[0m\u001b[1;33m(\u001b[0m\u001b[0mn\u001b[0m\u001b[1;33m,\u001b[0m\u001b[0ma\u001b[0m\u001b[1;33m,\u001b[0m\u001b[0ms\u001b[0m\u001b[1;33m,\u001b[0m\u001b[0md\u001b[0m\u001b[1;33m)\u001b[0m\u001b[1;33m:\u001b[0m\u001b[1;33m\u001b[0m\u001b[0m\n",
      "\u001b[1;32msage/symbolic/expression.pyx\u001b[0m in \u001b[0;36msage.symbolic.expression.Expression._numerical_approx (/usr/lib/sagemath//src/build/cythonized/sage/symbolic/expression.cpp:30977)\u001b[1;34m()\u001b[0m\n",
      "\u001b[1;32m/usr/lib/sagemath/local/lib/python2.7/site-packages/sage/symbolic/expression_conversions.py\u001b[0m in \u001b[0;36m__call__\u001b[1;34m(self, ex)\u001b[0m\n\u001b[0;32m    225\u001b[0m             \u001b[1;32mreturn\u001b[0m \u001b[0mself\u001b[0m\u001b[1;33m.\u001b[0m\u001b[0mtuple\u001b[0m\u001b[1;33m(\u001b[0m\u001b[0mex\u001b[0m\u001b[1;33m)\u001b[0m\u001b[1;33m\u001b[0m\u001b[0m\n\u001b[0;32m    226\u001b[0m         \u001b[1;32melse\u001b[0m\u001b[1;33m:\u001b[0m\u001b[1;33m\u001b[0m\u001b[0m\n\u001b[1;32m--> 227\u001b[1;33m             \u001b[1;32mreturn\u001b[0m \u001b[0mself\u001b[0m\u001b[1;33m.\u001b[0m\u001b[0mcomposition\u001b[0m\u001b[1;33m(\u001b[0m\u001b[0mex\u001b[0m\u001b[1;33m,\u001b[0m \u001b[0moperator\u001b[0m\u001b[1;33m)\u001b[0m\u001b[1;33m\u001b[0m\u001b[0m\n\u001b[0m\u001b[0;32m    228\u001b[0m \u001b[1;33m\u001b[0m\u001b[0m\n\u001b[0;32m    229\u001b[0m     \u001b[1;32mdef\u001b[0m \u001b[0mget_fake_div\u001b[0m\u001b[1;33m(\u001b[0m\u001b[0mself\u001b[0m\u001b[1;33m,\u001b[0m \u001b[0mex\u001b[0m\u001b[1;33m)\u001b[0m\u001b[1;33m:\u001b[0m\u001b[1;33m\u001b[0m\u001b[0m\n",
      "\u001b[1;32msage/symbolic/expression.pyx\u001b[0m in \u001b[0;36msage.symbolic.expression.Expression._numerical_approx.DefiniteSumExpander.composition (/usr/lib/sagemath//src/build/cythonized/sage/symbolic/expression.cpp:30721)\u001b[1;34m()\u001b[0m\n",
      "\u001b[1;32m/usr/lib/sagemath/local/lib/python2.7/site-packages/sage/symbolic/expression_conversions.py\u001b[0m in \u001b[0;36mcomposition\u001b[1;34m(self, ex, operator)\u001b[0m\n\u001b[0;32m   1769\u001b[0m         \u001b[1;32mfrom\u001b[0m \u001b[0msage\u001b[0m\u001b[1;33m.\u001b[0m\u001b[0msymbolic\u001b[0m\u001b[1;33m.\u001b[0m\u001b[0mfunction\u001b[0m \u001b[1;32mimport\u001b[0m \u001b[0mFunction\u001b[0m\u001b[1;33m\u001b[0m\u001b[0m\n\u001b[0;32m   1770\u001b[0m         \u001b[1;32mif\u001b[0m \u001b[0misinstance\u001b[0m\u001b[1;33m(\u001b[0m\u001b[0moperator\u001b[0m\u001b[1;33m,\u001b[0m \u001b[0mFunction\u001b[0m\u001b[1;33m)\u001b[0m\u001b[1;33m:\u001b[0m\u001b[1;33m\u001b[0m\u001b[0m\n\u001b[1;32m-> 1771\u001b[1;33m             \u001b[1;32mreturn\u001b[0m \u001b[0moperator\u001b[0m\u001b[1;33m(\u001b[0m\u001b[1;33m*\u001b[0m\u001b[0mmap\u001b[0m\u001b[1;33m(\u001b[0m\u001b[0mself\u001b[0m\u001b[1;33m,\u001b[0m \u001b[0mex\u001b[0m\u001b[1;33m.\u001b[0m\u001b[0moperands\u001b[0m\u001b[1;33m(\u001b[0m\u001b[1;33m)\u001b[0m\u001b[1;33m)\u001b[0m\u001b[1;33m,\u001b[0m \u001b[0mhold\u001b[0m\u001b[1;33m=\u001b[0m\u001b[0mTrue\u001b[0m\u001b[1;33m)\u001b[0m\u001b[1;33m\u001b[0m\u001b[0m\n\u001b[0m\u001b[0;32m   1772\u001b[0m         \u001b[1;32melse\u001b[0m\u001b[1;33m:\u001b[0m\u001b[1;33m\u001b[0m\u001b[0m\n\u001b[0;32m   1773\u001b[0m             \u001b[1;32mreturn\u001b[0m \u001b[0moperator\u001b[0m\u001b[1;33m(\u001b[0m\u001b[1;33m*\u001b[0m\u001b[0mmap\u001b[0m\u001b[1;33m(\u001b[0m\u001b[0mself\u001b[0m\u001b[1;33m,\u001b[0m \u001b[0mex\u001b[0m\u001b[1;33m.\u001b[0m\u001b[0moperands\u001b[0m\u001b[1;33m(\u001b[0m\u001b[1;33m)\u001b[0m\u001b[1;33m)\u001b[0m\u001b[1;33m)\u001b[0m\u001b[1;33m\u001b[0m\u001b[0m\n",
      "\u001b[1;32m/usr/lib/sagemath/local/lib/python2.7/site-packages/sage/symbolic/expression_conversions.py\u001b[0m in \u001b[0;36m__call__\u001b[1;34m(self, ex)\u001b[0m\n\u001b[0;32m    225\u001b[0m             \u001b[1;32mreturn\u001b[0m \u001b[0mself\u001b[0m\u001b[1;33m.\u001b[0m\u001b[0mtuple\u001b[0m\u001b[1;33m(\u001b[0m\u001b[0mex\u001b[0m\u001b[1;33m)\u001b[0m\u001b[1;33m\u001b[0m\u001b[0m\n\u001b[0;32m    226\u001b[0m         \u001b[1;32melse\u001b[0m\u001b[1;33m:\u001b[0m\u001b[1;33m\u001b[0m\u001b[0m\n\u001b[1;32m--> 227\u001b[1;33m             \u001b[1;32mreturn\u001b[0m \u001b[0mself\u001b[0m\u001b[1;33m.\u001b[0m\u001b[0mcomposition\u001b[0m\u001b[1;33m(\u001b[0m\u001b[0mex\u001b[0m\u001b[1;33m,\u001b[0m \u001b[0moperator\u001b[0m\u001b[1;33m)\u001b[0m\u001b[1;33m\u001b[0m\u001b[0m\n\u001b[0m\u001b[0;32m    228\u001b[0m \u001b[1;33m\u001b[0m\u001b[0m\n\u001b[0;32m    229\u001b[0m     \u001b[1;32mdef\u001b[0m \u001b[0mget_fake_div\u001b[0m\u001b[1;33m(\u001b[0m\u001b[0mself\u001b[0m\u001b[1;33m,\u001b[0m \u001b[0mex\u001b[0m\u001b[1;33m)\u001b[0m\u001b[1;33m:\u001b[0m\u001b[1;33m\u001b[0m\u001b[0m\n",
      "\u001b[1;32msage/symbolic/expression.pyx\u001b[0m in \u001b[0;36msage.symbolic.expression.Expression._numerical_approx.DefiniteSumExpander.composition (/usr/lib/sagemath//src/build/cythonized/sage/symbolic/expression.cpp:30721)\u001b[1;34m()\u001b[0m\n",
      "\u001b[1;32m/usr/lib/sagemath/local/lib/python2.7/site-packages/sage/symbolic/expression_conversions.py\u001b[0m in \u001b[0;36mcomposition\u001b[1;34m(self, ex, operator)\u001b[0m\n\u001b[0;32m   1769\u001b[0m         \u001b[1;32mfrom\u001b[0m \u001b[0msage\u001b[0m\u001b[1;33m.\u001b[0m\u001b[0msymbolic\u001b[0m\u001b[1;33m.\u001b[0m\u001b[0mfunction\u001b[0m \u001b[1;32mimport\u001b[0m \u001b[0mFunction\u001b[0m\u001b[1;33m\u001b[0m\u001b[0m\n\u001b[0;32m   1770\u001b[0m         \u001b[1;32mif\u001b[0m \u001b[0misinstance\u001b[0m\u001b[1;33m(\u001b[0m\u001b[0moperator\u001b[0m\u001b[1;33m,\u001b[0m \u001b[0mFunction\u001b[0m\u001b[1;33m)\u001b[0m\u001b[1;33m:\u001b[0m\u001b[1;33m\u001b[0m\u001b[0m\n\u001b[1;32m-> 1771\u001b[1;33m             \u001b[1;32mreturn\u001b[0m \u001b[0moperator\u001b[0m\u001b[1;33m(\u001b[0m\u001b[1;33m*\u001b[0m\u001b[0mmap\u001b[0m\u001b[1;33m(\u001b[0m\u001b[0mself\u001b[0m\u001b[1;33m,\u001b[0m \u001b[0mex\u001b[0m\u001b[1;33m.\u001b[0m\u001b[0moperands\u001b[0m\u001b[1;33m(\u001b[0m\u001b[1;33m)\u001b[0m\u001b[1;33m)\u001b[0m\u001b[1;33m,\u001b[0m \u001b[0mhold\u001b[0m\u001b[1;33m=\u001b[0m\u001b[0mTrue\u001b[0m\u001b[1;33m)\u001b[0m\u001b[1;33m\u001b[0m\u001b[0m\n\u001b[0m\u001b[0;32m   1772\u001b[0m         \u001b[1;32melse\u001b[0m\u001b[1;33m:\u001b[0m\u001b[1;33m\u001b[0m\u001b[0m\n\u001b[0;32m   1773\u001b[0m             \u001b[1;32mreturn\u001b[0m \u001b[0moperator\u001b[0m\u001b[1;33m(\u001b[0m\u001b[1;33m*\u001b[0m\u001b[0mmap\u001b[0m\u001b[1;33m(\u001b[0m\u001b[0mself\u001b[0m\u001b[1;33m,\u001b[0m \u001b[0mex\u001b[0m\u001b[1;33m.\u001b[0m\u001b[0moperands\u001b[0m\u001b[1;33m(\u001b[0m\u001b[1;33m)\u001b[0m\u001b[1;33m)\u001b[0m\u001b[1;33m)\u001b[0m\u001b[1;33m\u001b[0m\u001b[0m\n",
      "\u001b[1;32m/usr/lib/sagemath/local/lib/python2.7/site-packages/sage/functions/log.pyc\u001b[0m in \u001b[0;36m__call__\u001b[1;34m(self, *args, **kwds)\u001b[0m\n\u001b[0;32m    323\u001b[0m         \u001b[1;32mif\u001b[0m \u001b[0mbase\u001b[0m \u001b[1;32mis\u001b[0m \u001b[0mNone\u001b[0m\u001b[1;33m:\u001b[0m\u001b[1;33m\u001b[0m\u001b[0m\n\u001b[0;32m    324\u001b[0m             \u001b[1;32mif\u001b[0m \u001b[0mlen\u001b[0m\u001b[1;33m(\u001b[0m\u001b[0margs\u001b[0m\u001b[1;33m)\u001b[0m \u001b[1;33m==\u001b[0m \u001b[1;36m1\u001b[0m\u001b[1;33m:\u001b[0m\u001b[1;33m\u001b[0m\u001b[0m\n\u001b[1;32m--> 325\u001b[1;33m                 \u001b[1;32mreturn\u001b[0m \u001b[0mGinacFunction\u001b[0m\u001b[1;33m.\u001b[0m\u001b[0m__call__\u001b[0m\u001b[1;33m(\u001b[0m\u001b[0mself\u001b[0m\u001b[1;33m,\u001b[0m \u001b[1;33m*\u001b[0m\u001b[0margs\u001b[0m\u001b[1;33m,\u001b[0m \u001b[1;33m**\u001b[0m\u001b[0mkwds\u001b[0m\u001b[1;33m)\u001b[0m\u001b[1;33m\u001b[0m\u001b[0m\n\u001b[0m\u001b[0;32m    326\u001b[0m             \u001b[1;31m# second argument is base\u001b[0m\u001b[1;33m\u001b[0m\u001b[1;33m\u001b[0m\u001b[0m\n\u001b[0;32m    327\u001b[0m             \u001b[0mbase\u001b[0m \u001b[1;33m=\u001b[0m \u001b[0margs\u001b[0m\u001b[1;33m[\u001b[0m\u001b[1;36m1\u001b[0m\u001b[1;33m]\u001b[0m\u001b[1;33m\u001b[0m\u001b[0m\n",
      "\u001b[1;32msrc/cysignals/signals.pyx\u001b[0m in \u001b[0;36mcysignals.signals.python_check_interrupt (build/src/cysignals/signals.c:2438)\u001b[1;34m()\u001b[0m\n",
      "\u001b[1;32msrc/cysignals/signals.pyx\u001b[0m in \u001b[0;36mcysignals.signals.sig_raise_exception (build/src/cysignals/signals.c:1125)\u001b[1;34m()\u001b[0m\n",
      "\u001b[1;31mKeyboardInterrupt\u001b[0m: "
     ]
    }
   ],
   "source": [
    "all([not miller_rabin_det(p*q) for p in prime_range(100000,110000) for q in prime_range(100000,101000)])"
   ]
  },
  {
   "cell_type": "code",
   "execution_count": 25,
   "metadata": {
    "collapsed": false
   },
   "outputs": [
    {
     "data": {
      "text/plain": [
       "0.00390625000000000"
      ]
     },
     "execution_count": 25,
     "metadata": {},
     "output_type": "execute_result"
    }
   ],
   "source": [
    "0.25^4"
   ]
  },
  {
   "cell_type": "code",
   "execution_count": 26,
   "metadata": {
    "collapsed": false
   },
   "outputs": [
    {
     "data": {
      "text/plain": [
       "121"
      ]
     },
     "execution_count": 26,
     "metadata": {},
     "output_type": "execute_result"
    }
   ],
   "source": [
    "len((2^400).digits(10))"
   ]
  },
  {
   "cell_type": "code",
   "execution_count": 27,
   "metadata": {
    "collapsed": false
   },
   "outputs": [
    {
     "data": {
      "text/plain": [
       "[321, 627, 701]"
      ]
     },
     "execution_count": 27,
     "metadata": {},
     "output_type": "execute_result"
    }
   ],
   "source": [
    "[k for k in srange(1000) if is_prime(2^701+k)]"
   ]
  },
  {
   "cell_type": "code",
   "execution_count": 28,
   "metadata": {
    "collapsed": false
   },
   "outputs": [
    {
     "data": {
      "text/plain": [
       "[1149, 1655, 1877, 2439, 2811, 2885, 4971, 5657, 7799, 9207, 9351, 9615]"
      ]
     },
     "execution_count": 28,
     "metadata": {},
     "output_type": "execute_result"
    }
   ],
   "source": [
    "[k for k in srange(10000) if is_prime(2^901+k)]"
   ]
  },
  {
   "cell_type": "code",
   "execution_count": 29,
   "metadata": {
    "collapsed": false
   },
   "outputs": [],
   "source": [
    "N = (2^701+627)*(2^901+9207)"
   ]
  },
  {
   "cell_type": "code",
   "execution_count": 30,
   "metadata": {
    "collapsed": false
   },
   "outputs": [
    {
     "data": {
      "text/plain": [
       "482.250053053698"
      ]
     },
     "execution_count": 30,
     "metadata": {},
     "output_type": "execute_result"
    }
   ],
   "source": [
    "log(N,base=10).n()"
   ]
  },
  {
   "cell_type": "code",
   "execution_count": 31,
   "metadata": {
    "collapsed": false
   },
   "outputs": [
    {
     "data": {
      "text/plain": [
       "1602.00000000000"
      ]
     },
     "execution_count": 31,
     "metadata": {},
     "output_type": "execute_result"
    }
   ],
   "source": [
    "log(N,base=2).n()"
   ]
  },
  {
   "cell_type": "code",
   "execution_count": 32,
   "metadata": {
    "collapsed": false
   },
   "outputs": [
    {
     "data": {
      "text/plain": [
       "^C"
      ]
     },
     "execution_count": 32,
     "metadata": {},
     "output_type": "execute_result"
    },
    {
     "name": "stderr",
     "output_type": "stream",
     "text": [
      "Traceback (most recent call last):\n",
      "  File \"<stdin>\", line 1, in <module>\n",
      "  File \"_sage_input_33.py\", line 10, in <module>\n",
      "    exec compile(u'open(\"___code___.py\",\"w\").write(\"# -*- coding: utf-8 -*-\\\\n\" +\n",
      "_support_.preparse_worksheet_cell(base64.b64decode(\"ZmFjdG9yKE4p\"),globals())+\"\\\\n\");\n",
      "execfile(os.path.abspath(\"___code___.py\"))' + '\\n', '', 'single')\n",
      "  File \"\", line 1, in <module>\n",
      "\n",
      "  File \"/tmp/tmpAFe6MA/___code___.py\", line 2, in <module>\n",
      "    exec compile(u'factor(N)' + '\\n', '', 'single')\n",
      "  File \"\", line 1, in <module>\n",
      "\n",
      "  File \"/usr/lib/sagemath/local/lib/python2.7/site-packages/sage/rings/arith.py\", line\n",
      "2468, in factor\n",
      "    int_ = int_, verbose=verbose)\n",
      "  File \"integer.pyx\", line 3482, in sage.rings.integer.Integer.factor\n",
      "(sage/rings/integer.c:21745)\n",
      "  File \"factorint.pyx\", line 258, in sage.rings.factorint.factor_using_pari\n",
      "(sage/rings/factorint.c:6832)\n",
      "  File \"factorint.pyx\", line 299, in sage.rings.factorint.factor_using_pari\n",
      "(sage/rings/factorint.c:6388)\n",
      "  File \"gen.pyx\", line 8696, in sage.libs.pari.gen.gen.factor (sage/libs/pari/gen.c:44628)\n",
      "  File \"c_lib.pyx\", line 73, in sage.ext.c_lib.sig_raise_exception (sage/ext/c_lib.c:835)\n",
      "KeyboardInterrupt\n",
      "__SAGE__"
     ]
    }
   ],
   "source": [
    "factor(N)"
   ]
  },
  {
   "cell_type": "code",
   "execution_count": 33,
   "metadata": {
    "collapsed": false
   },
   "outputs": [
    {
     "data": {
      "text/plain": [
       "False"
      ]
     },
     "execution_count": 33,
     "metadata": {},
     "output_type": "execute_result"
    }
   ],
   "source": [
    "is_prime(N)"
   ]
  },
  {
   "cell_type": "code",
   "execution_count": 34,
   "metadata": {
    "collapsed": false
   },
   "outputs": [
    {
     "data": {
      "text/plain": [
       "False"
      ]
     },
     "execution_count": 34,
     "metadata": {},
     "output_type": "execute_result"
    }
   ],
   "source": [
    "miller_rabin(N,1)"
   ]
  },
  {
   "cell_type": "code",
   "execution_count": 35,
   "metadata": {
    "collapsed": false
   },
   "outputs": [
    {
     "data": {
      "text/plain": [
       "^C"
      ]
     },
     "execution_count": 35,
     "metadata": {},
     "output_type": "execute_result"
    },
    {
     "name": "stderr",
     "output_type": "stream",
     "text": [
      "Traceback (most recent call last):\n",
      "  File \"<stdin>\", line 1, in <module>\n",
      "  File \"_sage_input_36.py\", line 10, in <module>\n",
      "    exec compile(u'open(\"___code___.py\",\"w\").write(\"# -*- coding: utf-8 -*-\\\\n\" + _support\n",
      "_.preparse_worksheet_cell(base64.b64decode(\"YWxsKFtub3QgbWlsbGVyX3JhYmluKE4sMSkgZm9yIG11ZG\n",
      "EgaW4gc3JhbmdlKDEwMDApXSk=\"),globals())+\"\\\\n\");\n",
      "execfile(os.path.abspath(\"___code___.py\"))' + '\\n', '', 'single')\n",
      "  File \"\", line 1, in <module>\n",
      "\n",
      "  File \"/tmp/tmpVr0GnX/___code___.py\", line 3, in <module>\n",
      "    exec compile(u'all([not miller_rabin(N,_sage_const_1 ) for muda in\n",
      "srange(_sage_const_1000 )])' + '\\n', '', 'single')\n",
      "  File \"\", line 1, in <module>\n",
      "\n",
      "  File \"/tmp/tmpikiCrn/___code___.py\", line 9, in miller_rabin\n",
      "    if not miller_rabin2a(n,a,d) and not miller_rabin2b(n,a,s,d):\n",
      "  File \"/tmp/tmpewyU6h/___code___.py\", line 4, in miller_rabin2b\n",
      "    L = [_sage_const_1  for r in srange(s) if (power_mod(a,(_sage_const_2\n",
      "**r)*d,n)+_sage_const_1 )%n == _sage_const_0 ]\n",
      "  File \"/usr/lib/sagemath/local/lib/python2.7/site-packages/sage/rings/arith.py\", line\n",
      "2076, in power_mod\n",
      "    if n&1 != 0:\n",
      "  File \"c_lib.pyx\", line 176, in sage.ext.c_lib.sage_python_check_interrupt\n",
      "(sage/ext/c_lib.c:1634)\n",
      "  File \"c_lib.pyx\", line 73, in sage.ext.c_lib.sig_raise_exception (sage/ext/c_lib.c:835)\n",
      "KeyboardInterrupt\n",
      "__SAGE__"
     ]
    }
   ],
   "source": [
    "all([not miller_rabin(N,1) for muda in srange(1000)])"
   ]
  }
 ],
 "metadata": {
  "kernelspec": {
   "display_name": "SageMath 7.3",
   "language": "",
   "name": "sagemath"
  },
  "language_info": {
   "codemirror_mode": {
    "name": "ipython",
    "version": 2
   },
   "file_extension": ".py",
   "mimetype": "text/x-python",
   "name": "python",
   "nbconvert_exporter": "python",
   "pygments_lexer": "ipython2",
   "version": "2.7.10"
  }
 },
 "nbformat": 4,
 "nbformat_minor": 0
}
