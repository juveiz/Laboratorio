{
 "nbformat": 4, 
 "cells": [
  {
   "execution_count": 1, 
   "cell_type": "code", 
   "source": [
    "def recta(P,Q,j=None):\n", 
    "    if Q[0]==P[0]:\n", 
    "        return None\n", 
    "    m=(Q[1]-P[1])/(Q[0]-P[0])\n", 
    "    r(x)=m*x+(P[1]-m*P[0])\n", 
    "    if j<>None:\n", 
    "        return r(j)\n", 
    "    return r(x)"
   ], 
   "outputs": [], 
   "metadata": {
    "collapsed": false
   }
  }, 
  {
   "execution_count": 2, 
   "cell_type": "code", 
   "source": [
    "A,B,C=(1,1),(1/sqrt(3),0),(0,1-1/sqrt(3))\n", 
    "r,s,t=recta(A,B),recta(B,C),recta(C,A)"
   ], 
   "outputs": [], 
   "metadata": {
    "collapsed": false
   }
  }, 
  {
   "execution_count": 3, 
   "cell_type": "code", 
   "source": [
    "triangulo=plot(r,x,B[0],A[0],color='red')+plot(s,x,C[0],B[0])+plot(t,x,C[0],A[0],color='green')\n", 
    "cuadrado=line([(0,0),(1,0),(1,1),(0,1),(0,0)],color='black')\n", 
    "(triangulo+cuadrado).show(figsize=5)"
   ], 
   "outputs": [], 
   "metadata": {
    "collapsed": false
   }
  }, 
  {
   "execution_count": 4, 
   "cell_type": "code", 
   "source": [
    "M=1000\n", 
    "exitos=0\n", 
    "L=[]\n", 
    "for _ in xrange(M):\n", 
    "    xx,yy=random(),random()\n", 
    "    r1,s1,t1=recta(A,B,xx),recta(B,C,xx),recta(C,A,xx)\n", 
    "    if xx<=1/sqrt(3):\n", 
    "        if (s1-yy)*(t1-yy)<0:\n", 
    "            exitos+=1\n", 
    "            L+=[(xx,yy)]\n", 
    "    else:\n", 
    "        if (r1-yy)*(t1-yy)<0:   \n", 
    "            exitos+=1\n", 
    "            L+=[(xx,yy)]\n", 
    "print exitos/M.n()"
   ], 
   "outputs": [
    {
     "output_type": "execute_result", 
     "data": {
      "text/plain": [
       "0.402000000000000"
      ]
     }, 
     "execution_count": 4, 
     "metadata": {}
    }
   ], 
   "metadata": {
    "collapsed": false
   }
  }, 
  {
   "execution_count": 5, 
   "cell_type": "code", 
   "source": [
    "(points(L,pointsize=5)+triangulo+cuadrado).show(figsize=3)"
   ], 
   "outputs": [], 
   "metadata": {
    "collapsed": false
   }
  }, 
  {
   "execution_count": 6, 
   "cell_type": "code", 
   "source": [
    "(1-(C[1]+B[0])/2).n()"
   ], 
   "outputs": [
    {
     "output_type": "execute_result", 
     "data": {
      "text/plain": [
       "0.500000000000000"
      ]
     }, 
     "execution_count": 6, 
     "metadata": {}
    }
   ], 
   "metadata": {
    "collapsed": false
   }
  }, 
  {
   "execution_count": 7, 
   "cell_type": "code", 
   "source": [
    "recta(B,C,0.4).n()"
   ], 
   "outputs": [
    {
     "output_type": "execute_result", 
     "data": {
      "text/plain": [
       "0.129829407782823"
      ]
     }, 
     "execution_count": 7, 
     "metadata": {}
    }
   ], 
   "metadata": {
    "collapsed": false
   }
  }, 
  {
   "execution_count": 8, 
   "cell_type": "code", 
   "source": [
    "f(x)=1/(pi*(1+x^2))\n", 
    "F(x)=1/pi*arctan(x)+1/2\n", 
    "plot(f,x).show(figsize=4)\n", 
    "plot(F,x,-20,20).show(figsize=4)\n", 
    "Finv(x)=tan((x-1/2)*pi)\n", 
    "plot(Finv,x,0.01,0.99).show(figsize=4)"
   ], 
   "outputs": [], 
   "metadata": {
    "collapsed": false
   }
  }, 
  {
   "execution_count": 9, 
   "cell_type": "code", 
   "source": [
    "def observaciones():\n", 
    "    return Finv(random()).n()"
   ], 
   "outputs": [], 
   "metadata": {
    "collapsed": false
   }
  }, 
  {
   "execution_count": 10, 
   "cell_type": "code", 
   "source": [
    "for j in xrange(30):\n", 
    "    print observaciones()"
   ], 
   "outputs": [
    {
     "output_type": "execute_result", 
     "data": {
      "text/plain": [
       "-0.856665323778310\n", 
       "1.01357051776800\n", 
       "0.469124408922333\n", 
       "6.27436100407996\n", 
       "1.83099780058829\n", 
       "-0.651731731335711\n", 
       "-1.33080510029842\n", 
       "-4.08269335739900\n", 
       "-0.975205541314933\n", 
       "-2.58038016831961\n", 
       "-1.07944275615665\n", 
       "0.765977047708067\n", 
       "0.620385130929584\n", 
       "0.0292117550424536\n", 
       "0.0224375175160178\n", 
       "0.610887523582782\n", 
       "-0.403652360402630\n", 
       "2.34644700272452\n", 
       "6.39965751854950\n", 
       "3.55993510296162\n", 
       "2.88822478069479\n", 
       "3.13300135970634\n", 
       "0.920418085386063\n", 
       "-3.85086129266709\n", 
       "-4.27513046911934\n", 
       "3.94118244775811\n", 
       "-0.0574556047597484\n", 
       "0.197756649344727\n", 
       "0.928871966294562\n", 
       "1.68695182329585"
      ]
     }, 
     "execution_count": 10, 
     "metadata": {}
    }
   ], 
   "metadata": {
    "collapsed": false
   }
  }, 
  {
   "execution_count": 11, 
   "cell_type": "code", 
   "source": [
    "M=10000\n", 
    "exitos=0\n", 
    "for j in xrange(M):\n", 
    "    a=0\n", 
    "    b=0\n", 
    "    for _ in xrange(10):\n", 
    "        n=abs(observaciones())\n", 
    "        if n<3:\n", 
    "            a+=1\n", 
    "        if n>4:\n", 
    "            b+=1\n", 
    "    if a>=3 and b>=2:\n", 
    "        exitos+=1\n", 
    "print exitos/M.n()"
   ], 
   "outputs": [
    {
     "output_type": "execute_result", 
     "data": {
      "text/plain": [
       "0.474800000000000"
      ]
     }, 
     "execution_count": 11, 
     "metadata": {}
    }
   ], 
   "metadata": {
    "collapsed": false
   }
  }
 ], 
 "metadata": {
  "kernelspec": {
   "display_name": "Sage 6.6", 
   "name": "sage_6_6", 
   "language": "python"
  }
 }, 
 "nbformat_minor": 0
}