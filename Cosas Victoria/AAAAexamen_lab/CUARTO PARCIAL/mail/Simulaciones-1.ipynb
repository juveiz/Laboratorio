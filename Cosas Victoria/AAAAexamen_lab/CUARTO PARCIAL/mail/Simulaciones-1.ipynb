{
 "nbformat": 4, 
 "cells": [
  {
   "source": [
    "<h3>Experimentos aleatorios. Frecuencia y probabilidad</h3>\r\n<p>Nos interesamos por las regularidades que aparecen en \u0010<span style=\"font-family: comic sans ms,sans-serif;\">experimentos aleatorios</span>\u0011, es decir, experimentos cuyo resultado no consideramos predecible con certeza. Un ejemplo puede ser el experimento consistente en el lanzamiento de una moneda: en principio, las leyes de la mec&aacute;nica se podr&iacute;an aplicar y deber&iacute;an permitir calcular, de manera exacta, la trayectoria de la moneda y el resultado, <span style=\"font-family: comic sans ms,sans-serif;\">cara</span> o <span style=\"font-family: comic sans ms,sans-serif;\">cruz</span>, del experimento, pero en la pr&aacute;ctica tal c&aacute;lculo es imposible, peque&ntilde;&iacute;simas variaciones en las condiciones del lanzamiento afectan dr&aacute;sticamente al resultado.</p>\r\n<p>En la<span style=\"font-family: comic sans ms,sans-serif;\"> teor&iacute;a de la probabilidad</span> nos conformamos con observar las regularidades que aparecen al repetir el experimento un gran n&uacute;mero de veces. Cuando lanzamos una moneda, equilibrada, un gran n&uacute;mero de veces, observamos que, casi siempre, aproximadamente la mitad de los resultados son caras y la mitad cruces. Cuando una moneda no se ajusta a este comportamiento diremos que la moneda est&aacute; trucada.</p>\r\n<p>En la pr&aacute;ctica se realizar&aacute; el experimento aleatorio un n&uacute;mero grande de veces, $M$, y de un hecho (o suceso) para el que deseemos conocer su <em>probabilidad</em> (un n&uacute;mero entre 0 y 1) de ocurrir, contabilizaremos el n&uacute;mero de veces que ocurre dicho suceso entre las $M$ veces que hemos repetido el experimento. Si el suceso se representa por $A$, llamaremos a este cociente la <em>frecuencia relativa</em> de $A$, $f(A)$, en las $M$ repeticiones de dicho experimento.</p>\r\n<p>En los <em>modelos </em>m&aacute;s sencillos en que los resultados (o sucesos) elementales tienen la misma <em>probabilidad</em> de ocurrir, la probabilidad, $p(A)$, de cualquier suceso, $A$, se calcula con la famosa f&oacute;rmula (o regla) de Laplace: $p(A)=\\text{casos favorables a }A/\\text{casos totales}$. Podemos as&iacute; pensar en las probabilidades como un paso al l&iacute;mite, cuando $M$ tiende a infinito, de las frecuencias relativas.</p>\r\n<p>En estas sesiones <em>simularemos experimentos aleatorios</em> a partir de generadores de <em>n&uacute;meros aleatorios</em> como <span style=\"font-family: courier new,courier; font-size: medium;\">randint()</span> y <span style=\"font-family: courier new,courier; font-size: medium;\">random()</span>, que nos permitir&aacute;n dar aproximaciones experimentales de probabilidades. La probabilidad exacta se puede calcular en algunos casos gracias a c&aacute;lculos combinatorios. Las que siguen son algunas herramientas &uacute;tiles para este prop&oacute;sito.<br /><br /><br /></p>"
   ], 
   "cell_type": "markdown", 
   "metadata": {}
  }, 
  {
   "source": [
    "<h3>Generadores</h3>\r\n<h3>Combinaciones</h3>\r\n<p>Dada un conjunto de tama&ntilde;o m, las combinaciones de j elementos del conjunto son todos los posibles subconjuntos con j elementos extra&iacute;dos de la lista. En SAGE, podemos recorrer las combinaciones con el generador <span style=\"font-family: courier new,courier; font-size: medium;\">Combinations()</span>:</p>"
   ], 
   "cell_type": "markdown", 
   "metadata": {}
  }, 
  {
   "execution_count": 1, 
   "cell_type": "code", 
   "source": [
    "m=5\n", 
    "ll=[1..m]\n", 
    "t=0\n", 
    "for comb in Combinations(ll):\n", 
    "    print comb,\n", 
    "    t+=1\n", 
    "html('\\nHay un total de %d ($=2^{%d}$)'%(t,m))"
   ], 
   "outputs": [
    {
     "output_type": "execute_result", 
     "data": {
      "text/plain": [
       "[] [1] [2] [3] [4] [5] [1, 2] [1, 3] [1, 4] [1, 5] [2, 3] [2, 4] [2, 5] [3, 4] [3, 5] [4,\n", 
       "5] [1, 2, 3] [1, 2, 4] [1, 2, 5] [1, 3, 4] [1, 3, 5] [1, 4, 5] [2, 3, 4] [2, 3, 5] [2, 4,\n", 
       "5] [3, 4, 5] [1, 2, 3, 4] [1, 2, 3, 5] [1, 2, 4, 5] [1, 3, 4, 5] [2, 3, 4, 5] [1, 2, 3, 4,\n", 
       "5]"
      ]
     }, 
     "execution_count": 1, 
     "metadata": {}
    }
   ], 
   "metadata": {
    "collapsed": false
   }
  }, 
  {
   "execution_count": 2, 
   "cell_type": "code", 
   "source": [
    "Combinations(ll).cardinality()"
   ], 
   "outputs": [
    {
     "output_type": "execute_result", 
     "data": {
      "text/plain": [
       "32"
      ]
     }, 
     "execution_count": 2, 
     "metadata": {}
    }
   ], 
   "metadata": {
    "collapsed": false
   }
  }, 
  {
   "source": [
    "<p>Si se indica como segundo par&aacute;metro un entero $j$, se restringe a las combinaciones con $j$ elementos:</p>"
   ], 
   "cell_type": "markdown", 
   "metadata": {}
  }, 
  {
   "execution_count": 3, 
   "cell_type": "code", 
   "source": [
    "m,j=6,2\n", 
    "ll=[1..m]\n", 
    "t=0\n", 
    "for comb in Combinations(ll,j):\n", 
    "    print comb,\n", 
    "    t+=1\n", 
    "html('\\nHay un total de $%d =\\small\\\\binom{%d}{%d}=%d$'%(t,m,j,binomial(m,j)))"
   ], 
   "outputs": [
    {
     "output_type": "execute_result", 
     "data": {
      "text/plain": [
       "[1, 2] [1, 3] [1, 4] [1, 5] [1, 6] [2, 3] [2, 4] [2, 5] [2, 6] [3, 4] [3, 5] [3, 6] [4, 5]\n", 
       "[4, 6] [5, 6]"
      ]
     }, 
     "execution_count": 3, 
     "metadata": {}
    }
   ], 
   "metadata": {
    "collapsed": false
   }
  }, 
  {
   "source": [
    "<h3>Permutaciones</h3>\r\n<p>En el caso anterior (combinaciones) agrupaciones con los mismos elementos pero en distinto orden no se consideran como distintas. Las variaciones s&iacute; se distinguen por el orden. El generador de Sage para este caso es <span style=\"font-family: courier new,courier; font-size: medium;\">Permutations()</span>:</p>"
   ], 
   "cell_type": "markdown", 
   "metadata": {}
  }, 
  {
   "execution_count": 4, 
   "cell_type": "code", 
   "source": [
    "m=3\n", 
    "ll=[1..m]\n", 
    "t=0\n", 
    "for pp in Permutations(ll):\n", 
    "    print pp,\n", 
    "    t+=1\n", 
    "html('\\nHay un total de $%d=%d!=%d$'%(t,m,factorial(m)))"
   ], 
   "outputs": [
    {
     "output_type": "execute_result", 
     "data": {
      "text/plain": [
       "[1, 2, 3] [1, 3, 2] [2, 1, 3] [2, 3, 1] [3, 1, 2] [3, 2, 1]"
      ]
     }, 
     "execution_count": 4, 
     "metadata": {}
    }
   ], 
   "metadata": {
    "collapsed": false
   }
  }, 
  {
   "source": [
    "<p>Como con el generador anterior, si se indica como segundo par&aacute;metro un entero $j$, nos restringimos a las variaciones con $j$ elementos:</p>"
   ], 
   "cell_type": "markdown", 
   "metadata": {}
  }, 
  {
   "execution_count": 5, 
   "cell_type": "code", 
   "source": [
    "m,j=6,2\n", 
    "ll=[1..m]\n", 
    "t=0\n", 
    "for pp in Permutations(ll,j):\n", 
    "    print pp,\n", 
    "    t+=1\n", 
    "html('\\nHay un total de $%d =\\small\\\\frac{%d!}{%d!}=%d!\\\\binom{%d}{%d}$'%(t,m,m-j,j,m,j))"
   ], 
   "outputs": [
    {
     "output_type": "execute_result", 
     "data": {
      "text/plain": [
       "[1, 2] [1, 3] [1, 4] [1, 5] [1, 6] [2, 1] [2, 3] [2, 4] [2, 5] [2, 6] [3, 1] [3, 2] [3, 4]\n", 
       "[3, 5] [3, 6] [4, 1] [4, 2] [4, 3] [4, 5] [4, 6] [5, 1] [5, 2] [5, 3] [5, 4] [5, 6] [6, 1]\n", 
       "[6, 2] [6, 3] [6, 4] [6, 5]"
      ]
     }, 
     "execution_count": 5, 
     "metadata": {}
    }
   ], 
   "metadata": {
    "collapsed": false
   }
  }, 
  {
   "source": [
    "<h4>Repeticiones</h4>\r\n<p>Investigar qu&eacute; ocurre al aplicar estos generadores a contenedores con elementos repetidos.</p>"
   ], 
   "cell_type": "markdown", 
   "metadata": {}
  }, 
  {
   "execution_count": 6, 
   "cell_type": "code", 
   "source": [
    "ll='abc'*5\n", 
    "m,j,t=len(ll),4,0\n", 
    "for comb in Combinations(ll,j):\n", 
    "    t+=1\n", 
    "    print ''.join(comb),\n", 
    "print t"
   ], 
   "outputs": [
    {
     "output_type": "execute_result", 
     "data": {
      "text/plain": [
       "aaaa aaab aaac aabb aabc aacc abbb abbc abcc accc bbbb bbbc bbcc bccc cccc 15"
      ]
     }, 
     "execution_count": 6, 
     "metadata": {}
    }
   ], 
   "metadata": {
    "collapsed": false
   }
  }, 
  {
   "execution_count": 7, 
   "cell_type": "code", 
   "source": [
    "ll='abc'*3\n", 
    "m,j,t=len(ll),4,0\n", 
    "for comb in Combinations(ll,j):\n", 
    "    t+=1\n", 
    "    print ''.join(comb),\n", 
    "print t"
   ], 
   "outputs": [
    {
     "output_type": "execute_result", 
     "data": {
      "text/plain": [
       "aaab aaac aabb aabc aacc abbb abbc abcc accc bbbc bbcc bccc 12"
      ]
     }, 
     "execution_count": 7, 
     "metadata": {}
    }
   ], 
   "metadata": {
    "collapsed": false
   }
  }, 
  {
   "execution_count": 8, 
   "cell_type": "code", 
   "source": [
    "ll='abcaab'\n", 
    "m,j,t=len(ll),4,0\n", 
    "for comb in Combinations(ll,j):\n", 
    "    t+=1\n", 
    "    print ''.join(comb),\n", 
    "print t"
   ], 
   "outputs": [
    {
     "output_type": "execute_result", 
     "data": {
      "text/plain": [
       "aaab aaac aabb aabc abbc 5"
      ]
     }, 
     "execution_count": 8, 
     "metadata": {}
    }
   ], 
   "metadata": {
    "collapsed": false
   }
  }, 
  {
   "execution_count": 9, 
   "cell_type": "code", 
   "source": [
    "ll='ab'*5\n", 
    "m,j,t=len(ll),4,0\n", 
    "for pp in Permutations(ll,j):\n", 
    "    t+=1\n", 
    "    print ''.join(pp),\n", 
    "print t"
   ], 
   "outputs": [
    {
     "output_type": "execute_result", 
     "data": {
      "text/plain": [
       "aaaa aaab aaba aabb abaa abab abba abbb baaa baab baba babb bbaa bbab bbba bbbb 16"
      ]
     }, 
     "execution_count": 9, 
     "metadata": {}
    }
   ], 
   "metadata": {
    "collapsed": false
   }
  }, 
  {
   "source": [
    "<p><strong>Ejercicio 1.</strong> Calcular la probabilidad de que al tirar 10 veces una moneda equilibrada, se obtengan 8 caras.</p>"
   ], 
   "cell_type": "markdown", 
   "metadata": {}
  }, 
  {
   "execution_count": 10, 
   "cell_type": "code", 
   "source": [
    "def caras_moneda(veces):\n", 
    "    m=0\n", 
    "    for j in xrange(veces):\n", 
    "        if randint(0,1)==1:\n", 
    "            m+=1\n", 
    "    return m"
   ], 
   "outputs": [], 
   "metadata": {
    "collapsed": false
   }
  }, 
  {
   "execution_count": 11, 
   "cell_type": "code", 
   "source": [
    "n=100000\n", 
    "m=0\n", 
    "for j in xrange(n):\n", 
    "    if caras_moneda(10)==8:\n", 
    "        m+=1\n", 
    "print m/n.n()"
   ], 
   "outputs": [
    {
     "output_type": "execute_result", 
     "data": {
      "text/plain": [
       "0.0439000000000000"
      ]
     }, 
     "execution_count": 11, 
     "metadata": {}
    }
   ], 
   "metadata": {
    "collapsed": false
   }
  }, 
  {
   "execution_count": 12, 
   "cell_type": "code", 
   "source": [
    "L=10*[0,1]\n", 
    "total,m=0,0\n", 
    "for j in Permutations(L,10):\n", 
    "    total+=1\n", 
    "    if sum(j)==8:\n", 
    "        m+=1\n", 
    "m/total.n()"
   ], 
   "outputs": [
    {
     "output_type": "execute_result", 
     "data": {
      "text/plain": [
       "0.0439453125000000"
      ]
     }, 
     "execution_count": 12, 
     "metadata": {}
    }
   ], 
   "metadata": {
    "collapsed": false
   }
  }, 
  {
   "source": [
    "<p><strong>Ejercicio 2. </strong><span style=\"font-family: arial,helvetica,sans-serif;\">&iquest;Cu&aacute;l es la probabilidad de que dos n&uacute;meros (distintos) elegidos al azar entre $2$ y $K$ sean primos entre s&iacute;?</span></p>\n<p><span style=\"font-family: arial,helvetica,sans-serif;\">Por considerar que la elecci&oacute;n de los dos n&uacute;meros es al azar, mediremos la probabilidad utilizando la regla:</span></p>\n<p><span style=\"font-family: comic sans ms,sans-serif;\"><span style=\"font-family: arial,helvetica,sans-serif;\">$$\\text{probabilidad}(B)=\\frac{\\text{casos favorables a }B}{\\text{casos totales}}$$</span><br /></span></p>"
   ], 
   "cell_type": "markdown", 
   "metadata": {}
  }, 
  {
   "execution_count": 13, 
   "cell_type": "code", 
   "source": [
    "%time\n", 
    "k=10000\n", 
    "total,exitos=0,0\n", 
    "for p in range(2,k):\n", 
    "    for q in range(p+1,k+1):\n", 
    "        total+=1\n", 
    "        if gcd(p,q)==1:\n", 
    "            exitos+=1\n", 
    "print exitos/total.n()"
   ], 
   "outputs": [
    {
     "output_type": "execute_result", 
     "data": {
      "text/plain": [
       "0.607932087467599\n", 
       "CPU time: 177.58 s,  Wall time: 177.61 s"
      ]
     }, 
     "execution_count": 13, 
     "metadata": {}
    }
   ], 
   "metadata": {
    "collapsed": false
   }
  }, 
  {
   "execution_count": 14, 
   "cell_type": "code", 
   "source": [
    "%time\n", 
    "k=10000\n", 
    "veces=1000000\n", 
    "exitos=0\n", 
    "for j in xrange(veces):\n", 
    "    p=randint(2,k)\n", 
    "    q=randint(2,k)\n", 
    "    if gcd(p,q)==1:\n", 
    "        exitos+=1\n", 
    "print exitos/veces.n()"
   ], 
   "outputs": [
    {
     "output_type": "execute_result", 
     "data": {
      "text/plain": [
       "0.608337000000000\n", 
       "CPU time: 10.49 s,  Wall time: 10.49 s"
      ]
     }, 
     "execution_count": 14, 
     "metadata": {}
    }
   ], 
   "metadata": {
    "collapsed": false
   }
  }, 
  {
   "source": [
    "<p>Para rangos amplios, la respuesta del int&eacute;rprete es demasiado lenta. Podemos, en lugar de calcular \"todos los casos favorables/todos los casos posibles\", hacer un <em>muestreo aleatorio</em> y calcular la frecuencia relativa (Monte Carlo).</p>\r\n<p>Para lo que sigue convendr&aacute; utilizar los generadores de n&uacute;meros aleatorios:</p>\r\n<ul style=\"list-style-type: circle;\">\r\n<li>La instrucci&oacute;n <span style=\"font-family: courier new,courier; font-size: medium;\">randint(a,b)</span> produce un <strong>entero</strong> en el intervalo cerrado [a, b] que es \u0010aleatorio\u0011, en el sentido de que todos los enteros del intervalo son igualmente probables.</li>\r\n<li>La instrucci&oacute;n <span style=\"font-family: courier new,courier; font-size: medium;\">random()</span> produce un <strong>decimal</strong> perteneciente al intervalo [0, 1). Por supuesto, el resultado es siempre un n&uacute;mero racional pero los reales no racionales no existen para la m&aacute;quina.</li>\r\n</ul>\r\n<p>Podemos, por ejemplo, simular el lanzamiento de una moneda equilibrada ejecutando randint(1,2) y decidiendo que '1' significa 'cara' (con lo que '2' ser&aacute; cruz):</p>"
   ], 
   "cell_type": "markdown", 
   "metadata": {}
  }, 
  {
   "execution_count": 15, 
   "cell_type": "code", 
   "source": [
    "if randint(1,2)==1: print 'cara'\n", 
    "else: print 'cruz'"
   ], 
   "outputs": [
    {
     "output_type": "execute_result", 
     "data": {
      "text/plain": [
       "cruz"
      ]
     }, 
     "execution_count": 15, 
     "metadata": {}
    }
   ], 
   "metadata": {
    "collapsed": false
   }
  }, 
  {
   "source": [
    "<p>Si la hacemos funci&oacute;n tenemos una moneda que podemos tirar varias veces. Con el &aacute;nimo de tener una funci&oacute;n lo m&aacute;s general posible, vamos a decidir devolver 1 o 0 en lugar de 'cara' o 'cruz' (o viceversa). Con el mismo esp&iacute;ritu, puesto que lo interesante es elegir entre dos n&uacute;meros, utilizaremos randint(0,1), matando dos p&aacute;jaros de un tiro:</p>"
   ], 
   "cell_type": "markdown", 
   "metadata": {}
  }, 
  {
   "execution_count": 16, 
   "cell_type": "code", 
   "source": [
    "def moneda():\n", 
    "    return randint(0,1)"
   ], 
   "outputs": [], 
   "metadata": {
    "collapsed": false
   }
  }, 
  {
   "execution_count": 17, 
   "cell_type": "code", 
   "source": [
    "[moneda() for j in xrange(10)]"
   ], 
   "outputs": [
    {
     "output_type": "execute_result", 
     "data": {
      "text/plain": [
       "[1, 1, 1, 1, 0, 1, 0, 0, 1, 1]"
      ]
     }, 
     "execution_count": 17, 
     "metadata": {}
    }
   ], 
   "metadata": {
    "collapsed": false
   }
  }, 
  {
   "source": [
    "<p>Si la moneda estuviese trucada, hay que cambiar la estrategia. Supongamos que tenemos una moneda con el doble de predilecci&oacute;n por las caras que por las cruces. Es f&aacute;cil simularla con un randint de tres resultados posibles, que devuelva 'cara' por dos de ellos. El mismo generador randint() se puede utilizar para situaciones similares en que la probabilidad, $p$, de 'cara' sea un racional:</p>\r\n<ul style=\"list-style-type: circle;\">\r\n<li>Si $p=\\frac{a}{a+b}$ es la probabilidad de 'cara', por lo que $q=\\frac{b}{a+b}$ ser&aacute; la de cruz, podemos tomar la lista S=[1]*a+[0]*b, sortear entre sus &iacute;ndices con x=randint(0,a+b-1), y devolver el valor S[x].</li>\r\n</ul>"
   ], 
   "cell_type": "markdown", 
   "metadata": {}
  }, 
  {
   "execution_count": 18, 
   "cell_type": "code", 
   "source": [
    "def moneda_trucada(a,b):\n", 
    "    S=[1]*a+[0]*b\n", 
    "    return S[randint(0,a+b-1)]"
   ], 
   "outputs": [], 
   "metadata": {
    "collapsed": false
   }
  }, 
  {
   "execution_count": 19, 
   "cell_type": "code", 
   "source": [
    "[moneda_trucada(7,2) for j in xrange(18)]"
   ], 
   "outputs": [
    {
     "output_type": "execute_result", 
     "data": {
      "text/plain": [
       "[0, 1, 0, 1, 1, 1, 1, 1, 0, 1, 1, 0, 1, 1, 1, 1, 1, 0]"
      ]
     }, 
     "execution_count": 19, 
     "metadata": {}
    }
   ], 
   "metadata": {
    "collapsed": false
   }
  }, 
  {
   "source": [
    "<p>El generador de n&uacute;meros aleatorios random() nos permite cubrir situaciones m&aacute;s generales. Si $p$ (racional o no) fuese la probabilidad de sacar 'cara' al tirar una moneda la evaluaci&oacute;n del test 'random()&lt;p' devolver&aacute; 'True' con una probabilidad 'p'.</p>\n<p><strong>Ejercicio 3.</strong> Utilizar random() para generar $M=100$ tiradas sucesivas de una moneda con probabilidad $p=\\frac{\\sqrt2}2$ de sacar cara y compara el resultado observado con el esperado.</p>\n<p>Hacer lo mismo con $M=10^3$ y $p=0.4$</p>\n\n<p><strong>Ejercicio 4. </strong>Simula el siguiente experimento: lanza monedas cargadas, que dan cara con probabilidad $p$, hasta obtener la primera cara, y anota el n&uacute;mero de cruces que has obtenido.</p>"
   ], 
   "cell_type": "markdown", 
   "metadata": {}
  }, 
  {
   "execution_count": 20, 
   "cell_type": "code", 
   "source": [
    "def probabilidad(p):\n", 
    "    if random()<p:\n", 
    "        return 1\n", 
    "    return 0"
   ], 
   "outputs": [], 
   "metadata": {
    "collapsed": false
   }
  }, 
  {
   "execution_count": 21, 
   "cell_type": "code", 
   "source": [
    "M=2000\n", 
    "exitos=0\n", 
    "for j in xrange(M):\n", 
    "    exitos+=probabilidad(sqrt(2)/2)\n", 
    "exitos/M.n()"
   ], 
   "outputs": [
    {
     "output_type": "execute_result", 
     "data": {
      "text/plain": [
       "0.715500000000000"
      ]
     }, 
     "execution_count": 21, 
     "metadata": {}
    }
   ], 
   "metadata": {
    "collapsed": false
   }
  }, 
  {
   "source": [
    "<p>Simula $M=1000$ veces el experimento, para un valor de $p$ que t&uacute; elijas y rellena un diccionario $F$ tal que dado un valor posible de cruces antes de la primera cara, $x$, $F[x]$ devuelva el n&uacute;mero total de veces que en las $M$ repeticiones se obtuvieron exactamente $x$ cruces antes de la primera cara.</p>"
   ], 
   "cell_type": "markdown", 
   "metadata": {}
  }, 
  {
   "execution_count": 22, 
   "cell_type": "code", 
   "source": [
    "def crucesantesdecara(p,M):\n", 
    "    F=dict()\n", 
    "    for j in xrange(M):\n", 
    "        j=0\n", 
    "        n=random()\n", 
    "        while n>p:\n", 
    "            n=random()\n", 
    "            j+=1\n", 
    "        if j in F.keys():\n", 
    "            F[j]=F[j]+1\n", 
    "        else:\n", 
    "            F[j]=1\n", 
    "    return F"
   ], 
   "outputs": [], 
   "metadata": {
    "collapsed": false
   }
  }, 
  {
   "source": [
    "<p>&iquest;Cu&aacute;l ser&aacute;, a la vista de este experimento, la probabilidad de que haya que tirar $6$ veces una moneda para obtener la primera cara, si la probabilidad en cada intento de sacar cara es $p=0.3$?</p>"
   ], 
   "cell_type": "markdown", 
   "metadata": {}
  }, 
  {
   "execution_count": 23, 
   "cell_type": "code", 
   "source": [
    "F=crucesantesdecara(0.3,1000)\n", 
    "sum(F.values())"
   ], 
   "outputs": [
    {
     "output_type": "execute_result", 
     "data": {
      "text/plain": [
       "1000"
      ]
     }, 
     "execution_count": 23, 
     "metadata": {}
    }
   ], 
   "metadata": {
    "collapsed": false
   }
  }, 
  {
   "execution_count": 24, 
   "cell_type": "code", 
   "source": [
    "m=0\n", 
    "for j in xrange(1000):\n", 
    "    m+=crucesantesdecara(0.3,1000)[5]\n", 
    "print (m/1000)/1000.n()"
   ], 
   "outputs": [
    {
     "output_type": "execute_result", 
     "data": {
      "text/plain": [
       "0.0506730000000000"
      ]
     }, 
     "execution_count": 24, 
     "metadata": {}
    }
   ], 
   "metadata": {
    "collapsed": false
   }
  }, 
  {
   "source": [
    "<p>N&uacute;mero medio de cruces observadas en las M repeticiones del experimento:</p>"
   ], 
   "cell_type": "markdown", 
   "metadata": {}
  }, 
  {
   "execution_count": 25, 
   "cell_type": "code", 
   "source": [
    "F=crucesantesdecara(0.3,1000)\n", 
    "sum([j*F[j] for j in F.keys()])/1000.n()"
   ], 
   "outputs": [
    {
     "output_type": "execute_result", 
     "data": {
      "text/plain": [
       "2.34500000000000"
      ]
     }, 
     "execution_count": 25, 
     "metadata": {}
    }
   ], 
   "metadata": {
    "collapsed": false
   }
  }, 
  {
   "source": [
    "<p><strong>Ejercicio 5. </strong>Consideremos el cuadrado $[0,1]\\times [0,1]$ y su intersecci&oacute;n con la circunferencia de centro el origen y radio $1$. Sabemos que el &aacute;rea del sector circular es $\\pi/4$ y <em>queremos calcular una aproximaci&oacute;n</em> generando puntos con coordenadas aleatorias en el cuadrado y contando cu&aacute;ntos caen dentro del sector. La fracci&oacute;n de los que caen dentro debe ser aproximadamente igual al &aacute;rea del sector.</p>"
   ], 
   "cell_type": "markdown", 
   "metadata": {}
  }, 
  {
   "execution_count": 26, 
   "cell_type": "code", 
   "source": [
    "%time\n", 
    "M=10000000\n", 
    "exitos=0\n", 
    "f(x)=sqrt(1-x^2)\n", 
    "for j in xrange(M):\n", 
    "    a=random()\n", 
    "    b=random()\n", 
    "    if a^2+b^2<=1:\n", 
    "        exitos+=1\n", 
    "print (exitos*4/M).n()"
   ], 
   "outputs": [
    {
     "output_type": "execute_result", 
     "data": {
      "text/plain": [
       "3.14154400000000\n", 
       "CPU time: 17.13 s,  Wall time: 17.14 s"
      ]
     }, 
     "execution_count": 26, 
     "metadata": {}
    }
   ], 
   "metadata": {
    "collapsed": false
   }
  }, 
  {
   "source": [
    "<p><strong>Ejercicio 6. </strong>Calcula, experimentalmente, la probabilidad de obtener a lo m&aacute;s $100$ caras en $1000$ lanzamientos de una moneda para la que la probabilidad de cara es $\\frac{k}{10}$, para distintos valores $k=1,2,\\dots,9$. Por supuesto, este ejercicio tiene tambi&eacute;n una respuesta ``te&oacute;rica'', pero, de momento, no nos interesa.</p>"
   ], 
   "cell_type": "markdown", 
   "metadata": {}
  }, 
  {
   "execution_count": 27, 
   "cell_type": "code", 
   "source": [
    "def experimento(p,caras,lanzamientos,M=100):\n", 
    "    contador=0\n", 
    "    for _ in xrange(M):\n", 
    "        exitos=0\n", 
    "        for j in xrange(lanzamientos):\n", 
    "            if random()<p:\n", 
    "                exitos+=1\n", 
    "        if exitos<=caras:\n", 
    "            contador+=1\n", 
    "    return contador/M.n()"
   ], 
   "outputs": [], 
   "metadata": {
    "collapsed": false
   }
  }, 
  {
   "execution_count": 28, 
   "cell_type": "code", 
   "source": [
    "for k in range(1,10):\n", 
    "    p=k/10\n", 
    "    print experimento(p,100,1000)"
   ], 
   "outputs": [
    {
     "output_type": "execute_result", 
     "data": {
      "text/plain": [
       "0.522000000000000\n", 
       "0.000000000000000\n", 
       "0.000000000000000\n", 
       "0.000000000000000\n", 
       "0.000000000000000\n", 
       "0.000000000000000\n", 
       "0.000000000000000\n", 
       "0.000000000000000\n", 
       "0.000000000000000"
      ]
     }, 
     "execution_count": 28, 
     "metadata": {}
    }
   ], 
   "metadata": {
    "collapsed": false
   }
  }, 
  {
   "source": [
    "<p><strong>Ejercicio 7.</strong> &iquest;C&oacute;mo producir&iacute;as n&uacute;meros \"<strong>reales</strong>\" aleatorios con distribuci&oacute;n uniforme en un intervalo $[a,b]$ cualquiera?</p>"
   ], 
   "cell_type": "markdown", 
   "metadata": {}
  }, 
  {
   "execution_count": 29, 
   "cell_type": "code", 
   "source": [
    "def aleatorio(a,b):\n", 
    "    return (b-a)*random()+a"
   ], 
   "outputs": [], 
   "metadata": {
    "collapsed": false
   }
  }, 
  {
   "execution_count": 30, 
   "cell_type": "code", 
   "source": [
    "aleatorio(2,5)"
   ], 
   "outputs": [
    {
     "output_type": "execute_result", 
     "data": {
      "text/plain": [
       "2.5420237939655133"
      ]
     }, 
     "execution_count": 30, 
     "metadata": {}
    }
   ], 
   "metadata": {
    "collapsed": false
   }
  }, 
  {
   "source": [
    "<p><strong>Ejercicio 8.</strong> En cada apartado codificar una funci&oacute;n para simular un lanzamiento del tipo de dado descrito. Simular experimentos aleatorios adecuados para aproximar las probabilidades pedidas.</p>\n<ol style=\"list-style-type: lower-alpha;\">\n<li>Se tira un dado perfecto. &iquest;Cu&aacute;l ser&aacute; la probabilidad de conseguir salir antes del cuarto turno en una partida de parch&iacute;s?</li>\n<li>Se juega al parch&iacute;s con un dado trucado en el $6$: este sale el doble de veces que los dem&aacute;s. Si se saca $6$ en un turno, el jugador repite turno; pero si saca tres seises seguidos, la ficha vuelve a la casilla de inicio. Sin tener en cuenta otras reglas que permitan volver a tirar, aproximar la probabilidad de regresar al inicio en un turno del parch&iacute;s si se juega con este dado trucado.</li>\n<li>Se tiran dos dados perfectos. &iquest;Cu&aacute;l es la probabilidad de conseguir al menos un $7$ en tres tiradas consecutivas de estos dos dados?</li>\n<li>Se tienen dos dados trucados. El primero se consigue $6$ el doble de veces que los dem&aacute;s resultados. El segundo, el $5$ se obtiene la mitad de veces que los dem&aacute;s. Calcular, por fuerza bruta, la probabilidad de conseguir $11$ al lanzar estos dos dados.</li>\n</ol>"
   ], 
   "cell_type": "markdown", 
   "metadata": {}
  }, 
  {
   "execution_count": 31, 
   "cell_type": "code", 
   "source": [
    "def parchis(tiradas):\n", 
    "    for j in xrange(tiradas):\n", 
    "        if randint(1,6)==5:\n", 
    "            return true\n", 
    "    return false"
   ], 
   "outputs": [], 
   "metadata": {
    "collapsed": false
   }
  }, 
  {
   "execution_count": 32, 
   "cell_type": "code", 
   "source": [
    "%time\n", 
    "M=2000000\n", 
    "sum([1 for j in xrange(M) if parchis(3)])/M.n()"
   ], 
   "outputs": [
    {
     "output_type": "execute_result", 
     "data": {
      "text/plain": [
       "0.421401500000000\n", 
       "CPU time: 14.52 s,  Wall time: 14.52 s"
      ]
     }, 
     "execution_count": 32, 
     "metadata": {}
    }
   ], 
   "metadata": {
    "collapsed": false
   }
  }, 
  {
   "execution_count": 33, 
   "cell_type": "code", 
   "source": [
    "(1-(5/6)^3).n()"
   ], 
   "outputs": [
    {
     "output_type": "execute_result", 
     "data": {
      "text/plain": [
       "0.421296296296296"
      ]
     }, 
     "execution_count": 33, 
     "metadata": {}
    }
   ], 
   "metadata": {
    "collapsed": false
   }
  }, 
  {
   "execution_count": 34, 
   "cell_type": "code", 
   "source": [
    "def parchis2(tiradas):\n", 
    "    for j in xrange(tiradas):\n", 
    "        n=randint(1,7)\n", 
    "        if n<>6 and n<>7:\n", 
    "            return false\n", 
    "    return true"
   ], 
   "outputs": [], 
   "metadata": {
    "collapsed": false
   }
  }, 
  {
   "execution_count": 35, 
   "cell_type": "code", 
   "source": [
    "%time\n", 
    "M=2000000\n", 
    "sum([1 for j in xrange(M) if parchis2(3)])/M.n()"
   ], 
   "outputs": [
    {
     "output_type": "execute_result", 
     "data": {
      "text/plain": [
       "0.0233565000000000\n", 
       "CPU time: 8.80 s,  Wall time: 8.80 s"
      ]
     }, 
     "execution_count": 35, 
     "metadata": {}
    }
   ], 
   "metadata": {
    "collapsed": false
   }
  }, 
  {
   "execution_count": 36, 
   "cell_type": "code", 
   "source": [
    "def dados3():\n", 
    "    for j in xrange(3):\n", 
    "        if randint(1,6)+randint(1,6)==7:\n", 
    "            return true\n", 
    "    return false"
   ], 
   "outputs": [], 
   "metadata": {
    "collapsed": false
   }
  }, 
  {
   "execution_count": 37, 
   "cell_type": "code", 
   "source": [
    "%time\n", 
    "M=100000\n", 
    "sum([1 for j in xrange(M) if dados3()])/M.n()"
   ], 
   "outputs": [
    {
     "output_type": "execute_result", 
     "data": {
      "text/plain": [
       "0.421000000000000\n", 
       "CPU time: 1.35 s,  Wall time: 1.35 s"
      ]
     }, 
     "execution_count": 37, 
     "metadata": {}
    }
   ], 
   "metadata": {
    "collapsed": false
   }
  }, 
  {
   "execution_count": 38, 
   "cell_type": "code", 
   "source": [
    "dado1=[1,2,3,4,5,6,6]\n", 
    "dado2=2*[1,2,3,4,6]+[5]\n", 
    "total,exitos=0,0\n", 
    "for i in dado1:\n", 
    "    for j in dado2:\n", 
    "        total+=1\n", 
    "        if i+j==11:\n", 
    "            exitos+=1\n", 
    "print exitos/total"
   ], 
   "outputs": [
    {
     "output_type": "execute_result", 
     "data": {
      "text/plain": [
       "4/77"
      ]
     }, 
     "execution_count": 38, 
     "metadata": {}
    }
   ], 
   "metadata": {
    "collapsed": false
   }
  }
 ], 
 "metadata": {
  "kernelspec": {
   "display_name": "Sage 6.6", 
   "name": "sage_6_6", 
   "language": "python"
  }
 }, 
 "nbformat_minor": 0
}