{
 "cells": [
  {
   "cell_type": "markdown",
   "metadata": {},
   "source": [
    "<p>En un ejercicio anterior vimos c&oacute;mo podemos aproximar el &aacute;rea de una regi&oacute;n limitada del plano eligiendo puntos aleatoriamente y mirando la proporci&oacute;n entre el n&uacute;mero de puntos dentro de la regi&oacute;n y el total, multiplicando por el &aacute;rea total (la de la regi&oacute;n sobre la que se efect&uacute;an los lanzamientos). Estamos impl&iacute;citamente aceptando que la probabilidad de caer aleatoriamente en una regi&oacute;n es proporcional a su &aacute;rea.</p>\n",
    "<p>En los siguientes ejercicios aprovechamos este hecho para aproximar &aacute;reas, delimit&aacute;ndolas en una regi&oacute;n rectangular adecuada,&nbsp; $[a,b]\\times[c,d]$, y generando coordenadas $xx\\in[a,b]$, $yy\\in[c,d]$, ambas con el generador random().</p>"
   ]
  },
  {
   "cell_type": "markdown",
   "metadata": {},
   "source": [
    "<p><strong>Ejemplo .- (Monte Carlo)</strong> Aproximar el &aacute;rea entre las funciones $\\small f(x)=x^2+x$ y $\\small g(x)=x^3+x^2-2x-2$ en el intervalo $[-2,3]$, generando puntos aleatorios en el rect&aacute;ngulo adecuado.</p>"
   ]
  },
  {
   "cell_type": "code",
   "execution_count": 1,
   "metadata": {
    "collapsed": false
   },
   "outputs": [],
   "source": [
    "f(x)=x^2+x\n",
    "g(x)=x^3+x^2-2*x-2\n",
    "plot(f,x,-2,3,figsize=3)+plot(g,x,-2,3,color='green',figsize=3)"
   ]
  },
  {
   "cell_type": "code",
   "execution_count": 2,
   "metadata": {
    "collapsed": false
   },
   "outputs": [
    {
     "data": {
      "text/plain": [
       "(-2.631130309440899, 0.54858377024960503)"
      ]
     },
     "execution_count": 2,
     "metadata": {},
     "output_type": "execute_result"
    }
   ],
   "source": [
    "ym1,xm1=find_local_minimum(g,-2,3)\n",
    "ym1,xm1"
   ]
  },
  {
   "cell_type": "code",
   "execution_count": 3,
   "metadata": {
    "collapsed": false
   },
   "outputs": [],
   "source": [
    "a,b,c,d=-2.,3.,ym1,g(3)"
   ]
  },
  {
   "cell_type": "code",
   "execution_count": 4,
   "metadata": {
    "collapsed": false
   },
   "outputs": [
    {
     "data": {
      "text/plain": [
       "14.9403338084298 (14.750001940963852, 7.008363256807634e-06)\n",
       "CPU time: 38.07 s,  Wall time: 38.07 s"
      ]
     },
     "execution_count": 4,
     "metadata": {},
     "output_type": "execute_result"
    }
   ],
   "source": [
    "%time\n",
    "M=10^5\n",
    "dentro=[]\n",
    "for _ in xrange(M):\n",
    "    xx,yy=a+(b-a)*random(),c+(d-c)*random()\n",
    "    if (f(xx)-yy)*(g(xx)-yy)<0:\n",
    "        dentro.append((xx,yy))\n",
    "print len(dentro)/M*(b-a)*(d-c),integral_numerical(abs(f(x)-g(x)),a,b)\n",
    "points(dentro,pointsize=5,figsize=3)"
   ]
  },
  {
   "cell_type": "markdown",
   "metadata": {},
   "source": [
    "<p><strong>Ejercicio .- (Monte Carlo)</strong> Aproximar el &aacute;rea entre las funciones $\\small f(x)=\\mathrm{sen}(2x)$ y $\\small g(x)=\\frac12\\mathrm{cos}(x)$ en el intervalo $[-2,3]$, generando puntos aleatorios en el rect&aacute;ngulo adecuado.</p>"
   ]
  },
  {
   "cell_type": "code",
   "execution_count": 5,
   "metadata": {
    "collapsed": false
   },
   "outputs": [],
   "source": [
    "f(x)=sin(2*x)\n",
    "g(x)=1/2*cos(x)\n",
    "show(plot(f,x,-2,3,figsize=5)+plot(g,x,-2,3,color='green',figsize=5))\n",
    "a,b=-2,3"
   ]
  },
  {
   "cell_type": "code",
   "execution_count": 6,
   "metadata": {
    "collapsed": false
   },
   "outputs": [
    {
     "data": {
      "text/plain": [
       "-1.0\n",
       "1.0"
      ]
     },
     "execution_count": 6,
     "metadata": {},
     "output_type": "execute_result"
    }
   ],
   "source": [
    "(ym,xm)=find_local_minimum(f,-2,3);print ym\n",
    "(yM,xM)=find_local_maximum(f,-2,3);print yM"
   ]
  },
  {
   "cell_type": "code",
   "execution_count": 7,
   "metadata": {
    "collapsed": false
   },
   "outputs": [
    {
     "data": {
      "text/plain": [
       "2.9098 (2.9178843557213785, 2.618886220578742e-06)\n",
       "CPU time: 38.29 s,  Wall time: 38.30 s"
      ]
     },
     "execution_count": 7,
     "metadata": {},
     "output_type": "execute_result"
    }
   ],
   "source": [
    "%time\n",
    "M=10^5\n",
    "dentro2=[]\n",
    "for j in xrange(M):\n",
    "    z,t=random()*(b-a)+a,random()*(yM-ym)+ym\n",
    "    if (f(z)-t)*(g(z)-t)<0:\n",
    "        dentro2+=[(z,t)]\n",
    "print (len(dentro2)/M)*(b-a)*(yM-ym),integral_numerical(abs(f(x)-g(x)),a,b)"
   ]
  },
  {
   "cell_type": "code",
   "execution_count": 8,
   "metadata": {
    "collapsed": false
   },
   "outputs": [],
   "source": [
    "points(dentro,pointsize=5,figsize=4)"
   ]
  },
  {
   "cell_type": "markdown",
   "metadata": {},
   "source": [
    "<p>En ocasiones, querremos calcular probabilidades en regiones (intervalos, regiones planas, ....) y estas no ser&aacute;n proporcionales al tama&ntilde;o relativo del suceso. Por ejemplo, puede que estemos lanzando dardos sobre el intervalo $[1,5]$ y el tirador tenga el doble de facilidad de acertar en $[1,3)$ que en $[3,5]$. Si $A$ es el suceso acertar en $[1,3)$, ocurre que $P(A)=2/3$ y $P(A^c)=1/3$; pero $A=[1,3)$ y $A^c=[3,5]$ tienen ambos la misma longitud. Estas situaciones se modelan por medio de la llamada <em>funci&oacute;n de densidad</em>. As&iacute;, si un fen&oacute;meno aleatorio tiene asociada una funci&oacute;n de densidad $f$, que tiene que ser no negativa y tener integral total $1$, la probabilidad de un subconjunto $A$ vendr&aacute; dada por</p>\n",
    "<p>$$P(A)=\\int_A f(x)\\,dx.$$</p>\n",
    "<p>&nbsp;</p>\n",
    "<p>Un caso particular es la funci&oacute;n constante $f(x)=\\frac{1}{b-a}$ si $a&lt;x&lt;b$ que corresponde a la distribuci&oacute;n uniforme en $[a,b]$, pues</p>\n",
    "<p>$$P([c,d])=\\int_c^d\\frac1{b-a}\\,dx=\\frac{d-c}{b-a}\\qquad \\text{ si }a\\le c&lt;d\\le b\\,.$$</p>\n",
    "<p>&nbsp;</p>\n",
    "<p>Obs&eacute;rvese que, si tenemos una funci&oacute;n de densidad $f$ sobre un intervalo $[a,b]$, y tomamos la primitiva $F(x)=\\int_a^x f(t)\\,dt$, entonces</p>\n",
    "<p>$$P([c,d])=F(d)-F(c)\\qquad \\text{ si }a\\le c&lt;d\\le b\\,.$$</p>\n",
    "<p>La funci&oacute;n $F(x)=\\int_a^x f(t)\\,dt$ es, as&iacute;, una herramienta ideal para el c&aacute;lculo de probabilidades y se conoce como la funci&oacute;n de distribuci&oacute;n.</p>\n",
    "<p><strong>Nota:</strong> Obs&eacute;rvese que la funci&oacute;n de distribuci&oacute;n $F(x)$ siempre toma valores entre $0$ y $1$.</p>\n",
    "<p>&nbsp;</p>"
   ]
  },
  {
   "cell_type": "markdown",
   "metadata": {},
   "source": [
    "<p>&iquest;C&oacute;mo generar con Sage aleatoriamente observaciones que sigan una distribuci&oacute;n que no sea la $U(0,1)$? Veamos qu&eacute; hicimos para generar una distribuci&oacute;n uniforme en $(a,b)$, porque ah&iacute; est&aacute; la idea.</p>\n",
    "<p>Recordemos que si $yy$ es una observaci&oacute;n de una $U(0,1)$, $xx=a+(b-a)yy$ lo es de una $U(a,b)$.</p>\n",
    "<p>Obśervese que $H(t)=a+(b-a)t$ es la inversa de la funci&oacute;n de distribuci&oacute;n de $U(a,b)$,&nbsp; $F(x)=\\frac{x-a}{b-a}$. Para generar observaciones de la uniforme en $(a,b)$ basta as&iacute; con hacer <span style=\"font-family: comic sans ms,sans-serif; font-size: medium;\">xx=H(random())</span>.</p>\n",
    "<p><em><br /></em></p>\n",
    "<p><strong>Ejercicio.-</strong> Generar $100$ valores de una $U(2,4)$,&nbsp; utilizando el siguiente esquema: $yy=\\mathrm{random}()$, $xx=H(yy)$, siendo $H$ la inversa de la funci&oacute;n de distribuci&oacute;n.</p>\n",
    "<p>En cada generaci&oacute;n unir por una l&iacute;nea los puntos $(0,yy)$, $(xx,F(xx))$ y $(xx,0)$. A&ntilde;adir la gr&aacute;fica de la funci&oacute;n de distribuci&oacute;n $F(x)$.</p>"
   ]
  },
  {
   "cell_type": "code",
   "execution_count": 1,
   "metadata": {
    "collapsed": false
   },
   "outputs": [
    {
     "name": "stdout",
     "output_type": "stream",
     "text": [
      "CPU times: user 0 ns, sys: 0 ns, total: 0 ns\n",
      "Wall time: 6.91 µs\n"
     ]
    },
    {
     "data": {
      "image/png": "[encoded data removed]",
      "text/plain": [
       "Graphics object consisting of 201 graphics primitives"
      ]
     },
     "metadata": {},
     "output_type": "display_data"
    }
   ],
   "source": [
    "%time\n",
    "a,b=2,4\n",
    "F_uniforme(x)=(x-a)/(b-a)\n",
    "Grafica=plot(F_uniforme,x,a,b,figsize=5,color='red')\n",
    "for _ in range(100):\n",
    "    yy=random()\n",
    "    xx=(b-a)*yy+a\n",
    "    puntos=[(0,yy),(xx,F_uniforme(xx)),(xx,0)]\n",
    "    Grafica+=points(puntos,color='green')+line(puntos,linestyle='-.',alpha=.3)\n",
    "Grafica.show(figsize=5)"
   ]
  },
  {
   "cell_type": "markdown",
   "metadata": {},
   "source": [
    "<p>Esta idea se generaliza de forma inmediata a otras distribuciones.</p>\n",
    "<h3>Distribuci&oacute;n exponencial: $\\mathrm{exp}(\\lambda)$</h3>\n",
    "<ul>\n",
    "<li>Densidad: $\\scriptsize f(x)=\\lambda e^{-\\lambda x},\\quad x&gt;0.\\quad$ Distribuci&oacute;n: $\\scriptsize F(x)=1-e^{-\\lambda x},\\quad x&gt;0$.</li>\n",
    "<li>Generaci&oacute;n aleatoria: utilizar la inversa de la funci&oacute;n de distribuci&oacute;n $\\scriptsize H(x)=\\frac{-1}{\\lambda}\\log(1-x)$, aplicada a observaciones $x$ de una $U(0,1)$.</li>\n",
    "</ul>\n",
    "<p><strong>Ejercicio.-</strong> Generar $100$ valores de una $\\mathrm{exp}(.3)$,&nbsp; utilizando el siguiente esquema: $yy=\\mathrm{random}()$, $xx=H(yy)$, siendo $H$ la inversa de la funci&oacute;n de distribuci&oacute;n.</p>\n",
    "<p>En cada generaci&oacute;n unir por una l&iacute;nea los puntos $(0,yy)$, $(xx,F(xx))$ y $(xx,0)$. A&ntilde;adir la gr&aacute;fica de la funci&oacute;n de distribuci&oacute;n $F(x)$.</p>\n",
    "<p><strong>Optativo.-</strong> Con los resultados obtenidos comparar la <em>media observada</em> con la <em>te&oacute;rica</em> de esta distribuci&oacute;n: $\\scriptsize \\frac1\\lambda$.</p>"
   ]
  },
  {
   "cell_type": "code",
   "execution_count": 10,
   "metadata": {
    "collapsed": false
   },
   "outputs": [],
   "source": [
    "l=.3\n",
    "F(x)=1-e^(-l*x)\n",
    "H(x)=-1/l*log(1-x)\n",
    "M=100\n",
    "grafica=plot(F,x,0,20,figsize=5,color='red')\n",
    "for j in xrange(M):\n",
    "    yy=random()\n",
    "    xx=H(yy)\n",
    "    puntos=[(0,yy),(xx,F(xx)),(xx,0)]\n",
    "    grafica+=points(puntos,color='green')+line(puntos,linestyle=':',alpha=.3)\n",
    "grafica.show(figsize=5)"
   ]
  },
  {
   "cell_type": "markdown",
   "metadata": {},
   "source": [
    "<p><strong>Ejercicio.-</strong> En un servicio de atenci&oacute;n telef&oacute;nica transcurre una media de 10 minutos entre dos llamadas consecutivas. Se sabe que $X=$<em>\"tiempo entre dos llamadas de dicho servicio\"</em> sigue una distribuci&oacute;n $\\mathrm{exp}(\\lambda)$, con $\\lambda=0.1$. Realizar experimentos aleatorios para calcular las siguientes probabilidades:</p>\n",
    "<ol style=\"list-style-type: lower-alpha;\">\n",
    "<li>$\\small P(\\text{al menos 5 llamadas en 1 hora})$</li>\n",
    "<li>$\\small P(\\text{5 llamadas en 1 hora})$</li>\n",
    "<li>$\\small P(\\text{a lo sumo 5 llamadas en 1 hora})$</li>\n",
    "</ol>"
   ]
  },
  {
   "cell_type": "code",
   "execution_count": 11,
   "metadata": {
    "collapsed": false
   },
   "outputs": [
    {
     "data": {
      "text/plain": [
       "0.722700000000000"
      ]
     },
     "execution_count": 11,
     "metadata": {},
     "output_type": "execute_result"
    }
   ],
   "source": [
    "l=.1\n",
    "H(x)=-1/l*log(1-x)\n",
    "M=10000\n",
    "exitos=0\n",
    "for j in xrange(M):\n",
    "    tiempo=0\n",
    "    for i in xrange(5):\n",
    "        yy=random()\n",
    "        xx=H(yy)\n",
    "        tiempo+=xx\n",
    "    exitos+=bool(tiempo<=60)\n",
    "print exitos/M.n()"
   ]
  },
  {
   "cell_type": "markdown",
   "metadata": {},
   "source": [
    "<h3>Poblaciones normales: $N(\\mu,\\sigma)$</h3>\n",
    "<p>Un fen&oacute;meno aleatorio $X$ con distribuci&oacute;n normal de media $\\mu$ y desviaci&oacute;n t&iacute;pica $\\sigma$, $X\\sim N(\\mu,\\sigma)$, tiene funci&oacute;n de densidad</p>\n",
    "<p>$$\\small f(x)=\\frac1{\\sigma\\sqrt{2\\pi}}e^{\\frac{-1}2(\\frac{x-\\mu}\\sigma)^2}\\,,\\quad x\\in\\mathbb R$$</p>\n",
    "<p>Su funci&oacute;n de distribuci&oacute;n $\\small F(x)=\\int_{-\\infty}^x f(t)\\,dt$ no es sencilla de invertir, por lo que el m&eacute;todo seguido hasta ahora no nos sirve. Utilizaremos, en su lugar, la funci&oacute;n de Sage <span style=\"font-family: courier new,courier;\"><strong>normalvariate(mu,s)</strong></span> que genera un valor aleatorio de la distribuci&oacute;n $N(mu,s)$.</p>\n",
    "<p><strong></strong><strong>Ejercicio.-</strong> La altura, en cms., de un espa&ntilde;ol elegido al azar sigue una distribuci&oacute;n $N(170,20)$. Calcular, experimentalmente, la probabilidad de encontrar en un grupo de $10$ espa&ntilde;oles, $3$ con altura superior a $185$cm&nbsp; y $2$ por debajo de $150$cm.</p>"
   ]
  },
  {
   "cell_type": "code",
   "execution_count": 12,
   "metadata": {
    "collapsed": false
   },
   "outputs": [
    {
     "data": {
      "text/plain": [
       "206.09473695817175"
      ]
     },
     "execution_count": 12,
     "metadata": {},
     "output_type": "execute_result"
    }
   ],
   "source": [
    "normalvariate(170,20)"
   ]
  },
  {
   "cell_type": "code",
   "execution_count": 13,
   "metadata": {
    "collapsed": false
   },
   "outputs": [],
   "source": [
    "f(x)=1/(sqrt(2*pi)*20)*e^(-1/2*((x-170)/20)^2)\n",
    "plot(f,0,300,figsize=5)"
   ]
  },
  {
   "cell_type": "code",
   "execution_count": 14,
   "metadata": {
    "collapsed": false
   },
   "outputs": [],
   "source": [
    "F=dict()\n",
    "for j in srange(70,100,1/10):\n",
    "    q=floor(100*integral_numerical(f(x),80,j)[0])/100\n",
    "    F[q]=j\n",
    "for j in srange(100,270,1/10):\n",
    "    q=floor(100*integral_numerical(f(x),80,j)[0])/100\n",
    "    F[q]=j"
   ]
  },
  {
   "cell_type": "code",
   "execution_count": 15,
   "metadata": {
    "collapsed": false
   },
   "outputs": [],
   "source": [
    "def NnN():\n",
    "    return F[floor(100*random())/100].n()"
   ]
  },
  {
   "cell_type": "code",
   "execution_count": 16,
   "metadata": {
    "collapsed": false
   },
   "outputs": [
    {
     "data": {
      "text/plain": [
       "132.300000000000"
      ]
     },
     "execution_count": 16,
     "metadata": {},
     "output_type": "execute_result"
    }
   ],
   "source": [
    "NnN()"
   ]
  },
  {
   "cell_type": "code",
   "execution_count": 17,
   "metadata": {
    "collapsed": false
   },
   "outputs": [
    {
     "data": {
      "text/plain": [
       "0.143800000000000"
      ]
     },
     "execution_count": 17,
     "metadata": {},
     "output_type": "execute_result"
    }
   ],
   "source": [
    "M=10000\n",
    "exitos=0\n",
    "for j in xrange(M):\n",
    "    alto185=0\n",
    "    bajo150=0\n",
    "    for _ in xrange(10):\n",
    "#       n=normalvariate(170,20)\n",
    "        n=NnN()\n",
    "        if n>185:\n",
    "            alto185+=1\n",
    "        if n<150:\n",
    "            bajo150+=1\n",
    "    if alto185>=3 and bajo150>=2:\n",
    "        exitos+=1\n",
    "print exitos/M.n()"
   ]
  },
  {
   "cell_type": "code",
   "execution_count": 18,
   "metadata": {
    "collapsed": false
   },
   "outputs": [
    {
     "data": {
      "text/plain": [
       "0.159300000000000\n",
       "CPU time: 1.53 s,  Wall time: 1.53 s"
      ]
     },
     "execution_count": 18,
     "metadata": {},
     "output_type": "execute_result"
    }
   ],
   "source": [
    "%time\n",
    "mu,s=170,20\n",
    "ngrupo=10\n",
    "M=10000\n",
    "exito=0\n",
    "for j in xrange(M):\n",
    "    grupo=[normalvariate(mu,s) for _ in xrange(ngrupo)] #Este es el experimento que repetimos M veces\n",
    "    altos,bajos=0,0\n",
    "    for dato in grupo:\n",
    "        if dato>185:\n",
    "            altos+=1\n",
    "        elif dato<150:\n",
    "            bajos+=1\n",
    "    exito+=bool((altos>=3) and (bajos>=2))\n",
    "(exito/M).n()"
   ]
  },
  {
   "cell_type": "code",
   "execution_count": 19,
   "metadata": {
    "collapsed": false
   },
   "outputs": [],
   "source": [
    "l=F.keys()\n",
    "l.sort()\n",
    "l=l[1:len(l)-2]\n",
    "L=[(a,F[a]) for a in l]\n",
    "line(L,figsize=4)"
   ]
  }
 ],
 "metadata": {
  "kernelspec": {
   "display_name": "SageMath 7.3",
   "language": "",
   "name": "sagemath"
  },
  "language_info": {
   "codemirror_mode": {
    "name": "ipython",
    "version": 2
   },
   "file_extension": ".py",
   "mimetype": "text/x-python",
   "name": "python",
   "nbconvert_exporter": "python",
   "pygments_lexer": "ipython2",
   "version": "2.7.10"
  }
 },
 "nbformat": 4,
 "nbformat_minor": 0
}
