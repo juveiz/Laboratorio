{
 "cells": [
  {
   "cell_type": "markdown",
   "metadata": {},
   "source": [
    "<p>En este ejercicio simulamos un sistema f&iacute;sico muy simple, pero de gran inter&eacute;s. Supongamos una lista $L$ de longitud $n$ que en el momento inicial tiene en todas sus entradas el valor $5$. Cada una de esas entradas representa una \"part&iacute;cula\" que en el momento inicial $t=0$ tiene una \"energ&iacute;a\" igual a $5$ unidades. El sistema $L$ evoluciona en el tiempo, es decir para $t=0,1,2,3,\\dots$&nbsp; obtenemos listas $L_0=L,L_1,L_2,L_3,\\dots$, de la siguiente manera:</p>\n",
    "<ol>\n",
    "<li>Dada la lista $L_t$ elegimos una entrada al azar, es decir con igual probabilidad para cada una de las $n$ entradas. Supongamos que hemos obtenido la entrada $i$.</li>\n",
    "<li>A continuaci&oacute;n elegimos al azar otra entrada de $L_t$ y obtenemos la entrada $j$.</li>\n",
    "<li>Si $L_t[i]$ es mayor que cero, definimos&nbsp; $L_{t+1}[i]:=L_t[i]-1$ y $L_{t+1}[j]:= L_t[j]+1$, y dejamos las dem&aacute;s entradas igual, y si $L_t[i]=0$ dejamos $L_{t+1}=L_{t}$. &nbsp; Es decir, la part&iacute;cula $i$ ha \"interaccionado\", en el instante $t$, con la $j$ y le ha transferido una unidad de energ&iacute;a, pero todo el tiempo&nbsp; la energ&iacute;a total del sistema es&nbsp; $5n$ y, por tanto,&nbsp; la energ&iacute;a media es siempre $5$.</li>\n",
    "</ol>\n",
    "<p>EJERCICIO A RESOLVER:</p>\n",
    "<ol>\n",
    "<li>Programa una funci&oacute;n de dos argumentos enteros $n$ la longitud de $L$ y $N$ el valor m&aacute;ximo de $t$,&nbsp; y que devuelva la lista $L_N$, que representa los valores de la energ&iacute;a de las part&iacute;culas despu&eacute;s del paso de $N$ \"segundos\".</li>\n",
    "<li>Define una lista, por ejemplo $M=[1,2,3]$, define <strong>T=M.finance.TimeSeries( ), </strong>que convierte la lista en una serie temporal (el primer elemento es el correspondiente s $t=0$, el segundo a $t=1$, etc.)&nbsp; y estudia<strong> &nbsp; </strong>la informaci&oacute;n<strong> (</strong>poca<strong>) </strong>que se obtiene con la instrucci&oacute;n&nbsp;<strong> T.plot_histogram? . </strong>El gr&aacute;fico que se obtiene es el \"histograma\" correspondiente a la serie temporal $T$.&nbsp; <strong><br /></strong></li>\n",
    "<li>Utiliza la informaci&oacute;n obtenida en el punto 2<strong> </strong>para producir, mediante un bucle <strong>for</strong> adecuado,&nbsp; una serie de histogramas&nbsp; correspondientes a $n=1000$ y $N=100,1000,10000,100000,1000000$. &iquest;Qu&eacute; observas en los histogramas acerca de la evoluci&oacute;n temporal del sistema de part&iacute;culas? <strong><br /></strong></li>\n",
    "</ol>"
   ]
  },
  {
   "cell_type": "code",
   "execution_count": 15,
   "metadata": {
    "collapsed": false
   },
   "outputs": [],
   "source": [
    "def interaccion(n,N):\n",
    "    L = [5]*n\n",
    "    for int in xrange(N):\n",
    "        x = randint(0,n-1)\n",
    "        y = randint(0,n-1)\n",
    "        if L[x]>0:\n",
    "            L[x] += -1\n",
    "            L[y] += 1\n",
    "    return L"
   ]
  },
  {
   "cell_type": "code",
   "execution_count": 16,
   "metadata": {
    "collapsed": false
   },
   "outputs": [],
   "source": [
    "LR = interaccion(1000,1000)"
   ]
  },
  {
   "cell_type": "code",
   "execution_count": 17,
   "metadata": {
    "collapsed": false
   },
   "outputs": [
    {
     "data": {
      "text/plain": [
       "5000"
      ]
     },
     "execution_count": 17,
     "metadata": {},
     "output_type": "execute_result"
    }
   ],
   "source": [
    "sum(LR)"
   ]
  },
  {
   "cell_type": "code",
   "execution_count": 21,
   "metadata": {
    "collapsed": true
   },
   "outputs": [],
   "source": [
    "sum?"
   ]
  },
  {
   "cell_type": "code",
   "execution_count": 18,
   "metadata": {
    "collapsed": false
   },
   "outputs": [
    {
     "data": {
      "text/plain": [
       "9"
      ]
     },
     "execution_count": 18,
     "metadata": {},
     "output_type": "execute_result"
    }
   ],
   "source": [
    "max(LR)"
   ]
  },
  {
   "cell_type": "code",
   "execution_count": 19,
   "metadata": {
    "collapsed": false
   },
   "outputs": [],
   "source": [
    "v=finance.TimeSeries(LR)"
   ]
  },
  {
   "cell_type": "code",
   "execution_count": 20,
   "metadata": {
    "collapsed": false
   },
   "outputs": [
    {
     "data": {
      "image/png": "[encoded data removed]",
      "text/plain": [
       "Graphics object consisting of 100 graphics primitives"
      ]
     },
     "execution_count": 20,
     "metadata": {},
     "output_type": "execute_result"
    }
   ],
   "source": [
    "v.plot_histogram(bins=100,normalize=False)"
   ]
  },
  {
   "cell_type": "code",
   "execution_count": 7,
   "metadata": {
    "collapsed": false
   },
   "outputs": [],
   "source": [
    "LR1 = interaccion(1000,100000)"
   ]
  },
  {
   "cell_type": "code",
   "execution_count": 8,
   "metadata": {
    "collapsed": false
   },
   "outputs": [],
   "source": [
    "v1=finance.TimeSeries(LR1)"
   ]
  },
  {
   "cell_type": "code",
   "execution_count": 9,
   "metadata": {
    "collapsed": false
   },
   "outputs": [
    {
     "data": {
      "image/png": "[encoded data removed]",
      "text/plain": [
       "Graphics object consisting of 100 graphics primitives"
      ]
     },
     "execution_count": 9,
     "metadata": {},
     "output_type": "execute_result"
    }
   ],
   "source": [
    "v1.plot_histogram(bins=100,normalize=False)"
   ]
  },
  {
   "cell_type": "code",
   "execution_count": 10,
   "metadata": {
    "collapsed": false
   },
   "outputs": [],
   "source": [
    "v1.plot_histogram?"
   ]
  },
  {
   "cell_type": "code",
   "execution_count": 11,
   "metadata": {
    "collapsed": false
   },
   "outputs": [
    {
     "data": {
      "text/plain": [
       "[Graphics object consisting of 100 graphics primitives,\n",
       " Graphics object consisting of 100 graphics primitives,\n",
       " Graphics object consisting of 100 graphics primitives,\n",
       " Graphics object consisting of 100 graphics primitives,\n",
       " Graphics object consisting of 100 graphics primitives,\n",
       " Graphics object consisting of 100 graphics primitives]"
      ]
     },
     "execution_count": 11,
     "metadata": {},
     "output_type": "execute_result"
    }
   ],
   "source": [
    "[finance.TimeSeries(interaccion(1000,10^n)).plot_histogram(bins=100,normalize=False) for n in srange(1,7)]"
   ]
  },
  {
   "cell_type": "markdown",
   "metadata": {},
   "source": [
    "<p><span style=\"font-size: medium;\">Cambiamos un poco el modelo: ahora las part&iacute;tulas empiezan con una <strong>energ&iacute;a</strong>&nbsp;aleatoria y cuando interaccionan la part&iacute;cula que tiene m&aacute;s energ&iacute;a cede una unidad a la que tiene menos.&nbsp;</span></p>"
   ]
  },
  {
   "cell_type": "code",
   "execution_count": 12,
   "metadata": {
    "collapsed": false
   },
   "outputs": [
    {
     "data": {
      "text/plain": [
       "[1, 0, 0, 0, 3, 3, 1, 2, 0, 3]"
      ]
     },
     "execution_count": 12,
     "metadata": {},
     "output_type": "execute_result"
    }
   ],
   "source": [
    "[randint(0,3) for int in range(10)]"
   ]
  },
  {
   "cell_type": "code",
   "execution_count": 13,
   "metadata": {
    "collapsed": false
   },
   "outputs": [],
   "source": [
    "def interaccion2(n,E,N):\n",
    "    L = [randint(1,E) for muda in srange(n)]\n",
    "    for int in xsrange(N):\n",
    "        x = randint(0,n-1)\n",
    "        y = randint(0,n-1)\n",
    "        if L[x]>L[y]:\n",
    "            L[x] += -1\n",
    "            L[y] += 1\n",
    "        elif L[y]>L[x]:\n",
    "            L[y] += -1\n",
    "            L[x] += 1\n",
    "    return L"
   ]
  },
  {
   "cell_type": "code",
   "execution_count": 14,
   "metadata": {
    "collapsed": false
   },
   "outputs": [
    {
     "data": {
      "text/plain": [
       "[9, 9, 9, 9, 10, 9, 9, 9, 10, 10]"
      ]
     },
     "execution_count": 14,
     "metadata": {},
     "output_type": "execute_result"
    }
   ],
   "source": [
    "interaccion2(10,15,10^5)"
   ]
  },
  {
   "cell_type": "code",
   "execution_count": 15,
   "metadata": {
    "collapsed": false
   },
   "outputs": [
    {
     "data": {
      "text/plain": [
       "[9, 9, 10, 9, 9, 9, 9, 10, 9, 10]"
      ]
     },
     "execution_count": 15,
     "metadata": {},
     "output_type": "execute_result"
    }
   ],
   "source": [
    "interaccion2(10,15,10^6)"
   ]
  }
 ],
 "metadata": {
  "kernelspec": {
   "display_name": "SageMath 7.3",
   "language": "",
   "name": "sagemath"
  },
  "language_info": {
   "codemirror_mode": {
    "name": "ipython",
    "version": 2
   },
   "file_extension": ".py",
   "mimetype": "text/x-python",
   "name": "python",
   "nbconvert_exporter": "python",
   "pygments_lexer": "ipython2",
   "version": "2.7.10"
  }
 },
 "nbformat": 4,
 "nbformat_minor": 0
}
