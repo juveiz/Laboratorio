{
 "cells": [
  {
   "cell_type": "markdown",
   "metadata": {},
   "source": [
    "### PROBLEMA DE LOS SOMBREROS"
   ]
  },
  {
   "cell_type": "markdown",
   "metadata": {},
   "source": [
    "N personas asisten a una reunion todos con un sombrero parecido, y al terminar se llevan un sombrero elegido al azar.\n",
    "Estima la probabilidad de que ninguno se lleve su propio sombrero.\n"
   ]
  },
  {
   "cell_type": "code",
   "execution_count": null,
   "metadata": {
    "collapsed": true
   },
   "outputs": [],
   "source": [
    "def prob_sombreros(N,S):\n",
    "    contador = 0\n",
    "    for muda in xsrange(S):\n",
    "        for i in srange(N):\n",
    "            x = randint(1,N)\n",
    "            if x == i:\n",
    "                contador += 1\n",
    "                break\n",
    "    return (contador/S).n()"
   ]
  },
  {
   "cell_type": "code",
   "execution_count": 9,
   "metadata": {
    "collapsed": false
   },
   "outputs": [
    {
     "data": {
      "text/plain": [
       "0.610000000000000"
      ]
     },
     "execution_count": 9,
     "metadata": {},
     "output_type": "execute_result"
    }
   ],
   "source": [
    "prob_sombreros(20, 10^3)"
   ]
  },
  {
   "cell_type": "markdown",
   "metadata": {},
   "source": [
    "### PROBLEMA DEL CUMPLEAÑOS"
   ]
  },
  {
   "cell_type": "markdown",
   "metadata": {},
   "source": [
    "Estima la probabilidad de que en una reunion en la que hay N personas haya 2 al menos que cumplen anos el mismo dıa."
   ]
  },
  {
   "cell_type": "code",
   "execution_count": 12,
   "metadata": {
    "collapsed": true
   },
   "outputs": [],
   "source": [
    "def prob_cumpleanos(N,S):\n",
    "    contador = 0\n",
    "    for muda in xsrange(S):\n",
    "        A = set([randint(1,365) for muda in srange(N)])\n",
    "        if len(A) < N:\n",
    "            contador += 1\n",
    "    return (contador/S).n()"
   ]
  },
  {
   "cell_type": "code",
   "execution_count": 13,
   "metadata": {
    "collapsed": false
   },
   "outputs": [
    {
     "data": {
      "text/plain": [
       "0.408000000000000"
      ]
     },
     "execution_count": 13,
     "metadata": {},
     "output_type": "execute_result"
    }
   ],
   "source": [
    "prob_cumpleanos(20, 10^3)"
   ]
  },
  {
   "cell_type": "markdown",
   "metadata": {},
   "source": [
    "### PROBLEMA DE APROXIMACION DE PI"
   ]
  },
  {
   "cell_type": "markdown",
   "metadata": {},
   "source": [
    "Como π es el area de un cırculo de radio unidad, la parte del cırculo de centro el origen y radio unidad que esta en el primer\n",
    "cuadrante tiene area π/4 y esta contenida en el cuadrado [0, 1] × [0, 1] de area unidad\n",
    "\n",
    "1. Si elegimos un numero N, muy grande, de numeros aleatorios ejecutando N veces random(), debemos esperar, debido\n",
    "a que un buen generador debe producir resultados uniformes, que haya aproximadamente N/10 de ellos en cada uno\n",
    "de los subintervalos [i/10,(i + 1)/10], i = 0, . . . , 9. De la misma forma, si hemos obtenido ni numeros aleatorios en el\n",
    "subintervalo [i/100,(i + 1)/100] (i = 0, . . . , 99), debe ser ni aproximadamente igual a N/100 para todos los i.\n",
    "Comprueba que cuando N crece\n",
    "Sumatorio(ni −\n",
    "N\n",
    "100\n",
    ")\n",
    "2\n",
    "decrece\n",
    "\n",
    "2. Digamos que un punto aleatorio del cuadrado [0, 1]×[0, 1] es uno con coordenadas (random(),random()). Comprueba,\n",
    "de forma similar a lo hecho en el apartado anterior, la uniformidad de la distribucion cuando generamos N puntos\n",
    "aleatorios en el cuadrado.\n",
    "3. Como la distribucion de N puntos aleatorios en el cuadrado es uniforme, podemos calcular una aproximacion a π/4\n",
    "determinando cuantos puntos, de los N, caen dentro de la circunferencia. La fraccion, respecto a N, de los que caen\n",
    "dentro debe ser aproximadamente igual al area, π/4, del sector."
   ]
  },
  {
   "cell_type": "code",
   "execution_count": 7,
   "metadata": {
    "collapsed": true
   },
   "outputs": [],
   "source": [
    "def pi(N,g):\n",
    "    cont = 0\n",
    "    set_random_seed(g) #Inicializamos el generador de numeros aleatorios\n",
    "    for muda in xsrange(N):\n",
    "        x,y = random(),random() #Coordenadas de un punto aleatorio del cuadrado\n",
    "        if x^2+y^2 <= 1:\n",
    "            cont += 1\n",
    "    return cont"
   ]
  },
  {
   "cell_type": "code",
   "execution_count": 4,
   "metadata": {
    "collapsed": false
   },
   "outputs": [
    {
     "data": {
      "text/plain": [
       "3.14185440000000e15"
      ]
     },
     "execution_count": 4,
     "metadata": {},
     "output_type": "execute_result"
    }
   ],
   "source": [
    "((5*31418544)/5*10^8).n()"
   ]
  },
  {
   "cell_type": "code",
   "execution_count": 8,
   "metadata": {
    "collapsed": false
   },
   "outputs": [
    {
     "ename": "KeyboardInterrupt",
     "evalue": "",
     "output_type": "error",
     "traceback": [
      "\u001b[1;31m---------------------------------------------------------------------------\u001b[0m",
      "\u001b[1;31mKeyboardInterrupt\u001b[0m                         Traceback (most recent call last)",
      "\u001b[1;32m<ipython-input-8-7678414f00ad>\u001b[0m in \u001b[0;36m<module>\u001b[1;34m()\u001b[0m\n\u001b[1;32m----> 1\u001b[1;33m \u001b[0mpi\u001b[0m\u001b[1;33m(\u001b[0m\u001b[0mInteger\u001b[0m\u001b[1;33m(\u001b[0m\u001b[1;36m5\u001b[0m\u001b[1;33m)\u001b[0m\u001b[1;33m*\u001b[0m\u001b[0mInteger\u001b[0m\u001b[1;33m(\u001b[0m\u001b[1;36m10\u001b[0m\u001b[1;33m)\u001b[0m\u001b[1;33m**\u001b[0m\u001b[0mInteger\u001b[0m\u001b[1;33m(\u001b[0m\u001b[1;36m8\u001b[0m\u001b[1;33m)\u001b[0m\u001b[1;33m,\u001b[0m\u001b[0mInteger\u001b[0m\u001b[1;33m(\u001b[0m\u001b[1;36m8965745\u001b[0m\u001b[1;33m)\u001b[0m\u001b[1;33m)\u001b[0m\u001b[1;33m\u001b[0m\u001b[0m\n\u001b[0m",
      "\u001b[1;32m<ipython-input-7-7104f3e21569>\u001b[0m in \u001b[0;36mpi\u001b[1;34m(N, g)\u001b[0m\n\u001b[0;32m      3\u001b[0m     \u001b[0mset_random_seed\u001b[0m\u001b[1;33m(\u001b[0m\u001b[0mg\u001b[0m\u001b[1;33m)\u001b[0m \u001b[1;31m#Inicializamos el generador de numeros aleatorios\u001b[0m\u001b[1;33m\u001b[0m\u001b[0m\n\u001b[0;32m      4\u001b[0m     \u001b[1;32mfor\u001b[0m \u001b[0mmuda\u001b[0m \u001b[1;32min\u001b[0m \u001b[0mxsrange\u001b[0m\u001b[1;33m(\u001b[0m\u001b[0mN\u001b[0m\u001b[1;33m)\u001b[0m\u001b[1;33m:\u001b[0m\u001b[1;33m\u001b[0m\u001b[0m\n\u001b[1;32m----> 5\u001b[1;33m         \u001b[0mx\u001b[0m\u001b[1;33m,\u001b[0m\u001b[0my\u001b[0m \u001b[1;33m=\u001b[0m \u001b[0mrandom\u001b[0m\u001b[1;33m(\u001b[0m\u001b[1;33m)\u001b[0m\u001b[1;33m,\u001b[0m\u001b[0mrandom\u001b[0m\u001b[1;33m(\u001b[0m\u001b[1;33m)\u001b[0m \u001b[1;31m#Coordenadas de un punto aleatorio del cuadrado\u001b[0m\u001b[1;33m\u001b[0m\u001b[0m\n\u001b[0m\u001b[0;32m      6\u001b[0m         \u001b[1;32mif\u001b[0m \u001b[0mx\u001b[0m\u001b[1;33m**\u001b[0m\u001b[0mInteger\u001b[0m\u001b[1;33m(\u001b[0m\u001b[1;36m2\u001b[0m\u001b[1;33m)\u001b[0m\u001b[1;33m+\u001b[0m\u001b[0my\u001b[0m\u001b[1;33m**\u001b[0m\u001b[0mInteger\u001b[0m\u001b[1;33m(\u001b[0m\u001b[1;36m2\u001b[0m\u001b[1;33m)\u001b[0m \u001b[1;33m<=\u001b[0m \u001b[0mInteger\u001b[0m\u001b[1;33m(\u001b[0m\u001b[1;36m1\u001b[0m\u001b[1;33m)\u001b[0m\u001b[1;33m:\u001b[0m\u001b[1;33m\u001b[0m\u001b[0m\n\u001b[0;32m      7\u001b[0m             \u001b[0mcont\u001b[0m \u001b[1;33m+=\u001b[0m \u001b[0mInteger\u001b[0m\u001b[1;33m(\u001b[0m\u001b[1;36m1\u001b[0m\u001b[1;33m)\u001b[0m\u001b[1;33m\u001b[0m\u001b[0m\n",
      "\u001b[1;32msrc/cysignals/signals.pyx\u001b[0m in \u001b[0;36mcysignals.signals.python_check_interrupt (build/src/cysignals/signals.c:2438)\u001b[1;34m()\u001b[0m\n",
      "\u001b[1;32msrc/cysignals/signals.pyx\u001b[0m in \u001b[0;36mcysignals.signals.sig_raise_exception (build/src/cysignals/signals.c:1125)\u001b[1;34m()\u001b[0m\n",
      "\u001b[1;31mKeyboardInterrupt\u001b[0m: "
     ]
    }
   ],
   "source": [
    "pi(5*10^8,8965745)"
   ]
  },
  {
   "cell_type": "code",
   "execution_count": null,
   "metadata": {
    "collapsed": true
   },
   "outputs": [],
   "source": []
  }
 ],
 "metadata": {
  "kernelspec": {
   "display_name": "SageMath 7.3",
   "language": "",
   "name": "sagemath"
  },
  "language_info": {
   "codemirror_mode": {
    "name": "ipython",
    "version": 2
   },
   "file_extension": ".py",
   "mimetype": "text/x-python",
   "name": "python",
   "nbconvert_exporter": "python",
   "pygments_lexer": "ipython2",
   "version": "2.7.10"
  }
 },
 "nbformat": 4,
 "nbformat_minor": 0
}
