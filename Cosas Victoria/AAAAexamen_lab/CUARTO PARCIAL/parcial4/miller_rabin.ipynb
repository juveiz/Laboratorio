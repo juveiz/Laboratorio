{
 "cells": [
  {
   "cell_type": "markdown",
   "metadata": {},
   "source": [
    "## Miller-Rabin"
   ]
  },
  {
   "cell_type": "markdown",
   "metadata": {},
   "source": [
    "El test de Miller-Rabin está muy relacionado con el teorema pequeño de Fermat, pero es un “test probabilístico” que puede\n",
    "demostrar que un número compuesto lo es con una probabilidad tan grande como queramos, por ejemplo 0.999999999999. Si el\n",
    "test no puede probar que el n´umero es compuesto podemos estar “casi seguros” de que es primo, y se usa en criptografía como\n",
    "si lo fuera"
   ]
  },
  {
   "cell_type": "code",
   "execution_count": 1,
   "metadata": {
    "collapsed": true
   },
   "outputs": [],
   "source": [
    "def miller_rabin0(n):\n",
    "    m = n-1 ##Como introducimos un número que sea impar\n",
    "    s = 0\n",
    "    while m%2 == 0:\n",
    "        m = m//2 ##Lo vamos factorizando en potencias de 2\n",
    "        s += 1 ##Vamos añadiendo uno a la s\n",
    "    return s, (n-1)//(2^s)\n",
    "\n",
    "\n",
    "##Escogemos un numero entero a , al azar, entre {2,....,n-1} que sea primo con n.\n",
    "def obtener_a (n,t):\n",
    "    L = []\n",
    "    while len(L) < t:\n",
    "        a = randint(2,n-1)\n",
    "        if gcd(a,n) == 1:\n",
    "            L.append(a)\n",
    "        else:\n",
    "            return False\n",
    "    return L\n",
    "\n",
    "##Comprobamos que o bien a^d es congruente con 1 modulo n\n",
    "def miller_rabit1(n,a,d):\n",
    "    if power_mod(a,d,n) == 1:\n",
    "        return True\n",
    "    else:\n",
    "        return False\n",
    "    \n",
    "##Comprobamos que hay un entero r entre {0,..., s-1} tal que a^(2^r*d) es congruente con -1 modulo n\n",
    "def miller_rabit2(n,a,s,d):\n",
    "    L = []\n",
    "    for r in srange (0,s-1):\n",
    "        if power_mod(a, 2^r*d,n )== -1:\n",
    "            L.append(r);\n",
    "    if(len(L) >0):\n",
    "        return True\n",
    "    else:\n",
    "        return False\n",
    "\n",
    "##Si encontramos un a primo con n tal que no se cumple ninguna de las dos condiciones definidas anteriormente, podemos \n",
    "##afirmar que el numero n es compuetso y entonces a es un \"testigo\" de la no primalidad de n\n",
    "def miller_rabin(n,t):\n",
    "    s,d = miller_rabin0(n)\n",
    "    L = obtener_a(n,t)\n",
    "    if L == False:\n",
    "        return False\n",
    "    else:\n",
    "        for a in L:\n",
    "            if (miller_rabit1(n,a,d)==True | miller_rabit2(n,a,s,d) == True):\n",
    "                return True\n",
    "            else: \n",
    "                return False                \n",
    "    "
   ]
  },
  {
   "cell_type": "code",
   "execution_count": 2,
   "metadata": {
    "collapsed": false
   },
   "outputs": [
    {
     "data": {
      "text/plain": [
       "True"
      ]
     },
     "execution_count": 2,
     "metadata": {},
     "output_type": "execute_result"
    }
   ],
   "source": [
    "miller_rabin(nth_prime(147),2)"
   ]
  },
  {
   "cell_type": "code",
   "execution_count": 3,
   "metadata": {
    "collapsed": false
   },
   "outputs": [
    {
     "data": {
      "text/plain": [
       "True"
      ]
     },
     "execution_count": 3,
     "metadata": {},
     "output_type": "execute_result"
    }
   ],
   "source": [
    "miller_rabin(9629,6)"
   ]
  },
  {
   "cell_type": "code",
   "execution_count": 13,
   "metadata": {
    "collapsed": false
   },
   "outputs": [],
   "source": [
    "##Este es el código que te devuelve los numéros compuestos, es decir, todos aquellos que no son primos por debajo de n\n",
    "def compuestos(n):\n",
    "    L = []\n",
    "    for i in srange (1,n):\n",
    "        if is_prime(i):\n",
    "            continue\n",
    "        else:\n",
    "            L.append(i)\n",
    "    print L;\n",
    "        "
   ]
  },
  {
   "cell_type": "code",
   "execution_count": 14,
   "metadata": {
    "collapsed": false
   },
   "outputs": [
    {
     "name": "stdout",
     "output_type": "stream",
     "text": [
      "[1, 4, 6, 8, 9, 10, 12, 14, 15, 16, 18, 20, 21, 22, 24, 25, 26, 27, 28, 30, 32, 33, 34, 35, 36, 38, 39, 40, 42, 44, 45, 46, 48, 49, 50, 51, 52, 54, 55, 56, 57, 58, 60, 62, 63, 64, 65, 66, 68, 69, 70, 72, 74, 75, 76, 77, 78, 80, 81, 82, 84, 85, 86, 87, 88, 90, 91, 92, 93, 94, 95, 96, 98, 99]\n"
     ]
    }
   ],
   "source": [
    "compuestos(100)"
   ]
  },
  {
   "cell_type": "code",
   "execution_count": 46,
   "metadata": {
    "collapsed": false
   },
   "outputs": [],
   "source": [
    "##Nos dice si se trata de un número compuesto o no\n",
    "def is_compuesto(n):\n",
    "    if is_prime(n):\n",
    "        return False\n",
    "    else:\n",
    "        return True\n",
    "\n",
    "##Nos establece si se cumple el teorema de fermat, y como consecuencia, supuestamente se trata de un número primo\n",
    "def fermat(n):\n",
    "    for i in srange (1,n):\n",
    "        if is_prime(i):\n",
    "            a = i;\n",
    "            if power_mod(a, n-1, n)==1:\n",
    "                return True\n",
    "            else:\n",
    "                return False\n",
    "    \n",
    "##Nos devuelve la lista de los números de Carmichael, es decir, aquellos que según el teorema de Fermat son númereos\n",
    "##primos pero que en realidad no lo son\n",
    "def carmichael(n):\n",
    "    L = []\n",
    "    for i in srange (1,n):\n",
    "        if fermat(i):\n",
    "            if is_compuesto(i):\n",
    "                L.append(i)\n",
    "            else:\n",
    "                continue\n",
    "        else:\n",
    "            continue\n",
    "    print L"
   ]
  },
  {
   "cell_type": "code",
   "execution_count": 47,
   "metadata": {
    "collapsed": false
   },
   "outputs": [
    {
     "name": "stdout",
     "output_type": "stream",
     "text": [
      "[341, 561, 645, 1105, 1387]\n"
     ]
    }
   ],
   "source": [
    "carmichael(1500)"
   ]
  },
  {
   "cell_type": "code",
   "execution_count": null,
   "metadata": {
    "collapsed": true
   },
   "outputs": [],
   "source": []
  }
 ],
 "metadata": {
  "kernelspec": {
   "display_name": "SageMath 7.3",
   "language": "",
   "name": "sagemath"
  },
  "language_info": {
   "codemirror_mode": {
    "name": "ipython",
    "version": 2
   },
   "file_extension": ".py",
   "mimetype": "text/x-python",
   "name": "python",
   "nbconvert_exporter": "python",
   "pygments_lexer": "ipython2",
   "version": "2.7.10"
  }
 },
 "nbformat": 4,
 "nbformat_minor": 0
}
