{
 "cells": [
  {
   "cell_type": "markdown",
   "metadata": {},
   "source": [
    "$(1+q)(1+q^2)(1+q^4)\\cdots (1+q^{2^n}) \\,=\\, \\dfrac{1-q^{2^{n+1}}}{1-q}.$"
   ]
  },
  {
   "cell_type": "code",
   "execution_count": null,
   "metadata": {
    "collapsed": false
   },
   "outputs": [],
   "source": [
    "var('q')"
   ]
  },
  {
   "cell_type": "code",
   "execution_count": null,
   "metadata": {
    "collapsed": false
   },
   "outputs": [],
   "source": [
    "def producto(n):\n",
    "    for i in srange(0, n+1):\n",
    "        contador *= (1 + q**2**i)\n",
    "    return contador"
   ]
  },
  {
   "cell_type": "code",
   "execution_count": null,
   "metadata": {
    "collapsed": false
   },
   "outputs": [],
   "source": [
    "def resultado(n):\n",
    "    return((1-q**(2**(n+1)))/(1-q))"
   ]
  },
  {
   "cell_type": "code",
   "execution_count": null,
   "metadata": {
    "collapsed": false
   },
   "outputs": [],
   "source": [
    "L = []\n",
    "contador = 1\n",
    "for i in srange(0, 1000):\n",
    "    L.append(producto(i).factor() == resultado(i).factor())"
   ]
  },
  {
   "cell_type": "code",
   "execution_count": null,
   "metadata": {
    "collapsed": true
   },
   "outputs": [],
   "source": [
    "all(L)"
   ]
  },
  {
   "cell_type": "code",
   "execution_count": null,
   "metadata": {
    "collapsed": true
   },
   "outputs": [],
   "source": [
    "def producto(n):\n",
    "    contador = 1\n",
    "    for i in srange(0, n, 2):\n",
    "        contador *= (1 + q**2**i) * (1 + q**2**(i+1))\n",
    "    if (n%2) == 0:\n",
    "        contador *= (1 + q**2**(n))\n",
    "    return contador"
   ]
  },
  {
   "cell_type": "code",
   "execution_count": null,
   "metadata": {
    "collapsed": false
   },
   "outputs": [],
   "source": [
    "#import numpy as np\n",
    "L = []\n",
    "contador = 1\n",
    "cont = 1000\n",
    "M1 = [[] for i in xrange(0, cont)] \n",
    "M2 = [[] for i in xrange(0, cont)] \n",
    "for i in srange(0, cont):\n",
    "    M1 = producto(i)\n",
    "    M2 = resultado(i)\n"
   ]
  },
  {
   "cell_type": "code",
   "execution_count": null,
   "metadata": {
    "collapsed": true
   },
   "outputs": [],
   "source": [
    "M1.factor()\n",
    "M2.factor()\n"
   ]
  }
 ],
 "metadata": {
  "kernelspec": {
   "display_name": "SageMath 7.3",
   "language": "",
   "name": "sagemath"
  },
  "language_info": {
   "codemirror_mode": {
    "name": "ipython",
    "version": 2
   },
   "file_extension": ".py",
   "mimetype": "text/x-python",
   "name": "python",
   "nbconvert_exporter": "python",
   "pygments_lexer": "ipython2",
   "version": "2.7.10"
  }
 },
 "nbformat": 4,
 "nbformat_minor": 0
}
