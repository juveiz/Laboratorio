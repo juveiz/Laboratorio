{
 "cells": [
  {
   "cell_type": "code",
   "execution_count": 1,
   "metadata": {
    "collapsed": false
   },
   "outputs": [
    {
     "data": {
      "text/plain": [
       "3.14159265358979"
      ]
     },
     "execution_count": 1,
     "metadata": {},
     "output_type": "execute_result"
    }
   ],
   "source": [
    "n(pi)"
   ]
  },
  {
   "cell_type": "code",
   "execution_count": 22,
   "metadata": {
    "collapsed": false
   },
   "outputs": [],
   "source": [
    "a = n(pi, digits=8)"
   ]
  },
  {
   "cell_type": "code",
   "execution_count": 24,
   "metadata": {
    "collapsed": false
   },
   "outputs": [
    {
     "data": {
      "text/plain": [
       "'11.0010010000111111011010101001'"
      ]
     },
     "execution_count": 24,
     "metadata": {},
     "output_type": "execute_result"
    }
   ],
   "source": [
    "a\n",
    "a.str(base=2)"
   ]
  },
  {
   "cell_type": "code",
   "execution_count": 20,
   "metadata": {
    "collapsed": false
   },
   "outputs": [
    {
     "data": {
      "text/plain": [
       "14.0000000000000"
      ]
     },
     "execution_count": 20,
     "metadata": {},
     "output_type": "execute_result"
    }
   ],
   "source": [
    "n(56/4)"
   ]
  },
  {
   "cell_type": "code",
   "execution_count": 36,
   "metadata": {
    "collapsed": false
   },
   "outputs": [],
   "source": [
    "x = RealField(prec=15)"
   ]
  },
  {
   "cell_type": "code",
   "execution_count": 29,
   "metadata": {
    "collapsed": true
   },
   "outputs": [],
   "source": [
    "x = n(pi)"
   ]
  },
  {
   "cell_type": "code",
   "execution_count": 32,
   "metadata": {
    "collapsed": false
   },
   "outputs": [],
   "source": []
  },
  {
   "cell_type": "code",
   "execution_count": 37,
   "metadata": {
    "collapsed": false
   },
   "outputs": [
    {
     "data": {
      "text/plain": [
       "'11.0010010001000'"
      ]
     },
     "execution_count": 37,
     "metadata": {},
     "output_type": "execute_result"
    }
   ],
   "source": [
    "x(pi).str(base=2)"
   ]
  },
  {
   "cell_type": "code",
   "execution_count": 38,
   "metadata": {
    "collapsed": false
   },
   "outputs": [
    {
     "data": {
      "text/plain": [
       "False"
      ]
     },
     "execution_count": 38,
     "metadata": {},
     "output_type": "execute_result"
    }
   ],
   "source": [
    "1.1+1.1+1.1==3.3"
   ]
  },
  {
   "cell_type": "code",
   "execution_count": 39,
   "metadata": {
    "collapsed": false
   },
   "outputs": [
    {
     "data": {
      "text/plain": [
       "'1.0001100110011001100110011001100110011001100110011010'"
      ]
     },
     "execution_count": 39,
     "metadata": {},
     "output_type": "execute_result"
    }
   ],
   "source": [
    "a = 1.1\n",
    "a.str(base=2)"
   ]
  },
  {
   "cell_type": "code",
   "execution_count": 41,
   "metadata": {
    "collapsed": false
   },
   "outputs": [
    {
     "data": {
      "text/plain": [
       "'11.010011001100110011001100110011001100110011001100111'"
      ]
     },
     "execution_count": 41,
     "metadata": {},
     "output_type": "execute_result"
    }
   ],
   "source": [
    "b = a + a + a\n",
    "b.str(base=2)"
   ]
  },
  {
   "cell_type": "code",
   "execution_count": 42,
   "metadata": {
    "collapsed": false
   },
   "outputs": [
    {
     "data": {
      "text/plain": [
       "'11.010011001100110011001100110011001100110011001100110'"
      ]
     },
     "execution_count": 42,
     "metadata": {},
     "output_type": "execute_result"
    }
   ],
   "source": [
    "c = 3.3\n",
    "c.str(base=2)"
   ]
  },
  {
   "cell_type": "code",
   "execution_count": 44,
   "metadata": {
    "collapsed": false
   },
   "outputs": [
    {
     "data": {
      "text/plain": [
       "54"
      ]
     },
     "execution_count": 44,
     "metadata": {},
     "output_type": "execute_result"
    }
   ],
   "source": [
    "len(a.str(base=2))"
   ]
  },
  {
   "cell_type": "code",
   "execution_count": 45,
   "metadata": {
    "collapsed": false
   },
   "outputs": [
    {
     "data": {
      "text/plain": [
       "54"
      ]
     },
     "execution_count": 45,
     "metadata": {},
     "output_type": "execute_result"
    }
   ],
   "source": [
    "len(b.str(base=2))"
   ]
  },
  {
   "cell_type": "code",
   "execution_count": 111,
   "metadata": {
    "collapsed": false
   },
   "outputs": [],
   "source": [
    "var('n')\n",
    "f = 2*n*sin(pi/n)"
   ]
  },
  {
   "cell_type": "code",
   "execution_count": 113,
   "metadata": {
    "collapsed": false
   },
   "outputs": [
    {
     "data": {
      "text/plain": [
       "2*pi"
      ]
     },
     "execution_count": 113,
     "metadata": {},
     "output_type": "execute_result"
    }
   ],
   "source": [
    "f.limit(n=+oo)"
   ]
  },
  {
   "cell_type": "code",
   "execution_count": 120,
   "metadata": {
    "collapsed": true
   },
   "outputs": [],
   "source": [
    "R = RealField(2048)"
   ]
  },
  {
   "cell_type": "code",
   "execution_count": 121,
   "metadata": {
    "collapsed": true
   },
   "outputs": [],
   "source": [
    "def numeric(n, m, i):\n",
    "    for x in srange(n, m, i):\n",
    "        print(R(2*x*sin(pi/x)))"
   ]
  },
  {
   "cell_type": "code",
   "execution_count": null,
   "metadata": {
    "collapsed": true
   },
   "outputs": [],
   "source": []
  },
  {
   "cell_type": "markdown",
   "metadata": {},
   "source": [
    "## ARQUÍMEDES"
   ]
  },
  {
   "cell_type": "code",
   "execution_count": 199,
   "metadata": {
    "collapsed": true
   },
   "outputs": [],
   "source": [
    "R = RealField(2048)\n",
    "\n",
    "#S6 = 1/2; T6=1/sqrt(3)\n",
    "def S(n):\n",
    "    if n == 6:\n",
    "        return R(1/2)\n",
    "    else:\n",
    "        k = n/2\n",
    "        return R(sqrt((T(2*k)*S(k))/2))\n",
    "    \n",
    "def T(n):\n",
    "    if n == 6:\n",
    "        return R(1/sqrt(3))\n",
    "    else:\n",
    "        k = n/2\n",
    "        return R(1/(1/(T(k)) + 1/(S(k))))\n",
    "    \n",
    "\n",
    "#Pedimos como argumento un valor mínimo n0, y un \n",
    "#límite n\n",
    "def Arquimedes(i, n0):\n",
    "    a = 6*(2**(i+1))\n",
    "    b = 6*(2**(i))\n",
    "    while T(a) - S(a) >= 10**(-n0):\n",
    "        return Arquimedes(i+1, n0)\n",
    "    print  b *T(b)\n",
    "    print  b *S(b)\n",
    "    return"
   ]
  },
  {
   "cell_type": "code",
   "execution_count": 200,
   "metadata": {
    "collapsed": false
   },
   "outputs": [
    {
     "name": "stdout",
     "output_type": "stream",
     "text": [
      "3.141593748771352027975981135631688075828638517278337033262323398144174302829557143139876660677104915580302861307557149862837938217268012765299094593000180854907961061986938568097290492093355365390772656261869795834264891202593279113652728063741470434371246472004890064549030523619966280442706026649189575723731967205230313126878401310962977420509981864814752073882180992393597933372197478278650891994944554461846839078839907308021922279704886068304321252049094764176084385837321984367266034207517538514739066803447536673596126845483191364425288936676199474551580405816659039394447824117147255894221084202374929354025\n",
      "3.141592105999271550544776640610117353127497254966284672584532344739836910603930331387618232431593354469905869890576738420323426599746112868188596074530510778506789631559683112276415196173955901928380462493897614372121306327155961670527285509250394529353744244916393337915875633054141629419391392314432506128230222694633645823115422118996913396917355985877711582440715051676490575644029860731173825421036832556698761861445405892216434543657445986268154903863382775945500279161433687667250091384439622865906514364297446475944839149893422714462821941251037523862951990730179809398710333209346483231828988767718828323965\n"
     ]
    }
   ],
   "source": [
    "Arquimedes(1, 10)"
   ]
  },
  {
   "cell_type": "markdown",
   "metadata": {},
   "source": [
    "# EULER"
   ]
  },
  {
   "cell_type": "code",
   "execution_count": 260,
   "metadata": {
    "collapsed": false
   },
   "outputs": [],
   "source": [
    "def euler(x, n, nbits):\n",
    "    R = RealField(nbits)\n",
    "    var('res', 'j')\n",
    "    res = R(0)\n",
    "    j = 0\n",
    "    for i in srange(1, n+1, 2):\n",
    "        res += R(((-1)**j)*(x**i)/i)\n",
    "        j += 1\n",
    "    return R(res)\n",
    "\n",
    "def aproximacion(x, nbits):\n",
    "    R = RealField(nbits)\n",
    "    i = 0\n",
    "    while R(pi/4) != R(euler(x, i, nbits)):\n",
    "        i += 1\n",
    "    return R(euler(x, i, nbits))\n",
    "\n",
    "def aprox_rapida(nbits):\n",
    "    R = RealField(nbits)\n",
    "    i = 0\n",
    "    a = R(arctan(1/2))\n",
    "    b = R(arctan(1/3))\n",
    "    while R(pi/4) != R(euler(a, i, nbits)) + R(euler(b, i, nbits)):\n",
    "        i +=1\n",
    "    return R(euler(a, i, nbits)) + R(euler(b, i, nbits))"
   ]
  },
  {
   "cell_type": "code",
   "execution_count": 267,
   "metadata": {
    "collapsed": false
   },
   "outputs": [
    {
     "data": {
      "text/plain": [
       "3.1415927"
      ]
     },
     "execution_count": 267,
     "metadata": {},
     "output_type": "execute_result"
    }
   ],
   "source": [
    "aprox_rapida(30) * 4"
   ]
  },
  {
   "cell_type": "code",
   "execution_count": 239,
   "metadata": {
    "collapsed": false
   },
   "outputs": [
    {
     "data": {
      "text/plain": [
       "1/4*pi"
      ]
     },
     "execution_count": 239,
     "metadata": {},
     "output_type": "execute_result"
    }
   ],
   "source": [
    "arctan(1)"
   ]
  },
  {
   "cell_type": "markdown",
   "metadata": {},
   "source": [
    "# RAMANUJAN"
   ]
  },
  {
   "cell_type": "code",
   "execution_count": 339,
   "metadata": {
    "collapsed": false
   },
   "outputs": [],
   "source": [
    "def suma(N):\n",
    "    var('res')\n",
    "    res = 0\n",
    "    for i in srange(0, N+1):\n",
    "        res += (((factorial(2*i))**3) * (42*i + 5))/(((factorial(i))**6)*(16**(3*i + 1)))\n",
    "    return res\n",
    "\n",
    "#Ahora creamos una función para analizar el número de\n",
    "#cifras binarias correctas que aumentan en cada intervalo\n",
    "#10 iteraciones de la suma de Ramanujan\n",
    "def aproximacion(nbits):\n",
    "    L = []\n",
    "    j = 4\n",
    "    for i in srange(10, 400, 10):\n",
    "        R = RealField(j)\n",
    "        pi2 = 1 / suma(i)\n",
    "        while R(pi) == R(pi2):\n",
    "            j += 1\n",
    "            R = RealField(j)\n",
    "           \n",
    "        \n",
    "        L.append([i, j])\n",
    "    return L\n",
    "\n",
    "#Ejecutando este código, veremos que, por cada 10 iteraciones,\n",
    "#hay una mejora de aproximadamente 60 dígitos binarios"
   ]
  },
  {
   "cell_type": "code",
   "execution_count": 338,
   "metadata": {
    "collapsed": false
   },
   "outputs": [
    {
     "data": {
      "text/plain": [
       "[[10, 67],\n",
       " [20, 126],\n",
       " [30, 184],\n",
       " [40, 248],\n",
       " [50, 308],\n",
       " [60, 368],\n",
       " [70, 426],\n",
       " [80, 488],\n",
       " [90, 548],\n",
       " [100, 606],\n",
       " [110, 668],\n",
       " [120, 725],\n",
       " [130, 788],\n",
       " [140, 848],\n",
       " [150, 909],\n",
       " [160, 967],\n",
       " [170, 1029],\n",
       " [180, 1089],\n",
       " [190, 1148],\n",
       " [200, 1207],\n",
       " [210, 1268],\n",
       " [220, 1329],\n",
       " [230, 1389],\n",
       " [240, 1448],\n",
       " [250, 1509],\n",
       " [260, 1567],\n",
       " [270, 1629],\n",
       " [280, 1685],\n",
       " [290, 1749],\n",
       " [300, 1809],\n",
       " [310, 1869],\n",
       " [320, 1929],\n",
       " [330, 1989],\n",
       " [340, 2047],\n",
       " [350, 2109],\n",
       " [360, 2168],\n",
       " [370, 2228],\n",
       " [380, 2289],\n",
       " [390, 2348]]"
      ]
     },
     "execution_count": 338,
     "metadata": {},
     "output_type": "execute_result"
    }
   ],
   "source": [
    "aproximacion(45)"
   ]
  },
  {
   "cell_type": "code",
   "execution_count": 336,
   "metadata": {
    "collapsed": false
   },
   "outputs": [
    {
     "data": {
      "text/plain": [
       "False"
      ]
     },
     "execution_count": 336,
     "metadata": {},
     "output_type": "execute_result"
    }
   ],
   "source": [
    "R = RealField(126)\n",
    "R(1/suma(20)) == R(pi)"
   ]
  },
  {
   "cell_type": "markdown",
   "metadata": {},
   "source": [
    "# EXAMEN"
   ]
  },
  {
   "cell_type": "markdown",
   "metadata": {},
   "source": [
    "## Ejercicio 1"
   ]
  },
  {
   "cell_type": "code",
   "execution_count": 210,
   "metadata": {
    "collapsed": false
   },
   "outputs": [
    {
     "name": "stdout",
     "output_type": "stream",
     "text": [
      "5.1873775176396\n",
      "5.1873775176396\n",
      "101.001011111111011111111001000101100100010010011\n",
      "101.001011111111011111111001000101100100010010010\n"
     ]
    },
    {
     "data": {
      "text/plain": [
       "False"
      ]
     },
     "execution_count": 210,
     "metadata": {},
     "output_type": "execute_result"
    }
   ],
   "source": [
    "def H(n, nbits):\n",
    "    R = RealField(prec=nbits)\n",
    "    var('res')\n",
    "    res = R(0)\n",
    "    for k in srange(1, n+1):\n",
    "        res += R(1/k)\n",
    "    return res\n",
    "\n",
    "def H2(n, nbits):\n",
    "    R = RealField(prec=nbits)\n",
    "    var('res')\n",
    "    res = 0\n",
    "    for k in srange(1, n+1):\n",
    "        res += 1/k\n",
    "    return R(res)\n",
    "print H(100,48)\n",
    "print H2(100,48)\n",
    "a = H(100, 48).str(base=2)\n",
    "b = H2(100, 48).str(base=2)\n",
    "print a\n",
    "print b\n",
    "\n",
    "a == b"
   ]
  },
  {
   "cell_type": "markdown",
   "metadata": {},
   "source": [
    "## Ejercicio 2"
   ]
  },
  {
   "cell_type": "code",
   "execution_count": 231,
   "metadata": {
    "collapsed": false
   },
   "outputs": [],
   "source": [
    "def resta(n, nbits):\n",
    "    R = RealField(prec=nbits)\n",
    "    return exp(R(euler_gamma) * n * R(log(log(n)))) - sigma(n)"
   ]
  },
  {
   "cell_type": "code",
   "execution_count": 232,
   "metadata": {
    "collapsed": false
   },
   "outputs": [],
   "source": [
    "def funcion(N, nbits):\n",
    "    max = 1\n",
    "    for i in xsrange(1, N):\n",
    "        if resta(i, nbits) < 0.0:\n",
    "            max = i\n",
    "    return max"
   ]
  },
  {
   "cell_type": "code",
   "execution_count": 233,
   "metadata": {
    "collapsed": false
   },
   "outputs": [
    {
     "data": {
      "text/plain": [
       "6"
      ]
     },
     "execution_count": 233,
     "metadata": {},
     "output_type": "execute_result"
    }
   ],
   "source": [
    "funcion(1000, 53)"
   ]
  },
  {
   "cell_type": "code",
   "execution_count": null,
   "metadata": {
    "collapsed": true
   },
   "outputs": [],
   "source": []
  }
 ],
 "metadata": {
  "kernelspec": {
   "display_name": "SageMath 7.2",
   "language": "",
   "name": "sagemath"
  },
  "language_info": {
   "codemirror_mode": {
    "name": "ipython",
    "version": 2
   },
   "file_extension": ".py",
   "mimetype": "text/x-python",
   "name": "python",
   "nbconvert_exporter": "python",
   "pygments_lexer": "ipython2",
   "version": "2.7.10"
  }
 },
 "nbformat": 4,
 "nbformat_minor": 0
}
