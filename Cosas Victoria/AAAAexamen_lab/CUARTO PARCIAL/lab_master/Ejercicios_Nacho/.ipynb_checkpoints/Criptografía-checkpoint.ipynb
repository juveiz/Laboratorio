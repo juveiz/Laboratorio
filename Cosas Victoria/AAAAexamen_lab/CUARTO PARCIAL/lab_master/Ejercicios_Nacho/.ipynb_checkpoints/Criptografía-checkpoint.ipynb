{
 "cells": [
  {
   "cell_type": "markdown",
   "metadata": {},
   "source": [
    "# BÁSICOS DE CRIPTOGRAFÍA"
   ]
  },
  {
   "cell_type": "markdown",
   "metadata": {},
   "source": [
    "## CODIFICACIÓN"
   ]
  },
  {
   "cell_type": "markdown",
   "metadata": {},
   "source": [
    "### FUNCIONES MAP, ORD, CHR"
   ]
  },
  {
   "cell_type": "markdown",
   "metadata": {},
   "source": [
    "La función map(funct, valores) te mapea una función funct.\n",
    "La función ord() transforma un char a ASCII, mientras que chr() realiza la operación inversa.\n",
    "\n",
    "Ejemplo:\n",
    "    map(ord(), [x for x in diccionario]) /*Imprimirá un mapeo de todas las letras del diccionario codificadas en ASCII*/"
   ]
  },
  {
   "cell_type": "markdown",
   "metadata": {},
   "source": [
    "## LIMPIAR LOS TEXTOS"
   ]
  },
  {
   "cell_type": "markdown",
   "metadata": {},
   "source": [
    "Para que un texto pueda ser codificado correctamente, es posible que necesitemos \"limpiarlo\". Es decir, eliminar los espacios y caracteres que no sean letras, y capitalizar las letras. Para ello usaremos el siguiente código:"
   ]
  },
  {
   "cell_type": "code",
   "execution_count": 1,
   "metadata": {
    "collapsed": true
   },
   "outputs": [],
   "source": [
    "alfb = \"ABCDEFGHIJKLMNOPQRSTUVWXYZ\" #Caracteres permitidos\n",
    "texto = \"Through the use of abstraction and logical reasoning, mathematics developed from counting, calculation, measurement, and the systematic study of the shapes and motions of physical objects. Practical mathematics has been a human activity for as far back as written records exist. Rigorous arguments first appeared in Greek mathematics, most notably in Euclid's Elements. Mathematics developed at a relatively slow pace until the Renaissance, when mathematical innovations interacting with new scientific discoveries led to a rapid increase in the rate of mathematical discovery that continues to the present day.\"\n",
    "from string import * ##Hace falta para que funcione join\n",
    "def limpiar(texto,alfb):\n",
    "    '''Dejamos en el texto solo los caracteres de alf. '''\n",
    "    L = [x.capitalize() for x in list(texto)] #Cambiamos el texto a mayusculas\n",
    "    L1 = [car for car in L if car in alfb] #Se queda sólo con los caracteres en alfb\n",
    "    C1 = join(L1,sep = \"\")\n",
    "    return C1"
   ]
  },
  {
   "cell_type": "code",
   "execution_count": 2,
   "metadata": {
    "collapsed": false
   },
   "outputs": [
    {
     "data": {
      "text/plain": [
       "'THROUGHTHEUSEOFABSTRACTIONANDLOGICALREASONINGMATHEMATICSDEVELOPEDFROMCOUNTINGCALCULATIONMEASUREMENTANDTHESYSTEMATICSTUDYOFTHESHAPESANDMOTIONSOFPHYSICALOBJECTSPRACTICALMATHEMATICSHASBEENAHUMANACTIVITYFORASFARBACKASWRITTENRECORDSEXISTRIGOROUSARGUMENTSFIRSTAPPEAREDINGREEKMATHEMATICSMOSTNOTABLYINEUCLIDSELEMENTSMATHEMATICSDEVELOPEDATARELATIVELYSLOWPACEUNTILTHERENAISSANCEWHENMATHEMATICALINNOVATIONSINTERACTINGWITHNEWSCIENTIFICDISCOVERIESLEDTOARAPIDINCREASEINTHERATEOFMATHEMATICALDISCOVERYTHATCONTINUESTOTHEPRESENTDAY'"
      ]
     },
     "execution_count": 2,
     "metadata": {},
     "output_type": "execute_result"
    }
   ],
   "source": [
    "limpiar(texto,alfb)"
   ]
  }
 ],
 "metadata": {
  "kernelspec": {
   "display_name": "SageMath 7.2",
   "language": "",
   "name": "sagemath"
  },
  "language_info": {
   "codemirror_mode": {
    "name": "ipython",
    "version": 2
   },
   "file_extension": ".py",
   "mimetype": "text/x-python",
   "name": "python",
   "nbconvert_exporter": "python",
   "pygments_lexer": "ipython2",
   "version": "2.7.10"
  }
 },
 "nbformat": 4,
 "nbformat_minor": 0
}
