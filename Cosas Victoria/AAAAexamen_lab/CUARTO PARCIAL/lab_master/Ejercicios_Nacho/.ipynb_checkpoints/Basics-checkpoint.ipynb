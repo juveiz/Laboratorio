{
 "cells": [
  {
   "cell_type": "markdown",
   "metadata": {},
   "source": [
    "1. LISTAS Y TUPLAS\n",
    "    1.1 TYPE\n",
    "    1.2 LEN\n",
    "    1.3 SRANGE\n",
    "    1.4 REVERSE\n",
    "    1.5 SORT\n",
    "    1.6 LL PARA COPIAR LISTAS\n",
    "    1.7 APPEND Y POP\n",
    "    1.8 CREACIÓN DE LISTAS USANDO BUCLES\n",
    "    1.9 DIGITS Y PADTO\n",
    "    1.10 SLICE PARA CORTAR LISTAS\n",
    "    1.11 DIFERENCIA ENTRE LISTA Y TUPLA\n",
    "2. CADENAS DE CARACTERES\n",
    "    2.1 STR PARA CONVERTIR ENTERO A CADENA\n",
    "    2.2 LEN PARA OBTENER LONGITUD\n",
    "    2.3 CADENAS COMO ARRAY (RECORTAR)\n",
    "    2.4 COUNT\n",
    "    2.5 INDEX\n",
    "    2.6 SPLIT\n",
    "    2.7 FIND PARA BUSCAR SUBCADENAS\n",
    "3. DICCIONARIOS\n",
    "    3.1 DEFINICIÓN\n",
    "    3.2 MODIFICAR VALORES Y AÑADIR DATOS\n",
    "    3.3 CREAR DICCIONARIO VACÍO\n",
    "    3.4 KEYS Y VALUES PARA PRODUCIR LISTAS\n",
    "    3.5 IN COMO BÚSQUEDA\n",
    "    3.6 CONVERSIONES \n",
    "    "
   ]
  },
  {
   "cell_type": "markdown",
   "metadata": {},
   "source": [
    "#    1. LISTAS Y TUPLAS"
   ]
  },
  {
   "cell_type": "markdown",
   "metadata": {},
   "source": [
    "LISTAS: L=[1,2,3,5,6]\n",
    "TUPLAS: t=(1,2,3,5,6)\n",
    "El signo + concatena listas"
   ]
  },
  {
   "cell_type": "markdown",
   "metadata": {},
   "source": [
    "### 1.1 TYPE "
   ]
  },
  {
   "cell_type": "markdown",
   "metadata": {},
   "source": [
    "type(L) devuelve el tipo del objeto L"
   ]
  },
  {
   "cell_type": "markdown",
   "metadata": {},
   "source": [
    "###  1.2 LEN"
   ]
  },
  {
   "cell_type": "markdown",
   "metadata": {},
   "source": [
    "len(L) devuelve el tamaño de una lista"
   ]
  },
  {
   "cell_type": "markdown",
   "metadata": {},
   "source": [
    "### 1.3 SRANGE "
   ]
  },
  {
   "cell_type": "markdown",
   "metadata": {},
   "source": [
    "La función srange(a,b,c) devolverá una lista de enteros dentro de [a,b], con intervalos de tamaño c"
   ]
  },
  {
   "cell_type": "markdown",
   "metadata": {},
   "source": [
    "### 1.4 REVERSE"
   ]
  },
  {
   "cell_type": "markdown",
   "metadata": {},
   "source": [
    ".reverse() cambia la lista por una reordenación resultante de darle la vuelta a sus términos"
   ]
  },
  {
   "cell_type": "markdown",
   "metadata": {},
   "source": [
    "### 1.5 SORT"
   ]
  },
  {
   "cell_type": "markdown",
   "metadata": {},
   "source": [
    "L.sort(L) ordena la lista L"
   ]
  },
  {
   "cell_type": "markdown",
   "metadata": {},
   "source": [
    "### 1.6 LIST como método de copiar listas "
   ]
  },
  {
   "cell_type": "markdown",
   "metadata": {},
   "source": [
    "LL = list(L) copia L en la nueva cadena LL"
   ]
  },
  {
   "cell_type": "markdown",
   "metadata": {},
   "source": [
    "### 1.7 APPEND Y POP"
   ]
  },
  {
   "cell_type": "markdown",
   "metadata": {},
   "source": [
    "L.append(5) /*hace un push del elemento 5*/\n",
    "\n",
    "L.pop() /*pop de la lista dada*/"
   ]
  },
  {
   "cell_type": "markdown",
   "metadata": {},
   "source": [
    "### 1.8 Creación de listas usando bucles "
   ]
  },
  {
   "cell_type": "markdown",
   "metadata": {},
   "source": [
    "[j² for j in [1...5]] /*genera una lista de cuadrados desde 1 hasta 5²*/"
   ]
  },
  {
   "cell_type": "markdown",
   "metadata": {},
   "source": [
    "### 1.9 DIGITS y PADTO"
   ]
  },
  {
   "cell_type": "markdown",
   "metadata": {},
   "source": [
    "123.digits() devuelve la lita [3, 2, 1], en la que, de derecha a izquierda, nos encontraremos con potencias en base 10 (123 = 3 + 20 + 100).\n",
    "Podemos modificar digits para trabajar en bases diferentes: ZZ(10).digits(base=2,padto=5) nos daría una lista invertida con las potencias en base 2 de 10, es decir, el número 10 en binario (de tamaño 5 bits)"
   ]
  },
  {
   "cell_type": "markdown",
   "metadata": {},
   "source": [
    "empleando 123.digits(padto=5) crearemos listas de tamaño 5, añadiendo 0 no significativos para rellenar"
   ]
  },
  {
   "cell_type": "markdown",
   "metadata": {},
   "source": [
    "### 1.10 SLICE para cortar listas"
   ]
  },
  {
   "cell_type": "markdown",
   "metadata": {},
   "source": [
    "Dado L = [1, 2, 3, 4, 5]\n",
    "Si hacemos sL = L[1:4] obtenemos sL = [2, 3, 4, 5]"
   ]
  },
  {
   "cell_type": "markdown",
   "metadata": {},
   "source": [
    "### 1.11 Diferencia entre LISTA y TUPLA"
   ]
  },
  {
   "cell_type": "markdown",
   "metadata": {},
   "source": [
    "Una tupla es conceptualmente igual a una lista, pero son inmutables. Es decir, no podemos tocar el contenido de la tupla (al contrario que las listas)"
   ]
  },
  {
   "cell_type": "markdown",
   "metadata": {},
   "source": [
    "### 1.12 Generación de listas aleatorias"
   ]
  },
  {
   "cell_type": "code",
   "execution_count": 1,
   "metadata": {
    "collapsed": false
   },
   "outputs": [
    {
     "data": {
      "text/plain": [
       "[1]"
      ]
     },
     "execution_count": 1,
     "metadata": {},
     "output_type": "execute_result"
    }
   ],
   "source": [
    "sample([1,2,3], 1)"
   ]
  },
  {
   "cell_type": "markdown",
   "metadata": {},
   "source": [
    "La función sample(list, num) toma de forma aleatoria una muestra de num habitantes de una población list. Es decir, en el ejemple de arriba, toma aleatoriamente un elemento de la lista [1,2,3].\n",
    "IMPORTANTE: el retorno de esta función es en forma de lista, por lo que si queremos obtener un NUMERO aleatorio, deberemos coger la posición correspondiente de la lista.\n",
    "Ejemplo:\n",
    "sample([1,0], 1)[0] nos va a devolver un NUMERO 0 o 1 totalmente aleatorio, con equiprobabilidad"
   ]
  },
  {
   "cell_type": "markdown",
   "metadata": {},
   "source": [
    "### 1.13 Generación de números aleatorios"
   ]
  },
  {
   "cell_type": "markdown",
   "metadata": {},
   "source": [
    "La función randint(a,b) devuelve un número entero aleatorio entre a y b"
   ]
  },
  {
   "cell_type": "markdown",
   "metadata": {},
   "source": [
    "### 1.14 Paso de listas a cadenas"
   ]
  },
  {
   "cell_type": "code",
   "execution_count": null,
   "metadata": {
    "collapsed": true
   },
   "outputs": [],
   "source": [
    "def cadena(L):\n",
    "    C = ''\n",
    "    for item in L:\n",
    "        C += str(item)\n",
    "    return C"
   ]
  },
  {
   "cell_type": "markdown",
   "metadata": {},
   "source": [
    "# 2. CADENAS DE CARACTERES "
   ]
  },
  {
   "cell_type": "markdown",
   "metadata": {},
   "source": [
    "Una cadena de caracteres es un contenedor de datos inmutable, como las tuplas.\n",
    "Una cadena de caracteres se delimitas por comillas simples:\n",
    "C = 'Esta es nuestra casa'"
   ]
  },
  {
   "cell_type": "markdown",
   "metadata": {},
   "source": [
    "2.1 str(k) /* Convierte el entero k en una cadena de caracteres */\n",
    "\n",
    "2.2 len(cadena) /* Devuelve la longitud de una cadena */\n",
    "\n",
    "2.3 Se las cadenas pueden tratarse como un array, y recortarse:\n",
    "frase = 'Recortando letras de una frase'\n",
    "print (frase[3], frase[1:5:2], frase[6:10], frase[11], frase[:4], frase[3])\n",
    "Devolvería:\n",
    "    (' o ' , ' eo ' , ' ando ' , ' letras de una frase ' , ' Reco ' , ' Roaoeadu a ')\n",
    "\n",
    "2.4 C.count('e') /*Devuelve las veces que 'e' aparece en la cadena C*/\n",
    "\n",
    "2.5 C.index('e') /*Devuelve la posición de la cadena en la que se encuentra 'e'*/\n",
    "\n",
    "2.6 C.split('') /*Trocea una cadena de caracteres separada por espacios ' '*/\n",
    "\n",
    "2.7 cadena_primaria.find(subcadena) /* Devuelve el primer indice en que aparece una subcadena dentro de una cadena primaria */"
   ]
  },
  {
   "cell_type": "markdown",
   "metadata": {},
   "source": [
    "# 3. DICCIONARIOS"
   ]
  },
  {
   "cell_type": "markdown",
   "metadata": {},
   "source": [
    "3.1 DEFINICIÓN\n",
    "    diccionario = {clave1:valor1, ...}\n",
    "Las claves han de ser todas diferentes.\n",
    "Una vez creado el diccionario, podremos recuperar valores usando una clave. Por ejemplo:\n",
    "    diccionario['clave1']\n",
    "Devolverá 'valor1'"
   ]
  },
  {
   "cell_type": "markdown",
   "metadata": {},
   "source": [
    "3.2 MODIFICAR VALORES Y AÑADIR ENTRADAS\n",
    "    diccionario{clave} = valor\n",
    "Para suprimir valores, usamos del:\n",
    "    del diccionario['clave1']"
   ]
  },
  {
   "cell_type": "markdown",
   "metadata": {},
   "source": [
    "3.3 CREAR DICCIONARIO VACÍO\n",
    "    dict()"
   ]
  },
  {
   "cell_type": "markdown",
   "metadata": {},
   "source": [
    "3.4 KEYS Y VALUES\n",
    "    .keys() y .values() producen listas con todas las claves y los valores, respectivamente"
   ]
  },
  {
   "cell_type": "markdown",
   "metadata": {},
   "source": [
    "3.5 IN COMO MÉTODO DE BÚSQUEDA\n",
    "    x in diccionario devuelve TRUE si x es una clave"
   ]
  },
  {
   "cell_type": "markdown",
   "metadata": {},
   "source": [
    "3.6 CONVERSIONES\n",
    "\n",
    "1. Tupla a lista o conjunto: Para una tupla T\n",
    "list(T)\n",
    "set(T)\n",
    "2. Lista a tupla: tuple(L).\n",
    "3. Cadena a lista:\n",
    "C = ' abc '\n",
    "list(C)\n",
    "[ ' a ' , ' b ' , ' c ' ]\n",
    "4. ¿Lista a cadena?:\n",
    "C = ' abc '\n",
    "str(list(C))\n",
    "' [ ' a ' ,\n",
    "' b ' , ' c ' ] '\n",
    "En general esto no es lo que queremos.\n",
    "5. Lista a cadena:\n",
    "C = ' abc '\n",
    "join(list(C),sep=\"\")\n",
    "' abc '\n",
    "6. Lista a conjunto: para una lista L, set(L). Suprime repeticiones en la lista.\n",
    "7. Conjunto a lista: para un conjunto A, list(conjunto).\n",
    "8. Diccionario a lista de pares: Para un diccionerio D, D.items().\n",
    "9. Lista de pares a diccionario: Este pequeño programa, con un bucle for, realiza la conversión.\n",
    "def convert list dict(L):\n",
    "dict = {}\n",
    "for item in L:\n",
    "dict[item[0]]=item[1]\n",
    "return dict\n",
    "10. Dadas dos listas, L1 y L2, de la misma longitud podemos formar una lista de pares mediante zip(L1,L2), y transformar\n",
    "esta lista en diccionario mediante la funciṕn del apartado anterior."
   ]
  },
  {
   "cell_type": "markdown",
   "metadata": {},
   "source": [
    "# LÍMITES"
   ]
  },
  {
   "cell_type": "markdown",
   "metadata": {},
   "source": [
    "f1.limit(x=+oo) calcula el límite de una función f1 cuando la variable x tiende a infinito"
   ]
  },
  {
   "cell_type": "markdown",
   "metadata": {},
   "source": [
    "Cuando el límite no existe, devuelve und. Si el límite no existe pero está acotado, devuelve ind. Si limit devuelve la definición de la función, es que Sage no es capaz de encontrar ni acotar el límite."
   ]
  },
  {
   "cell_type": "markdown",
   "metadata": {},
   "source": [
    "# SERIES"
   ]
  },
  {
   "cell_type": "markdown",
   "metadata": {},
   "source": [
    "sum(expresion, variable, lim_inferior, lim_superior)"
   ]
  },
  {
   "cell_type": "code",
   "execution_count": 2,
   "metadata": {
    "collapsed": false
   },
   "outputs": [
    {
     "data": {
      "text/html": [
       "<html><script type=\"math/tex; mode=display\">\\newcommand{\\Bold}[1]{\\mathbf{#1}}\\frac{1}{6} \\, \\pi^{2}</script></html>"
      ],
      "text/plain": [
       "1/6*pi^2"
      ]
     },
     "metadata": {},
     "output_type": "display_data"
    }
   ],
   "source": [
    "sum(1/x^2, x, 1, oo).show()\n",
    "prod(L) /* Donde L es una lista */"
   ]
  },
  {
   "cell_type": "markdown",
   "metadata": {},
   "source": [
    "# CÁLCULO DIFERENCIAL"
   ]
  },
  {
   "cell_type": "markdown",
   "metadata": {},
   "source": [
    "f.derivative() halla la derivada de la función f siguiendo las normas de derivación"
   ]
  },
  {
   "cell_type": "markdown",
   "metadata": {},
   "source": [
    "# CÁLCULO INTEGRAL"
   ]
  },
  {
   "cell_type": "markdown",
   "metadata": {},
   "source": [
    "f.integrate(x) integra la función f respecto de x\n",
    "f.integrate(x, pi/5, pi/4) integra f entre las cotas pi/5 y pi/4 "
   ]
  },
  {
   "cell_type": "markdown",
   "metadata": {},
   "source": [
    "Para hacer una integral acotada, deberemos asumir que la cota superior es mayor que la cota inferior. Si esas cotas son número enteros, esa asunción se hace de forma automática. Si no, por ejemplo, con el caso de la integral entre -cos(alpha) y sin(alpha) deberemos usar un assume:\n",
    "assume(sin(alpha) + cos(alpha) > 0)\n",
    "Y de este modo evitaremos errores de compilación de sage."
   ]
  },
  {
   "cell_type": "markdown",
   "metadata": {},
   "source": [
    "# ÁLGEBRA LINEAL"
   ]
  },
  {
   "cell_type": "markdown",
   "metadata": {},
   "source": [
    "## Creación de matrices"
   ]
  },
  {
   "cell_type": "code",
   "execution_count": 1,
   "metadata": {
    "collapsed": false
   },
   "outputs": [
    {
     "data": {
      "text/html": [
       "<html><script type=\"math/tex; mode=display\">\\newcommand{\\Bold}[1]{\\mathbf{#1}}\\left(\\begin{array}{rrrrrrrrrr}\n",
       "1 & 2 & 3 & 4 & 5 & 6 & 7 & 8 & 9 & 10 \\\\\n",
       "11 & 12 & 13 & 14 & 15 & 16 & 17 & 18 & 19 & 20 \\\\\n",
       "21 & 22 & 23 & 24 & 25 & 26 & 27 & 28 & 29 & 30 \\\\\n",
       "31 & 32 & 33 & 34 & 35 & 36 & 37 & 38 & 39 & 40 \\\\\n",
       "41 & 42 & 43 & 44 & 45 & 46 & 47 & 48 & 49 & 50 \\\\\n",
       "51 & 52 & 53 & 54 & 55 & 56 & 57 & 58 & 59 & 60 \\\\\n",
       "61 & 62 & 63 & 64 & 65 & 66 & 67 & 68 & 69 & 70 \\\\\n",
       "71 & 72 & 73 & 74 & 75 & 76 & 77 & 78 & 79 & 80 \\\\\n",
       "81 & 82 & 83 & 84 & 85 & 86 & 87 & 88 & 89 & 90 \\\\\n",
       "91 & 92 & 93 & 94 & 95 & 96 & 97 & 98 & 99 & 100\n",
       "\\end{array}\\right)</script></html>"
      ],
      "text/plain": [
       "[  1   2   3   4   5   6   7   8   9  10]\n",
       "[ 11  12  13  14  15  16  17  18  19  20]\n",
       "[ 21  22  23  24  25  26  27  28  29  30]\n",
       "[ 31  32  33  34  35  36  37  38  39  40]\n",
       "[ 41  42  43  44  45  46  47  48  49  50]\n",
       "[ 51  52  53  54  55  56  57  58  59  60]\n",
       "[ 61  62  63  64  65  66  67  68  69  70]\n",
       "[ 71  72  73  74  75  76  77  78  79  80]\n",
       "[ 81  82  83  84  85  86  87  88  89  90]\n",
       "[ 91  92  93  94  95  96  97  98  99 100]"
      ]
     },
     "metadata": {},
     "output_type": "display_data"
    }
   ],
   "source": [
    "A=matrix(ZZ,10,[1..100])\n",
    "show(A)"
   ]
  },
  {
   "cell_type": "markdown",
   "metadata": {},
   "source": [
    "Donde ZZ es el conjunto de números a tratar (en este caso, enteros), 10 indica que es una matriz de 10x10, y [1...100] indica que se representarán todos los números del 1 al 100"
   ]
  },
  {
   "cell_type": "code",
   "execution_count": 7,
   "metadata": {
    "collapsed": false
   },
   "outputs": [
    {
     "data": {
      "text/html": [
       "<html><script type=\"math/tex; mode=display\">\\newcommand{\\Bold}[1]{\\mathbf{#1}}\\left(\\begin{array}{rrr}\n",
       "1 & 2 & 3 \\\\\n",
       "4 & 5 & 6\n",
       "\\end{array}\\right)</script></html>"
      ],
      "text/plain": [
       "[1 2 3]\n",
       "[4 5 6]"
      ]
     },
     "metadata": {},
     "output_type": "display_data"
    }
   ],
   "source": [
    "A=matrix([[1,2,3],[4,5,6]])\n",
    "show(A)"
   ]
  },
  {
   "cell_type": "markdown",
   "metadata": {},
   "source": [
    "OPERACIONES CON MATRICES:\n",
    "    A.det() // det(A) /*Determinante de A*/\n",
    "    A.rank() // rank(A)  /*Rango de A*/\n",
    "    A.trace()  /*Traza de A*/\n",
    "    A.inverse()  /*Inversa de A*/\n",
    "    A.adjoint()  /*Adjunta de A*/\n",
    "    A.echelonize()  /*Matriz escalonada de A*/"
   ]
  },
  {
   "cell_type": "markdown",
   "metadata": {},
   "source": [
    "# FUNCIONES"
   ]
  },
  {
   "cell_type": "markdown",
   "metadata": {},
   "source": [
    "f(x) = sin(x)\n",
    "f(a,b,c) = a + 2*b + c"
   ]
  },
  {
   "cell_type": "markdown",
   "metadata": {},
   "source": [
    "# PLOT"
   ]
  },
  {
   "cell_type": "markdown",
   "metadata": {},
   "source": [
    "plot(f(x), (x, 0, 10)) # Muestra la gráfica para unos valores de x entre 0 y 10"
   ]
  },
  {
   "cell_type": "code",
   "execution_count": null,
   "metadata": {
    "collapsed": true
   },
   "outputs": [],
   "source": [
    "points(TWilson, rgbcolor='blue') + points(TEras, rgbcolor='red')"
   ]
  },
  {
   "cell_type": "markdown",
   "metadata": {},
   "source": [
    "La linea anterior generará una gráfica de puntos. TWilson y TEras son listas formadas por tuplas, de modo que cada tupla almacenada en las listas se corresponde con un punto bidimensional. Los puntos correspondientes a la primera lista se muestran en color azul, mientras que los correspondientes a la segunda se mostrarán en rojo."
   ]
  },
  {
   "cell_type": "markdown",
   "metadata": {},
   "source": [
    "# DECLARACIÓN DE VARIABLES"
   ]
  },
  {
   "cell_type": "markdown",
   "metadata": {},
   "source": [
    "La variable 'x' viene predefinida. Las demás se definen de la siguiente manera:\n",
    "\n",
    "var('a b c')"
   ]
  },
  {
   "cell_type": "markdown",
   "metadata": {},
   "source": [
    "# PRINT Y SHOW "
   ]
  },
  {
   "cell_type": "markdown",
   "metadata": {},
   "source": [
    "Suponemos que tenemos las siguientes expresiones:"
   ]
  },
  {
   "cell_type": "markdown",
   "metadata": {},
   "source": [
    "s = a + b + c\n",
    "s2 = a^2 + b^2 + c^2\n",
    "s3 = a^3 + b^3 + c^3\n",
    "s4 = a + b + c + 2*(a + b + c)\n",
    "p = a*b*c"
   ]
  },
  {
   "cell_type": "markdown",
   "metadata": {},
   "source": [
    "### PRINT "
   ]
  },
  {
   "cell_type": "markdown",
   "metadata": {},
   "source": [
    "print s; s2; s3; s4; p /*Imprime las expresiones tal cual han sido definidas*/"
   ]
  },
  {
   "cell_type": "markdown",
   "metadata": {},
   "source": [
    "### SHOW"
   ]
  },
  {
   "cell_type": "markdown",
   "metadata": {},
   "source": [
    "show([s, s2, s3, s4, p]) /*Imprime en formato matemático*/"
   ]
  },
  {
   "cell_type": "markdown",
   "metadata": {},
   "source": [
    "Si empleamos la función $ show(s.expand()) $ obtendremos la función s expandida en monomios"
   ]
  },
  {
   "cell_type": "markdown",
   "metadata": {},
   "source": [
    "Si empleamos la función $ show(s.factor()) $ obtendremos la función s factorizada"
   ]
  },
  {
   "cell_type": "markdown",
   "metadata": {},
   "source": [
    "# SOLVE Y FIND_ROOT"
   ]
  },
  {
   "cell_type": "markdown",
   "metadata": {},
   "source": [
    "### FIND_LOCAL_MAXIMUM"
   ]
  },
  {
   "cell_type": "markdown",
   "metadata": {},
   "source": [
    "find_local_maximum(f, min, max) /encuentra el máximo de una función entre dos valores min y max/"
   ]
  },
  {
   "cell_type": "markdown",
   "metadata": {},
   "source": [
    "### SOLVE"
   ]
  },
  {
   "cell_type": "markdown",
   "metadata": {},
   "source": [
    "solve() /*intenta obtener soluciones exactas en forma de expresión simbólica*/"
   ]
  },
  {
   "cell_type": "markdown",
   "metadata": {},
   "source": [
    "# PROGRAMACIÓN"
   ]
  },
  {
   "cell_type": "markdown",
   "metadata": {},
   "source": [
    "## CONTROL DE FLUJO"
   ]
  },
  {
   "cell_type": "markdown",
   "metadata": {},
   "source": [
    "### Bucle for"
   ]
  },
  {
   "cell_type": "markdown",
   "metadata": {},
   "source": [
    "for <elemento> in <contenedor>:\n",
    "    instruccion 1\n",
    "    instruccion 2\n",
    "    "
   ]
  },
  {
   "cell_type": "markdown",
   "metadata": {},
   "source": [
    "### Condicionales"
   ]
  },
  {
   "cell_type": "markdown",
   "metadata": {},
   "source": [
    "if <condicion 1>:\n",
    "    inst 1\n",
    "    inst 2\n",
    "elif <condicon 2>:\n",
    "    inst 3\n",
    "    inst 4\n",
    "else:\n",
    "    inst 5\n",
    "    inst 6"
   ]
  },
  {
   "cell_type": "markdown",
   "metadata": {},
   "source": [
    "### Bucle while"
   ]
  },
  {
   "cell_type": "markdown",
   "metadata": {},
   "source": [
    "while <condición>:\n",
    "    instr 1\n",
    "    instr 2"
   ]
  },
  {
   "cell_type": "markdown",
   "metadata": {},
   "source": [
    "# FUNCIONES MATEMÁTICAS"
   ]
  },
  {
   "cell_type": "markdown",
   "metadata": {},
   "source": [
    "### FACTOR"
   ]
  },
  {
   "cell_type": "markdown",
   "metadata": {},
   "source": [
    "factor(x) devuelve la descomposición en factores primos de x\n",
    "list(factor(x)) devuelve una lista de pares de factores, donde el primer elemento es el factor primo, y el segundo es su potencia"
   ]
  },
  {
   "cell_type": "markdown",
   "metadata": {},
   "source": [
    "### XGCD"
   ]
  },
  {
   "cell_type": "markdown",
   "metadata": {},
   "source": [
    "xgcd(x) devuelve una tupla {d, u, v}, donde a el el MCD, y se cumple la Identidad de Bezout:\n",
    "    D = A*U + B*V"
   ]
  },
  {
   "cell_type": "markdown",
   "metadata": {},
   "source": [
    "### FACTORIAL"
   ]
  },
  {
   "cell_type": "markdown",
   "metadata": {},
   "source": [
    "factorial(x) devuelve el factorial del número x!"
   ]
  },
  {
   "cell_type": "markdown",
   "metadata": {},
   "source": [
    "### PRIME_RANGE"
   ]
  },
  {
   "cell_type": "markdown",
   "metadata": {},
   "source": [
    "prime_range(100, 1001) genera la lista de primos entre 100 y 1000"
   ]
  },
  {
   "cell_type": "markdown",
   "metadata": {
    "collapsed": true
   },
   "source": [
    "# APROXIMACIÓN"
   ]
  },
  {
   "cell_type": "markdown",
   "metadata": {},
   "source": [
    "### NUMERICAL APPROX"
   ]
  },
  {
   "cell_type": "markdown",
   "metadata": {},
   "source": [
    "Si usamos la función n(), o N(), se mostrará una aproximación de 53 dígitos binarios del input.\n",
    "Podemos regular la precisión usando: n(a, prec=x), que mostrará el elemento a con precisión de x dígitos binarios, o podemos usar N(a, digits=x), que mostrará el elemento a con precisión de x dígitos decimales."
   ]
  },
  {
   "cell_type": "code",
   "execution_count": 13,
   "metadata": {
    "collapsed": false
   },
   "outputs": [],
   "source": [
    "a = n(pi, prec=19)\n",
    "b = n(pi, digits=5)"
   ]
  },
  {
   "cell_type": "code",
   "execution_count": 18,
   "metadata": {
    "collapsed": false
   },
   "outputs": [
    {
     "data": {
      "text/plain": [
       "True"
      ]
     },
     "execution_count": 18,
     "metadata": {},
     "output_type": "execute_result"
    }
   ],
   "source": [
    "a==b"
   ]
  },
  {
   "cell_type": "markdown",
   "metadata": {},
   "source": [
    "a y b son distintos porque, aunque tengan la misma representación decimal, tienen aproximaciones binarias diferentes"
   ]
  },
  {
   "cell_type": "code",
   "execution_count": 16,
   "metadata": {
    "collapsed": false
   },
   "outputs": [
    {
     "data": {
      "text/plain": [
       "'11.00100100001111111'"
      ]
     },
     "execution_count": 16,
     "metadata": {},
     "output_type": "execute_result"
    }
   ],
   "source": [
    "a.str(base=2)"
   ]
  },
  {
   "cell_type": "code",
   "execution_count": 17,
   "metadata": {
    "collapsed": false
   },
   "outputs": [
    {
     "data": {
      "text/plain": [
       "'11.001001000011111110'"
      ]
     },
     "execution_count": 17,
     "metadata": {},
     "output_type": "execute_result"
    }
   ],
   "source": [
    "b.str(base=2)"
   ]
  },
  {
   "cell_type": "markdown",
   "metadata": {},
   "source": [
    "### USO DE STR PARA CONVERTIR A BINARIO"
   ]
  },
  {
   "cell_type": "markdown",
   "metadata": {},
   "source": [
    "Si tenemos un número guardado en una variable x:\n",
    "x.str(base=2) /**Muestra el número x en base 2**/"
   ]
  },
  {
   "cell_type": "markdown",
   "metadata": {},
   "source": [
    "## MÉTODOS DE APROXIMACIÓN DEL NÚMERO PI"
   ]
  },
  {
   "cell_type": "markdown",
   "metadata": {},
   "source": [
    "### ARQUÍMEDES"
   ]
  },
  {
   "cell_type": "code",
   "execution_count": 19,
   "metadata": {
    "collapsed": true
   },
   "outputs": [],
   "source": [
    "R = RealField(2048)\n",
    "\n",
    "#S6 = 1/2; T6=1/sqrt(3)\n",
    "def S(n):\n",
    "    if n == 6:\n",
    "        return R(1/2)\n",
    "    else:\n",
    "        k = n/2\n",
    "        return R(sqrt((T(2*k)*S(k))/2))\n",
    "    \n",
    "def T(n):\n",
    "    if n == 6:\n",
    "        return R(1/sqrt(3))\n",
    "    else:\n",
    "        k = n/2\n",
    "        return R(1/(1/(T(k)) + 1/(S(k))))\n",
    "    \n",
    "\n",
    "#Pedimos como argumento un valor mínimo n0, y un \n",
    "#límite n\n",
    "def Arquimedes(i, n0):\n",
    "    a = 6*(2**(i+1))\n",
    "    b = 6*(2**(i))\n",
    "    while T(a) - S(a) >= 10**(-n0):\n",
    "        return Arquimedes(i+1, n0)\n",
    "    print  b *T(b)\n",
    "    print  b *S(b)\n",
    "    return"
   ]
  },
  {
   "cell_type": "markdown",
   "metadata": {},
   "source": [
    "### EULER"
   ]
  },
  {
   "cell_type": "code",
   "execution_count": 20,
   "metadata": {
    "collapsed": true
   },
   "outputs": [],
   "source": [
    "def euler(x, n, nbits):\n",
    "    R = RealField(nbits)\n",
    "    var('res', 'j')\n",
    "    res = R(0)\n",
    "    j = 0\n",
    "    for i in srange(1, n+1, 2):\n",
    "        res += R(((-1)**j)*(x**i)/i)\n",
    "        j += 1\n",
    "    return R(res)\n",
    "\n",
    "def aproximacion(x, nbits):\n",
    "    R = RealField(nbits)\n",
    "    i = 0\n",
    "    while R(pi/4) != R(euler(x, i, nbits)):\n",
    "        i += 1\n",
    "    return R(euler(x, i, nbits))\n",
    "\n",
    "def aprox_rapida(nbits):\n",
    "    R = RealField(nbits)\n",
    "    i = 0\n",
    "    a = R(arctan(1/2))\n",
    "    b = R(arctan(1/3))\n",
    "    while R(pi/4) != R(euler(a, i, nbits)) + R(euler(b, i, nbits)):\n",
    "        i +=1\n",
    "    return R(euler(a, i, nbits)) + R(euler(b, i, nbits))"
   ]
  },
  {
   "cell_type": "markdown",
   "metadata": {},
   "source": [
    "### RAMANUJAN"
   ]
  },
  {
   "cell_type": "code",
   "execution_count": null,
   "metadata": {
    "collapsed": true
   },
   "outputs": [],
   "source": [
    "def suma(N):\n",
    "    var('res')\n",
    "    res = 0\n",
    "    for i in srange(0, N+1):\n",
    "        res += (((factorial(2*i))**3) * (42*i + 5))/(((factorial(i))**6)*(16**(3*i + 1)))\n",
    "    return res\n",
    "\n",
    "#Ahora creamos una función para analizar el número de\n",
    "#cifras binarias correctas que aumentan en cada intervalo\n",
    "#10 iteraciones de la suma de Ramanujan\n",
    "def aproximacion(nbits):\n",
    "    L = []\n",
    "    j = 4\n",
    "    for i in srange(10, 400, 10):\n",
    "        R = RealField(j)\n",
    "        pi2 = 1 / suma(i)\n",
    "        while R(pi) == R(pi2):\n",
    "            j += 1\n",
    "            R = RealField(j)\n",
    "           \n",
    "        \n",
    "        L.append([i, j])\n",
    "    return L\n",
    "\n",
    "#Ejecutando este código, veremos que, por cada 10 iteraciones,\n",
    "#hay una mejora de aproximadamente 60 dígitos binarios"
   ]
  }
 ],
 "metadata": {
  "kernelspec": {
   "display_name": "SageMath 7.2",
   "language": "",
   "name": "sagemath"
  },
  "language_info": {
   "codemirror_mode": {
    "name": "ipython",
    "version": 2
   },
   "file_extension": ".py",
   "mimetype": "text/x-python",
   "name": "python",
   "nbconvert_exporter": "python",
   "pygments_lexer": "ipython2",
   "version": "2.7.10"
  }
 },
 "nbformat": 4,
 "nbformat_minor": 0
}
