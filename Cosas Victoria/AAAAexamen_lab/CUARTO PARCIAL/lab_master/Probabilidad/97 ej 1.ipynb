{
 "cells": [
  {
   "cell_type": "markdown",
   "metadata": {},
   "source": [
    "Apartado 1)\n",
    "\n",
    "Práctico"
   ]
  },
  {
   "cell_type": "code",
   "execution_count": 43,
   "metadata": {
    "collapsed": false
   },
   "outputs": [],
   "source": [
    "def moneda(p):\n",
    "    r = random();\n",
    "    if(r < p):\n",
    "        return 1;\n",
    "    return 0;\n"
   ]
  },
  {
   "cell_type": "code",
   "execution_count": 16,
   "metadata": {
    "collapsed": true
   },
   "outputs": [],
   "source": [
    "def vecescara(p, N):\n",
    "    contador = 0;\n",
    "    for int in srange(N):\n",
    "        contador += moneda(p)\n",
    "    return contador"
   ]
  },
  {
   "cell_type": "code",
   "execution_count": 17,
   "metadata": {
    "collapsed": false
   },
   "outputs": [
    {
     "data": {
      "text/plain": [
       "505"
      ]
     },
     "execution_count": 17,
     "metadata": {},
     "output_type": "execute_result"
    }
   ],
   "source": [
    "vecescara(0.5, 1000)"
   ]
  },
  {
   "cell_type": "code",
   "execution_count": 39,
   "metadata": {
    "collapsed": true
   },
   "outputs": [],
   "source": [
    "def prob(p, N, max, Nit):\n",
    "    cont = 0\n",
    "    for a in srange(Nit):\n",
    "        if(a % 1000 == 0):\n",
    "            print('mil procesados')\n",
    "        if(vecescara(p,N) <= max):\n",
    "            cont += 1\n",
    "    return cont/Nit.n()"
   ]
  },
  {
   "cell_type": "code",
   "execution_count": 42,
   "metadata": {
    "collapsed": false
   },
   "outputs": [
    {
     "name": "stdout",
     "output_type": "stream",
     "text": [
      "mil procesados\n",
      "mil procesados\n",
      "mil procesados\n",
      "mil procesados\n",
      "mil procesados\n",
      "mil procesados\n",
      "mil procesados\n",
      "mil procesados\n",
      "mil procesados\n",
      "mil procesados\n"
     ]
    },
    {
     "data": {
      "text/plain": [
       "0.528400000000000"
      ]
     },
     "execution_count": 42,
     "metadata": {},
     "output_type": "execute_result"
    }
   ],
   "source": [
    "prob(0.1, 1000, 100, 10000)"
   ]
  },
  {
   "cell_type": "markdown",
   "metadata": {},
   "source": [
    "Teórico:"
   ]
  },
  {
   "cell_type": "code",
   "execution_count": 71,
   "metadata": {
    "collapsed": true
   },
   "outputs": [],
   "source": [
    "def pr(p, i):\n",
    "    return(binomial(1000, i)*(p^i)*((1-p)^(1000-i))).n()"
   ]
  },
  {
   "cell_type": "code",
   "execution_count": 80,
   "metadata": {
    "collapsed": false
   },
   "outputs": [
    {
     "data": {
      "text/plain": [
       "0.0420167908610866"
      ]
     },
     "execution_count": 80,
     "metadata": {},
     "output_type": "execute_result"
    }
   ],
   "source": [
    "pr(0.1, 100)"
   ]
  },
  {
   "cell_type": "code",
   "execution_count": 87,
   "metadata": {
    "collapsed": false
   },
   "outputs": [],
   "source": [
    "def probt(p, max):\n",
    "    suma = 0;\n",
    "    suma = suma.n()\n",
    "    for i in srange(1, max+1):\n",
    "        suma = suma + pr(p, i)\n",
    "    return suma"
   ]
  },
  {
   "cell_type": "code",
   "execution_count": 88,
   "metadata": {
    "collapsed": false
   },
   "outputs": [
    {
     "data": {
      "text/plain": [
       "0.526599081295180"
      ]
     },
     "execution_count": 88,
     "metadata": {},
     "output_type": "execute_result"
    }
   ],
   "source": [
    "probt(0.1, 100)"
   ]
  },
  {
   "cell_type": "markdown",
   "metadata": {},
   "source": [
    "Apartado 2)"
   ]
  },
  {
   "cell_type": "code",
   "execution_count": 89,
   "metadata": {
    "collapsed": true
   },
   "outputs": [],
   "source": [
    "def aleat(a,b):\n",
    "    return a + random()*(b-a)"
   ]
  },
  {
   "cell_type": "markdown",
   "metadata": {},
   "source": [
    "aleat(2,5)"
   ]
  },
  {
   "cell_type": "markdown",
   "metadata": {},
   "source": [
    "Apartado 3)"
   ]
  },
  {
   "cell_type": "code",
   "execution_count": 102,
   "metadata": {
    "collapsed": false
   },
   "outputs": [],
   "source": [
    "def ruina(jugador, casino, Nit):\n",
    "    i = 0;\n",
    "    while(jugador > 0 and casino > 0 and i < Nit):\n",
    "        if(moneda(0.5) == 1):\n",
    "            jugador += 1\n",
    "            casino -= 1\n",
    "        else:\n",
    "            casino += 1\n",
    "            jugador -= 1\n",
    "        i += 1\n",
    "    return [jugador, casino]\n",
    "    "
   ]
  },
  {
   "cell_type": "code",
   "execution_count": 126,
   "metadata": {
    "collapsed": false
   },
   "outputs": [
    {
     "data": {
      "text/plain": [
       "[0, 100000100]"
      ]
     },
     "execution_count": 126,
     "metadata": {},
     "output_type": "execute_result"
    }
   ],
   "source": [
    "ruina(100, 100000000, 10000)"
   ]
  },
  {
   "cell_type": "code",
   "execution_count": 130,
   "metadata": {
    "collapsed": false
   },
   "outputs": [],
   "source": [
    "def pruina(Nit):\n",
    "    ganar = 0\n",
    "    for i in srange (Nit):\n",
    "        jugador = 100\n",
    "        while(true):\n",
    "            if(moneda(0.5) == 1):\n",
    "                jugador += 1\n",
    "            else:\n",
    "                jugador -= 1\n",
    "            if(jugador == 200):\n",
    "                ganar += 1\n",
    "                break;\n",
    "            if(jugador == 50):\n",
    "                break\n",
    "    return (ganar/Nit).n()"
   ]
  },
  {
   "cell_type": "code",
   "execution_count": 136,
   "metadata": {
    "collapsed": false
   },
   "outputs": [
    {
     "data": {
      "text/plain": [
       "0.328000000000000"
      ]
     },
     "execution_count": 136,
     "metadata": {},
     "output_type": "execute_result"
    }
   ],
   "source": [
    "pruina(1000)"
   ]
  },
  {
   "cell_type": "code",
   "execution_count": 137,
   "metadata": {
    "collapsed": true
   },
   "outputs": [],
   "source": [
    "probabilidad = 0\n",
    "for i in srange(10):\n",
    "    probabilidad += pruina(1000)\n",
    "probabilidad = (probabilidad/10).N()"
   ]
  },
  {
   "cell_type": "code",
   "execution_count": 138,
   "metadata": {
    "collapsed": false
   },
   "outputs": [
    {
     "name": "stdout",
     "output_type": "stream",
     "text": [
      "0.331600000000000\n"
     ]
    }
   ],
   "source": [
    "print(probabilidad)"
   ]
  },
  {
   "cell_type": "code",
   "execution_count": null,
   "metadata": {
    "collapsed": true
   },
   "outputs": [],
   "source": []
  }
 ],
 "metadata": {
  "kernelspec": {
   "display_name": "SageMath 7.3",
   "language": "",
   "name": "sagemath"
  },
  "language_info": {
   "codemirror_mode": {
    "name": "ipython",
    "version": 2
   },
   "file_extension": ".py",
   "mimetype": "text/x-python",
   "name": "python",
   "nbconvert_exporter": "python",
   "pygments_lexer": "ipython2",
   "version": "2.7.10"
  }
 },
 "nbformat": 4,
 "nbformat_minor": 0
}
