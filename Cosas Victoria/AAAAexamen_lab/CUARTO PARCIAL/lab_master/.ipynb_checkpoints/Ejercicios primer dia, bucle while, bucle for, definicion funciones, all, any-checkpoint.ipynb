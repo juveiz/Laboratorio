{
 "cells": [
  {
   "cell_type": "markdown",
   "metadata": {},
   "source": [
    "<h3>Otros ejercicios</h3>\n",
    "\n",
    "<h3>OTROS EJERCICIOS</h3>\n",
    "<ol>\n",
    "<li>&iquest;Qu&eacute; enteros primos $p$ se pueden representar como la suma de dos cuadrados de enteros?&nbsp;</li>\n",
    "<li>&iquest;Cu&aacute;ntos ceros hay al final, por la derecha, en $100!$ (factorial de cien)?&iquest;Y en $365!$?</li>\n",
    "<li>&nbsp;&iquest;Es cierto que la suma $$1!+2!+3!+\\dots+n!$$ no puede ser un cuadrado si $n\\ge 4$?</li>\n",
    "<li>&iquest;Existen grupos de $k$ enteros positivos consecutivos cuya suma sea una potencia de $2$?&iquest;Y si permitimos que sean enteros positivos o negativos?</li>\n",
    "</ol>"
   ]
  },
  {
   "cell_type": "code",
   "execution_count": 2,
   "metadata": {
    "collapsed": false,
    "scrolled": true
   },
   "outputs": [
    {
     "data": {
      "text/plain": [
       "[2,\n",
       " 5,\n",
       " 17,\n",
       " 37,\n",
       " 101,\n",
       " 197,\n",
       " 257,\n",
       " 5,\n",
       " 13,\n",
       " 29,\n",
       " 53,\n",
       " 173,\n",
       " 229,\n",
       " 293,\n",
       " 13,\n",
       " 73,\n",
       " 109,\n",
       " 17,\n",
       " 41,\n",
       " 97,\n",
       " 137,\n",
       " 241,\n",
       " 29,\n",
       " 41,\n",
       " 61,\n",
       " 89,\n",
       " 281,\n",
       " 349,\n",
       " 37,\n",
       " 61,\n",
       " 157,\n",
       " 397,\n",
       " 53,\n",
       " 113,\n",
       " 149,\n",
       " 193,\n",
       " 373,\n",
       " 73,\n",
       " 89,\n",
       " 113,\n",
       " 233,\n",
       " 353,\n",
       " 97,\n",
       " 181,\n",
       " 277,\n",
       " 337,\n",
       " 101,\n",
       " 109,\n",
       " 149,\n",
       " 181,\n",
       " 269,\n",
       " 389,\n",
       " 461,\n",
       " 137,\n",
       " 157,\n",
       " 317,\n",
       " 193,\n",
       " 313,\n",
       " 433,\n",
       " 173,\n",
       " 233,\n",
       " 269,\n",
       " 313,\n",
       " 197,\n",
       " 277,\n",
       " 317,\n",
       " 421,\n",
       " 557,\n",
       " 229,\n",
       " 241,\n",
       " 421,\n",
       " 257,\n",
       " 281,\n",
       " 337,\n",
       " 617,\n",
       " 293,\n",
       " 353,\n",
       " 389,\n",
       " 433,\n",
       " 613,\n",
       " 349,\n",
       " 373,\n",
       " 613,\n",
       " 397,\n",
       " 461,\n",
       " 557,\n",
       " 617]"
      ]
     },
     "execution_count": 2,
     "metadata": {},
     "output_type": "execute_result"
    }
   ],
   "source": [
    "[x^2+y^2 for x in srange(1,20) for y in srange(1,20) if is_prime(x^2+y^2)]"
   ]
  },
  {
   "cell_type": "code",
   "execution_count": 3,
   "metadata": {
    "collapsed": false
   },
   "outputs": [
    {
     "data": {
      "text/plain": [
       "93326215443944152681699238856266700490715968264381621468592963895217599993229915608941463976156518286253697920827223758251185210916864000000000000000000000000"
      ]
     },
     "execution_count": 3,
     "metadata": {},
     "output_type": "execute_result"
    }
   ],
   "source": [
    "factorial(100)"
   ]
  },
  {
   "cell_type": "markdown",
   "metadata": {},
   "source": [
    "Para buscar una función de manera facil podemos hacerlo fácil poniendo las primeras letras y dándole a tab, para saber como se utiliza podemos poner, por ejemplo, factorial? y darle a \"run\", asi nos da la ayuda."
   ]
  },
  {
   "cell_type": "code",
   "execution_count": 4,
   "metadata": {
    "collapsed": true
   },
   "outputs": [],
   "source": [
    "factorial?"
   ]
  },
  {
   "cell_type": "code",
   "execution_count": null,
   "metadata": {
    "collapsed": false
   },
   "outputs": [],
   "source": []
  }
 ],
 "metadata": {
  "kernelspec": {
   "display_name": "SageMath 7.3",
   "language": "",
   "name": "sagemath"
  },
  "language_info": {
   "codemirror_mode": {
    "name": "ipython",
    "version": 2
   },
   "file_extension": ".py",
   "mimetype": "text/x-python",
   "name": "python",
   "nbconvert_exporter": "python",
   "pygments_lexer": "ipython2",
   "version": "2.7.10"
  }
 },
 "nbformat": 4,
 "nbformat_minor": 0
}
