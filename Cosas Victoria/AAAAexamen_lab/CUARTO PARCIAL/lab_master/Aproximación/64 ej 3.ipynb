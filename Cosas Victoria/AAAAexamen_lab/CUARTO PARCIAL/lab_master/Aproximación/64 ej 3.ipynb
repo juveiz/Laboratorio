{
 "cells": [
  {
   "cell_type": "code",
   "execution_count": 1,
   "metadata": {
    "collapsed": true
   },
   "outputs": [],
   "source": [
    "def arct(n, prec):\n",
    "    r = 0\n",
    "    p = pi.n(prec = prec)\n",
    "    p = p/4\n",
    "    x = 1\n",
    "    for i in srange(n+1):\n",
    "        r += ((-1)^i)*x^((2*i)+1)/((2*i)+1)\n",
    "        if(r == p):\n",
    "            print(i)\n",
    "            return r*4.n()\n",
    "    return -1"
   ]
  },
  {
   "cell_type": "code",
   "execution_count": 2,
   "metadata": {
    "collapsed": false
   },
   "outputs": [
    {
     "name": "stdout",
     "output_type": "stream",
     "text": [
      "71535\n"
     ]
    },
    {
     "data": {
      "text/plain": [
       "3.14157867461417"
      ]
     },
     "execution_count": 2,
     "metadata": {},
     "output_type": "execute_result"
    }
   ],
   "source": [
    "arct(800000, 18)"
   ]
  },
  {
   "cell_type": "code",
   "execution_count": 3,
   "metadata": {
    "collapsed": true
   },
   "outputs": [],
   "source": [
    "a = arctan(1/2)\n",
    "b = arctan(1/3)"
   ]
  },
  {
   "cell_type": "code",
   "execution_count": 4,
   "metadata": {
    "collapsed": true
   },
   "outputs": [],
   "source": [
    "def arct_suma(n, prec):\n",
    "    p = pi.n(prec = prec)\n",
    "    p = p/4\n",
    "    asuma = 0\n",
    "    bsuma = 0\n",
    "    for i in srange(n+1):\n",
    "        asuma += ((-1)^i)*1/2^((2*i)+1)/((2*i)+1)\n",
    "        bsuma += ((-1)^i)*1/3^((2*i)+1)/((2*i)+1)\n",
    "        r = asuma+bsuma\n",
    "        if(r == p):\n",
    "            print(i)\n",
    "            return r*4.n()\n",
    "    return -1"
   ]
  },
  {
   "cell_type": "code",
   "execution_count": 5,
   "metadata": {
    "collapsed": false
   },
   "outputs": [
    {
     "name": "stdout",
     "output_type": "stream",
     "text": [
      "7\n"
     ]
    },
    {
     "data": {
      "text/plain": [
       "3.14159118436091"
      ]
     },
     "execution_count": 5,
     "metadata": {},
     "output_type": "execute_result"
    }
   ],
   "source": [
    "arct_suma(80000, 18)"
   ]
  },
  {
   "cell_type": "code",
   "execution_count": null,
   "metadata": {
    "collapsed": true
   },
   "outputs": [],
   "source": []
  }
 ],
 "metadata": {
  "kernelspec": {
   "display_name": "SageMath 7.3",
   "language": "",
   "name": "sagemath"
  },
  "language_info": {
   "codemirror_mode": {
    "name": "ipython",
    "version": 2
   },
   "file_extension": ".py",
   "mimetype": "text/x-python",
   "name": "python",
   "nbconvert_exporter": "python",
   "pygments_lexer": "ipython2",
   "version": "2.7.10"
  }
 },
 "nbformat": 4,
 "nbformat_minor": 0
}
