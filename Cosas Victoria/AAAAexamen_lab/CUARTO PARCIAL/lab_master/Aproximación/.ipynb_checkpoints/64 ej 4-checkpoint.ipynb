{
 "cells": [
  {
   "cell_type": "code",
   "execution_count": 69,
   "metadata": {
    "collapsed": false
   },
   "outputs": [],
   "source": [
    "def suma(N):\n",
    "    r = 0\n",
    "    for i in srange(N+1):\n",
    "        up = ((factorial(2*i))^3 * (42*i+5)).n(prec = 1000)\n",
    "        down = ((factorial(i))^6 * (16^(3*i+1))).n(prec = 1000)\n",
    "        r += (up/down).n(prec = 1000)\n",
    "    return r.n(prec = 1000)"
   ]
  },
  {
   "cell_type": "code",
   "execution_count": 70,
   "metadata": {
    "collapsed": false
   },
   "outputs": [
    {
     "name": "stdout",
     "output_type": "stream",
     "text": [
      "3.1415926535897932384629260363\n"
     ]
    }
   ],
   "source": [
    "a = suma(11).n(prec = 100)\n",
    "p = (1/a).n(prec = 100)\n",
    "print(p)"
   ]
  },
  {
   "cell_type": "code",
   "execution_count": 71,
   "metadata": {
    "collapsed": false
   },
   "outputs": [
    {
     "data": {
      "text/plain": [
       "(42*I + 5)*factorial(I)^3"
      ]
     },
     "execution_count": 71,
     "metadata": {},
     "output_type": "execute_result"
    }
   ],
   "source": [
    "(factorial(i))^3 * (42*i+5)"
   ]
  },
  {
   "cell_type": "code",
   "execution_count": 72,
   "metadata": {
    "collapsed": false
   },
   "outputs": [
    {
     "data": {
      "text/plain": [
       "3.1415926535897932384626433833"
      ]
     },
     "execution_count": 72,
     "metadata": {},
     "output_type": "execute_result"
    }
   ],
   "source": [
    "pi.n(prec = 100)"
   ]
  },
  {
   "cell_type": "code",
   "execution_count": 92,
   "metadata": {
    "collapsed": false
   },
   "outputs": [],
   "source": [
    "def precision(sup):\n",
    "    pre_pre = 2\n",
    "    L = []\n",
    "    for a in srange(sup+1):\n",
    "        pre_act = 1000\n",
    "        res = 1/suma(a)\n",
    "        while (pre_act >= pre_pre):\n",
    "            \n",
    "            p = n(pi, prec = pre_act)\n",
    "            if(res == p):\n",
    "                L.append([a, pre_act])\n",
    "                pre_pre = pre_act\n",
    "                break\n",
    "            pre_act = pre_act - 1\n",
    "            \n",
    "    return L"
   ]
  },
  {
   "cell_type": "code",
   "execution_count": 93,
   "metadata": {
    "collapsed": false
   },
   "outputs": [],
   "source": [
    "LL = precision(50)"
   ]
  },
  {
   "cell_type": "code",
   "execution_count": 94,
   "metadata": {
    "collapsed": false
   },
   "outputs": [
    {
     "data": {
      "image/png": "[encoded data removed]",
      "text/plain": [
       "Graphics object consisting of 1 graphics primitive"
      ]
     },
     "metadata": {},
     "output_type": "display_data"
    }
   ],
   "source": [
    "show(line2d(LL))"
   ]
  },
  {
   "cell_type": "code",
   "execution_count": 95,
   "metadata": {
    "collapsed": false
   },
   "outputs": [
    {
     "data": {
      "text/html": [
       "<html><script type=\"math/tex; mode=display\">\\newcommand{\\Bold}[1]{\\mathbf{#1}}\\left[\\left[0, 4\\right], \\left[1, 10\\right], \\left[2, 17\\right], \\left[3, 24\\right], \\left[4, 30\\right], \\left[5, 35\\right], \\left[6, 42\\right], \\left[7, 49\\right], \\left[8, 54\\right], \\left[9, 61\\right], \\left[10, 66\\right], \\left[11, 73\\right], \\left[12, 78\\right], \\left[13, 84\\right], \\left[14, 90\\right], \\left[15, 96\\right], \\left[16, 102\\right], \\left[17, 109\\right], \\left[18, 115\\right], \\left[19, 121\\right], \\left[20, 127\\right], \\left[21, 132\\right], \\left[22, 138\\right], \\left[23, 145\\right], \\left[24, 151\\right], \\left[25, 156\\right], \\left[26, 162\\right], \\left[27, 169\\right], \\left[28, 175\\right], \\left[29, 181\\right], \\left[30, 187\\right], \\left[31, 193\\right], \\left[32, 199\\right], \\left[33, 204\\right], \\left[34, 211\\right], \\left[35, 218\\right], \\left[36, 222\\right], \\left[37, 228\\right], \\left[38, 235\\right], \\left[39, 240\\right], \\left[40, 247\\right], \\left[41, 254\\right], \\left[42, 259\\right], \\left[43, 265\\right], \\left[44, 271\\right], \\left[45, 277\\right], \\left[46, 284\\right], \\left[47, 289\\right], \\left[48, 295\\right], \\left[49, 301\\right], \\left[50, 307\\right]\\right]</script></html>"
      ],
      "text/plain": [
       "[[0, 4],\n",
       " [1, 10],\n",
       " [2, 17],\n",
       " [3, 24],\n",
       " [4, 30],\n",
       " [5, 35],\n",
       " [6, 42],\n",
       " [7, 49],\n",
       " [8, 54],\n",
       " [9, 61],\n",
       " [10, 66],\n",
       " [11, 73],\n",
       " [12, 78],\n",
       " [13, 84],\n",
       " [14, 90],\n",
       " [15, 96],\n",
       " [16, 102],\n",
       " [17, 109],\n",
       " [18, 115],\n",
       " [19, 121],\n",
       " [20, 127],\n",
       " [21, 132],\n",
       " [22, 138],\n",
       " [23, 145],\n",
       " [24, 151],\n",
       " [25, 156],\n",
       " [26, 162],\n",
       " [27, 169],\n",
       " [28, 175],\n",
       " [29, 181],\n",
       " [30, 187],\n",
       " [31, 193],\n",
       " [32, 199],\n",
       " [33, 204],\n",
       " [34, 211],\n",
       " [35, 218],\n",
       " [36, 222],\n",
       " [37, 228],\n",
       " [38, 235],\n",
       " [39, 240],\n",
       " [40, 247],\n",
       " [41, 254],\n",
       " [42, 259],\n",
       " [43, 265],\n",
       " [44, 271],\n",
       " [45, 277],\n",
       " [46, 284],\n",
       " [47, 289],\n",
       " [48, 295],\n",
       " [49, 301],\n",
       " [50, 307]]"
      ]
     },
     "metadata": {},
     "output_type": "display_data"
    }
   ],
   "source": [
    "show(LL)"
   ]
  }
 ],
 "metadata": {
  "kernelspec": {
   "display_name": "SageMath 7.3",
   "language": "",
   "name": "sagemath"
  },
  "language_info": {
   "codemirror_mode": {
    "name": "ipython",
    "version": 2
   },
   "file_extension": ".py",
   "mimetype": "text/x-python",
   "name": "python",
   "nbconvert_exporter": "python",
   "pygments_lexer": "ipython2",
   "version": "2.7.10"
  }
 },
 "nbformat": 4,
 "nbformat_minor": 0
}
