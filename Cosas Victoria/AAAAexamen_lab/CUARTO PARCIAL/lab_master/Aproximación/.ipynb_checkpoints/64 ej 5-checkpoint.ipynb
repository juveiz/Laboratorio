{
 "cells": [
  {
   "cell_type": "code",
   "execution_count": 1,
   "metadata": {
    "collapsed": true
   },
   "outputs": [],
   "source": [
    "A0 = n(1, prec = 1000)\n",
    "B0 = n(sqrt(2)/2, prec = 1000)\n",
    "S0 = n(1/2, prec = 1000)"
   ]
  },
  {
   "cell_type": "code",
   "execution_count": 6,
   "metadata": {
    "collapsed": true
   },
   "outputs": [],
   "source": [
    "def SalyBrent(N):\n",
    "    ak = A0\n",
    "    bk = B0\n",
    "    sk = S0\n",
    "    for i in srange(1, N+1):\n",
    "        aaux = ((ak + bk)/2).n(prec = 1000)\n",
    "        baux = sqrt(ak*bk).n(prec = 1000)\n",
    "        caux = (aaux^2 - baux^2).n(prec = 1000)\n",
    "        saux = (sk - (2^i)*caux).n(prec = 1000)\n",
    "        ak = aaux\n",
    "        bk = baux\n",
    "        sk = saux\n",
    "    return ((2*ak^2)/(sk)).n(prec = 1000)\n",
    "    "
   ]
  },
  {
   "cell_type": "code",
   "execution_count": 14,
   "metadata": {
    "collapsed": false
   },
   "outputs": [
    {
     "data": {
      "text/plain": [
       "3.14159265358979323846264338327950288419716939937510582097494459230781640628620899862803482534211706798214808651328230664709384460955058223172535940812848111745028410270193852110555964462294895493038196442881097566593344612847564823378678316527120190914564856692346034861370780809313811656477283599925"
      ]
     },
     "execution_count": 14,
     "metadata": {},
     "output_type": "execute_result"
    }
   ],
   "source": [
    "SalyBrent(100)"
   ]
  },
  {
   "cell_type": "code",
   "execution_count": null,
   "metadata": {
    "collapsed": true
   },
   "outputs": [],
   "source": []
  }
 ],
 "metadata": {
  "kernelspec": {
   "display_name": "SageMath 7.3",
   "language": "",
   "name": "sagemath"
  },
  "language_info": {
   "codemirror_mode": {
    "name": "ipython",
    "version": 2
   },
   "file_extension": ".py",
   "mimetype": "text/x-python",
   "name": "python",
   "nbconvert_exporter": "python",
   "pygments_lexer": "ipython2",
   "version": "2.7.10"
  }
 },
 "nbformat": 4,
 "nbformat_minor": 0
}
