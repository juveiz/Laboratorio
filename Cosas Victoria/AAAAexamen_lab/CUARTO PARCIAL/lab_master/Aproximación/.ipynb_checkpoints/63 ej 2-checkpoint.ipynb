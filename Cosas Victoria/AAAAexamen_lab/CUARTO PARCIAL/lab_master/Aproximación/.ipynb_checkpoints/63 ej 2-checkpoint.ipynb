{
 "cells": [
  {
   "cell_type": "markdown",
   "metadata": {},
   "source": [
    "# Algoritmo de Arquímedes"
   ]
  },
  {
   "cell_type": "code",
   "execution_count": 2,
   "metadata": {
    "collapsed": true
   },
   "outputs": [],
   "source": [
    "S6 = 1/2\n",
    "T6 = 1/sqrt(3).n(prec = 100)"
   ]
  },
  {
   "cell_type": "code",
   "execution_count": 6,
   "metadata": {
    "collapsed": false
   },
   "outputs": [],
   "source": [
    "def calculaArquimedes(n):\n",
    "    TN = T6\n",
    "    SN = S6\n",
    "    sides = 6\n",
    "    for i in srange(100):\n",
    "        TN = (1/((1/TN)+(1/SN)))\n",
    "        SN = sqrt((TN*SN)/2)\n",
    "        sides = sides*2\n",
    "        PI = sides*SN\n",
    "        PC = sides*TN\n",
    "        print(PC.n())\n",
    "        if((abs(PC-PI)).n() < (10^(-n)).n()):\n",
    "            return (PC.n(), PI.n())\n",
    "    return\n",
    "            "
   ]
  },
  {
   "cell_type": "code",
   "execution_count": 8,
   "metadata": {
    "collapsed": false
   },
   "outputs": [
    {
     "name": "stdout",
     "output_type": "stream",
     "text": [
      "3.21539030917347\n",
      "3.15965994209750\n",
      "3.14608621513143\n",
      "3.14271459964537\n",
      "3.14187304997982\n",
      "3.14166274705685\n",
      "3.14161017660469\n",
      "3.14159703432153\n",
      "3.14159374877135\n",
      "3.14159292738510\n",
      "3.14159272203861\n",
      "3.14159267070200\n",
      "3.14159265786784\n",
      "3.14159265465931\n",
      "3.14159265385717\n",
      "3.14159265365664\n",
      "3.14159265360650\n",
      "3.14159265359397\n",
      "3.14159265359084\n",
      "3.14159265359005\n",
      "3.14159265358986\n",
      "3.14159265358981\n",
      "3.14159265358980\n",
      "3.14159265358979\n",
      "3.14159265358979\n",
      "3.14159265358979\n",
      "3.14159265358979\n",
      "3.14159265358979\n",
      "3.14159265358979\n",
      "3.14159265358979\n",
      "3.14159265358979\n",
      "3.14159265358979\n",
      "3.14159265358979\n"
     ]
    },
    {
     "data": {
      "text/plain": [
       "(3.14159265358979, 3.14159265358979)"
      ]
     },
     "execution_count": 8,
     "metadata": {},
     "output_type": "execute_result"
    }
   ],
   "source": [
    "calculaArquimedes(20)"
   ]
  },
  {
   "cell_type": "code",
   "execution_count": 1,
   "metadata": {
    "collapsed": false
   },
   "outputs": [
    {
     "data": {
      "text/html": [
       "<html><script type=\"math/tex; mode=display\">\\newcommand{\\Bold}[1]{\\mathbf{#1}}3.14159292738510</script></html>"
      ],
      "text/plain": [
       "3.14159292738510"
      ]
     },
     "metadata": {},
     "output_type": "display_data"
    },
    {
     "data": {
      "text/plain": [
       "6144"
      ]
     },
     "execution_count": 1,
     "metadata": {},
     "output_type": "execute_result"
    }
   ],
   "source": [
    "'''Calcula hasta que n hay que iterar el algoritmo para obtener que la\n",
    "diferencia entre el perimetro del poligono circunscrito e inscrito < 10^-(n0)'''\n",
    "\n",
    "def S(n):\n",
    "    if n == 6:\n",
    "        return 1/2\n",
    "    return sqrt( T(n)*S(n/2)/2 )\n",
    "def T(n):\n",
    "    if n == 6:\n",
    "        return 1/sqrt(3).n(prec = 100)\n",
    "    return 1/( (1/T(n/2)) + (1/S(n/2)) )\n",
    "\n",
    "def comprobar(n0) :\n",
    "    n = 6\n",
    "    resta = T(6) - S(6)\n",
    "    while resta >= 10^(-n0):\n",
    "        n = n*2\n",
    "        T1 = T(n)\n",
    "        S1 = S(n)\n",
    "        resta = T1 - S1\n",
    "    \n",
    "    show(n*T1.n())\n",
    "    return n\n",
    "\n",
    "comprobar(10)"
   ]
  },
  {
   "cell_type": "code",
   "execution_count": null,
   "metadata": {
    "collapsed": true
   },
   "outputs": [],
   "source": []
  }
 ],
 "metadata": {
  "kernelspec": {
   "display_name": "SageMath 7.3",
   "language": "",
   "name": "sagemath"
  },
  "language_info": {
   "codemirror_mode": {
    "name": "ipython",
    "version": 2
   },
   "file_extension": ".py",
   "mimetype": "text/x-python",
   "name": "python",
   "nbconvert_exporter": "python",
   "pygments_lexer": "ipython2",
   "version": "2.7.10"
  }
 },
 "nbformat": 4,
 "nbformat_minor": 0
}
