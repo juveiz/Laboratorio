{
 "cells": [
  {
   "cell_type": "code",
   "execution_count": 8,
   "metadata": {
    "collapsed": false
   },
   "outputs": [],
   "source": [
    "p(n) = 2*n*sin(pi/n)"
   ]
  },
  {
   "cell_type": "code",
   "execution_count": 9,
   "metadata": {
    "collapsed": false
   },
   "outputs": [
    {
     "data": {
      "text/plain": [
       "8*sqrt(-sqrt(2) + 2)"
      ]
     },
     "execution_count": 9,
     "metadata": {},
     "output_type": "execute_result"
    }
   ],
   "source": [
    "p(8)"
   ]
  },
  {
   "cell_type": "code",
   "execution_count": 10,
   "metadata": {
    "collapsed": true
   },
   "outputs": [],
   "source": [
    "P(n) = 2*n*tan(pi/n)"
   ]
  },
  {
   "cell_type": "code",
   "execution_count": 11,
   "metadata": {
    "collapsed": false
   },
   "outputs": [
    {
     "data": {
      "text/plain": [
       "16*sqrt(2) - 16"
      ]
     },
     "execution_count": 11,
     "metadata": {},
     "output_type": "execute_result"
    }
   ],
   "source": [
    "P(8)"
   ]
  },
  {
   "cell_type": "code",
   "execution_count": 17,
   "metadata": {
    "collapsed": false
   },
   "outputs": [
    {
     "data": {
      "text/plain": [
       "[6.28314396555895,\n",
       " 6.28314413043033,\n",
       " 6.28314429431741,\n",
       " 6.28314445722800,\n",
       " 6.28314461916985,\n",
       " 6.28314478015063,\n",
       " 6.28314494017792,\n",
       " 6.28314509925924,\n",
       " 6.28314525740203,\n",
       " 6.28314541461365,\n",
       " 6.28314557090142,\n",
       " 6.28314572627254,\n",
       " 6.28314588073418,\n",
       " 6.28314603429342,\n",
       " 6.28314618695727,\n",
       " 6.28314633873268,\n",
       " 6.28314648962654,\n",
       " 6.28314663964565,\n",
       " 6.28314678879677,\n",
       " 6.28314693708657]"
      ]
     },
     "execution_count": 17,
     "metadata": {},
     "output_type": "execute_result"
    }
   ],
   "source": [
    "L = []\n",
    "for i in srange(500,520):\n",
    "    L.append(p(i).n())\n",
    "L"
   ]
  },
  {
   "cell_type": "markdown",
   "metadata": {},
   "source": [
    "Para ver si la sucesión es convergente busco $N_0$ tal que $\\forall N>N_0 \\exists \\epsilon$ tal que $|p(N) - p(N_0)| < \\epsilon$"
   ]
  },
  {
   "cell_type": "markdown",
   "metadata": {},
   "source": [
    "Tomo $N = 1000$"
   ]
  },
  {
   "cell_type": "code",
   "execution_count": 25,
   "metadata": {
    "collapsed": true
   },
   "outputs": [],
   "source": [
    "a = p(1000)\n",
    "eps = 0.001"
   ]
  },
  {
   "cell_type": "code",
   "execution_count": 28,
   "metadata": {
    "collapsed": false
   },
   "outputs": [
    {
     "data": {
      "text/plain": [
       "True"
      ]
     },
     "execution_count": 28,
     "metadata": {},
     "output_type": "execute_result"
    }
   ],
   "source": [
    "LL = []\n",
    "for i in srange(1001, 1500):\n",
    "    if(abs(a - p(i)) < eps):\n",
    "        LL.append(True)\n",
    "    else:\n",
    "        LL.append(False)\n",
    "all(LL)"
   ]
  },
  {
   "cell_type": "code",
   "execution_count": null,
   "metadata": {
    "collapsed": true
   },
   "outputs": [],
   "source": []
  }
 ],
 "metadata": {
  "kernelspec": {
   "display_name": "SageMath 7.3",
   "language": "",
   "name": "sagemath"
  },
  "language_info": {
   "codemirror_mode": {
    "name": "ipython",
    "version": 2
   },
   "file_extension": ".py",
   "mimetype": "text/x-python",
   "name": "python",
   "nbconvert_exporter": "python",
   "pygments_lexer": "ipython2",
   "version": "2.7.10"
  }
 },
 "nbformat": 4,
 "nbformat_minor": 0
}
